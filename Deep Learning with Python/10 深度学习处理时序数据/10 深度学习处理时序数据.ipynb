{
 "cells": [
  {
   "cell_type": "markdown",
   "source": [
    "10 深度学习处理时序数据\r\n",
    "\r\n",
    "本章内容概况\r\n",
    "\r\n",
    "- 涉及时间序列数据的机器学习任务\r\n",
    "- 了解循环神经网络 rnn\r\n",
    "- 将 rnn 应用在温度预测\r\n",
    "- 先进的 rnn 架构\r\n"
   ],
   "metadata": {}
  }
 ],
 "metadata": {
  "orig_nbformat": 4,
  "language_info": {
   "name": "python"
  }
 },
 "nbformat": 4,
 "nbformat_minor": 2
}