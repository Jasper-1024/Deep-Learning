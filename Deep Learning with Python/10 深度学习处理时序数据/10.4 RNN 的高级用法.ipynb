{
 "cells": [
  {
   "cell_type": "markdown",
   "source": [
    "10.4 RNN 的高级用法\r\n",
    "\r\n",
    "---\r\n",
    "\r\n",
    "前排提醒,本节的模型训练时间很长,几小时那种.\r\n",
    "\r\n",
    "---\r\n",
    "\r\n",
    "到目前为止,我们已经学过的内容\r\n",
    "\r\n",
    "- 什么是 RNN 及它如何工作\r\n",
    "- 什么是 ltsm 及 ltsm 比简单 rnn 更好\r\n",
    "- 如何使用 keras 的 rnn 层处理时序数据.\r\n",
    "\r\n",
    "接下来我们会学习 keras rnn 的高级特性,这可以帮助我们的模型达到更好的效果.\r\n",
    "\r\n",
    "- 循环 dropout: 在 rnn 层应用 dropout.\r\n",
    "- 堆叠循环层: 提高模型的容量和表现力,代价是更高的计算消耗.\r\n",
    "- 双向 RNN: 将相同的信息正向/反向送入模型,提高精读缓解遗忘问题.\r\n"
   ],
   "metadata": {}
  },
  {
   "cell_type": "markdown",
   "source": [
    "## 循环 dropout 缓解过拟合\r\n",
    "\r\n",
    "回顾 10.2 节的 ltsm 模型,尽管小模型可以击败基线,但是非常快的过拟合了,原因可能是模型容量过小.\r\n",
    "\r\n",
    "在更前面的内容中对抗过拟合有一个非常有效的办法 -> dropout,但是 dropout 在 rnn 并不是一件容易的事情..\r\n",
    "\r\n",
    "如果直接应用 dropout,那对 rnn 模型可能是一件坏事而不是好事,droupout 总是会破坏学习过程.直到 2015 年,Yarin Gal 在博士论文确定了 rnn 使用 droupout 的正确方式: 对每个时间步使用相同的 dropout 掩码(dropout mask,相同模式的舍弃单元),而不是让 dropout 掩码随着时间变化而随机变化.更重要的是为了对 GRU ltsm 等循环层做正则化表示,应该将不随时间变化的 dropout 掩码应用在层的内部循环激活上(成为 循环 dropout 掩码).对每个时间步长使用相同的 dropout 掩码,可以让我按钮沿着时间正确传播学习误差,而随着时间变化的 dropout 掩码会破坏这个过程.\r\n",
    "\r\n",
    "Yarin Gal 使用 keras 进行的研究,帮助将这种机制直接内置到了 keras 的 rnn 层中.keras 的 rnn 层都有两个与 dropout 相关的参数:\r\n",
    "\r\n",
    "- `dropout`: 浮点数,指定该层每个输入单元 dropout 的比例.\r\n",
    "- `recurrent_dropout`: 指定循环单元的 dropout 的比例.\r\n",
    "\r\n",
    "我们先第一个 ltsm 的例子中添加 dropout,看看这样对过拟合的影响.\r\n"
   ],
   "metadata": {}
  },
  {
   "cell_type": "code",
   "execution_count": 2,
   "source": [
    "from tensorflow import keras\r\n",
    "import tensorflow.keras.layers as layers"
   ],
   "outputs": [],
   "metadata": {}
  },
  {
   "cell_type": "code",
   "execution_count": 3,
   "source": [
    "import os\r\n",
    "os.environ[\"CUDA_VISIBLE_DEVICES\"] = \"-1\""
   ],
   "outputs": [],
   "metadata": {}
  },
  {
   "cell_type": "code",
   "execution_count": 4,
   "source": [
    "sequence_length = 120\r\n",
    "\r\n",
    "import numpy as np\r\n",
    "import os\r\n",
    "\r\n",
    "fname = os.path.join(\"jena_climate_2009_2016.csv\")\r\n",
    "\r\n",
    "with open(fname) as f:\r\n",
    "    data = f.read()\r\n",
    "\r\n",
    "lines = data.split(\"\\n\")\r\n",
    "header = lines[0].split(\",\")\r\n",
    "lines = lines[1:]\r\n",
    "\r\n",
    "temperature = np.zeros((len(lines), ))  #全0 数组\r\n",
    "raw_data = np.zeros((len(lines), len(header) - 1))  #全0 数组\r\n",
    "for i, line in enumerate(lines):\r\n",
    "    values = [float(x) for x in line.split(\",\")[1:]]  #每行的第一个值是时间戳，所以从第二个开始\r\n",
    "    temperature[i] = values[1]  #第一个值是温度\r\n",
    "    raw_data[i, :] = values[:]  #每行的数据\r\n",
    "\r\n",
    "num_train_samples = int(0.5 * len(raw_data))\r\n",
    "num_val_samples = int(0.25 * len(raw_data))\r\n",
    "num_test_samples = len(raw_data) - num_train_samples - num_val_samples\r\n",
    "\r\n",
    "\r\n",
    "mean = raw_data[:num_train_samples].mean(axis=0)\r\n",
    "raw_data -= mean\r\n",
    "std = raw_data[:num_train_samples].std(axis=0)\r\n",
    "raw_data /= std"
   ],
   "outputs": [],
   "metadata": {}
  },
  {
   "cell_type": "code",
   "execution_count": 5,
   "source": [
    "sampling_rate = 6  # 6\r\n",
    "sequence_length = 120\r\n",
    "delay = sampling_rate * (sequence_length + 24 - 1)  #24小时后\r\n",
    "batch_size = 256\r\n",
    "\r\n",
    "train_dataset = keras.preprocessing.timeseries_dataset_from_array(\r\n",
    "    raw_data[:-delay],\r\n",
    "    targets=temperature[delay:],\r\n",
    "    sampling_rate=sampling_rate,\r\n",
    "    sequence_length=sequence_length,\r\n",
    "    shuffle=True,\r\n",
    "    batch_size=batch_size,\r\n",
    "    start_index=0,\r\n",
    "    end_index=num_train_samples)\r\n",
    "\r\n",
    "val_dataset = keras.preprocessing.timeseries_dataset_from_array(\r\n",
    "    raw_data[:-delay],\r\n",
    "    targets=temperature[delay:],\r\n",
    "    sampling_rate=sampling_rate,\r\n",
    "    sequence_length=sequence_length,\r\n",
    "    shuffle=True,\r\n",
    "    batch_size=batch_size,\r\n",
    "    start_index=num_train_samples,\r\n",
    "    end_index=num_train_samples + num_val_samples)\r\n",
    "\r\n",
    "test_dataset = keras.preprocessing.timeseries_dataset_from_array(\r\n",
    "    raw_data[:-delay],\r\n",
    "    targets=temperature[delay:],\r\n",
    "    sampling_rate=sampling_rate,\r\n",
    "    sequence_length=sequence_length,\r\n",
    "    shuffle=True,\r\n",
    "    batch_size=batch_size,\r\n",
    "    start_index=num_train_samples + num_val_samples)"
   ],
   "outputs": [],
   "metadata": {}
  },
  {
   "cell_type": "markdown",
   "source": [
    "准备 10.2 的数据\r\n"
   ],
   "metadata": {}
  },
  {
   "cell_type": "code",
   "execution_count": 5,
   "source": [
    "inputs = keras.Input(shape=(sequence_length, raw_data.shape[-1]))\r\n",
    "x = layers.LSTM(32, recurrent_dropout=0.25,\r\n",
    "                unroll=True)(inputs)  #按照后文提示设置了 unroll=True,训练时间也是完全不能接受\r\n",
    "x = layers.Dropout(0.5)(x)\r\n",
    "outputs = layers.Dense(1)(x)\r\n",
    "model = keras.Model(inputs, outputs)"
   ],
   "outputs": [],
   "metadata": {}
  },
  {
   "cell_type": "markdown",
   "source": [
    "---\r\n",
    "\r\n",
    "这里会有一个警告:  Layer lstm will not use cuDNN kernels since it doesn't meet the criteria. It will use a generic GPU kernel as fallback when running on GPU.\r\n",
    "\r\n",
    "常见\r\n",
    "> <https://keras.io/api/layers/recurrent_layers/lstm/>\r\n",
    "> <https://stackoverflow.com/questions/62044838/using-cudnn-kernel-for-lstm>\r\n",
    "\r\n",
    "似乎是因为 `recurrent_dropout` 不为 0,所有不能使用 cuDNN 内核.结果是训练非常缓慢.\r\n",
    "\r\n",
    "---\r\n"
   ],
   "metadata": {}
  },
  {
   "cell_type": "markdown",
   "source": [
    "我们在原模型上应用了 gropout 层,设置了 `recurrent_dropout=0.25`.\r\n"
   ],
   "metadata": {}
  },
  {
   "cell_type": "code",
   "execution_count": 6,
   "source": [
    "callbacks = [\r\n",
    "    keras.callbacks.ModelCheckpoint(\"jena_lstm_dropout.keras\",\r\n",
    "                                    save_best_only=True)  #保存最好的模型\r\n",
    "]\r\n",
    "model.compile(optimizer=\"rmsprop\", loss=\"mse\", metrics=[\"mae\"])"
   ],
   "outputs": [],
   "metadata": {}
  },
  {
   "cell_type": "code",
   "execution_count": 7,
   "source": [
    "history = model.fit(\r\n",
    "    train_dataset,\r\n",
    "    epochs=50,  # 5 倍的训练\r\n",
    "    validation_data=val_dataset,\r\n",
    "    callbacks=callbacks)\r\n"
   ],
   "outputs": [
    {
     "output_type": "stream",
     "name": "stdout",
     "text": [
      "Epoch 1/50\n",
      "819/819 [==============================] - 90s 75ms/step - loss: 29.0844 - mae: 3.9676 - val_loss: 9.5179 - val_mae: 2.3942\n",
      "Epoch 2/50\n",
      "819/819 [==============================] - 55s 67ms/step - loss: 15.0497 - mae: 3.0137 - val_loss: 9.1772 - val_mae: 2.3529\n",
      "Epoch 3/50\n",
      "819/819 [==============================] - 53s 65ms/step - loss: 14.2617 - mae: 2.9347 - val_loss: 8.9910 - val_mae: 2.3270\n",
      "Epoch 4/50\n",
      "819/819 [==============================] - 55s 67ms/step - loss: 13.7550 - mae: 2.8793 - val_loss: 9.0376 - val_mae: 2.3267\n",
      "Epoch 5/50\n",
      "819/819 [==============================] - 54s 66ms/step - loss: 13.2614 - mae: 2.8311 - val_loss: 8.9118 - val_mae: 2.3105\n",
      "Epoch 6/50\n",
      "819/819 [==============================] - 54s 66ms/step - loss: 12.9278 - mae: 2.7922 - val_loss: 8.9167 - val_mae: 2.3117\n",
      "Epoch 7/50\n",
      "819/819 [==============================] - 54s 65ms/step - loss: 12.6572 - mae: 2.7651 - val_loss: 8.8193 - val_mae: 2.2974\n",
      "Epoch 8/50\n",
      "819/819 [==============================] - 51s 63ms/step - loss: 12.3747 - mae: 2.7313 - val_loss: 8.8636 - val_mae: 2.3066\n",
      "Epoch 9/50\n",
      "819/819 [==============================] - 52s 63ms/step - loss: 12.2140 - mae: 2.7138 - val_loss: 8.8435 - val_mae: 2.3027\n",
      "Epoch 10/50\n",
      "819/819 [==============================] - 52s 63ms/step - loss: 12.0554 - mae: 2.6961 - val_loss: 8.8083 - val_mae: 2.2939\n",
      "Epoch 11/50\n",
      "819/819 [==============================] - 52s 64ms/step - loss: 11.9649 - mae: 2.6840 - val_loss: 8.8122 - val_mae: 2.3024\n",
      "Epoch 12/50\n",
      "819/819 [==============================] - 50s 61ms/step - loss: 11.7667 - mae: 2.6645 - val_loss: 8.8949 - val_mae: 2.3056\n",
      "Epoch 13/50\n",
      "819/819 [==============================] - 50s 60ms/step - loss: 11.7039 - mae: 2.6575 - val_loss: 9.0005 - val_mae: 2.3197\n",
      "Epoch 14/50\n",
      "819/819 [==============================] - 49s 60ms/step - loss: 11.6131 - mae: 2.6484 - val_loss: 9.0770 - val_mae: 2.3302\n",
      "Epoch 15/50\n",
      "819/819 [==============================] - 50s 60ms/step - loss: 11.5438 - mae: 2.6389 - val_loss: 9.1167 - val_mae: 2.3359\n",
      "Epoch 16/50\n",
      "819/819 [==============================] - 49s 60ms/step - loss: 11.4837 - mae: 2.6328 - val_loss: 8.9041 - val_mae: 2.3092\n",
      "Epoch 17/50\n",
      "819/819 [==============================] - 49s 60ms/step - loss: 11.3861 - mae: 2.6246 - val_loss: 9.0523 - val_mae: 2.3243\n",
      "Epoch 18/50\n",
      "819/819 [==============================] - 49s 60ms/step - loss: 11.3941 - mae: 2.6226 - val_loss: 9.2091 - val_mae: 2.3437\n",
      "Epoch 19/50\n",
      "819/819 [==============================] - 49s 60ms/step - loss: 11.3024 - mae: 2.6117 - val_loss: 9.1930 - val_mae: 2.3384\n",
      "Epoch 20/50\n",
      "819/819 [==============================] - 49s 60ms/step - loss: 11.2252 - mae: 2.6064 - val_loss: 9.3318 - val_mae: 2.3559\n",
      "Epoch 21/50\n",
      "819/819 [==============================] - 50s 61ms/step - loss: 11.1586 - mae: 2.5973 - val_loss: 9.1891 - val_mae: 2.3365\n",
      "Epoch 22/50\n",
      "819/819 [==============================] - 50s 61ms/step - loss: 11.1570 - mae: 2.5957 - val_loss: 9.1889 - val_mae: 2.3332\n",
      "Epoch 23/50\n",
      "819/819 [==============================] - 49s 60ms/step - loss: 11.0769 - mae: 2.5857 - val_loss: 9.1787 - val_mae: 2.3327\n",
      "Epoch 24/50\n",
      "819/819 [==============================] - 49s 59ms/step - loss: 11.0410 - mae: 2.5842 - val_loss: 9.3265 - val_mae: 2.3475\n",
      "Epoch 25/50\n",
      "819/819 [==============================] - 49s 60ms/step - loss: 10.9944 - mae: 2.5782 - val_loss: 9.3277 - val_mae: 2.3500\n",
      "Epoch 26/50\n",
      "819/819 [==============================] - 50s 61ms/step - loss: 10.9329 - mae: 2.5709 - val_loss: 9.4012 - val_mae: 2.3597\n",
      "Epoch 27/50\n",
      "819/819 [==============================] - 50s 61ms/step - loss: 10.9329 - mae: 2.5716 - val_loss: 9.2586 - val_mae: 2.3486\n",
      "Epoch 28/50\n",
      "819/819 [==============================] - 49s 60ms/step - loss: 10.8806 - mae: 2.5646 - val_loss: 9.5377 - val_mae: 2.3769\n",
      "Epoch 29/50\n",
      "819/819 [==============================] - 50s 61ms/step - loss: 10.8624 - mae: 2.5644 - val_loss: 9.3696 - val_mae: 2.3529\n",
      "Epoch 30/50\n",
      "819/819 [==============================] - 50s 61ms/step - loss: 10.8003 - mae: 2.5566 - val_loss: 9.4160 - val_mae: 2.3620\n",
      "Epoch 31/50\n",
      "819/819 [==============================] - 50s 61ms/step - loss: 10.7737 - mae: 2.5515 - val_loss: 9.4858 - val_mae: 2.3662\n",
      "Epoch 32/50\n",
      "819/819 [==============================] - 50s 61ms/step - loss: 10.7205 - mae: 2.5484 - val_loss: 9.5282 - val_mae: 2.3745\n",
      "Epoch 33/50\n",
      "819/819 [==============================] - 50s 61ms/step - loss: 10.7186 - mae: 2.5468 - val_loss: 9.3159 - val_mae: 2.3467\n",
      "Epoch 34/50\n",
      "819/819 [==============================] - 50s 61ms/step - loss: 10.6713 - mae: 2.5424 - val_loss: 9.3495 - val_mae: 2.3487\n",
      "Epoch 35/50\n",
      "819/819 [==============================] - 50s 60ms/step - loss: 10.6700 - mae: 2.5422 - val_loss: 9.3625 - val_mae: 2.3587\n",
      "Epoch 36/50\n",
      "819/819 [==============================] - 49s 60ms/step - loss: 10.6666 - mae: 2.5391 - val_loss: 9.6080 - val_mae: 2.3875\n",
      "Epoch 37/50\n",
      "819/819 [==============================] - 50s 60ms/step - loss: 10.5641 - mae: 2.5289 - val_loss: 9.3137 - val_mae: 2.3476\n",
      "Epoch 38/50\n",
      "819/819 [==============================] - 50s 60ms/step - loss: 10.5600 - mae: 2.5276 - val_loss: 9.7104 - val_mae: 2.3952\n",
      "Epoch 39/50\n",
      "819/819 [==============================] - 50s 61ms/step - loss: 10.5393 - mae: 2.5260 - val_loss: 9.4218 - val_mae: 2.3580\n",
      "Epoch 40/50\n",
      "819/819 [==============================] - 50s 60ms/step - loss: 10.5579 - mae: 2.5265 - val_loss: 9.4607 - val_mae: 2.3675\n",
      "Epoch 41/50\n",
      "819/819 [==============================] - 50s 60ms/step - loss: 10.5398 - mae: 2.5239 - val_loss: 9.4700 - val_mae: 2.3627\n",
      "Epoch 42/50\n",
      "819/819 [==============================] - 49s 60ms/step - loss: 10.4827 - mae: 2.5197 - val_loss: 9.7301 - val_mae: 2.3932\n",
      "Epoch 43/50\n",
      "819/819 [==============================] - 50s 61ms/step - loss: 10.4369 - mae: 2.5118 - val_loss: 9.3882 - val_mae: 2.3599\n",
      "Epoch 44/50\n",
      "819/819 [==============================] - 50s 60ms/step - loss: 10.3912 - mae: 2.5099 - val_loss: 9.5766 - val_mae: 2.3757\n",
      "Epoch 45/50\n",
      "819/819 [==============================] - 50s 61ms/step - loss: 10.3965 - mae: 2.5078 - val_loss: 9.7790 - val_mae: 2.3995\n",
      "Epoch 46/50\n",
      "819/819 [==============================] - 49s 60ms/step - loss: 10.3592 - mae: 2.5042 - val_loss: 9.4656 - val_mae: 2.3628\n",
      "Epoch 47/50\n",
      "819/819 [==============================] - 50s 61ms/step - loss: 10.3544 - mae: 2.5028 - val_loss: 9.5156 - val_mae: 2.3687\n",
      "Epoch 48/50\n",
      "819/819 [==============================] - 50s 61ms/step - loss: 10.3067 - mae: 2.4973 - val_loss: 9.3892 - val_mae: 2.3565\n",
      "Epoch 49/50\n",
      "819/819 [==============================] - 50s 61ms/step - loss: 10.3432 - mae: 2.4964 - val_loss: 9.5866 - val_mae: 2.3799\n",
      "Epoch 50/50\n",
      "819/819 [==============================] - 50s 61ms/step - loss: 10.3206 - mae: 2.4999 - val_loss: 9.5506 - val_mae: 2.3726\n"
     ]
    }
   ],
   "metadata": {}
  },
  {
   "cell_type": "markdown",
   "source": [
    "因为更不容易过拟合,设置训练轮次是 5 倍之前, 50 次.(慢的要死)\r\n",
    "\r\n",
    "在 cpu 上跑反而更快的多...\r\n"
   ],
   "metadata": {}
  },
  {
   "cell_type": "code",
   "execution_count": 8,
   "source": [
    "import matplotlib.pyplot as plt\r\n",
    "loss = history.history[\"mae\"]\r\n",
    "val_loss = history.history[\"val_mae\"]\r\n",
    "epochs = range(1, len(loss) + 1)\r\n",
    "plt.figure()\r\n",
    "plt.plot(epochs, loss, \"bo\", label=\"Training MAE\")\r\n",
    "plt.plot(epochs, val_loss, \"b\", label=\"Validation MAE\")\r\n",
    "plt.title(\"Training and validation MAE\")\r\n",
    "plt.legend()\r\n",
    "plt.show()"
   ],
   "outputs": [
    {
     "output_type": "display_data",
     "data": {
      "text/plain": [
       "<Figure size 432x288 with 1 Axes>"
      ],
      "image/svg+xml": "<?xml version=\"1.0\" encoding=\"utf-8\" standalone=\"no\"?>\r\n<!DOCTYPE svg PUBLIC \"-//W3C//DTD SVG 1.1//EN\"\r\n  \"http://www.w3.org/Graphics/SVG/1.1/DTD/svg11.dtd\">\r\n<svg height=\"263.63625pt\" version=\"1.1\" viewBox=\"0 0 378.465625 263.63625\" width=\"378.465625pt\" xmlns=\"http://www.w3.org/2000/svg\" xmlns:xlink=\"http://www.w3.org/1999/xlink\">\r\n <metadata>\r\n  <rdf:RDF xmlns:cc=\"http://creativecommons.org/ns#\" xmlns:dc=\"http://purl.org/dc/elements/1.1/\" xmlns:rdf=\"http://www.w3.org/1999/02/22-rdf-syntax-ns#\">\r\n   <cc:Work>\r\n    <dc:type rdf:resource=\"http://purl.org/dc/dcmitype/StillImage\"/>\r\n    <dc:date>2021-08-23T17:02:09.691380</dc:date>\r\n    <dc:format>image/svg+xml</dc:format>\r\n    <dc:creator>\r\n     <cc:Agent>\r\n      <dc:title>Matplotlib v3.4.2, https://matplotlib.org/</dc:title>\r\n     </cc:Agent>\r\n    </dc:creator>\r\n   </cc:Work>\r\n  </rdf:RDF>\r\n </metadata>\r\n <defs>\r\n  <style type=\"text/css\">*{stroke-linecap:butt;stroke-linejoin:round;}</style>\r\n </defs>\r\n <g id=\"figure_1\">\r\n  <g id=\"patch_1\">\r\n   <path d=\"M 0 263.63625 \r\nL 378.465625 263.63625 \r\nL 378.465625 0 \r\nL 0 0 \r\nz\r\n\" style=\"fill:none;\"/>\r\n  </g>\r\n  <g id=\"axes_1\">\r\n   <g id=\"patch_2\">\r\n    <path d=\"M 36.465625 239.758125 \r\nL 371.265625 239.758125 \r\nL 371.265625 22.318125 \r\nL 36.465625 22.318125 \r\nz\r\n\" style=\"fill:#ffffff;\"/>\r\n   </g>\r\n   <g id=\"matplotlib.axis_1\">\r\n    <g id=\"xtick_1\">\r\n     <g id=\"line2d_1\">\r\n      <defs>\r\n       <path d=\"M 0 0 \r\nL 0 3.5 \r\n\" id=\"m83665f1f68\" style=\"stroke:#000000;stroke-width:0.8;\"/>\r\n      </defs>\r\n      <g>\r\n       <use style=\"stroke:#000000;stroke-width:0.8;\" x=\"45.472304\" xlink:href=\"#m83665f1f68\" y=\"239.758125\"/>\r\n      </g>\r\n     </g>\r\n     <g id=\"text_1\">\r\n      <!-- 0 -->\r\n      <g transform=\"translate(42.291054 254.356563)scale(0.1 -0.1)\">\r\n       <defs>\r\n        <path d=\"M 2034 4250 \r\nQ 1547 4250 1301 3770 \r\nQ 1056 3291 1056 2328 \r\nQ 1056 1369 1301 889 \r\nQ 1547 409 2034 409 \r\nQ 2525 409 2770 889 \r\nQ 3016 1369 3016 2328 \r\nQ 3016 3291 2770 3770 \r\nQ 2525 4250 2034 4250 \r\nz\r\nM 2034 4750 \r\nQ 2819 4750 3233 4129 \r\nQ 3647 3509 3647 2328 \r\nQ 3647 1150 3233 529 \r\nQ 2819 -91 2034 -91 \r\nQ 1250 -91 836 529 \r\nQ 422 1150 422 2328 \r\nQ 422 3509 836 4129 \r\nQ 1250 4750 2034 4750 \r\nz\r\n\" id=\"DejaVuSans-30\" transform=\"scale(0.015625)\"/>\r\n       </defs>\r\n       <use xlink:href=\"#DejaVuSans-30\"/>\r\n      </g>\r\n     </g>\r\n    </g>\r\n    <g id=\"xtick_2\">\r\n     <g id=\"line2d_2\">\r\n      <g>\r\n       <use style=\"stroke:#000000;stroke-width:0.8;\" x=\"107.587332\" xlink:href=\"#m83665f1f68\" y=\"239.758125\"/>\r\n      </g>\r\n     </g>\r\n     <g id=\"text_2\">\r\n      <!-- 10 -->\r\n      <g transform=\"translate(101.224832 254.356563)scale(0.1 -0.1)\">\r\n       <defs>\r\n        <path d=\"M 794 531 \r\nL 1825 531 \r\nL 1825 4091 \r\nL 703 3866 \r\nL 703 4441 \r\nL 1819 4666 \r\nL 2450 4666 \r\nL 2450 531 \r\nL 3481 531 \r\nL 3481 0 \r\nL 794 0 \r\nL 794 531 \r\nz\r\n\" id=\"DejaVuSans-31\" transform=\"scale(0.015625)\"/>\r\n       </defs>\r\n       <use xlink:href=\"#DejaVuSans-31\"/>\r\n       <use x=\"63.623047\" xlink:href=\"#DejaVuSans-30\"/>\r\n      </g>\r\n     </g>\r\n    </g>\r\n    <g id=\"xtick_3\">\r\n     <g id=\"line2d_3\">\r\n      <g>\r\n       <use style=\"stroke:#000000;stroke-width:0.8;\" x=\"169.70236\" xlink:href=\"#m83665f1f68\" y=\"239.758125\"/>\r\n      </g>\r\n     </g>\r\n     <g id=\"text_3\">\r\n      <!-- 20 -->\r\n      <g transform=\"translate(163.33986 254.356563)scale(0.1 -0.1)\">\r\n       <defs>\r\n        <path d=\"M 1228 531 \r\nL 3431 531 \r\nL 3431 0 \r\nL 469 0 \r\nL 469 531 \r\nQ 828 903 1448 1529 \r\nQ 2069 2156 2228 2338 \r\nQ 2531 2678 2651 2914 \r\nQ 2772 3150 2772 3378 \r\nQ 2772 3750 2511 3984 \r\nQ 2250 4219 1831 4219 \r\nQ 1534 4219 1204 4116 \r\nQ 875 4013 500 3803 \r\nL 500 4441 \r\nQ 881 4594 1212 4672 \r\nQ 1544 4750 1819 4750 \r\nQ 2544 4750 2975 4387 \r\nQ 3406 4025 3406 3419 \r\nQ 3406 3131 3298 2873 \r\nQ 3191 2616 2906 2266 \r\nQ 2828 2175 2409 1742 \r\nQ 1991 1309 1228 531 \r\nz\r\n\" id=\"DejaVuSans-32\" transform=\"scale(0.015625)\"/>\r\n       </defs>\r\n       <use xlink:href=\"#DejaVuSans-32\"/>\r\n       <use x=\"63.623047\" xlink:href=\"#DejaVuSans-30\"/>\r\n      </g>\r\n     </g>\r\n    </g>\r\n    <g id=\"xtick_4\">\r\n     <g id=\"line2d_4\">\r\n      <g>\r\n       <use style=\"stroke:#000000;stroke-width:0.8;\" x=\"231.817388\" xlink:href=\"#m83665f1f68\" y=\"239.758125\"/>\r\n      </g>\r\n     </g>\r\n     <g id=\"text_4\">\r\n      <!-- 30 -->\r\n      <g transform=\"translate(225.454888 254.356563)scale(0.1 -0.1)\">\r\n       <defs>\r\n        <path d=\"M 2597 2516 \r\nQ 3050 2419 3304 2112 \r\nQ 3559 1806 3559 1356 \r\nQ 3559 666 3084 287 \r\nQ 2609 -91 1734 -91 \r\nQ 1441 -91 1130 -33 \r\nQ 819 25 488 141 \r\nL 488 750 \r\nQ 750 597 1062 519 \r\nQ 1375 441 1716 441 \r\nQ 2309 441 2620 675 \r\nQ 2931 909 2931 1356 \r\nQ 2931 1769 2642 2001 \r\nQ 2353 2234 1838 2234 \r\nL 1294 2234 \r\nL 1294 2753 \r\nL 1863 2753 \r\nQ 2328 2753 2575 2939 \r\nQ 2822 3125 2822 3475 \r\nQ 2822 3834 2567 4026 \r\nQ 2313 4219 1838 4219 \r\nQ 1578 4219 1281 4162 \r\nQ 984 4106 628 3988 \r\nL 628 4550 \r\nQ 988 4650 1302 4700 \r\nQ 1616 4750 1894 4750 \r\nQ 2613 4750 3031 4423 \r\nQ 3450 4097 3450 3541 \r\nQ 3450 3153 3228 2886 \r\nQ 3006 2619 2597 2516 \r\nz\r\n\" id=\"DejaVuSans-33\" transform=\"scale(0.015625)\"/>\r\n       </defs>\r\n       <use xlink:href=\"#DejaVuSans-33\"/>\r\n       <use x=\"63.623047\" xlink:href=\"#DejaVuSans-30\"/>\r\n      </g>\r\n     </g>\r\n    </g>\r\n    <g id=\"xtick_5\">\r\n     <g id=\"line2d_5\">\r\n      <g>\r\n       <use style=\"stroke:#000000;stroke-width:0.8;\" x=\"293.932415\" xlink:href=\"#m83665f1f68\" y=\"239.758125\"/>\r\n      </g>\r\n     </g>\r\n     <g id=\"text_5\">\r\n      <!-- 40 -->\r\n      <g transform=\"translate(287.569915 254.356563)scale(0.1 -0.1)\">\r\n       <defs>\r\n        <path d=\"M 2419 4116 \r\nL 825 1625 \r\nL 2419 1625 \r\nL 2419 4116 \r\nz\r\nM 2253 4666 \r\nL 3047 4666 \r\nL 3047 1625 \r\nL 3713 1625 \r\nL 3713 1100 \r\nL 3047 1100 \r\nL 3047 0 \r\nL 2419 0 \r\nL 2419 1100 \r\nL 313 1100 \r\nL 313 1709 \r\nL 2253 4666 \r\nz\r\n\" id=\"DejaVuSans-34\" transform=\"scale(0.015625)\"/>\r\n       </defs>\r\n       <use xlink:href=\"#DejaVuSans-34\"/>\r\n       <use x=\"63.623047\" xlink:href=\"#DejaVuSans-30\"/>\r\n      </g>\r\n     </g>\r\n    </g>\r\n    <g id=\"xtick_6\">\r\n     <g id=\"line2d_6\">\r\n      <g>\r\n       <use style=\"stroke:#000000;stroke-width:0.8;\" x=\"356.047443\" xlink:href=\"#m83665f1f68\" y=\"239.758125\"/>\r\n      </g>\r\n     </g>\r\n     <g id=\"text_6\">\r\n      <!-- 50 -->\r\n      <g transform=\"translate(349.684943 254.356563)scale(0.1 -0.1)\">\r\n       <defs>\r\n        <path d=\"M 691 4666 \r\nL 3169 4666 \r\nL 3169 4134 \r\nL 1269 4134 \r\nL 1269 2991 \r\nQ 1406 3038 1543 3061 \r\nQ 1681 3084 1819 3084 \r\nQ 2600 3084 3056 2656 \r\nQ 3513 2228 3513 1497 \r\nQ 3513 744 3044 326 \r\nQ 2575 -91 1722 -91 \r\nQ 1428 -91 1123 -41 \r\nQ 819 9 494 109 \r\nL 494 744 \r\nQ 775 591 1075 516 \r\nQ 1375 441 1709 441 \r\nQ 2250 441 2565 725 \r\nQ 2881 1009 2881 1497 \r\nQ 2881 1984 2565 2268 \r\nQ 2250 2553 1709 2553 \r\nQ 1456 2553 1204 2497 \r\nQ 953 2441 691 2322 \r\nL 691 4666 \r\nz\r\n\" id=\"DejaVuSans-35\" transform=\"scale(0.015625)\"/>\r\n       </defs>\r\n       <use xlink:href=\"#DejaVuSans-35\"/>\r\n       <use x=\"63.623047\" xlink:href=\"#DejaVuSans-30\"/>\r\n      </g>\r\n     </g>\r\n    </g>\r\n   </g>\r\n   <g id=\"matplotlib.axis_2\">\r\n    <g id=\"ytick_1\">\r\n     <g id=\"line2d_7\">\r\n      <defs>\r\n       <path d=\"M 0 0 \r\nL -3.5 0 \r\n\" id=\"m3a3c790fbc\" style=\"stroke:#000000;stroke-width:0.8;\"/>\r\n      </defs>\r\n      <g>\r\n       <use style=\"stroke:#000000;stroke-width:0.8;\" x=\"36.465625\" xlink:href=\"#m3a3c790fbc\" y=\"235.060937\"/>\r\n      </g>\r\n     </g>\r\n     <g id=\"text_7\">\r\n      <!-- 2.25 -->\r\n      <g transform=\"translate(7.2 238.860156)scale(0.1 -0.1)\">\r\n       <defs>\r\n        <path d=\"M 684 794 \r\nL 1344 794 \r\nL 1344 0 \r\nL 684 0 \r\nL 684 794 \r\nz\r\n\" id=\"DejaVuSans-2e\" transform=\"scale(0.015625)\"/>\r\n       </defs>\r\n       <use xlink:href=\"#DejaVuSans-32\"/>\r\n       <use x=\"63.623047\" xlink:href=\"#DejaVuSans-2e\"/>\r\n       <use x=\"95.410156\" xlink:href=\"#DejaVuSans-32\"/>\r\n       <use x=\"159.033203\" xlink:href=\"#DejaVuSans-35\"/>\r\n      </g>\r\n     </g>\r\n    </g>\r\n    <g id=\"ytick_2\">\r\n     <g id=\"line2d_8\">\r\n      <g>\r\n       <use style=\"stroke:#000000;stroke-width:0.8;\" x=\"36.465625\" xlink:href=\"#m3a3c790fbc\" y=\"205.534664\"/>\r\n      </g>\r\n     </g>\r\n     <g id=\"text_8\">\r\n      <!-- 2.50 -->\r\n      <g transform=\"translate(7.2 209.333883)scale(0.1 -0.1)\">\r\n       <use xlink:href=\"#DejaVuSans-32\"/>\r\n       <use x=\"63.623047\" xlink:href=\"#DejaVuSans-2e\"/>\r\n       <use x=\"95.410156\" xlink:href=\"#DejaVuSans-35\"/>\r\n       <use x=\"159.033203\" xlink:href=\"#DejaVuSans-30\"/>\r\n      </g>\r\n     </g>\r\n    </g>\r\n    <g id=\"ytick_3\">\r\n     <g id=\"line2d_9\">\r\n      <g>\r\n       <use style=\"stroke:#000000;stroke-width:0.8;\" x=\"36.465625\" xlink:href=\"#m3a3c790fbc\" y=\"176.008391\"/>\r\n      </g>\r\n     </g>\r\n     <g id=\"text_9\">\r\n      <!-- 2.75 -->\r\n      <g transform=\"translate(7.2 179.80761)scale(0.1 -0.1)\">\r\n       <defs>\r\n        <path d=\"M 525 4666 \r\nL 3525 4666 \r\nL 3525 4397 \r\nL 1831 0 \r\nL 1172 0 \r\nL 2766 4134 \r\nL 525 4134 \r\nL 525 4666 \r\nz\r\n\" id=\"DejaVuSans-37\" transform=\"scale(0.015625)\"/>\r\n       </defs>\r\n       <use xlink:href=\"#DejaVuSans-32\"/>\r\n       <use x=\"63.623047\" xlink:href=\"#DejaVuSans-2e\"/>\r\n       <use x=\"95.410156\" xlink:href=\"#DejaVuSans-37\"/>\r\n       <use x=\"159.033203\" xlink:href=\"#DejaVuSans-35\"/>\r\n      </g>\r\n     </g>\r\n    </g>\r\n    <g id=\"ytick_4\">\r\n     <g id=\"line2d_10\">\r\n      <g>\r\n       <use style=\"stroke:#000000;stroke-width:0.8;\" x=\"36.465625\" xlink:href=\"#m3a3c790fbc\" y=\"146.482119\"/>\r\n      </g>\r\n     </g>\r\n     <g id=\"text_10\">\r\n      <!-- 3.00 -->\r\n      <g transform=\"translate(7.2 150.281337)scale(0.1 -0.1)\">\r\n       <use xlink:href=\"#DejaVuSans-33\"/>\r\n       <use x=\"63.623047\" xlink:href=\"#DejaVuSans-2e\"/>\r\n       <use x=\"95.410156\" xlink:href=\"#DejaVuSans-30\"/>\r\n       <use x=\"159.033203\" xlink:href=\"#DejaVuSans-30\"/>\r\n      </g>\r\n     </g>\r\n    </g>\r\n    <g id=\"ytick_5\">\r\n     <g id=\"line2d_11\">\r\n      <g>\r\n       <use style=\"stroke:#000000;stroke-width:0.8;\" x=\"36.465625\" xlink:href=\"#m3a3c790fbc\" y=\"116.955846\"/>\r\n      </g>\r\n     </g>\r\n     <g id=\"text_11\">\r\n      <!-- 3.25 -->\r\n      <g transform=\"translate(7.2 120.755065)scale(0.1 -0.1)\">\r\n       <use xlink:href=\"#DejaVuSans-33\"/>\r\n       <use x=\"63.623047\" xlink:href=\"#DejaVuSans-2e\"/>\r\n       <use x=\"95.410156\" xlink:href=\"#DejaVuSans-32\"/>\r\n       <use x=\"159.033203\" xlink:href=\"#DejaVuSans-35\"/>\r\n      </g>\r\n     </g>\r\n    </g>\r\n    <g id=\"ytick_6\">\r\n     <g id=\"line2d_12\">\r\n      <g>\r\n       <use style=\"stroke:#000000;stroke-width:0.8;\" x=\"36.465625\" xlink:href=\"#m3a3c790fbc\" y=\"87.429573\"/>\r\n      </g>\r\n     </g>\r\n     <g id=\"text_12\">\r\n      <!-- 3.50 -->\r\n      <g transform=\"translate(7.2 91.228792)scale(0.1 -0.1)\">\r\n       <use xlink:href=\"#DejaVuSans-33\"/>\r\n       <use x=\"63.623047\" xlink:href=\"#DejaVuSans-2e\"/>\r\n       <use x=\"95.410156\" xlink:href=\"#DejaVuSans-35\"/>\r\n       <use x=\"159.033203\" xlink:href=\"#DejaVuSans-30\"/>\r\n      </g>\r\n     </g>\r\n    </g>\r\n    <g id=\"ytick_7\">\r\n     <g id=\"line2d_13\">\r\n      <g>\r\n       <use style=\"stroke:#000000;stroke-width:0.8;\" x=\"36.465625\" xlink:href=\"#m3a3c790fbc\" y=\"57.9033\"/>\r\n      </g>\r\n     </g>\r\n     <g id=\"text_13\">\r\n      <!-- 3.75 -->\r\n      <g transform=\"translate(7.2 61.702519)scale(0.1 -0.1)\">\r\n       <use xlink:href=\"#DejaVuSans-33\"/>\r\n       <use x=\"63.623047\" xlink:href=\"#DejaVuSans-2e\"/>\r\n       <use x=\"95.410156\" xlink:href=\"#DejaVuSans-37\"/>\r\n       <use x=\"159.033203\" xlink:href=\"#DejaVuSans-35\"/>\r\n      </g>\r\n     </g>\r\n    </g>\r\n    <g id=\"ytick_8\">\r\n     <g id=\"line2d_14\">\r\n      <g>\r\n       <use style=\"stroke:#000000;stroke-width:0.8;\" x=\"36.465625\" xlink:href=\"#m3a3c790fbc\" y=\"28.377028\"/>\r\n      </g>\r\n     </g>\r\n     <g id=\"text_14\">\r\n      <!-- 4.00 -->\r\n      <g transform=\"translate(7.2 32.176246)scale(0.1 -0.1)\">\r\n       <use xlink:href=\"#DejaVuSans-34\"/>\r\n       <use x=\"63.623047\" xlink:href=\"#DejaVuSans-2e\"/>\r\n       <use x=\"95.410156\" xlink:href=\"#DejaVuSans-30\"/>\r\n       <use x=\"159.033203\" xlink:href=\"#DejaVuSans-30\"/>\r\n      </g>\r\n     </g>\r\n    </g>\r\n   </g>\r\n   <g id=\"line2d_15\">\r\n    <defs>\r\n     <path d=\"M 0 3 \r\nC 0.795609 3 1.55874 2.683901 2.12132 2.12132 \r\nC 2.683901 1.55874 3 0.795609 3 0 \r\nC 3 -0.795609 2.683901 -1.55874 2.12132 -2.12132 \r\nC 1.55874 -2.683901 0.795609 -3 0 -3 \r\nC -0.795609 -3 -1.55874 -2.683901 -2.12132 -2.12132 \r\nC -2.683901 -1.55874 -3 -0.795609 -3 0 \r\nC -3 0.795609 -2.683901 1.55874 -2.12132 2.12132 \r\nC -1.55874 2.683901 -0.795609 3 0 3 \r\nz\r\n\" id=\"meb3a226f5e\" style=\"stroke:#0000ff;\"/>\r\n    </defs>\r\n    <g clip-path=\"url(#pbf2f38049c)\">\r\n     <use style=\"fill:#0000ff;stroke:#0000ff;\" x=\"51.683807\" xlink:href=\"#meb3a226f5e\" y=\"32.201761\"/>\r\n     <use style=\"fill:#0000ff;stroke:#0000ff;\" x=\"57.89531\" xlink:href=\"#meb3a226f5e\" y=\"144.861853\"/>\r\n     <use style=\"fill:#0000ff;stroke:#0000ff;\" x=\"64.106812\" xlink:href=\"#meb3a226f5e\" y=\"154.193957\"/>\r\n     <use style=\"fill:#0000ff;stroke:#0000ff;\" x=\"70.318315\" xlink:href=\"#meb3a226f5e\" y=\"160.741444\"/>\r\n     <use style=\"fill:#0000ff;stroke:#0000ff;\" x=\"76.529818\" xlink:href=\"#meb3a226f5e\" y=\"166.433477\"/>\r\n     <use style=\"fill:#0000ff;stroke:#0000ff;\" x=\"82.741321\" xlink:href=\"#meb3a226f5e\" y=\"171.029893\"/>\r\n     <use style=\"fill:#0000ff;stroke:#0000ff;\" x=\"88.952824\" xlink:href=\"#meb3a226f5e\" y=\"174.230805\"/>\r\n     <use style=\"fill:#0000ff;stroke:#0000ff;\" x=\"95.164326\" xlink:href=\"#meb3a226f5e\" y=\"178.216633\"/>\r\n     <use style=\"fill:#0000ff;stroke:#0000ff;\" x=\"101.375829\" xlink:href=\"#meb3a226f5e\" y=\"180.289574\"/>\r\n     <use style=\"fill:#0000ff;stroke:#0000ff;\" x=\"107.587332\" xlink:href=\"#meb3a226f5e\" y=\"182.372707\"/>\r\n     <use style=\"fill:#0000ff;stroke:#0000ff;\" x=\"113.798835\" xlink:href=\"#meb3a226f5e\" y=\"183.804086\"/>\r\n     <use style=\"fill:#0000ff;stroke:#0000ff;\" x=\"120.010337\" xlink:href=\"#meb3a226f5e\" y=\"186.101336\"/>\r\n     <use style=\"fill:#0000ff;stroke:#0000ff;\" x=\"126.22184\" xlink:href=\"#meb3a226f5e\" y=\"186.930828\"/>\r\n     <use style=\"fill:#0000ff;stroke:#0000ff;\" x=\"132.433343\" xlink:href=\"#meb3a226f5e\" y=\"188.012591\"/>\r\n     <use style=\"fill:#0000ff;stroke:#0000ff;\" x=\"138.644846\" xlink:href=\"#meb3a226f5e\" y=\"189.125188\"/>\r\n     <use style=\"fill:#0000ff;stroke:#0000ff;\" x=\"144.856349\" xlink:href=\"#meb3a226f5e\" y=\"189.846607\"/>\r\n     <use style=\"fill:#0000ff;stroke:#0000ff;\" x=\"151.067851\" xlink:href=\"#meb3a226f5e\" y=\"190.816638\"/>\r\n     <use style=\"fill:#0000ff;stroke:#0000ff;\" x=\"157.279354\" xlink:href=\"#meb3a226f5e\" y=\"191.060574\"/>\r\n     <use style=\"fill:#0000ff;stroke:#0000ff;\" x=\"163.490857\" xlink:href=\"#meb3a226f5e\" y=\"192.345613\"/>\r\n     <use style=\"fill:#0000ff;stroke:#0000ff;\" x=\"169.70236\" xlink:href=\"#meb3a226f5e\" y=\"192.970055\"/>\r\n     <use style=\"fill:#0000ff;stroke:#0000ff;\" x=\"175.913862\" xlink:href=\"#meb3a226f5e\" y=\"194.039541\"/>\r\n     <use style=\"fill:#0000ff;stroke:#0000ff;\" x=\"182.125365\" xlink:href=\"#meb3a226f5e\" y=\"194.232511\"/>\r\n     <use style=\"fill:#0000ff;stroke:#0000ff;\" x=\"188.336868\" xlink:href=\"#meb3a226f5e\" y=\"195.418713\"/>\r\n     <use style=\"fill:#0000ff;stroke:#0000ff;\" x=\"194.548371\" xlink:href=\"#meb3a226f5e\" y=\"195.595689\"/>\r\n     <use style=\"fill:#0000ff;stroke:#0000ff;\" x=\"200.759874\" xlink:href=\"#meb3a226f5e\" y=\"196.300749\"/>\r\n     <use style=\"fill:#0000ff;stroke:#0000ff;\" x=\"206.971376\" xlink:href=\"#meb3a226f5e\" y=\"197.164763\"/>\r\n     <use style=\"fill:#0000ff;stroke:#0000ff;\" x=\"213.182879\" xlink:href=\"#meb3a226f5e\" y=\"197.076767\"/>\r\n     <use style=\"fill:#0000ff;stroke:#0000ff;\" x=\"219.394382\" xlink:href=\"#meb3a226f5e\" y=\"197.902795\"/>\r\n     <use style=\"fill:#0000ff;stroke:#0000ff;\" x=\"225.605885\" xlink:href=\"#meb3a226f5e\" y=\"197.929236\"/>\r\n     <use style=\"fill:#0000ff;stroke:#0000ff;\" x=\"231.817388\" xlink:href=\"#meb3a226f5e\" y=\"198.853706\"/>\r\n     <use style=\"fill:#0000ff;stroke:#0000ff;\" x=\"238.02889\" xlink:href=\"#meb3a226f5e\" y=\"199.447709\"/>\r\n     <use style=\"fill:#0000ff;stroke:#0000ff;\" x=\"244.240393\" xlink:href=\"#meb3a226f5e\" y=\"199.817992\"/>\r\n     <use style=\"fill:#0000ff;stroke:#0000ff;\" x=\"250.451896\" xlink:href=\"#meb3a226f5e\" y=\"200.011835\"/>\r\n     <use style=\"fill:#0000ff;stroke:#0000ff;\" x=\"256.663399\" xlink:href=\"#meb3a226f5e\" y=\"200.530148\"/>\r\n     <use style=\"fill:#0000ff;stroke:#0000ff;\" x=\"262.874901\" xlink:href=\"#meb3a226f5e\" y=\"200.550985\"/>\r\n     <use style=\"fill:#0000ff;stroke:#0000ff;\" x=\"269.086404\" xlink:href=\"#meb3a226f5e\" y=\"200.912962\"/>\r\n     <use style=\"fill:#0000ff;stroke:#0000ff;\" x=\"275.297907\" xlink:href=\"#meb3a226f5e\" y=\"202.116735\"/>\r\n     <use style=\"fill:#0000ff;stroke:#0000ff;\" x=\"281.50941\" xlink:href=\"#meb3a226f5e\" y=\"202.278477\"/>\r\n     <use style=\"fill:#0000ff;stroke:#0000ff;\" x=\"287.720913\" xlink:href=\"#meb3a226f5e\" y=\"202.464042\"/>\r\n     <use style=\"fill:#0000ff;stroke:#0000ff;\" x=\"293.932415\" xlink:href=\"#meb3a226f5e\" y=\"202.401164\"/>\r\n     <use style=\"fill:#0000ff;stroke:#0000ff;\" x=\"300.143918\" xlink:href=\"#meb3a226f5e\" y=\"202.707978\"/>\r\n     <use style=\"fill:#0000ff;stroke:#0000ff;\" x=\"306.355421\" xlink:href=\"#meb3a226f5e\" y=\"203.210072\"/>\r\n     <use style=\"fill:#0000ff;stroke:#0000ff;\" x=\"312.566924\" xlink:href=\"#meb3a226f5e\" y=\"204.142144\"/>\r\n     <use style=\"fill:#0000ff;stroke:#0000ff;\" x=\"318.778426\" xlink:href=\"#meb3a226f5e\" y=\"204.363413\"/>\r\n     <use style=\"fill:#0000ff;stroke:#0000ff;\" x=\"324.989929\" xlink:href=\"#meb3a226f5e\" y=\"204.610673\"/>\r\n     <use style=\"fill:#0000ff;stroke:#0000ff;\" x=\"331.201432\" xlink:href=\"#meb3a226f5e\" y=\"205.04054\"/>\r\n     <use style=\"fill:#0000ff;stroke:#0000ff;\" x=\"337.412935\" xlink:href=\"#meb3a226f5e\" y=\"205.207238\"/>\r\n     <use style=\"fill:#0000ff;stroke:#0000ff;\" x=\"343.624438\" xlink:href=\"#meb3a226f5e\" y=\"205.855192\"/>\r\n     <use style=\"fill:#0000ff;stroke:#0000ff;\" x=\"349.83594\" xlink:href=\"#meb3a226f5e\" y=\"205.955914\"/>\r\n     <use style=\"fill:#0000ff;stroke:#0000ff;\" x=\"356.047443\" xlink:href=\"#meb3a226f5e\" y=\"205.541844\"/>\r\n    </g>\r\n   </g>\r\n   <g id=\"line2d_16\">\r\n    <path clip-path=\"url(#pbf2f38049c)\" d=\"M 51.683807 218.025076 \r\nL 57.89531 222.91358 \r\nL 64.106812 225.961422 \r\nL 70.318315 226.004082 \r\nL 76.529818 227.913196 \r\nL 82.741321 227.773643 \r\nL 88.952824 229.461235 \r\nL 95.164326 228.380598 \r\nL 101.375829 228.830965 \r\nL 107.587332 229.874489 \r\nL 113.798835 228.874582 \r\nL 120.010337 228.495767 \r\nL 126.22184 226.831912 \r\nL 132.433343 225.594264 \r\nL 138.644846 224.919784 \r\nL 144.856349 228.071109 \r\nL 151.067851 226.290735 \r\nL 157.279354 223.994751 \r\nL 163.490857 224.616968 \r\nL 169.70236 222.557741 \r\nL 175.913862 224.848656 \r\nL 182.125365 225.23071 \r\nL 188.336868 225.294489 \r\nL 194.548371 223.540274 \r\nL 200.759874 223.25089 \r\nL 206.971376 222.102926 \r\nL 213.182879 223.415701 \r\nL 219.394382 220.067999 \r\nL 225.605885 222.912312 \r\nL 231.817388 221.829395 \r\nL 238.02889 221.338171 \r\nL 244.240393 220.361917 \r\nL 250.451896 223.640659 \r\nL 256.663399 223.405113 \r\nL 262.874901 222.228625 \r\nL 269.086404 218.816469 \r\nL 275.297907 223.528757 \r\nL 281.50941 217.917257 \r\nL 287.720913 222.303499 \r\nL 293.932415 221.18068 \r\nL 300.143918 221.747707 \r\nL 306.355421 218.143736 \r\nL 312.566924 222.081103 \r\nL 318.778426 220.209918 \r\nL 324.989929 217.407814 \r\nL 331.201432 221.739597 \r\nL 337.412935 221.046731 \r\nL 343.624438 222.480277 \r\nL 349.83594 219.715202 \r\nL 356.047443 220.58696 \r\n\" style=\"fill:none;stroke:#0000ff;stroke-linecap:square;stroke-width:1.5;\"/>\r\n   </g>\r\n   <g id=\"patch_3\">\r\n    <path d=\"M 36.465625 239.758125 \r\nL 36.465625 22.318125 \r\n\" style=\"fill:none;stroke:#000000;stroke-linecap:square;stroke-linejoin:miter;stroke-width:0.8;\"/>\r\n   </g>\r\n   <g id=\"patch_4\">\r\n    <path d=\"M 371.265625 239.758125 \r\nL 371.265625 22.318125 \r\n\" style=\"fill:none;stroke:#000000;stroke-linecap:square;stroke-linejoin:miter;stroke-width:0.8;\"/>\r\n   </g>\r\n   <g id=\"patch_5\">\r\n    <path d=\"M 36.465625 239.758125 \r\nL 371.265625 239.758125 \r\n\" style=\"fill:none;stroke:#000000;stroke-linecap:square;stroke-linejoin:miter;stroke-width:0.8;\"/>\r\n   </g>\r\n   <g id=\"patch_6\">\r\n    <path d=\"M 36.465625 22.318125 \r\nL 371.265625 22.318125 \r\n\" style=\"fill:none;stroke:#000000;stroke-linecap:square;stroke-linejoin:miter;stroke-width:0.8;\"/>\r\n   </g>\r\n   <g id=\"text_15\">\r\n    <!-- Training and validation MAE -->\r\n    <g transform=\"translate(120.5725 16.318125)scale(0.12 -0.12)\">\r\n     <defs>\r\n      <path d=\"M -19 4666 \r\nL 3928 4666 \r\nL 3928 4134 \r\nL 2272 4134 \r\nL 2272 0 \r\nL 1638 0 \r\nL 1638 4134 \r\nL -19 4134 \r\nL -19 4666 \r\nz\r\n\" id=\"DejaVuSans-54\" transform=\"scale(0.015625)\"/>\r\n      <path d=\"M 2631 2963 \r\nQ 2534 3019 2420 3045 \r\nQ 2306 3072 2169 3072 \r\nQ 1681 3072 1420 2755 \r\nQ 1159 2438 1159 1844 \r\nL 1159 0 \r\nL 581 0 \r\nL 581 3500 \r\nL 1159 3500 \r\nL 1159 2956 \r\nQ 1341 3275 1631 3429 \r\nQ 1922 3584 2338 3584 \r\nQ 2397 3584 2469 3576 \r\nQ 2541 3569 2628 3553 \r\nL 2631 2963 \r\nz\r\n\" id=\"DejaVuSans-72\" transform=\"scale(0.015625)\"/>\r\n      <path d=\"M 2194 1759 \r\nQ 1497 1759 1228 1600 \r\nQ 959 1441 959 1056 \r\nQ 959 750 1161 570 \r\nQ 1363 391 1709 391 \r\nQ 2188 391 2477 730 \r\nQ 2766 1069 2766 1631 \r\nL 2766 1759 \r\nL 2194 1759 \r\nz\r\nM 3341 1997 \r\nL 3341 0 \r\nL 2766 0 \r\nL 2766 531 \r\nQ 2569 213 2275 61 \r\nQ 1981 -91 1556 -91 \r\nQ 1019 -91 701 211 \r\nQ 384 513 384 1019 \r\nQ 384 1609 779 1909 \r\nQ 1175 2209 1959 2209 \r\nL 2766 2209 \r\nL 2766 2266 \r\nQ 2766 2663 2505 2880 \r\nQ 2244 3097 1772 3097 \r\nQ 1472 3097 1187 3025 \r\nQ 903 2953 641 2809 \r\nL 641 3341 \r\nQ 956 3463 1253 3523 \r\nQ 1550 3584 1831 3584 \r\nQ 2591 3584 2966 3190 \r\nQ 3341 2797 3341 1997 \r\nz\r\n\" id=\"DejaVuSans-61\" transform=\"scale(0.015625)\"/>\r\n      <path d=\"M 603 3500 \r\nL 1178 3500 \r\nL 1178 0 \r\nL 603 0 \r\nL 603 3500 \r\nz\r\nM 603 4863 \r\nL 1178 4863 \r\nL 1178 4134 \r\nL 603 4134 \r\nL 603 4863 \r\nz\r\n\" id=\"DejaVuSans-69\" transform=\"scale(0.015625)\"/>\r\n      <path d=\"M 3513 2113 \r\nL 3513 0 \r\nL 2938 0 \r\nL 2938 2094 \r\nQ 2938 2591 2744 2837 \r\nQ 2550 3084 2163 3084 \r\nQ 1697 3084 1428 2787 \r\nQ 1159 2491 1159 1978 \r\nL 1159 0 \r\nL 581 0 \r\nL 581 3500 \r\nL 1159 3500 \r\nL 1159 2956 \r\nQ 1366 3272 1645 3428 \r\nQ 1925 3584 2291 3584 \r\nQ 2894 3584 3203 3211 \r\nQ 3513 2838 3513 2113 \r\nz\r\n\" id=\"DejaVuSans-6e\" transform=\"scale(0.015625)\"/>\r\n      <path d=\"M 2906 1791 \r\nQ 2906 2416 2648 2759 \r\nQ 2391 3103 1925 3103 \r\nQ 1463 3103 1205 2759 \r\nQ 947 2416 947 1791 \r\nQ 947 1169 1205 825 \r\nQ 1463 481 1925 481 \r\nQ 2391 481 2648 825 \r\nQ 2906 1169 2906 1791 \r\nz\r\nM 3481 434 \r\nQ 3481 -459 3084 -895 \r\nQ 2688 -1331 1869 -1331 \r\nQ 1566 -1331 1297 -1286 \r\nQ 1028 -1241 775 -1147 \r\nL 775 -588 \r\nQ 1028 -725 1275 -790 \r\nQ 1522 -856 1778 -856 \r\nQ 2344 -856 2625 -561 \r\nQ 2906 -266 2906 331 \r\nL 2906 616 \r\nQ 2728 306 2450 153 \r\nQ 2172 0 1784 0 \r\nQ 1141 0 747 490 \r\nQ 353 981 353 1791 \r\nQ 353 2603 747 3093 \r\nQ 1141 3584 1784 3584 \r\nQ 2172 3584 2450 3431 \r\nQ 2728 3278 2906 2969 \r\nL 2906 3500 \r\nL 3481 3500 \r\nL 3481 434 \r\nz\r\n\" id=\"DejaVuSans-67\" transform=\"scale(0.015625)\"/>\r\n      <path id=\"DejaVuSans-20\" transform=\"scale(0.015625)\"/>\r\n      <path d=\"M 2906 2969 \r\nL 2906 4863 \r\nL 3481 4863 \r\nL 3481 0 \r\nL 2906 0 \r\nL 2906 525 \r\nQ 2725 213 2448 61 \r\nQ 2172 -91 1784 -91 \r\nQ 1150 -91 751 415 \r\nQ 353 922 353 1747 \r\nQ 353 2572 751 3078 \r\nQ 1150 3584 1784 3584 \r\nQ 2172 3584 2448 3432 \r\nQ 2725 3281 2906 2969 \r\nz\r\nM 947 1747 \r\nQ 947 1113 1208 752 \r\nQ 1469 391 1925 391 \r\nQ 2381 391 2643 752 \r\nQ 2906 1113 2906 1747 \r\nQ 2906 2381 2643 2742 \r\nQ 2381 3103 1925 3103 \r\nQ 1469 3103 1208 2742 \r\nQ 947 2381 947 1747 \r\nz\r\n\" id=\"DejaVuSans-64\" transform=\"scale(0.015625)\"/>\r\n      <path d=\"M 191 3500 \r\nL 800 3500 \r\nL 1894 563 \r\nL 2988 3500 \r\nL 3597 3500 \r\nL 2284 0 \r\nL 1503 0 \r\nL 191 3500 \r\nz\r\n\" id=\"DejaVuSans-76\" transform=\"scale(0.015625)\"/>\r\n      <path d=\"M 603 4863 \r\nL 1178 4863 \r\nL 1178 0 \r\nL 603 0 \r\nL 603 4863 \r\nz\r\n\" id=\"DejaVuSans-6c\" transform=\"scale(0.015625)\"/>\r\n      <path d=\"M 1172 4494 \r\nL 1172 3500 \r\nL 2356 3500 \r\nL 2356 3053 \r\nL 1172 3053 \r\nL 1172 1153 \r\nQ 1172 725 1289 603 \r\nQ 1406 481 1766 481 \r\nL 2356 481 \r\nL 2356 0 \r\nL 1766 0 \r\nQ 1100 0 847 248 \r\nQ 594 497 594 1153 \r\nL 594 3053 \r\nL 172 3053 \r\nL 172 3500 \r\nL 594 3500 \r\nL 594 4494 \r\nL 1172 4494 \r\nz\r\n\" id=\"DejaVuSans-74\" transform=\"scale(0.015625)\"/>\r\n      <path d=\"M 1959 3097 \r\nQ 1497 3097 1228 2736 \r\nQ 959 2375 959 1747 \r\nQ 959 1119 1226 758 \r\nQ 1494 397 1959 397 \r\nQ 2419 397 2687 759 \r\nQ 2956 1122 2956 1747 \r\nQ 2956 2369 2687 2733 \r\nQ 2419 3097 1959 3097 \r\nz\r\nM 1959 3584 \r\nQ 2709 3584 3137 3096 \r\nQ 3566 2609 3566 1747 \r\nQ 3566 888 3137 398 \r\nQ 2709 -91 1959 -91 \r\nQ 1206 -91 779 398 \r\nQ 353 888 353 1747 \r\nQ 353 2609 779 3096 \r\nQ 1206 3584 1959 3584 \r\nz\r\n\" id=\"DejaVuSans-6f\" transform=\"scale(0.015625)\"/>\r\n      <path d=\"M 628 4666 \r\nL 1569 4666 \r\nL 2759 1491 \r\nL 3956 4666 \r\nL 4897 4666 \r\nL 4897 0 \r\nL 4281 0 \r\nL 4281 4097 \r\nL 3078 897 \r\nL 2444 897 \r\nL 1241 4097 \r\nL 1241 0 \r\nL 628 0 \r\nL 628 4666 \r\nz\r\n\" id=\"DejaVuSans-4d\" transform=\"scale(0.015625)\"/>\r\n      <path d=\"M 2188 4044 \r\nL 1331 1722 \r\nL 3047 1722 \r\nL 2188 4044 \r\nz\r\nM 1831 4666 \r\nL 2547 4666 \r\nL 4325 0 \r\nL 3669 0 \r\nL 3244 1197 \r\nL 1141 1197 \r\nL 716 0 \r\nL 50 0 \r\nL 1831 4666 \r\nz\r\n\" id=\"DejaVuSans-41\" transform=\"scale(0.015625)\"/>\r\n      <path d=\"M 628 4666 \r\nL 3578 4666 \r\nL 3578 4134 \r\nL 1259 4134 \r\nL 1259 2753 \r\nL 3481 2753 \r\nL 3481 2222 \r\nL 1259 2222 \r\nL 1259 531 \r\nL 3634 531 \r\nL 3634 0 \r\nL 628 0 \r\nL 628 4666 \r\nz\r\n\" id=\"DejaVuSans-45\" transform=\"scale(0.015625)\"/>\r\n     </defs>\r\n     <use xlink:href=\"#DejaVuSans-54\"/>\r\n     <use x=\"46.333984\" xlink:href=\"#DejaVuSans-72\"/>\r\n     <use x=\"87.447266\" xlink:href=\"#DejaVuSans-61\"/>\r\n     <use x=\"148.726562\" xlink:href=\"#DejaVuSans-69\"/>\r\n     <use x=\"176.509766\" xlink:href=\"#DejaVuSans-6e\"/>\r\n     <use x=\"239.888672\" xlink:href=\"#DejaVuSans-69\"/>\r\n     <use x=\"267.671875\" xlink:href=\"#DejaVuSans-6e\"/>\r\n     <use x=\"331.050781\" xlink:href=\"#DejaVuSans-67\"/>\r\n     <use x=\"394.527344\" xlink:href=\"#DejaVuSans-20\"/>\r\n     <use x=\"426.314453\" xlink:href=\"#DejaVuSans-61\"/>\r\n     <use x=\"487.59375\" xlink:href=\"#DejaVuSans-6e\"/>\r\n     <use x=\"550.972656\" xlink:href=\"#DejaVuSans-64\"/>\r\n     <use x=\"614.449219\" xlink:href=\"#DejaVuSans-20\"/>\r\n     <use x=\"646.236328\" xlink:href=\"#DejaVuSans-76\"/>\r\n     <use x=\"705.416016\" xlink:href=\"#DejaVuSans-61\"/>\r\n     <use x=\"766.695312\" xlink:href=\"#DejaVuSans-6c\"/>\r\n     <use x=\"794.478516\" xlink:href=\"#DejaVuSans-69\"/>\r\n     <use x=\"822.261719\" xlink:href=\"#DejaVuSans-64\"/>\r\n     <use x=\"885.738281\" xlink:href=\"#DejaVuSans-61\"/>\r\n     <use x=\"947.017578\" xlink:href=\"#DejaVuSans-74\"/>\r\n     <use x=\"986.226562\" xlink:href=\"#DejaVuSans-69\"/>\r\n     <use x=\"1014.009766\" xlink:href=\"#DejaVuSans-6f\"/>\r\n     <use x=\"1075.191406\" xlink:href=\"#DejaVuSans-6e\"/>\r\n     <use x=\"1138.570312\" xlink:href=\"#DejaVuSans-20\"/>\r\n     <use x=\"1170.357422\" xlink:href=\"#DejaVuSans-4d\"/>\r\n     <use x=\"1256.636719\" xlink:href=\"#DejaVuSans-41\"/>\r\n     <use x=\"1325.044922\" xlink:href=\"#DejaVuSans-45\"/>\r\n    </g>\r\n   </g>\r\n   <g id=\"legend_1\">\r\n    <g id=\"patch_7\">\r\n     <path d=\"M 257.91875 59.674375 \r\nL 364.265625 59.674375 \r\nQ 366.265625 59.674375 366.265625 57.674375 \r\nL 366.265625 29.318125 \r\nQ 366.265625 27.318125 364.265625 27.318125 \r\nL 257.91875 27.318125 \r\nQ 255.91875 27.318125 255.91875 29.318125 \r\nL 255.91875 57.674375 \r\nQ 255.91875 59.674375 257.91875 59.674375 \r\nz\r\n\" style=\"fill:#ffffff;opacity:0.8;stroke:#cccccc;stroke-linejoin:miter;\"/>\r\n    </g>\r\n    <g id=\"line2d_17\"/>\r\n    <g id=\"line2d_18\">\r\n     <g>\r\n      <use style=\"fill:#0000ff;stroke:#0000ff;\" x=\"269.91875\" xlink:href=\"#meb3a226f5e\" y=\"35.416562\"/>\r\n     </g>\r\n    </g>\r\n    <g id=\"text_16\">\r\n     <!-- Training MAE -->\r\n     <g transform=\"translate(287.91875 38.916562)scale(0.1 -0.1)\">\r\n      <use xlink:href=\"#DejaVuSans-54\"/>\r\n      <use x=\"46.333984\" xlink:href=\"#DejaVuSans-72\"/>\r\n      <use x=\"87.447266\" xlink:href=\"#DejaVuSans-61\"/>\r\n      <use x=\"148.726562\" xlink:href=\"#DejaVuSans-69\"/>\r\n      <use x=\"176.509766\" xlink:href=\"#DejaVuSans-6e\"/>\r\n      <use x=\"239.888672\" xlink:href=\"#DejaVuSans-69\"/>\r\n      <use x=\"267.671875\" xlink:href=\"#DejaVuSans-6e\"/>\r\n      <use x=\"331.050781\" xlink:href=\"#DejaVuSans-67\"/>\r\n      <use x=\"394.527344\" xlink:href=\"#DejaVuSans-20\"/>\r\n      <use x=\"426.314453\" xlink:href=\"#DejaVuSans-4d\"/>\r\n      <use x=\"512.59375\" xlink:href=\"#DejaVuSans-41\"/>\r\n      <use x=\"581.001953\" xlink:href=\"#DejaVuSans-45\"/>\r\n     </g>\r\n    </g>\r\n    <g id=\"line2d_19\">\r\n     <path d=\"M 259.91875 50.094687 \r\nL 279.91875 50.094687 \r\n\" style=\"fill:none;stroke:#0000ff;stroke-linecap:square;stroke-width:1.5;\"/>\r\n    </g>\r\n    <g id=\"line2d_20\"/>\r\n    <g id=\"text_17\">\r\n     <!-- Validation MAE -->\r\n     <g transform=\"translate(287.91875 53.594687)scale(0.1 -0.1)\">\r\n      <defs>\r\n       <path d=\"M 1831 0 \r\nL 50 4666 \r\nL 709 4666 \r\nL 2188 738 \r\nL 3669 4666 \r\nL 4325 4666 \r\nL 2547 0 \r\nL 1831 0 \r\nz\r\n\" id=\"DejaVuSans-56\" transform=\"scale(0.015625)\"/>\r\n      </defs>\r\n      <use xlink:href=\"#DejaVuSans-56\"/>\r\n      <use x=\"60.658203\" xlink:href=\"#DejaVuSans-61\"/>\r\n      <use x=\"121.9375\" xlink:href=\"#DejaVuSans-6c\"/>\r\n      <use x=\"149.720703\" xlink:href=\"#DejaVuSans-69\"/>\r\n      <use x=\"177.503906\" xlink:href=\"#DejaVuSans-64\"/>\r\n      <use x=\"240.980469\" xlink:href=\"#DejaVuSans-61\"/>\r\n      <use x=\"302.259766\" xlink:href=\"#DejaVuSans-74\"/>\r\n      <use x=\"341.46875\" xlink:href=\"#DejaVuSans-69\"/>\r\n      <use x=\"369.251953\" xlink:href=\"#DejaVuSans-6f\"/>\r\n      <use x=\"430.433594\" xlink:href=\"#DejaVuSans-6e\"/>\r\n      <use x=\"493.8125\" xlink:href=\"#DejaVuSans-20\"/>\r\n      <use x=\"525.599609\" xlink:href=\"#DejaVuSans-4d\"/>\r\n      <use x=\"611.878906\" xlink:href=\"#DejaVuSans-41\"/>\r\n      <use x=\"680.287109\" xlink:href=\"#DejaVuSans-45\"/>\r\n     </g>\r\n    </g>\r\n   </g>\r\n  </g>\r\n </g>\r\n <defs>\r\n  <clipPath id=\"pbf2f38049c\">\r\n   <rect height=\"217.44\" width=\"334.8\" x=\"36.465625\" y=\"22.318125\"/>\r\n  </clipPath>\r\n </defs>\r\n</svg>\r\n",
      "image/png": "[encoded data removed]"
     },
     "metadata": {
      "needs_background": "light"
     }
    }
   ],
   "metadata": {}
  },
  {
   "cell_type": "code",
   "execution_count": 9,
   "source": [
    "model = keras.models.load_model(\"jena_lstm.keras\")\r\n",
    "print(f\"Test MAE: {model.evaluate(test_dataset)[1]:.2f}\")"
   ],
   "outputs": [
    {
     "output_type": "stream",
     "name": "stdout",
     "text": [
      "405/405 [==============================] - 7s 18ms/step - loss: 10.6795 - mae: 2.5664\n",
      "Test MAE: 2.57\n"
     ]
    }
   ],
   "metadata": {}
  },
  {
   "cell_type": "markdown",
   "source": [
    "过拟合被有效缓解了,训练超过 20 轮以后也没有明显过拟合.\r\n",
    "\r\n",
    "验证集的 mae 在 2.27 2.28,测试集的 mae 在 2.57 与基线差别不大,但也不坏.\r\n"
   ],
   "metadata": {}
  },
  {
   "cell_type": "markdown",
   "source": [
    "### 小贴士\r\n",
    "\r\n",
    "keras ltsm/gru 训练时 gpu 上使用 cuDNN 内核的前提是保持默认参数,上文我们打破了,所以无法调用 cuDNN 内核.模型的训练时间也就回退到了普通 tensorflow 的思想,比通常慢 3~5 倍\r\n",
    "\r\n",
    "当我们不能使用 cuDNN 时,可以尝试解卷积,解除 for 循环,并简单将其转换为内联(??),看原文就是增加一个参数 `unroll=True`,不过这样会大大增加显存的消耗,而且不能向模型传递任何没有固定形状的数据.(就是不能有 None)."
   ],
   "metadata": {}
  },
  {
   "cell_type": "code",
   "execution_count": 10,
   "source": [
    "# inputs = keras.Input(shape=(sequence_length, num_features))\r\n",
    "# x = layers.LSTM(32, recurrent_dropout=0.2, unroll=True)(inputs)"
   ],
   "outputs": [],
   "metadata": {}
  },
  {
   "cell_type": "markdown",
   "source": [
    "## rnn 堆叠\r\n",
    "\r\n",
    "模型不再过拟合吗,但是似乎遇到了性能瓶颈.此时需要考虑增大网络容量了.\r\n",
    "\r\n",
    "回顾一下机器学习的基本流程: 增加网络容量通常是个好办法,直到过拟合变为主要障碍(假设已经采取了基本的降低过拟合的策略,例如 dropout),只要不是过拟合太严重,很可能是容量不足问题.\r\n",
    "\r\n",
    "增加网络容量的办法通常是增加每层的单元数,或者增加层数,rnn 堆叠是更加更强大 rnn 网络的经典方法,目前 google 的翻译算法就是 7 个大型 ltsm 的堆叠.\r\n",
    "\r\n",
    "为了将 rnn 层堆叠起来,所有中间层都需要输出网站的序列,而不是只输出最后一个时间步的输出.这是通过指定 `return_sequences=True` 实现的.\r\n",
    "\r\n",
    "下面的例子中我们会将 ltsm 范围 gru,gru 和 ltsm 非常相似,你可以将其视为 ltsm 的简化版本.\r\n"
   ],
   "metadata": {}
  },
  {
   "cell_type": "code",
   "execution_count": 6,
   "source": [
    "inputs = keras.Input(shape=(sequence_length, raw_data.shape[-1]))\r\n",
    "x = layers.GRU(32, recurrent_dropout=0.5, unroll=True,\r\n",
    "               return_sequences=True)(inputs)  #unroll 加速\r\n",
    "x = layers.GRU(32, recurrent_dropout=0.5, unroll=True)(x)  #unroll 加速\r\n",
    "x = layers.Dropout(0.5)(x)\r\n",
    "outputs = layers.Dense(1)(x)\r\n",
    "model = keras.Model(inputs, outputs)\r\n",
    "\r\n",
    "model.compile(optimizer=\"rmsprop\", loss=\"mse\", metrics=[\"mae\"])"
   ],
   "outputs": [],
   "metadata": {}
  },
  {
   "cell_type": "markdown",
   "source": [
    "这里我们还是不能使用 cuRNN 内核,所以训练非常之慢...换用 cpu 快多了.\r\n",
    "\r\n",
    "---\r\n",
    "\r\n",
    "我们堆叠了两个 gru 层,同时使用了 dropout.\r\n"
   ],
   "metadata": {}
  },
  {
   "cell_type": "code",
   "execution_count": 7,
   "source": [
    "callbacks = [\r\n",
    "    keras.callbacks.ModelCheckpoint(\"jena_stacked_gru_dropout.keras\",\r\n",
    "                                    save_best_only=True)\r\n",
    "]\r\n",
    "history = model.fit(train_dataset,\r\n",
    "                    epochs=50,\r\n",
    "                    validation_data=val_dataset,\r\n",
    "                    callbacks=callbacks)"
   ],
   "outputs": [
    {
     "output_type": "stream",
     "name": "stdout",
     "text": [
      "Epoch 1/50\n",
      "819/819 [==============================] - 258s 226ms/step - loss: 26.3653 - mae: 3.7821 - val_loss: 9.3842 - val_mae: 2.3684\n",
      "Epoch 2/50\n",
      "819/819 [==============================] - 228s 278ms/step - loss: 14.2408 - mae: 2.9265 - val_loss: 8.8731 - val_mae: 2.3025\n",
      "Epoch 3/50\n",
      "819/819 [==============================] - 231s 282ms/step - loss: 13.4200 - mae: 2.8419 - val_loss: 8.9448 - val_mae: 2.3159\n",
      "Epoch 4/50\n",
      "819/819 [==============================] - 230s 281ms/step - loss: 12.9980 - mae: 2.7954 - val_loss: 8.9620 - val_mae: 2.3262\n",
      "Epoch 5/50\n",
      "819/819 [==============================] - 231s 283ms/step - loss: 12.5208 - mae: 2.7459 - val_loss: 9.2913 - val_mae: 2.3708\n",
      "Epoch 6/50\n",
      "819/819 [==============================] - 227s 278ms/step - loss: 12.1317 - mae: 2.7011 - val_loss: 8.6307 - val_mae: 2.2759\n",
      "Epoch 7/50\n",
      "819/819 [==============================] - 229s 279ms/step - loss: 11.8624 - mae: 2.6694 - val_loss: 8.5517 - val_mae: 2.2660\n",
      "Epoch 8/50\n",
      "819/819 [==============================] - 222s 271ms/step - loss: 11.5255 - mae: 2.6346 - val_loss: 8.6227 - val_mae: 2.2737\n",
      "Epoch 9/50\n",
      "819/819 [==============================] - 225s 274ms/step - loss: 11.3365 - mae: 2.6124 - val_loss: 8.8407 - val_mae: 2.3090\n",
      "Epoch 10/50\n",
      "819/819 [==============================] - 227s 277ms/step - loss: 11.0835 - mae: 2.5858 - val_loss: 8.7795 - val_mae: 2.2911\n",
      "Epoch 11/50\n",
      "819/819 [==============================] - 227s 277ms/step - loss: 10.8822 - mae: 2.5592 - val_loss: 8.8300 - val_mae: 2.3013\n",
      "Epoch 12/50\n",
      "819/819 [==============================] - 224s 274ms/step - loss: 10.6539 - mae: 2.5363 - val_loss: 8.7277 - val_mae: 2.2805\n",
      "Epoch 13/50\n",
      "819/819 [==============================] - 219s 267ms/step - loss: 10.4735 - mae: 2.5149 - val_loss: 9.0638 - val_mae: 2.3407\n",
      "Epoch 14/50\n",
      "819/819 [==============================] - 217s 264ms/step - loss: 10.3667 - mae: 2.5017 - val_loss: 8.5913 - val_mae: 2.2642\n",
      "Epoch 15/50\n",
      "819/819 [==============================] - 218s 267ms/step - loss: 10.2515 - mae: 2.4910 - val_loss: 9.5589 - val_mae: 2.3973\n",
      "Epoch 16/50\n",
      "819/819 [==============================] - 217s 265ms/step - loss: 10.0577 - mae: 2.4689 - val_loss: 8.8625 - val_mae: 2.2996\n",
      "Epoch 17/50\n",
      "819/819 [==============================] - 218s 266ms/step - loss: 9.9994 - mae: 2.4606 - val_loss: 8.7926 - val_mae: 2.2868\n",
      "Epoch 18/50\n",
      "819/819 [==============================] - 220s 268ms/step - loss: 9.9288 - mae: 2.4542 - val_loss: 9.3436 - val_mae: 2.3756\n",
      "Epoch 19/50\n",
      "819/819 [==============================] - 218s 266ms/step - loss: 9.8278 - mae: 2.4404 - val_loss: 9.0838 - val_mae: 2.3358\n",
      "Epoch 20/50\n",
      "819/819 [==============================] - 223s 272ms/step - loss: 9.7350 - mae: 2.4289 - val_loss: 8.7943 - val_mae: 2.2901\n",
      "Epoch 21/50\n",
      "819/819 [==============================] - 224s 274ms/step - loss: 9.6351 - mae: 2.4171 - val_loss: 8.8358 - val_mae: 2.2943\n",
      "Epoch 22/50\n",
      "819/819 [==============================] - 224s 273ms/step - loss: 9.5363 - mae: 2.4059 - val_loss: 9.0024 - val_mae: 2.3196\n",
      "Epoch 23/50\n",
      "819/819 [==============================] - 221s 270ms/step - loss: 9.4807 - mae: 2.3996 - val_loss: 9.1192 - val_mae: 2.3445\n",
      "Epoch 24/50\n",
      "819/819 [==============================] - 225s 275ms/step - loss: 9.4105 - mae: 2.3910 - val_loss: 9.3344 - val_mae: 2.3629\n",
      "Epoch 25/50\n",
      "819/819 [==============================] - 225s 275ms/step - loss: 9.3794 - mae: 2.3859 - val_loss: 9.0723 - val_mae: 2.3331\n",
      "Epoch 26/50\n",
      "819/819 [==============================] - 223s 272ms/step - loss: 9.2747 - mae: 2.3726 - val_loss: 8.9674 - val_mae: 2.3213\n",
      "Epoch 27/50\n",
      "819/819 [==============================] - 225s 274ms/step - loss: 9.2196 - mae: 2.3662 - val_loss: 9.4053 - val_mae: 2.3706\n",
      "Epoch 28/50\n",
      "819/819 [==============================] - 222s 271ms/step - loss: 9.1667 - mae: 2.3605 - val_loss: 9.3982 - val_mae: 2.3649\n",
      "Epoch 29/50\n",
      "819/819 [==============================] - 215s 263ms/step - loss: 9.1147 - mae: 2.3552 - val_loss: 9.4942 - val_mae: 2.3882\n",
      "Epoch 30/50\n",
      "819/819 [==============================] - 216s 264ms/step - loss: 9.0954 - mae: 2.3513 - val_loss: 9.2634 - val_mae: 2.3583\n",
      "Epoch 31/50\n",
      "819/819 [==============================] - 220s 268ms/step - loss: 9.0043 - mae: 2.3393 - val_loss: 9.2698 - val_mae: 2.3549\n",
      "Epoch 32/50\n",
      "819/819 [==============================] - 222s 271ms/step - loss: 8.9532 - mae: 2.3333 - val_loss: 9.3338 - val_mae: 2.3664\n",
      "Epoch 33/50\n",
      "819/819 [==============================] - 216s 264ms/step - loss: 8.9365 - mae: 2.3280 - val_loss: 9.8450 - val_mae: 2.4267\n",
      "Epoch 34/50\n",
      "819/819 [==============================] - 216s 264ms/step - loss: 8.8975 - mae: 2.3273 - val_loss: 9.5647 - val_mae: 2.3839\n",
      "Epoch 35/50\n",
      "819/819 [==============================] - 253s 309ms/step - loss: 8.8255 - mae: 2.3150 - val_loss: 9.6686 - val_mae: 2.4029\n",
      "Epoch 36/50\n",
      "819/819 [==============================] - 218s 267ms/step - loss: 8.8245 - mae: 2.3167 - val_loss: 9.5563 - val_mae: 2.3901\n",
      "Epoch 37/50\n",
      "819/819 [==============================] - 217s 265ms/step - loss: 8.7576 - mae: 2.3074 - val_loss: 9.6434 - val_mae: 2.4006\n",
      "Epoch 38/50\n",
      "819/819 [==============================] - 218s 266ms/step - loss: 8.7334 - mae: 2.3021 - val_loss: 9.5922 - val_mae: 2.3960\n",
      "Epoch 39/50\n",
      "819/819 [==============================] - 219s 267ms/step - loss: 8.6756 - mae: 2.2977 - val_loss: 9.9739 - val_mae: 2.4472\n",
      "Epoch 40/50\n",
      "819/819 [==============================] - 217s 265ms/step - loss: 8.6110 - mae: 2.2896 - val_loss: 10.2144 - val_mae: 2.4755\n",
      "Epoch 41/50\n",
      "819/819 [==============================] - 224s 273ms/step - loss: 8.6426 - mae: 2.2897 - val_loss: 9.7842 - val_mae: 2.4290\n",
      "Epoch 42/50\n",
      "819/819 [==============================] - 219s 267ms/step - loss: 8.6110 - mae: 2.2845 - val_loss: 9.5776 - val_mae: 2.3930\n",
      "Epoch 43/50\n",
      "819/819 [==============================] - 212s 259ms/step - loss: 8.4939 - mae: 2.2742 - val_loss: 9.6026 - val_mae: 2.4056\n",
      "Epoch 44/50\n",
      "819/819 [==============================] - 212s 259ms/step - loss: 8.5346 - mae: 2.2770 - val_loss: 9.7541 - val_mae: 2.4222\n",
      "Epoch 45/50\n",
      "819/819 [==============================] - 212s 259ms/step - loss: 8.5250 - mae: 2.2749 - val_loss: 10.2292 - val_mae: 2.4805\n",
      "Epoch 46/50\n",
      "819/819 [==============================] - 214s 261ms/step - loss: 8.4439 - mae: 2.2682 - val_loss: 10.0407 - val_mae: 2.4612\n",
      "Epoch 47/50\n",
      "819/819 [==============================] - 219s 267ms/step - loss: 8.4004 - mae: 2.2603 - val_loss: 10.0680 - val_mae: 2.4622\n",
      "Epoch 48/50\n",
      "819/819 [==============================] - 215s 262ms/step - loss: 8.4267 - mae: 2.2634 - val_loss: 10.0848 - val_mae: 2.4593\n",
      "Epoch 49/50\n",
      "819/819 [==============================] - 214s 262ms/step - loss: 8.3848 - mae: 2.2589 - val_loss: 10.4639 - val_mae: 2.5238\n",
      "Epoch 50/50\n",
      "819/819 [==============================] - 210s 256ms/step - loss: 8.3340 - mae: 2.2494 - val_loss: 10.3007 - val_mae: 2.4950\n"
     ]
    }
   ],
   "metadata": {}
  },
  {
   "cell_type": "code",
   "execution_count": 9,
   "source": [
    "import matplotlib.pyplot as plt \r\n",
    "loss = history.history[\"mae\"]\r\n",
    "val_loss = history.history[\"val_mae\"]\r\n",
    "epochs = range(1, len(loss) + 1)\r\n",
    "plt.figure()\r\n",
    "plt.plot(epochs, loss, \"bo\", label=\"Training MAE\")\r\n",
    "plt.plot(epochs, val_loss, \"b\", label=\"Validation MAE\")\r\n",
    "plt.title(\"Training and validation MAE\")\r\n",
    "plt.legend()\r\n",
    "plt.show()"
   ],
   "outputs": [
    {
     "output_type": "display_data",
     "data": {
      "text/plain": [
       "<Figure size 432x288 with 1 Axes>"
      ],
      "image/svg+xml": "<?xml version=\"1.0\" encoding=\"utf-8\" standalone=\"no\"?>\r\n<!DOCTYPE svg PUBLIC \"-//W3C//DTD SVG 1.1//EN\"\r\n  \"http://www.w3.org/Graphics/SVG/1.1/DTD/svg11.dtd\">\r\n<svg height=\"263.63625pt\" version=\"1.1\" viewBox=\"0 0 372.103125 263.63625\" width=\"372.103125pt\" xmlns=\"http://www.w3.org/2000/svg\" xmlns:xlink=\"http://www.w3.org/1999/xlink\">\r\n <metadata>\r\n  <rdf:RDF xmlns:cc=\"http://creativecommons.org/ns#\" xmlns:dc=\"http://purl.org/dc/elements/1.1/\" xmlns:rdf=\"http://www.w3.org/1999/02/22-rdf-syntax-ns#\">\r\n   <cc:Work>\r\n    <dc:type rdf:resource=\"http://purl.org/dc/dcmitype/StillImage\"/>\r\n    <dc:date>2021-08-24T15:20:20.448517</dc:date>\r\n    <dc:format>image/svg+xml</dc:format>\r\n    <dc:creator>\r\n     <cc:Agent>\r\n      <dc:title>Matplotlib v3.4.2, https://matplotlib.org/</dc:title>\r\n     </cc:Agent>\r\n    </dc:creator>\r\n   </cc:Work>\r\n  </rdf:RDF>\r\n </metadata>\r\n <defs>\r\n  <style type=\"text/css\">*{stroke-linecap:butt;stroke-linejoin:round;}</style>\r\n </defs>\r\n <g id=\"figure_1\">\r\n  <g id=\"patch_1\">\r\n   <path d=\"M 0 263.63625 \r\nL 372.103125 263.63625 \r\nL 372.103125 0 \r\nL 0 0 \r\nz\r\n\" style=\"fill:none;\"/>\r\n  </g>\r\n  <g id=\"axes_1\">\r\n   <g id=\"patch_2\">\r\n    <path d=\"M 30.103125 239.758125 \r\nL 364.903125 239.758125 \r\nL 364.903125 22.318125 \r\nL 30.103125 22.318125 \r\nz\r\n\" style=\"fill:#ffffff;\"/>\r\n   </g>\r\n   <g id=\"matplotlib.axis_1\">\r\n    <g id=\"xtick_1\">\r\n     <g id=\"line2d_1\">\r\n      <defs>\r\n       <path d=\"M 0 0 \r\nL 0 3.5 \r\n\" id=\"m4bc2c6503a\" style=\"stroke:#000000;stroke-width:0.8;\"/>\r\n      </defs>\r\n      <g>\r\n       <use style=\"stroke:#000000;stroke-width:0.8;\" x=\"39.109804\" xlink:href=\"#m4bc2c6503a\" y=\"239.758125\"/>\r\n      </g>\r\n     </g>\r\n     <g id=\"text_1\">\r\n      <!-- 0 -->\r\n      <g transform=\"translate(35.928554 254.356563)scale(0.1 -0.1)\">\r\n       <defs>\r\n        <path d=\"M 2034 4250 \r\nQ 1547 4250 1301 3770 \r\nQ 1056 3291 1056 2328 \r\nQ 1056 1369 1301 889 \r\nQ 1547 409 2034 409 \r\nQ 2525 409 2770 889 \r\nQ 3016 1369 3016 2328 \r\nQ 3016 3291 2770 3770 \r\nQ 2525 4250 2034 4250 \r\nz\r\nM 2034 4750 \r\nQ 2819 4750 3233 4129 \r\nQ 3647 3509 3647 2328 \r\nQ 3647 1150 3233 529 \r\nQ 2819 -91 2034 -91 \r\nQ 1250 -91 836 529 \r\nQ 422 1150 422 2328 \r\nQ 422 3509 836 4129 \r\nQ 1250 4750 2034 4750 \r\nz\r\n\" id=\"DejaVuSans-30\" transform=\"scale(0.015625)\"/>\r\n       </defs>\r\n       <use xlink:href=\"#DejaVuSans-30\"/>\r\n      </g>\r\n     </g>\r\n    </g>\r\n    <g id=\"xtick_2\">\r\n     <g id=\"line2d_2\">\r\n      <g>\r\n       <use style=\"stroke:#000000;stroke-width:0.8;\" x=\"101.224832\" xlink:href=\"#m4bc2c6503a\" y=\"239.758125\"/>\r\n      </g>\r\n     </g>\r\n     <g id=\"text_2\">\r\n      <!-- 10 -->\r\n      <g transform=\"translate(94.862332 254.356563)scale(0.1 -0.1)\">\r\n       <defs>\r\n        <path d=\"M 794 531 \r\nL 1825 531 \r\nL 1825 4091 \r\nL 703 3866 \r\nL 703 4441 \r\nL 1819 4666 \r\nL 2450 4666 \r\nL 2450 531 \r\nL 3481 531 \r\nL 3481 0 \r\nL 794 0 \r\nL 794 531 \r\nz\r\n\" id=\"DejaVuSans-31\" transform=\"scale(0.015625)\"/>\r\n       </defs>\r\n       <use xlink:href=\"#DejaVuSans-31\"/>\r\n       <use x=\"63.623047\" xlink:href=\"#DejaVuSans-30\"/>\r\n      </g>\r\n     </g>\r\n    </g>\r\n    <g id=\"xtick_3\">\r\n     <g id=\"line2d_3\">\r\n      <g>\r\n       <use style=\"stroke:#000000;stroke-width:0.8;\" x=\"163.33986\" xlink:href=\"#m4bc2c6503a\" y=\"239.758125\"/>\r\n      </g>\r\n     </g>\r\n     <g id=\"text_3\">\r\n      <!-- 20 -->\r\n      <g transform=\"translate(156.97736 254.356563)scale(0.1 -0.1)\">\r\n       <defs>\r\n        <path d=\"M 1228 531 \r\nL 3431 531 \r\nL 3431 0 \r\nL 469 0 \r\nL 469 531 \r\nQ 828 903 1448 1529 \r\nQ 2069 2156 2228 2338 \r\nQ 2531 2678 2651 2914 \r\nQ 2772 3150 2772 3378 \r\nQ 2772 3750 2511 3984 \r\nQ 2250 4219 1831 4219 \r\nQ 1534 4219 1204 4116 \r\nQ 875 4013 500 3803 \r\nL 500 4441 \r\nQ 881 4594 1212 4672 \r\nQ 1544 4750 1819 4750 \r\nQ 2544 4750 2975 4387 \r\nQ 3406 4025 3406 3419 \r\nQ 3406 3131 3298 2873 \r\nQ 3191 2616 2906 2266 \r\nQ 2828 2175 2409 1742 \r\nQ 1991 1309 1228 531 \r\nz\r\n\" id=\"DejaVuSans-32\" transform=\"scale(0.015625)\"/>\r\n       </defs>\r\n       <use xlink:href=\"#DejaVuSans-32\"/>\r\n       <use x=\"63.623047\" xlink:href=\"#DejaVuSans-30\"/>\r\n      </g>\r\n     </g>\r\n    </g>\r\n    <g id=\"xtick_4\">\r\n     <g id=\"line2d_4\">\r\n      <g>\r\n       <use style=\"stroke:#000000;stroke-width:0.8;\" x=\"225.454888\" xlink:href=\"#m4bc2c6503a\" y=\"239.758125\"/>\r\n      </g>\r\n     </g>\r\n     <g id=\"text_4\">\r\n      <!-- 30 -->\r\n      <g transform=\"translate(219.092388 254.356563)scale(0.1 -0.1)\">\r\n       <defs>\r\n        <path d=\"M 2597 2516 \r\nQ 3050 2419 3304 2112 \r\nQ 3559 1806 3559 1356 \r\nQ 3559 666 3084 287 \r\nQ 2609 -91 1734 -91 \r\nQ 1441 -91 1130 -33 \r\nQ 819 25 488 141 \r\nL 488 750 \r\nQ 750 597 1062 519 \r\nQ 1375 441 1716 441 \r\nQ 2309 441 2620 675 \r\nQ 2931 909 2931 1356 \r\nQ 2931 1769 2642 2001 \r\nQ 2353 2234 1838 2234 \r\nL 1294 2234 \r\nL 1294 2753 \r\nL 1863 2753 \r\nQ 2328 2753 2575 2939 \r\nQ 2822 3125 2822 3475 \r\nQ 2822 3834 2567 4026 \r\nQ 2313 4219 1838 4219 \r\nQ 1578 4219 1281 4162 \r\nQ 984 4106 628 3988 \r\nL 628 4550 \r\nQ 988 4650 1302 4700 \r\nQ 1616 4750 1894 4750 \r\nQ 2613 4750 3031 4423 \r\nQ 3450 4097 3450 3541 \r\nQ 3450 3153 3228 2886 \r\nQ 3006 2619 2597 2516 \r\nz\r\n\" id=\"DejaVuSans-33\" transform=\"scale(0.015625)\"/>\r\n       </defs>\r\n       <use xlink:href=\"#DejaVuSans-33\"/>\r\n       <use x=\"63.623047\" xlink:href=\"#DejaVuSans-30\"/>\r\n      </g>\r\n     </g>\r\n    </g>\r\n    <g id=\"xtick_5\">\r\n     <g id=\"line2d_5\">\r\n      <g>\r\n       <use style=\"stroke:#000000;stroke-width:0.8;\" x=\"287.569915\" xlink:href=\"#m4bc2c6503a\" y=\"239.758125\"/>\r\n      </g>\r\n     </g>\r\n     <g id=\"text_5\">\r\n      <!-- 40 -->\r\n      <g transform=\"translate(281.207415 254.356563)scale(0.1 -0.1)\">\r\n       <defs>\r\n        <path d=\"M 2419 4116 \r\nL 825 1625 \r\nL 2419 1625 \r\nL 2419 4116 \r\nz\r\nM 2253 4666 \r\nL 3047 4666 \r\nL 3047 1625 \r\nL 3713 1625 \r\nL 3713 1100 \r\nL 3047 1100 \r\nL 3047 0 \r\nL 2419 0 \r\nL 2419 1100 \r\nL 313 1100 \r\nL 313 1709 \r\nL 2253 4666 \r\nz\r\n\" id=\"DejaVuSans-34\" transform=\"scale(0.015625)\"/>\r\n       </defs>\r\n       <use xlink:href=\"#DejaVuSans-34\"/>\r\n       <use x=\"63.623047\" xlink:href=\"#DejaVuSans-30\"/>\r\n      </g>\r\n     </g>\r\n    </g>\r\n    <g id=\"xtick_6\">\r\n     <g id=\"line2d_6\">\r\n      <g>\r\n       <use style=\"stroke:#000000;stroke-width:0.8;\" x=\"349.684943\" xlink:href=\"#m4bc2c6503a\" y=\"239.758125\"/>\r\n      </g>\r\n     </g>\r\n     <g id=\"text_6\">\r\n      <!-- 50 -->\r\n      <g transform=\"translate(343.322443 254.356563)scale(0.1 -0.1)\">\r\n       <defs>\r\n        <path d=\"M 691 4666 \r\nL 3169 4666 \r\nL 3169 4134 \r\nL 1269 4134 \r\nL 1269 2991 \r\nQ 1406 3038 1543 3061 \r\nQ 1681 3084 1819 3084 \r\nQ 2600 3084 3056 2656 \r\nQ 3513 2228 3513 1497 \r\nQ 3513 744 3044 326 \r\nQ 2575 -91 1722 -91 \r\nQ 1428 -91 1123 -41 \r\nQ 819 9 494 109 \r\nL 494 744 \r\nQ 775 591 1075 516 \r\nQ 1375 441 1709 441 \r\nQ 2250 441 2565 725 \r\nQ 2881 1009 2881 1497 \r\nQ 2881 1984 2565 2268 \r\nQ 2250 2553 1709 2553 \r\nQ 1456 2553 1204 2497 \r\nQ 953 2441 691 2322 \r\nL 691 4666 \r\nz\r\n\" id=\"DejaVuSans-35\" transform=\"scale(0.015625)\"/>\r\n       </defs>\r\n       <use xlink:href=\"#DejaVuSans-35\"/>\r\n       <use x=\"63.623047\" xlink:href=\"#DejaVuSans-30\"/>\r\n      </g>\r\n     </g>\r\n    </g>\r\n   </g>\r\n   <g id=\"matplotlib.axis_2\">\r\n    <g id=\"ytick_1\">\r\n     <g id=\"line2d_7\">\r\n      <defs>\r\n       <path d=\"M 0 0 \r\nL -3.5 0 \r\n\" id=\"meb61dd037e\" style=\"stroke:#000000;stroke-width:0.8;\"/>\r\n      </defs>\r\n      <g>\r\n       <use style=\"stroke:#000000;stroke-width:0.8;\" x=\"30.103125\" xlink:href=\"#meb61dd037e\" y=\"236.248453\"/>\r\n      </g>\r\n     </g>\r\n     <g id=\"text_7\">\r\n      <!-- 2.2 -->\r\n      <g transform=\"translate(7.2 240.047672)scale(0.1 -0.1)\">\r\n       <defs>\r\n        <path d=\"M 684 794 \r\nL 1344 794 \r\nL 1344 0 \r\nL 684 0 \r\nL 684 794 \r\nz\r\n\" id=\"DejaVuSans-2e\" transform=\"scale(0.015625)\"/>\r\n       </defs>\r\n       <use xlink:href=\"#DejaVuSans-32\"/>\r\n       <use x=\"63.623047\" xlink:href=\"#DejaVuSans-2e\"/>\r\n       <use x=\"95.410156\" xlink:href=\"#DejaVuSans-32\"/>\r\n      </g>\r\n     </g>\r\n    </g>\r\n    <g id=\"ytick_2\">\r\n     <g id=\"line2d_8\">\r\n      <g>\r\n       <use style=\"stroke:#000000;stroke-width:0.8;\" x=\"30.103125\" xlink:href=\"#meb61dd037e\" y=\"210.453831\"/>\r\n      </g>\r\n     </g>\r\n     <g id=\"text_8\">\r\n      <!-- 2.4 -->\r\n      <g transform=\"translate(7.2 214.25305)scale(0.1 -0.1)\">\r\n       <use xlink:href=\"#DejaVuSans-32\"/>\r\n       <use x=\"63.623047\" xlink:href=\"#DejaVuSans-2e\"/>\r\n       <use x=\"95.410156\" xlink:href=\"#DejaVuSans-34\"/>\r\n      </g>\r\n     </g>\r\n    </g>\r\n    <g id=\"ytick_3\">\r\n     <g id=\"line2d_9\">\r\n      <g>\r\n       <use style=\"stroke:#000000;stroke-width:0.8;\" x=\"30.103125\" xlink:href=\"#meb61dd037e\" y=\"184.659209\"/>\r\n      </g>\r\n     </g>\r\n     <g id=\"text_9\">\r\n      <!-- 2.6 -->\r\n      <g transform=\"translate(7.2 188.458428)scale(0.1 -0.1)\">\r\n       <defs>\r\n        <path d=\"M 2113 2584 \r\nQ 1688 2584 1439 2293 \r\nQ 1191 2003 1191 1497 \r\nQ 1191 994 1439 701 \r\nQ 1688 409 2113 409 \r\nQ 2538 409 2786 701 \r\nQ 3034 994 3034 1497 \r\nQ 3034 2003 2786 2293 \r\nQ 2538 2584 2113 2584 \r\nz\r\nM 3366 4563 \r\nL 3366 3988 \r\nQ 3128 4100 2886 4159 \r\nQ 2644 4219 2406 4219 \r\nQ 1781 4219 1451 3797 \r\nQ 1122 3375 1075 2522 \r\nQ 1259 2794 1537 2939 \r\nQ 1816 3084 2150 3084 \r\nQ 2853 3084 3261 2657 \r\nQ 3669 2231 3669 1497 \r\nQ 3669 778 3244 343 \r\nQ 2819 -91 2113 -91 \r\nQ 1303 -91 875 529 \r\nQ 447 1150 447 2328 \r\nQ 447 3434 972 4092 \r\nQ 1497 4750 2381 4750 \r\nQ 2619 4750 2861 4703 \r\nQ 3103 4656 3366 4563 \r\nz\r\n\" id=\"DejaVuSans-36\" transform=\"scale(0.015625)\"/>\r\n       </defs>\r\n       <use xlink:href=\"#DejaVuSans-32\"/>\r\n       <use x=\"63.623047\" xlink:href=\"#DejaVuSans-2e\"/>\r\n       <use x=\"95.410156\" xlink:href=\"#DejaVuSans-36\"/>\r\n      </g>\r\n     </g>\r\n    </g>\r\n    <g id=\"ytick_4\">\r\n     <g id=\"line2d_10\">\r\n      <g>\r\n       <use style=\"stroke:#000000;stroke-width:0.8;\" x=\"30.103125\" xlink:href=\"#meb61dd037e\" y=\"158.864587\"/>\r\n      </g>\r\n     </g>\r\n     <g id=\"text_10\">\r\n      <!-- 2.8 -->\r\n      <g transform=\"translate(7.2 162.663806)scale(0.1 -0.1)\">\r\n       <defs>\r\n        <path d=\"M 2034 2216 \r\nQ 1584 2216 1326 1975 \r\nQ 1069 1734 1069 1313 \r\nQ 1069 891 1326 650 \r\nQ 1584 409 2034 409 \r\nQ 2484 409 2743 651 \r\nQ 3003 894 3003 1313 \r\nQ 3003 1734 2745 1975 \r\nQ 2488 2216 2034 2216 \r\nz\r\nM 1403 2484 \r\nQ 997 2584 770 2862 \r\nQ 544 3141 544 3541 \r\nQ 544 4100 942 4425 \r\nQ 1341 4750 2034 4750 \r\nQ 2731 4750 3128 4425 \r\nQ 3525 4100 3525 3541 \r\nQ 3525 3141 3298 2862 \r\nQ 3072 2584 2669 2484 \r\nQ 3125 2378 3379 2068 \r\nQ 3634 1759 3634 1313 \r\nQ 3634 634 3220 271 \r\nQ 2806 -91 2034 -91 \r\nQ 1263 -91 848 271 \r\nQ 434 634 434 1313 \r\nQ 434 1759 690 2068 \r\nQ 947 2378 1403 2484 \r\nz\r\nM 1172 3481 \r\nQ 1172 3119 1398 2916 \r\nQ 1625 2713 2034 2713 \r\nQ 2441 2713 2670 2916 \r\nQ 2900 3119 2900 3481 \r\nQ 2900 3844 2670 4047 \r\nQ 2441 4250 2034 4250 \r\nQ 1625 4250 1398 4047 \r\nQ 1172 3844 1172 3481 \r\nz\r\n\" id=\"DejaVuSans-38\" transform=\"scale(0.015625)\"/>\r\n       </defs>\r\n       <use xlink:href=\"#DejaVuSans-32\"/>\r\n       <use x=\"63.623047\" xlink:href=\"#DejaVuSans-2e\"/>\r\n       <use x=\"95.410156\" xlink:href=\"#DejaVuSans-38\"/>\r\n      </g>\r\n     </g>\r\n    </g>\r\n    <g id=\"ytick_5\">\r\n     <g id=\"line2d_11\">\r\n      <g>\r\n       <use style=\"stroke:#000000;stroke-width:0.8;\" x=\"30.103125\" xlink:href=\"#meb61dd037e\" y=\"133.069965\"/>\r\n      </g>\r\n     </g>\r\n     <g id=\"text_11\">\r\n      <!-- 3.0 -->\r\n      <g transform=\"translate(7.2 136.869184)scale(0.1 -0.1)\">\r\n       <use xlink:href=\"#DejaVuSans-33\"/>\r\n       <use x=\"63.623047\" xlink:href=\"#DejaVuSans-2e\"/>\r\n       <use x=\"95.410156\" xlink:href=\"#DejaVuSans-30\"/>\r\n      </g>\r\n     </g>\r\n    </g>\r\n    <g id=\"ytick_6\">\r\n     <g id=\"line2d_12\">\r\n      <g>\r\n       <use style=\"stroke:#000000;stroke-width:0.8;\" x=\"30.103125\" xlink:href=\"#meb61dd037e\" y=\"107.275343\"/>\r\n      </g>\r\n     </g>\r\n     <g id=\"text_12\">\r\n      <!-- 3.2 -->\r\n      <g transform=\"translate(7.2 111.074562)scale(0.1 -0.1)\">\r\n       <use xlink:href=\"#DejaVuSans-33\"/>\r\n       <use x=\"63.623047\" xlink:href=\"#DejaVuSans-2e\"/>\r\n       <use x=\"95.410156\" xlink:href=\"#DejaVuSans-32\"/>\r\n      </g>\r\n     </g>\r\n    </g>\r\n    <g id=\"ytick_7\">\r\n     <g id=\"line2d_13\">\r\n      <g>\r\n       <use style=\"stroke:#000000;stroke-width:0.8;\" x=\"30.103125\" xlink:href=\"#meb61dd037e\" y=\"81.480721\"/>\r\n      </g>\r\n     </g>\r\n     <g id=\"text_13\">\r\n      <!-- 3.4 -->\r\n      <g transform=\"translate(7.2 85.27994)scale(0.1 -0.1)\">\r\n       <use xlink:href=\"#DejaVuSans-33\"/>\r\n       <use x=\"63.623047\" xlink:href=\"#DejaVuSans-2e\"/>\r\n       <use x=\"95.410156\" xlink:href=\"#DejaVuSans-34\"/>\r\n      </g>\r\n     </g>\r\n    </g>\r\n    <g id=\"ytick_8\">\r\n     <g id=\"line2d_14\">\r\n      <g>\r\n       <use style=\"stroke:#000000;stroke-width:0.8;\" x=\"30.103125\" xlink:href=\"#meb61dd037e\" y=\"55.686099\"/>\r\n      </g>\r\n     </g>\r\n     <g id=\"text_14\">\r\n      <!-- 3.6 -->\r\n      <g transform=\"translate(7.2 59.485318)scale(0.1 -0.1)\">\r\n       <use xlink:href=\"#DejaVuSans-33\"/>\r\n       <use x=\"63.623047\" xlink:href=\"#DejaVuSans-2e\"/>\r\n       <use x=\"95.410156\" xlink:href=\"#DejaVuSans-36\"/>\r\n      </g>\r\n     </g>\r\n    </g>\r\n    <g id=\"ytick_9\">\r\n     <g id=\"line2d_15\">\r\n      <g>\r\n       <use style=\"stroke:#000000;stroke-width:0.8;\" x=\"30.103125\" xlink:href=\"#meb61dd037e\" y=\"29.891477\"/>\r\n      </g>\r\n     </g>\r\n     <g id=\"text_15\">\r\n      <!-- 3.8 -->\r\n      <g transform=\"translate(7.2 33.690696)scale(0.1 -0.1)\">\r\n       <use xlink:href=\"#DejaVuSans-33\"/>\r\n       <use x=\"63.623047\" xlink:href=\"#DejaVuSans-2e\"/>\r\n       <use x=\"95.410156\" xlink:href=\"#DejaVuSans-38\"/>\r\n      </g>\r\n     </g>\r\n    </g>\r\n   </g>\r\n   <g id=\"line2d_16\">\r\n    <defs>\r\n     <path d=\"M 0 3 \r\nC 0.795609 3 1.55874 2.683901 2.12132 2.12132 \r\nC 2.683901 1.55874 3 0.795609 3 0 \r\nC 3 -0.795609 2.683901 -1.55874 2.12132 -2.12132 \r\nC 1.55874 -2.683901 0.795609 -3 0 -3 \r\nC -0.795609 -3 -1.55874 -2.683901 -2.12132 -2.12132 \r\nC -2.683901 -1.55874 -3 -0.795609 -3 0 \r\nC -3 0.795609 -2.683901 1.55874 -2.12132 2.12132 \r\nC -1.55874 2.683901 -0.795609 3 0 3 \r\nz\r\n\" id=\"ma150ecc8e4\" style=\"stroke:#0000ff;\"/>\r\n    </defs>\r\n    <g clip-path=\"url(#p5c594dc4ad)\">\r\n     <use style=\"fill:#0000ff;stroke:#0000ff;\" x=\"45.321307\" xlink:href=\"#ma150ecc8e4\" y=\"32.201761\"/>\r\n     <use style=\"fill:#0000ff;stroke:#0000ff;\" x=\"51.53281\" xlink:href=\"#ma150ecc8e4\" y=\"142.555444\"/>\r\n     <use style=\"fill:#0000ff;stroke:#0000ff;\" x=\"57.744312\" xlink:href=\"#ma150ecc8e4\" y=\"153.454942\"/>\r\n     <use style=\"fill:#0000ff;stroke:#0000ff;\" x=\"63.955815\" xlink:href=\"#ma150ecc8e4\" y=\"159.461443\"/>\r\n     <use style=\"fill:#0000ff;stroke:#0000ff;\" x=\"70.167318\" xlink:href=\"#ma150ecc8e4\" y=\"165.835586\"/>\r\n     <use style=\"fill:#0000ff;stroke:#0000ff;\" x=\"76.378821\" xlink:href=\"#ma150ecc8e4\" y=\"171.620352\"/>\r\n     <use style=\"fill:#0000ff;stroke:#0000ff;\" x=\"82.590324\" xlink:href=\"#ma150ecc8e4\" y=\"175.711062\"/>\r\n     <use style=\"fill:#0000ff;stroke:#0000ff;\" x=\"88.801826\" xlink:href=\"#ma150ecc8e4\" y=\"180.198318\"/>\r\n     <use style=\"fill:#0000ff;stroke:#0000ff;\" x=\"95.013329\" xlink:href=\"#ma150ecc8e4\" y=\"183.055385\"/>\r\n     <use style=\"fill:#0000ff;stroke:#0000ff;\" x=\"101.224832\" xlink:href=\"#ma150ecc8e4\" y=\"186.484825\"/>\r\n     <use style=\"fill:#0000ff;stroke:#0000ff;\" x=\"107.436335\" xlink:href=\"#ma150ecc8e4\" y=\"189.925672\"/>\r\n     <use style=\"fill:#0000ff;stroke:#0000ff;\" x=\"113.647837\" xlink:href=\"#ma150ecc8e4\" y=\"192.870653\"/>\r\n     <use style=\"fill:#0000ff;stroke:#0000ff;\" x=\"119.85934\" xlink:href=\"#ma150ecc8e4\" y=\"195.63624\"/>\r\n     <use style=\"fill:#0000ff;stroke:#0000ff;\" x=\"126.070843\" xlink:href=\"#ma150ecc8e4\" y=\"197.341304\"/>\r\n     <use style=\"fill:#0000ff;stroke:#0000ff;\" x=\"132.282346\" xlink:href=\"#ma150ecc8e4\" y=\"198.712059\"/>\r\n     <use style=\"fill:#0000ff;stroke:#0000ff;\" x=\"138.493849\" xlink:href=\"#ma150ecc8e4\" y=\"201.571248\"/>\r\n     <use style=\"fill:#0000ff;stroke:#0000ff;\" x=\"144.705351\" xlink:href=\"#ma150ecc8e4\" y=\"202.637059\"/>\r\n     <use style=\"fill:#0000ff;stroke:#0000ff;\" x=\"150.916854\" xlink:href=\"#ma150ecc8e4\" y=\"203.464408\"/>\r\n     <use style=\"fill:#0000ff;stroke:#0000ff;\" x=\"157.128357\" xlink:href=\"#ma150ecc8e4\" y=\"205.249021\"/>\r\n     <use style=\"fill:#0000ff;stroke:#0000ff;\" x=\"163.33986\" xlink:href=\"#ma150ecc8e4\" y=\"206.723187\"/>\r\n     <use style=\"fill:#0000ff;stroke:#0000ff;\" x=\"169.551362\" xlink:href=\"#ma150ecc8e4\" y=\"208.248305\"/>\r\n     <use style=\"fill:#0000ff;stroke:#0000ff;\" x=\"175.762865\" xlink:href=\"#ma150ecc8e4\" y=\"209.690061\"/>\r\n     <use style=\"fill:#0000ff;stroke:#0000ff;\" x=\"181.974368\" xlink:href=\"#ma150ecc8e4\" y=\"210.49939\"/>\r\n     <use style=\"fill:#0000ff;stroke:#0000ff;\" x=\"188.185871\" xlink:href=\"#ma150ecc8e4\" y=\"211.610096\"/>\r\n     <use style=\"fill:#0000ff;stroke:#0000ff;\" x=\"194.397374\" xlink:href=\"#ma150ecc8e4\" y=\"212.270781\"/>\r\n     <use style=\"fill:#0000ff;stroke:#0000ff;\" x=\"200.608876\" xlink:href=\"#ma150ecc8e4\" y=\"213.986116\"/>\r\n     <use style=\"fill:#0000ff;stroke:#0000ff;\" x=\"206.820379\" xlink:href=\"#ma150ecc8e4\" y=\"214.816109\"/>\r\n     <use style=\"fill:#0000ff;stroke:#0000ff;\" x=\"213.031882\" xlink:href=\"#ma150ecc8e4\" y=\"215.544936\"/>\r\n     <use style=\"fill:#0000ff;stroke:#0000ff;\" x=\"219.243385\" xlink:href=\"#ma150ecc8e4\" y=\"216.234587\"/>\r\n     <use style=\"fill:#0000ff;stroke:#0000ff;\" x=\"225.454888\" xlink:href=\"#ma150ecc8e4\" y=\"216.732423\"/>\r\n     <use style=\"fill:#0000ff;stroke:#0000ff;\" x=\"231.66639\" xlink:href=\"#ma150ecc8e4\" y=\"218.277836\"/>\r\n     <use style=\"fill:#0000ff;stroke:#0000ff;\" x=\"237.877893\" xlink:href=\"#ma150ecc8e4\" y=\"219.051895\"/>\r\n     <use style=\"fill:#0000ff;stroke:#0000ff;\" x=\"244.089396\" xlink:href=\"#ma150ecc8e4\" y=\"219.746098\"/>\r\n     <use style=\"fill:#0000ff;stroke:#0000ff;\" x=\"250.300899\" xlink:href=\"#ma150ecc8e4\" y=\"219.824233\"/>\r\n     <use style=\"fill:#0000ff;stroke:#0000ff;\" x=\"256.512401\" xlink:href=\"#ma150ecc8e4\" y=\"221.411342\"/>\r\n     <use style=\"fill:#0000ff;stroke:#0000ff;\" x=\"262.723904\" xlink:href=\"#ma150ecc8e4\" y=\"221.194619\"/>\r\n     <use style=\"fill:#0000ff;stroke:#0000ff;\" x=\"268.935407\" xlink:href=\"#ma150ecc8e4\" y=\"222.398496\"/>\r\n     <use style=\"fill:#0000ff;stroke:#0000ff;\" x=\"275.14691\" xlink:href=\"#ma150ecc8e4\" y=\"223.082182\"/>\r\n     <use style=\"fill:#0000ff;stroke:#0000ff;\" x=\"281.358413\" xlink:href=\"#ma150ecc8e4\" y=\"223.64819\"/>\r\n     <use style=\"fill:#0000ff;stroke:#0000ff;\" x=\"287.569915\" xlink:href=\"#ma150ecc8e4\" y=\"224.693675\"/>\r\n     <use style=\"fill:#0000ff;stroke:#0000ff;\" x=\"293.781418\" xlink:href=\"#ma150ecc8e4\" y=\"224.682298\"/>\r\n     <use style=\"fill:#0000ff;stroke:#0000ff;\" x=\"299.992921\" xlink:href=\"#ma150ecc8e4\" y=\"225.348057\"/>\r\n     <use style=\"fill:#0000ff;stroke:#0000ff;\" x=\"306.204424\" xlink:href=\"#ma150ecc8e4\" y=\"226.672504\"/>\r\n     <use style=\"fill:#0000ff;stroke:#0000ff;\" x=\"312.415926\" xlink:href=\"#ma150ecc8e4\" y=\"226.314332\"/>\r\n     <use style=\"fill:#0000ff;stroke:#0000ff;\" x=\"318.627429\" xlink:href=\"#ma150ecc8e4\" y=\"226.585205\"/>\r\n     <use style=\"fill:#0000ff;stroke:#0000ff;\" x=\"324.838932\" xlink:href=\"#ma150ecc8e4\" y=\"227.451083\"/>\r\n     <use style=\"fill:#0000ff;stroke:#0000ff;\" x=\"331.050435\" xlink:href=\"#ma150ecc8e4\" y=\"228.466404\"/>\r\n     <use style=\"fill:#0000ff;stroke:#0000ff;\" x=\"337.261938\" xlink:href=\"#ma150ecc8e4\" y=\"228.073885\"/>\r\n     <use style=\"fill:#0000ff;stroke:#0000ff;\" x=\"343.47344\" xlink:href=\"#ma150ecc8e4\" y=\"228.649763\"/>\r\n     <use style=\"fill:#0000ff;stroke:#0000ff;\" x=\"349.684943\" xlink:href=\"#ma150ecc8e4\" y=\"229.874489\"/>\r\n    </g>\r\n   </g>\r\n   <g id=\"line2d_17\">\r\n    <path clip-path=\"url(#p5c594dc4ad)\" d=\"M 45.321307 214.528816 \r\nL 51.53281 223.029077 \r\nL 57.744312 221.30175 \r\nL 63.955815 219.976105 \r\nL 70.167318 214.216185 \r\nL 76.378821 226.457441 \r\nL 82.590324 227.740959 \r\nL 88.801826 226.739476 \r\nL 95.013329 222.19601 \r\nL 101.224832 224.501091 \r\nL 107.436335 223.1863 \r\nL 113.647837 225.867818 \r\nL 119.85934 218.099673 \r\nL 126.070843 227.974226 \r\nL 132.282346 210.808362 \r\nL 138.493849 223.405268 \r\nL 144.705351 225.049756 \r\nL 150.916854 213.598948 \r\nL 157.128357 218.731915 \r\nL 163.33986 224.626088 \r\nL 169.551362 224.084618 \r\nL 175.762865 220.820242 \r\nL 181.974368 217.615644 \r\nL 188.185871 215.237009 \r\nL 194.397374 219.082829 \r\nL 200.608876 220.604995 \r\nL 206.820379 214.246534 \r\nL 213.031882 214.97819 \r\nL 219.243385 211.969374 \r\nL 225.454888 215.83269 \r\nL 231.66639 216.274777 \r\nL 237.877893 214.782684 \r\nL 244.089396 207.004208 \r\nL 250.300899 212.524988 \r\nL 256.512401 210.08261 \r\nL 262.723904 211.72553 \r\nL 268.935407 210.370149 \r\nL 275.14691 210.974994 \r\nL 281.358413 204.366385 \r\nL 287.569915 200.721329 \r\nL 293.781418 206.712056 \r\nL 299.992921 211.357334 \r\nL 306.204424 209.735048 \r\nL 312.415926 207.59257 \r\nL 318.627429 200.07279 \r\nL 324.838932 202.561907 \r\nL 331.050435 202.430391 \r\nL 337.261938 202.80529 \r\nL 343.47344 194.484391 \r\nL 349.684943 198.205706 \r\n\" style=\"fill:none;stroke:#0000ff;stroke-linecap:square;stroke-width:1.5;\"/>\r\n   </g>\r\n   <g id=\"patch_3\">\r\n    <path d=\"M 30.103125 239.758125 \r\nL 30.103125 22.318125 \r\n\" style=\"fill:none;stroke:#000000;stroke-linecap:square;stroke-linejoin:miter;stroke-width:0.8;\"/>\r\n   </g>\r\n   <g id=\"patch_4\">\r\n    <path d=\"M 364.903125 239.758125 \r\nL 364.903125 22.318125 \r\n\" style=\"fill:none;stroke:#000000;stroke-linecap:square;stroke-linejoin:miter;stroke-width:0.8;\"/>\r\n   </g>\r\n   <g id=\"patch_5\">\r\n    <path d=\"M 30.103125 239.758125 \r\nL 364.903125 239.758125 \r\n\" style=\"fill:none;stroke:#000000;stroke-linecap:square;stroke-linejoin:miter;stroke-width:0.8;\"/>\r\n   </g>\r\n   <g id=\"patch_6\">\r\n    <path d=\"M 30.103125 22.318125 \r\nL 364.903125 22.318125 \r\n\" style=\"fill:none;stroke:#000000;stroke-linecap:square;stroke-linejoin:miter;stroke-width:0.8;\"/>\r\n   </g>\r\n   <g id=\"text_16\">\r\n    <!-- Training and validation MAE -->\r\n    <g transform=\"translate(114.21 16.318125)scale(0.12 -0.12)\">\r\n     <defs>\r\n      <path d=\"M -19 4666 \r\nL 3928 4666 \r\nL 3928 4134 \r\nL 2272 4134 \r\nL 2272 0 \r\nL 1638 0 \r\nL 1638 4134 \r\nL -19 4134 \r\nL -19 4666 \r\nz\r\n\" id=\"DejaVuSans-54\" transform=\"scale(0.015625)\"/>\r\n      <path d=\"M 2631 2963 \r\nQ 2534 3019 2420 3045 \r\nQ 2306 3072 2169 3072 \r\nQ 1681 3072 1420 2755 \r\nQ 1159 2438 1159 1844 \r\nL 1159 0 \r\nL 581 0 \r\nL 581 3500 \r\nL 1159 3500 \r\nL 1159 2956 \r\nQ 1341 3275 1631 3429 \r\nQ 1922 3584 2338 3584 \r\nQ 2397 3584 2469 3576 \r\nQ 2541 3569 2628 3553 \r\nL 2631 2963 \r\nz\r\n\" id=\"DejaVuSans-72\" transform=\"scale(0.015625)\"/>\r\n      <path d=\"M 2194 1759 \r\nQ 1497 1759 1228 1600 \r\nQ 959 1441 959 1056 \r\nQ 959 750 1161 570 \r\nQ 1363 391 1709 391 \r\nQ 2188 391 2477 730 \r\nQ 2766 1069 2766 1631 \r\nL 2766 1759 \r\nL 2194 1759 \r\nz\r\nM 3341 1997 \r\nL 3341 0 \r\nL 2766 0 \r\nL 2766 531 \r\nQ 2569 213 2275 61 \r\nQ 1981 -91 1556 -91 \r\nQ 1019 -91 701 211 \r\nQ 384 513 384 1019 \r\nQ 384 1609 779 1909 \r\nQ 1175 2209 1959 2209 \r\nL 2766 2209 \r\nL 2766 2266 \r\nQ 2766 2663 2505 2880 \r\nQ 2244 3097 1772 3097 \r\nQ 1472 3097 1187 3025 \r\nQ 903 2953 641 2809 \r\nL 641 3341 \r\nQ 956 3463 1253 3523 \r\nQ 1550 3584 1831 3584 \r\nQ 2591 3584 2966 3190 \r\nQ 3341 2797 3341 1997 \r\nz\r\n\" id=\"DejaVuSans-61\" transform=\"scale(0.015625)\"/>\r\n      <path d=\"M 603 3500 \r\nL 1178 3500 \r\nL 1178 0 \r\nL 603 0 \r\nL 603 3500 \r\nz\r\nM 603 4863 \r\nL 1178 4863 \r\nL 1178 4134 \r\nL 603 4134 \r\nL 603 4863 \r\nz\r\n\" id=\"DejaVuSans-69\" transform=\"scale(0.015625)\"/>\r\n      <path d=\"M 3513 2113 \r\nL 3513 0 \r\nL 2938 0 \r\nL 2938 2094 \r\nQ 2938 2591 2744 2837 \r\nQ 2550 3084 2163 3084 \r\nQ 1697 3084 1428 2787 \r\nQ 1159 2491 1159 1978 \r\nL 1159 0 \r\nL 581 0 \r\nL 581 3500 \r\nL 1159 3500 \r\nL 1159 2956 \r\nQ 1366 3272 1645 3428 \r\nQ 1925 3584 2291 3584 \r\nQ 2894 3584 3203 3211 \r\nQ 3513 2838 3513 2113 \r\nz\r\n\" id=\"DejaVuSans-6e\" transform=\"scale(0.015625)\"/>\r\n      <path d=\"M 2906 1791 \r\nQ 2906 2416 2648 2759 \r\nQ 2391 3103 1925 3103 \r\nQ 1463 3103 1205 2759 \r\nQ 947 2416 947 1791 \r\nQ 947 1169 1205 825 \r\nQ 1463 481 1925 481 \r\nQ 2391 481 2648 825 \r\nQ 2906 1169 2906 1791 \r\nz\r\nM 3481 434 \r\nQ 3481 -459 3084 -895 \r\nQ 2688 -1331 1869 -1331 \r\nQ 1566 -1331 1297 -1286 \r\nQ 1028 -1241 775 -1147 \r\nL 775 -588 \r\nQ 1028 -725 1275 -790 \r\nQ 1522 -856 1778 -856 \r\nQ 2344 -856 2625 -561 \r\nQ 2906 -266 2906 331 \r\nL 2906 616 \r\nQ 2728 306 2450 153 \r\nQ 2172 0 1784 0 \r\nQ 1141 0 747 490 \r\nQ 353 981 353 1791 \r\nQ 353 2603 747 3093 \r\nQ 1141 3584 1784 3584 \r\nQ 2172 3584 2450 3431 \r\nQ 2728 3278 2906 2969 \r\nL 2906 3500 \r\nL 3481 3500 \r\nL 3481 434 \r\nz\r\n\" id=\"DejaVuSans-67\" transform=\"scale(0.015625)\"/>\r\n      <path id=\"DejaVuSans-20\" transform=\"scale(0.015625)\"/>\r\n      <path d=\"M 2906 2969 \r\nL 2906 4863 \r\nL 3481 4863 \r\nL 3481 0 \r\nL 2906 0 \r\nL 2906 525 \r\nQ 2725 213 2448 61 \r\nQ 2172 -91 1784 -91 \r\nQ 1150 -91 751 415 \r\nQ 353 922 353 1747 \r\nQ 353 2572 751 3078 \r\nQ 1150 3584 1784 3584 \r\nQ 2172 3584 2448 3432 \r\nQ 2725 3281 2906 2969 \r\nz\r\nM 947 1747 \r\nQ 947 1113 1208 752 \r\nQ 1469 391 1925 391 \r\nQ 2381 391 2643 752 \r\nQ 2906 1113 2906 1747 \r\nQ 2906 2381 2643 2742 \r\nQ 2381 3103 1925 3103 \r\nQ 1469 3103 1208 2742 \r\nQ 947 2381 947 1747 \r\nz\r\n\" id=\"DejaVuSans-64\" transform=\"scale(0.015625)\"/>\r\n      <path d=\"M 191 3500 \r\nL 800 3500 \r\nL 1894 563 \r\nL 2988 3500 \r\nL 3597 3500 \r\nL 2284 0 \r\nL 1503 0 \r\nL 191 3500 \r\nz\r\n\" id=\"DejaVuSans-76\" transform=\"scale(0.015625)\"/>\r\n      <path d=\"M 603 4863 \r\nL 1178 4863 \r\nL 1178 0 \r\nL 603 0 \r\nL 603 4863 \r\nz\r\n\" id=\"DejaVuSans-6c\" transform=\"scale(0.015625)\"/>\r\n      <path d=\"M 1172 4494 \r\nL 1172 3500 \r\nL 2356 3500 \r\nL 2356 3053 \r\nL 1172 3053 \r\nL 1172 1153 \r\nQ 1172 725 1289 603 \r\nQ 1406 481 1766 481 \r\nL 2356 481 \r\nL 2356 0 \r\nL 1766 0 \r\nQ 1100 0 847 248 \r\nQ 594 497 594 1153 \r\nL 594 3053 \r\nL 172 3053 \r\nL 172 3500 \r\nL 594 3500 \r\nL 594 4494 \r\nL 1172 4494 \r\nz\r\n\" id=\"DejaVuSans-74\" transform=\"scale(0.015625)\"/>\r\n      <path d=\"M 1959 3097 \r\nQ 1497 3097 1228 2736 \r\nQ 959 2375 959 1747 \r\nQ 959 1119 1226 758 \r\nQ 1494 397 1959 397 \r\nQ 2419 397 2687 759 \r\nQ 2956 1122 2956 1747 \r\nQ 2956 2369 2687 2733 \r\nQ 2419 3097 1959 3097 \r\nz\r\nM 1959 3584 \r\nQ 2709 3584 3137 3096 \r\nQ 3566 2609 3566 1747 \r\nQ 3566 888 3137 398 \r\nQ 2709 -91 1959 -91 \r\nQ 1206 -91 779 398 \r\nQ 353 888 353 1747 \r\nQ 353 2609 779 3096 \r\nQ 1206 3584 1959 3584 \r\nz\r\n\" id=\"DejaVuSans-6f\" transform=\"scale(0.015625)\"/>\r\n      <path d=\"M 628 4666 \r\nL 1569 4666 \r\nL 2759 1491 \r\nL 3956 4666 \r\nL 4897 4666 \r\nL 4897 0 \r\nL 4281 0 \r\nL 4281 4097 \r\nL 3078 897 \r\nL 2444 897 \r\nL 1241 4097 \r\nL 1241 0 \r\nL 628 0 \r\nL 628 4666 \r\nz\r\n\" id=\"DejaVuSans-4d\" transform=\"scale(0.015625)\"/>\r\n      <path d=\"M 2188 4044 \r\nL 1331 1722 \r\nL 3047 1722 \r\nL 2188 4044 \r\nz\r\nM 1831 4666 \r\nL 2547 4666 \r\nL 4325 0 \r\nL 3669 0 \r\nL 3244 1197 \r\nL 1141 1197 \r\nL 716 0 \r\nL 50 0 \r\nL 1831 4666 \r\nz\r\n\" id=\"DejaVuSans-41\" transform=\"scale(0.015625)\"/>\r\n      <path d=\"M 628 4666 \r\nL 3578 4666 \r\nL 3578 4134 \r\nL 1259 4134 \r\nL 1259 2753 \r\nL 3481 2753 \r\nL 3481 2222 \r\nL 1259 2222 \r\nL 1259 531 \r\nL 3634 531 \r\nL 3634 0 \r\nL 628 0 \r\nL 628 4666 \r\nz\r\n\" id=\"DejaVuSans-45\" transform=\"scale(0.015625)\"/>\r\n     </defs>\r\n     <use xlink:href=\"#DejaVuSans-54\"/>\r\n     <use x=\"46.333984\" xlink:href=\"#DejaVuSans-72\"/>\r\n     <use x=\"87.447266\" xlink:href=\"#DejaVuSans-61\"/>\r\n     <use x=\"148.726562\" xlink:href=\"#DejaVuSans-69\"/>\r\n     <use x=\"176.509766\" xlink:href=\"#DejaVuSans-6e\"/>\r\n     <use x=\"239.888672\" xlink:href=\"#DejaVuSans-69\"/>\r\n     <use x=\"267.671875\" xlink:href=\"#DejaVuSans-6e\"/>\r\n     <use x=\"331.050781\" xlink:href=\"#DejaVuSans-67\"/>\r\n     <use x=\"394.527344\" xlink:href=\"#DejaVuSans-20\"/>\r\n     <use x=\"426.314453\" xlink:href=\"#DejaVuSans-61\"/>\r\n     <use x=\"487.59375\" xlink:href=\"#DejaVuSans-6e\"/>\r\n     <use x=\"550.972656\" xlink:href=\"#DejaVuSans-64\"/>\r\n     <use x=\"614.449219\" xlink:href=\"#DejaVuSans-20\"/>\r\n     <use x=\"646.236328\" xlink:href=\"#DejaVuSans-76\"/>\r\n     <use x=\"705.416016\" xlink:href=\"#DejaVuSans-61\"/>\r\n     <use x=\"766.695312\" xlink:href=\"#DejaVuSans-6c\"/>\r\n     <use x=\"794.478516\" xlink:href=\"#DejaVuSans-69\"/>\r\n     <use x=\"822.261719\" xlink:href=\"#DejaVuSans-64\"/>\r\n     <use x=\"885.738281\" xlink:href=\"#DejaVuSans-61\"/>\r\n     <use x=\"947.017578\" xlink:href=\"#DejaVuSans-74\"/>\r\n     <use x=\"986.226562\" xlink:href=\"#DejaVuSans-69\"/>\r\n     <use x=\"1014.009766\" xlink:href=\"#DejaVuSans-6f\"/>\r\n     <use x=\"1075.191406\" xlink:href=\"#DejaVuSans-6e\"/>\r\n     <use x=\"1138.570312\" xlink:href=\"#DejaVuSans-20\"/>\r\n     <use x=\"1170.357422\" xlink:href=\"#DejaVuSans-4d\"/>\r\n     <use x=\"1256.636719\" xlink:href=\"#DejaVuSans-41\"/>\r\n     <use x=\"1325.044922\" xlink:href=\"#DejaVuSans-45\"/>\r\n    </g>\r\n   </g>\r\n   <g id=\"legend_1\">\r\n    <g id=\"patch_7\">\r\n     <path d=\"M 251.55625 59.674375 \r\nL 357.903125 59.674375 \r\nQ 359.903125 59.674375 359.903125 57.674375 \r\nL 359.903125 29.318125 \r\nQ 359.903125 27.318125 357.903125 27.318125 \r\nL 251.55625 27.318125 \r\nQ 249.55625 27.318125 249.55625 29.318125 \r\nL 249.55625 57.674375 \r\nQ 249.55625 59.674375 251.55625 59.674375 \r\nz\r\n\" style=\"fill:#ffffff;opacity:0.8;stroke:#cccccc;stroke-linejoin:miter;\"/>\r\n    </g>\r\n    <g id=\"line2d_18\"/>\r\n    <g id=\"line2d_19\">\r\n     <g>\r\n      <use style=\"fill:#0000ff;stroke:#0000ff;\" x=\"263.55625\" xlink:href=\"#ma150ecc8e4\" y=\"35.416562\"/>\r\n     </g>\r\n    </g>\r\n    <g id=\"text_17\">\r\n     <!-- Training MAE -->\r\n     <g transform=\"translate(281.55625 38.916562)scale(0.1 -0.1)\">\r\n      <use xlink:href=\"#DejaVuSans-54\"/>\r\n      <use x=\"46.333984\" xlink:href=\"#DejaVuSans-72\"/>\r\n      <use x=\"87.447266\" xlink:href=\"#DejaVuSans-61\"/>\r\n      <use x=\"148.726562\" xlink:href=\"#DejaVuSans-69\"/>\r\n      <use x=\"176.509766\" xlink:href=\"#DejaVuSans-6e\"/>\r\n      <use x=\"239.888672\" xlink:href=\"#DejaVuSans-69\"/>\r\n      <use x=\"267.671875\" xlink:href=\"#DejaVuSans-6e\"/>\r\n      <use x=\"331.050781\" xlink:href=\"#DejaVuSans-67\"/>\r\n      <use x=\"394.527344\" xlink:href=\"#DejaVuSans-20\"/>\r\n      <use x=\"426.314453\" xlink:href=\"#DejaVuSans-4d\"/>\r\n      <use x=\"512.59375\" xlink:href=\"#DejaVuSans-41\"/>\r\n      <use x=\"581.001953\" xlink:href=\"#DejaVuSans-45\"/>\r\n     </g>\r\n    </g>\r\n    <g id=\"line2d_20\">\r\n     <path d=\"M 253.55625 50.094687 \r\nL 273.55625 50.094687 \r\n\" style=\"fill:none;stroke:#0000ff;stroke-linecap:square;stroke-width:1.5;\"/>\r\n    </g>\r\n    <g id=\"line2d_21\"/>\r\n    <g id=\"text_18\">\r\n     <!-- Validation MAE -->\r\n     <g transform=\"translate(281.55625 53.594687)scale(0.1 -0.1)\">\r\n      <defs>\r\n       <path d=\"M 1831 0 \r\nL 50 4666 \r\nL 709 4666 \r\nL 2188 738 \r\nL 3669 4666 \r\nL 4325 4666 \r\nL 2547 0 \r\nL 1831 0 \r\nz\r\n\" id=\"DejaVuSans-56\" transform=\"scale(0.015625)\"/>\r\n      </defs>\r\n      <use xlink:href=\"#DejaVuSans-56\"/>\r\n      <use x=\"60.658203\" xlink:href=\"#DejaVuSans-61\"/>\r\n      <use x=\"121.9375\" xlink:href=\"#DejaVuSans-6c\"/>\r\n      <use x=\"149.720703\" xlink:href=\"#DejaVuSans-69\"/>\r\n      <use x=\"177.503906\" xlink:href=\"#DejaVuSans-64\"/>\r\n      <use x=\"240.980469\" xlink:href=\"#DejaVuSans-61\"/>\r\n      <use x=\"302.259766\" xlink:href=\"#DejaVuSans-74\"/>\r\n      <use x=\"341.46875\" xlink:href=\"#DejaVuSans-69\"/>\r\n      <use x=\"369.251953\" xlink:href=\"#DejaVuSans-6f\"/>\r\n      <use x=\"430.433594\" xlink:href=\"#DejaVuSans-6e\"/>\r\n      <use x=\"493.8125\" xlink:href=\"#DejaVuSans-20\"/>\r\n      <use x=\"525.599609\" xlink:href=\"#DejaVuSans-4d\"/>\r\n      <use x=\"611.878906\" xlink:href=\"#DejaVuSans-41\"/>\r\n      <use x=\"680.287109\" xlink:href=\"#DejaVuSans-45\"/>\r\n     </g>\r\n    </g>\r\n   </g>\r\n  </g>\r\n </g>\r\n <defs>\r\n  <clipPath id=\"p5c594dc4ad\">\r\n   <rect height=\"217.44\" width=\"334.8\" x=\"30.103125\" y=\"22.318125\"/>\r\n  </clipPath>\r\n </defs>\r\n</svg>\r\n",
      "image/png": "[encoded data removed]"
     },
     "metadata": {
      "needs_background": "light"
     }
    }
   ],
   "metadata": {}
  },
  {
   "cell_type": "code",
   "execution_count": 10,
   "source": [
    "model = keras.models.load_model(\"jena_stacked_gru_dropout.keras\")\r\n",
    "print(f\"Test MAE: {model.evaluate(test_dataset)[1]:.2f}\")"
   ],
   "outputs": [
    {
     "output_type": "stream",
     "name": "stdout",
     "text": [
      "405/405 [==============================] - 37s 64ms/step - loss: 9.4611 - mae: 2.4111\n",
      "Test MAE: 2.41\n"
     ]
    }
   ],
   "metadata": {}
  },
  {
   "cell_type": "markdown",
   "source": [
    "验证集上 mae 最低能到 2.27 的样子,测试集上 mae 是 2.41.比前面的结果好,但是有限.\r\n"
   ],
   "metadata": {}
  },
  {
   "cell_type": "markdown",
   "source": [
    "## 双向 rnn\r\n",
    "\r\n",
    "本节介绍的最后一种方法叫做双向 rnn,双向 rnn 是一种常见的 rnn 变体,它在某些任务上表现比普通 rnn 更好,常用于自然语言处理.\r\n",
    "\r\n",
    "rnn 非常依赖与输入顺序/时间.rnn 按照顺序处理序列的时间步,而打乱时间步或者反转时间步将会完全改变 rnn 从序列中提取的模式.正是这个原因使得 rnn 在顺序敏感问题上表现很好.双向 rnn 利用了 rnn 对顺序的敏感性: 它包含两个普通 rnn,每个 rnn 分别沿着输入序列的正序和逆序进行处理,最后将结果合并.双向 rnn 有可能捕获单向 rnn 忽略的模式.\r\n"
   ],
   "metadata": {}
  },
  {
   "cell_type": "markdown",
   "source": [
    "值得注意的是截止到现在,本文例子中的 rnn 模型输入全部都是正向,至少我们没有刻意尝试逆向.逆向序列会更好吗?我们尝试一下第一个实验中使用的 ltsm 模型.(将输入实例程序替换 yield  samples[:, ::-1, :], targets)\r\n",
    "\r\n",
    "![backwards_lstm_model_metrics](backwards_lstm_model_metrics.png)\r\n",
    "\r\n",
    "逆序 ltsm 的结果,甚至低于基线..这表明至少在这个实验中,按照时间正向输入数据对解决问题非常重要: ltsm 在记忆刚刚过去的时间比记忆更遥远过去更加容易,对这个问题而言,较劲的天气数据比较早的数据预测上更有价值,因此输入正向的序列结果肯定比逆序的要好.\r\n"
   ],
   "metadata": {}
  }
 ],
 "metadata": {
  "orig_nbformat": 4,
  "language_info": {
   "name": "python",
   "version": "3.9.6",
   "mimetype": "text/x-python",
   "codemirror_mode": {
    "name": "ipython",
    "version": 3
   },
   "pygments_lexer": "ipython3",
   "nbconvert_exporter": "python",
   "file_extension": ".py"
  },
  "kernelspec": {
   "name": "python3",
   "display_name": "Python 3.9.6 64-bit ('tf')"
  },
  "interpreter": {
   "hash": "aac46f597da82ce9618f0e6f094e6d401f1ab16d9be89acf77ce1dd63d67a333"
  }
 },
 "nbformat": 4,
 "nbformat_minor": 2
}