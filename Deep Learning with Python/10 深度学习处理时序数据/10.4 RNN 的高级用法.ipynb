{
 "cells": [
  {
   "cell_type": "markdown",
   "source": [
    "10.4 RNN 的高级用法\r\n",
    "\r\n",
    "到目前为止,我们已经学过的内容\r\n",
    "\r\n",
    "- 什么是 RNN 及它如何工作\r\n",
    "- 什么是 ltsm 及 ltsm 比简单 rnn 更好\r\n",
    "- 如何使用 keras 的 rnn 层处理时序数据.\r\n",
    "\r\n",
    "接下来我们会学习 keras rnn 的高级特性,这可以帮助我们的模型达到更好的效果.\r\n",
    "\r\n",
    "- 循环 dropout: 在 rnn 层应用 dropout.\r\n",
    "- 堆叠循环层: 提高模型的容量和表现力,代价是更高的计算消耗.\r\n",
    "- 双向 RNN: 将相同的信息正向/反向送入模型,提高精读缓解遗忘问题.\r\n"
   ],
   "metadata": {}
  },
  {
   "cell_type": "markdown",
   "source": [
    "## 循环 dropout 缓解过拟合\r\n",
    "\r\n",
    "回顾 10.2 节的 ltsm 模型,尽管小模型可以击败基线,但是非常快的过拟合了,原因可能是模型容量过小.\r\n",
    "\r\n",
    "在更前面的内容中对抗过拟合有一个非常有效的办法 -> dropout,但是 dropout 在 rnn 并不是一件容易的事情..\r\n",
    "\r\n",
    "如果直接应用 dropout,那对 rnn 模型可能是一件坏事而不是好事,droupout 总是会破坏学习过程.直到 2015 年,Yarin Gal 在博士论文确定了 rnn 使用 droupout 的正确方式: 对每个时间步使用相同的 dropout 掩码(dropout mask,相同模式的舍弃单元),而不是让 dropout 掩码随着时间变化而随机变化.更重要的是为了对 GRU ltsm 等循环层做正则化表示,应该将不随时间变化的 dropout 掩码应用在层的内部循环激活上(成为 循环 dropout 掩码).对每个时间步长使用相同的 dropout 掩码,可以让我按钮沿着时间正确传播学习误差,而随着时间变化的 dropout 掩码会破坏这个过程.\r\n",
    "\r\n",
    "Yarin Gal 使用 keras 进行的研究,帮助将这种机制直接内置到了 keras 的 rnn 层中.keras 的 rnn 层都有两个与 dropout 相关的参数:\r\n",
    "\r\n",
    "- `dropout`: 浮点数,指定该层每个输入单元 dropout 的比例.\r\n",
    "- `recurrent_dropout`: 指定循环单元的 dropout 的比例.\r\n",
    "\r\n",
    "我们先第一个 ltsm 的例子中添加 dropout,看看这样对过拟合的影响.\r\n"
   ],
   "metadata": {}
  },
  {
   "cell_type": "code",
   "execution_count": 1,
   "source": [
    "from tensorflow import keras\r\n",
    "import tensorflow.keras.layers as layers"
   ],
   "outputs": [],
   "metadata": {}
  },
  {
   "cell_type": "code",
   "execution_count": 2,
   "source": [
    "import os\r\n",
    "os.environ[\"CUDA_VISIBLE_DEVICES\"] = \"-1\""
   ],
   "outputs": [],
   "metadata": {}
  },
  {
   "cell_type": "code",
   "execution_count": 3,
   "source": [
    "sequence_length = 120\r\n",
    "\r\n",
    "import numpy as np\r\n",
    "import os\r\n",
    "\r\n",
    "fname = os.path.join(\"jena_climate_2009_2016.csv\")\r\n",
    "\r\n",
    "with open(fname) as f:\r\n",
    "    data = f.read()\r\n",
    "\r\n",
    "lines = data.split(\"\\n\")\r\n",
    "header = lines[0].split(\",\")\r\n",
    "lines = lines[1:]\r\n",
    "\r\n",
    "temperature = np.zeros((len(lines), ))  #全0 数组\r\n",
    "raw_data = np.zeros((len(lines), len(header) - 1))  #全0 数组\r\n",
    "for i, line in enumerate(lines):\r\n",
    "    values = [float(x) for x in line.split(\",\")[1:]]  #每行的第一个值是时间戳，所以从第二个开始\r\n",
    "    temperature[i] = values[1]  #第一个值是温度\r\n",
    "    raw_data[i, :] = values[:]  #每行的数据\r\n",
    "\r\n",
    "num_train_samples = int(0.5 * len(raw_data))\r\n",
    "num_val_samples = int(0.25 * len(raw_data))\r\n",
    "num_test_samples = len(raw_data) - num_train_samples - num_val_samples\r\n",
    "\r\n",
    "\r\n",
    "mean = raw_data[:num_train_samples].mean(axis=0)\r\n",
    "raw_data -= mean\r\n",
    "std = raw_data[:num_train_samples].std(axis=0)\r\n",
    "raw_data /= std"
   ],
   "outputs": [],
   "metadata": {}
  },
  {
   "cell_type": "code",
   "execution_count": 4,
   "source": [
    "sampling_rate = 6  # 6\r\n",
    "sequence_length = 120\r\n",
    "delay = sampling_rate * (sequence_length + 24 - 1)  #24小时后\r\n",
    "batch_size = 256\r\n",
    "\r\n",
    "train_dataset = keras.preprocessing.timeseries_dataset_from_array(\r\n",
    "    raw_data[:-delay],\r\n",
    "    targets=temperature[delay:],\r\n",
    "    sampling_rate=sampling_rate,\r\n",
    "    sequence_length=sequence_length,\r\n",
    "    shuffle=True,\r\n",
    "    batch_size=batch_size,\r\n",
    "    start_index=0,\r\n",
    "    end_index=num_train_samples)\r\n",
    "\r\n",
    "val_dataset = keras.preprocessing.timeseries_dataset_from_array(\r\n",
    "    raw_data[:-delay],\r\n",
    "    targets=temperature[delay:],\r\n",
    "    sampling_rate=sampling_rate,\r\n",
    "    sequence_length=sequence_length,\r\n",
    "    shuffle=True,\r\n",
    "    batch_size=batch_size,\r\n",
    "    start_index=num_train_samples,\r\n",
    "    end_index=num_train_samples + num_val_samples)\r\n",
    "\r\n",
    "test_dataset = keras.preprocessing.timeseries_dataset_from_array(\r\n",
    "    raw_data[:-delay],\r\n",
    "    targets=temperature[delay:],\r\n",
    "    sampling_rate=sampling_rate,\r\n",
    "    sequence_length=sequence_length,\r\n",
    "    shuffle=True,\r\n",
    "    batch_size=batch_size,\r\n",
    "    start_index=num_train_samples + num_val_samples)"
   ],
   "outputs": [],
   "metadata": {}
  },
  {
   "cell_type": "markdown",
   "source": [
    "准备 10.2 的数据\r\n"
   ],
   "metadata": {}
  },
  {
   "cell_type": "code",
   "execution_count": 5,
   "source": [
    "inputs = keras.Input(shape=(sequence_length, raw_data.shape[-1]))\r\n",
    "x = layers.LSTM(32, recurrent_dropout=0.25,\r\n",
    "                unroll=True)(inputs)  #按照后文提示设置了 unroll=True,训练时间也是完全不能接受\r\n",
    "x = layers.Dropout(0.5)(x)\r\n",
    "outputs = layers.Dense(1)(x)\r\n",
    "model = keras.Model(inputs, outputs)"
   ],
   "outputs": [],
   "metadata": {}
  },
  {
   "cell_type": "markdown",
   "source": [
    "---\r\n",
    "\r\n",
    "这里会有一个警告:  Layer lstm will not use cuDNN kernels since it doesn't meet the criteria. It will use a generic GPU kernel as fallback when running on GPU.\r\n",
    "\r\n",
    "常见\r\n",
    "> <https://keras.io/api/layers/recurrent_layers/lstm/>\r\n",
    "> <https://stackoverflow.com/questions/62044838/using-cudnn-kernel-for-lstm>\r\n",
    "\r\n",
    "似乎是因为 `recurrent_dropout` 不为 0,所有不能使用 cuDNN 内核.结果是训练非常缓慢.\r\n",
    "\r\n",
    "---\r\n"
   ],
   "metadata": {}
  },
  {
   "cell_type": "markdown",
   "source": [
    "我们在原模型上应用了 gropout 层,设置了 `recurrent_dropout=0.25`.\r\n"
   ],
   "metadata": {}
  },
  {
   "cell_type": "code",
   "execution_count": 6,
   "source": [
    "callbacks = [\r\n",
    "    keras.callbacks.ModelCheckpoint(\"jena_lstm_dropout.keras\",\r\n",
    "                                    save_best_only=True)  #保存最好的模型\r\n",
    "]\r\n",
    "model.compile(optimizer=\"rmsprop\", loss=\"mse\", metrics=[\"mae\"])"
   ],
   "outputs": [],
   "metadata": {}
  },
  {
   "cell_type": "code",
   "execution_count": 7,
   "source": [
    "history = model.fit(\r\n",
    "    train_dataset,\r\n",
    "    epochs=50,  # 5 倍的训练\r\n",
    "    validation_data=val_dataset,\r\n",
    "    callbacks=callbacks)\r\n"
   ],
   "outputs": [
    {
     "output_type": "stream",
     "name": "stdout",
     "text": [
      "Epoch 1/50\n",
      "819/819 [==============================] - 90s 75ms/step - loss: 29.0844 - mae: 3.9676 - val_loss: 9.5179 - val_mae: 2.3942\n",
      "Epoch 2/50\n",
      "819/819 [==============================] - 55s 67ms/step - loss: 15.0497 - mae: 3.0137 - val_loss: 9.1772 - val_mae: 2.3529\n",
      "Epoch 3/50\n",
      "819/819 [==============================] - 53s 65ms/step - loss: 14.2617 - mae: 2.9347 - val_loss: 8.9910 - val_mae: 2.3270\n",
      "Epoch 4/50\n",
      "819/819 [==============================] - 55s 67ms/step - loss: 13.7550 - mae: 2.8793 - val_loss: 9.0376 - val_mae: 2.3267\n",
      "Epoch 5/50\n",
      "819/819 [==============================] - 54s 66ms/step - loss: 13.2614 - mae: 2.8311 - val_loss: 8.9118 - val_mae: 2.3105\n",
      "Epoch 6/50\n",
      "819/819 [==============================] - 54s 66ms/step - loss: 12.9278 - mae: 2.7922 - val_loss: 8.9167 - val_mae: 2.3117\n",
      "Epoch 7/50\n",
      "819/819 [==============================] - 54s 65ms/step - loss: 12.6572 - mae: 2.7651 - val_loss: 8.8193 - val_mae: 2.2974\n",
      "Epoch 8/50\n",
      "819/819 [==============================] - 51s 63ms/step - loss: 12.3747 - mae: 2.7313 - val_loss: 8.8636 - val_mae: 2.3066\n",
      "Epoch 9/50\n",
      "819/819 [==============================] - 52s 63ms/step - loss: 12.2140 - mae: 2.7138 - val_loss: 8.8435 - val_mae: 2.3027\n",
      "Epoch 10/50\n",
      "819/819 [==============================] - 52s 63ms/step - loss: 12.0554 - mae: 2.6961 - val_loss: 8.8083 - val_mae: 2.2939\n",
      "Epoch 11/50\n",
      "819/819 [==============================] - 52s 64ms/step - loss: 11.9649 - mae: 2.6840 - val_loss: 8.8122 - val_mae: 2.3024\n",
      "Epoch 12/50\n",
      "819/819 [==============================] - 50s 61ms/step - loss: 11.7667 - mae: 2.6645 - val_loss: 8.8949 - val_mae: 2.3056\n",
      "Epoch 13/50\n",
      "819/819 [==============================] - 50s 60ms/step - loss: 11.7039 - mae: 2.6575 - val_loss: 9.0005 - val_mae: 2.3197\n",
      "Epoch 14/50\n",
      "819/819 [==============================] - 49s 60ms/step - loss: 11.6131 - mae: 2.6484 - val_loss: 9.0770 - val_mae: 2.3302\n",
      "Epoch 15/50\n",
      "819/819 [==============================] - 50s 60ms/step - loss: 11.5438 - mae: 2.6389 - val_loss: 9.1167 - val_mae: 2.3359\n",
      "Epoch 16/50\n",
      "819/819 [==============================] - 49s 60ms/step - loss: 11.4837 - mae: 2.6328 - val_loss: 8.9041 - val_mae: 2.3092\n",
      "Epoch 17/50\n",
      "819/819 [==============================] - 49s 60ms/step - loss: 11.3861 - mae: 2.6246 - val_loss: 9.0523 - val_mae: 2.3243\n",
      "Epoch 18/50\n",
      "819/819 [==============================] - 49s 60ms/step - loss: 11.3941 - mae: 2.6226 - val_loss: 9.2091 - val_mae: 2.3437\n",
      "Epoch 19/50\n",
      "819/819 [==============================] - 49s 60ms/step - loss: 11.3024 - mae: 2.6117 - val_loss: 9.1930 - val_mae: 2.3384\n",
      "Epoch 20/50\n",
      "819/819 [==============================] - 49s 60ms/step - loss: 11.2252 - mae: 2.6064 - val_loss: 9.3318 - val_mae: 2.3559\n",
      "Epoch 21/50\n",
      "819/819 [==============================] - 50s 61ms/step - loss: 11.1586 - mae: 2.5973 - val_loss: 9.1891 - val_mae: 2.3365\n",
      "Epoch 22/50\n",
      "819/819 [==============================] - 50s 61ms/step - loss: 11.1570 - mae: 2.5957 - val_loss: 9.1889 - val_mae: 2.3332\n",
      "Epoch 23/50\n",
      "819/819 [==============================] - 49s 60ms/step - loss: 11.0769 - mae: 2.5857 - val_loss: 9.1787 - val_mae: 2.3327\n",
      "Epoch 24/50\n",
      "819/819 [==============================] - 49s 59ms/step - loss: 11.0410 - mae: 2.5842 - val_loss: 9.3265 - val_mae: 2.3475\n",
      "Epoch 25/50\n",
      "819/819 [==============================] - 49s 60ms/step - loss: 10.9944 - mae: 2.5782 - val_loss: 9.3277 - val_mae: 2.3500\n",
      "Epoch 26/50\n",
      "819/819 [==============================] - 50s 61ms/step - loss: 10.9329 - mae: 2.5709 - val_loss: 9.4012 - val_mae: 2.3597\n",
      "Epoch 27/50\n",
      "819/819 [==============================] - 50s 61ms/step - loss: 10.9329 - mae: 2.5716 - val_loss: 9.2586 - val_mae: 2.3486\n",
      "Epoch 28/50\n",
      "819/819 [==============================] - 49s 60ms/step - loss: 10.8806 - mae: 2.5646 - val_loss: 9.5377 - val_mae: 2.3769\n",
      "Epoch 29/50\n",
      "819/819 [==============================] - 50s 61ms/step - loss: 10.8624 - mae: 2.5644 - val_loss: 9.3696 - val_mae: 2.3529\n",
      "Epoch 30/50\n",
      "819/819 [==============================] - 50s 61ms/step - loss: 10.8003 - mae: 2.5566 - val_loss: 9.4160 - val_mae: 2.3620\n",
      "Epoch 31/50\n",
      "819/819 [==============================] - 50s 61ms/step - loss: 10.7737 - mae: 2.5515 - val_loss: 9.4858 - val_mae: 2.3662\n",
      "Epoch 32/50\n",
      "819/819 [==============================] - 50s 61ms/step - loss: 10.7205 - mae: 2.5484 - val_loss: 9.5282 - val_mae: 2.3745\n",
      "Epoch 33/50\n",
      "819/819 [==============================] - 50s 61ms/step - loss: 10.7186 - mae: 2.5468 - val_loss: 9.3159 - val_mae: 2.3467\n",
      "Epoch 34/50\n",
      "819/819 [==============================] - 50s 61ms/step - loss: 10.6713 - mae: 2.5424 - val_loss: 9.3495 - val_mae: 2.3487\n",
      "Epoch 35/50\n",
      "819/819 [==============================] - 50s 60ms/step - loss: 10.6700 - mae: 2.5422 - val_loss: 9.3625 - val_mae: 2.3587\n",
      "Epoch 36/50\n",
      "819/819 [==============================] - 49s 60ms/step - loss: 10.6666 - mae: 2.5391 - val_loss: 9.6080 - val_mae: 2.3875\n",
      "Epoch 37/50\n",
      "819/819 [==============================] - 50s 60ms/step - loss: 10.5641 - mae: 2.5289 - val_loss: 9.3137 - val_mae: 2.3476\n",
      "Epoch 38/50\n",
      "819/819 [==============================] - 50s 60ms/step - loss: 10.5600 - mae: 2.5276 - val_loss: 9.7104 - val_mae: 2.3952\n",
      "Epoch 39/50\n",
      "819/819 [==============================] - 50s 61ms/step - loss: 10.5393 - mae: 2.5260 - val_loss: 9.4218 - val_mae: 2.3580\n",
      "Epoch 40/50\n",
      "819/819 [==============================] - 50s 60ms/step - loss: 10.5579 - mae: 2.5265 - val_loss: 9.4607 - val_mae: 2.3675\n",
      "Epoch 41/50\n",
      "819/819 [==============================] - 50s 60ms/step - loss: 10.5398 - mae: 2.5239 - val_loss: 9.4700 - val_mae: 2.3627\n",
      "Epoch 42/50\n",
      "819/819 [==============================] - 49s 60ms/step - loss: 10.4827 - mae: 2.5197 - val_loss: 9.7301 - val_mae: 2.3932\n",
      "Epoch 43/50\n",
      "819/819 [==============================] - 50s 61ms/step - loss: 10.4369 - mae: 2.5118 - val_loss: 9.3882 - val_mae: 2.3599\n",
      "Epoch 44/50\n",
      "819/819 [==============================] - 50s 60ms/step - loss: 10.3912 - mae: 2.5099 - val_loss: 9.5766 - val_mae: 2.3757\n",
      "Epoch 45/50\n",
      "819/819 [==============================] - 50s 61ms/step - loss: 10.3965 - mae: 2.5078 - val_loss: 9.7790 - val_mae: 2.3995\n",
      "Epoch 46/50\n",
      "819/819 [==============================] - 49s 60ms/step - loss: 10.3592 - mae: 2.5042 - val_loss: 9.4656 - val_mae: 2.3628\n",
      "Epoch 47/50\n",
      "819/819 [==============================] - 50s 61ms/step - loss: 10.3544 - mae: 2.5028 - val_loss: 9.5156 - val_mae: 2.3687\n",
      "Epoch 48/50\n",
      "819/819 [==============================] - 50s 61ms/step - loss: 10.3067 - mae: 2.4973 - val_loss: 9.3892 - val_mae: 2.3565\n",
      "Epoch 49/50\n",
      "819/819 [==============================] - 50s 61ms/step - loss: 10.3432 - mae: 2.4964 - val_loss: 9.5866 - val_mae: 2.3799\n",
      "Epoch 50/50\n",
      "819/819 [==============================] - 50s 61ms/step - loss: 10.3206 - mae: 2.4999 - val_loss: 9.5506 - val_mae: 2.3726\n"
     ]
    }
   ],
   "metadata": {}
  },
  {
   "cell_type": "markdown",
   "source": [
    "因为更不容易过拟合,设置训练轮次是 5 倍之前, 50 次.(慢的要死)\r\n",
    "\r\n",
    "在 cpu 上跑反而更快的多...\r\n"
   ],
   "metadata": {}
  },
  {
   "cell_type": "code",
   "execution_count": 8,
   "source": [
    "import matplotlib.pyplot as plt\r\n",
    "loss = history.history[\"mae\"]\r\n",
    "val_loss = history.history[\"val_mae\"]\r\n",
    "epochs = range(1, len(loss) + 1)\r\n",
    "plt.figure()\r\n",
    "plt.plot(epochs, loss, \"bo\", label=\"Training MAE\")\r\n",
    "plt.plot(epochs, val_loss, \"b\", label=\"Validation MAE\")\r\n",
    "plt.title(\"Training and validation MAE\")\r\n",
    "plt.legend()\r\n",
    "plt.show()"
   ],
   "outputs": [
    {
     "output_type": "display_data",
     "data": {
      "text/plain": [
       "<Figure size 432x288 with 1 Axes>"
      ],
      "image/svg+xml": "<?xml version=\"1.0\" encoding=\"utf-8\" standalone=\"no\"?>\r\n<!DOCTYPE svg PUBLIC \"-//W3C//DTD SVG 1.1//EN\"\r\n  \"http://www.w3.org/Graphics/SVG/1.1/DTD/svg11.dtd\">\r\n<svg height=\"263.63625pt\" version=\"1.1\" viewBox=\"0 0 378.465625 263.63625\" width=\"378.465625pt\" xmlns=\"http://www.w3.org/2000/svg\" xmlns:xlink=\"http://www.w3.org/1999/xlink\">\r\n <metadata>\r\n  <rdf:RDF xmlns:cc=\"http://creativecommons.org/ns#\" xmlns:dc=\"http://purl.org/dc/elements/1.1/\" xmlns:rdf=\"http://www.w3.org/1999/02/22-rdf-syntax-ns#\">\r\n   <cc:Work>\r\n    <dc:type rdf:resource=\"http://purl.org/dc/dcmitype/StillImage\"/>\r\n    <dc:date>2021-08-23T17:02:09.691380</dc:date>\r\n    <dc:format>image/svg+xml</dc:format>\r\n    <dc:creator>\r\n     <cc:Agent>\r\n      <dc:title>Matplotlib v3.4.2, https://matplotlib.org/</dc:title>\r\n     </cc:Agent>\r\n    </dc:creator>\r\n   </cc:Work>\r\n  </rdf:RDF>\r\n </metadata>\r\n <defs>\r\n  <style type=\"text/css\">*{stroke-linecap:butt;stroke-linejoin:round;}</style>\r\n </defs>\r\n <g id=\"figure_1\">\r\n  <g id=\"patch_1\">\r\n   <path d=\"M 0 263.63625 \r\nL 378.465625 263.63625 \r\nL 378.465625 0 \r\nL 0 0 \r\nz\r\n\" style=\"fill:none;\"/>\r\n  </g>\r\n  <g id=\"axes_1\">\r\n   <g id=\"patch_2\">\r\n    <path d=\"M 36.465625 239.758125 \r\nL 371.265625 239.758125 \r\nL 371.265625 22.318125 \r\nL 36.465625 22.318125 \r\nz\r\n\" style=\"fill:#ffffff;\"/>\r\n   </g>\r\n   <g id=\"matplotlib.axis_1\">\r\n    <g id=\"xtick_1\">\r\n     <g id=\"line2d_1\">\r\n      <defs>\r\n       <path d=\"M 0 0 \r\nL 0 3.5 \r\n\" id=\"m83665f1f68\" style=\"stroke:#000000;stroke-width:0.8;\"/>\r\n      </defs>\r\n      <g>\r\n       <use style=\"stroke:#000000;stroke-width:0.8;\" x=\"45.472304\" xlink:href=\"#m83665f1f68\" y=\"239.758125\"/>\r\n      </g>\r\n     </g>\r\n     <g id=\"text_1\">\r\n      <!-- 0 -->\r\n      <g transform=\"translate(42.291054 254.356563)scale(0.1 -0.1)\">\r\n       <defs>\r\n        <path d=\"M 2034 4250 \r\nQ 1547 4250 1301 3770 \r\nQ 1056 3291 1056 2328 \r\nQ 1056 1369 1301 889 \r\nQ 1547 409 2034 409 \r\nQ 2525 409 2770 889 \r\nQ 3016 1369 3016 2328 \r\nQ 3016 3291 2770 3770 \r\nQ 2525 4250 2034 4250 \r\nz\r\nM 2034 4750 \r\nQ 2819 4750 3233 4129 \r\nQ 3647 3509 3647 2328 \r\nQ 3647 1150 3233 529 \r\nQ 2819 -91 2034 -91 \r\nQ 1250 -91 836 529 \r\nQ 422 1150 422 2328 \r\nQ 422 3509 836 4129 \r\nQ 1250 4750 2034 4750 \r\nz\r\n\" id=\"DejaVuSans-30\" transform=\"scale(0.015625)\"/>\r\n       </defs>\r\n       <use xlink:href=\"#DejaVuSans-30\"/>\r\n      </g>\r\n     </g>\r\n    </g>\r\n    <g id=\"xtick_2\">\r\n     <g id=\"line2d_2\">\r\n      <g>\r\n       <use style=\"stroke:#000000;stroke-width:0.8;\" x=\"107.587332\" xlink:href=\"#m83665f1f68\" y=\"239.758125\"/>\r\n      </g>\r\n     </g>\r\n     <g id=\"text_2\">\r\n      <!-- 10 -->\r\n      <g transform=\"translate(101.224832 254.356563)scale(0.1 -0.1)\">\r\n       <defs>\r\n        <path d=\"M 794 531 \r\nL 1825 531 \r\nL 1825 4091 \r\nL 703 3866 \r\nL 703 4441 \r\nL 1819 4666 \r\nL 2450 4666 \r\nL 2450 531 \r\nL 3481 531 \r\nL 3481 0 \r\nL 794 0 \r\nL 794 531 \r\nz\r\n\" id=\"DejaVuSans-31\" transform=\"scale(0.015625)\"/>\r\n       </defs>\r\n       <use xlink:href=\"#DejaVuSans-31\"/>\r\n       <use x=\"63.623047\" xlink:href=\"#DejaVuSans-30\"/>\r\n      </g>\r\n     </g>\r\n    </g>\r\n    <g id=\"xtick_3\">\r\n     <g id=\"line2d_3\">\r\n      <g>\r\n       <use style=\"stroke:#000000;stroke-width:0.8;\" x=\"169.70236\" xlink:href=\"#m83665f1f68\" y=\"239.758125\"/>\r\n      </g>\r\n     </g>\r\n     <g id=\"text_3\">\r\n      <!-- 20 -->\r\n      <g transform=\"translate(163.33986 254.356563)scale(0.1 -0.1)\">\r\n       <defs>\r\n        <path d=\"M 1228 531 \r\nL 3431 531 \r\nL 3431 0 \r\nL 469 0 \r\nL 469 531 \r\nQ 828 903 1448 1529 \r\nQ 2069 2156 2228 2338 \r\nQ 2531 2678 2651 2914 \r\nQ 2772 3150 2772 3378 \r\nQ 2772 3750 2511 3984 \r\nQ 2250 4219 1831 4219 \r\nQ 1534 4219 1204 4116 \r\nQ 875 4013 500 3803 \r\nL 500 4441 \r\nQ 881 4594 1212 4672 \r\nQ 1544 4750 1819 4750 \r\nQ 2544 4750 2975 4387 \r\nQ 3406 4025 3406 3419 \r\nQ 3406 3131 3298 2873 \r\nQ 3191 2616 2906 2266 \r\nQ 2828 2175 2409 1742 \r\nQ 1991 1309 1228 531 \r\nz\r\n\" id=\"DejaVuSans-32\" transform=\"scale(0.015625)\"/>\r\n       </defs>\r\n       <use xlink:href=\"#DejaVuSans-32\"/>\r\n       <use x=\"63.623047\" xlink:href=\"#DejaVuSans-30\"/>\r\n      </g>\r\n     </g>\r\n    </g>\r\n    <g id=\"xtick_4\">\r\n     <g id=\"line2d_4\">\r\n      <g>\r\n       <use style=\"stroke:#000000;stroke-width:0.8;\" x=\"231.817388\" xlink:href=\"#m83665f1f68\" y=\"239.758125\"/>\r\n      </g>\r\n     </g>\r\n     <g id=\"text_4\">\r\n      <!-- 30 -->\r\n      <g transform=\"translate(225.454888 254.356563)scale(0.1 -0.1)\">\r\n       <defs>\r\n        <path d=\"M 2597 2516 \r\nQ 3050 2419 3304 2112 \r\nQ 3559 1806 3559 1356 \r\nQ 3559 666 3084 287 \r\nQ 2609 -91 1734 -91 \r\nQ 1441 -91 1130 -33 \r\nQ 819 25 488 141 \r\nL 488 750 \r\nQ 750 597 1062 519 \r\nQ 1375 441 1716 441 \r\nQ 2309 441 2620 675 \r\nQ 2931 909 2931 1356 \r\nQ 2931 1769 2642 2001 \r\nQ 2353 2234 1838 2234 \r\nL 1294 2234 \r\nL 1294 2753 \r\nL 1863 2753 \r\nQ 2328 2753 2575 2939 \r\nQ 2822 3125 2822 3475 \r\nQ 2822 3834 2567 4026 \r\nQ 2313 4219 1838 4219 \r\nQ 1578 4219 1281 4162 \r\nQ 984 4106 628 3988 \r\nL 628 4550 \r\nQ 988 4650 1302 4700 \r\nQ 1616 4750 1894 4750 \r\nQ 2613 4750 3031 4423 \r\nQ 3450 4097 3450 3541 \r\nQ 3450 3153 3228 2886 \r\nQ 3006 2619 2597 2516 \r\nz\r\n\" id=\"DejaVuSans-33\" transform=\"scale(0.015625)\"/>\r\n       </defs>\r\n       <use xlink:href=\"#DejaVuSans-33\"/>\r\n       <use x=\"63.623047\" xlink:href=\"#DejaVuSans-30\"/>\r\n      </g>\r\n     </g>\r\n    </g>\r\n    <g id=\"xtick_5\">\r\n     <g id=\"line2d_5\">\r\n      <g>\r\n       <use style=\"stroke:#000000;stroke-width:0.8;\" x=\"293.932415\" xlink:href=\"#m83665f1f68\" y=\"239.758125\"/>\r\n      </g>\r\n     </g>\r\n     <g id=\"text_5\">\r\n      <!-- 40 -->\r\n      <g transform=\"translate(287.569915 254.356563)scale(0.1 -0.1)\">\r\n       <defs>\r\n        <path d=\"M 2419 4116 \r\nL 825 1625 \r\nL 2419 1625 \r\nL 2419 4116 \r\nz\r\nM 2253 4666 \r\nL 3047 4666 \r\nL 3047 1625 \r\nL 3713 1625 \r\nL 3713 1100 \r\nL 3047 1100 \r\nL 3047 0 \r\nL 2419 0 \r\nL 2419 1100 \r\nL 313 1100 \r\nL 313 1709 \r\nL 2253 4666 \r\nz\r\n\" id=\"DejaVuSans-34\" transform=\"scale(0.015625)\"/>\r\n       </defs>\r\n       <use xlink:href=\"#DejaVuSans-34\"/>\r\n       <use x=\"63.623047\" xlink:href=\"#DejaVuSans-30\"/>\r\n      </g>\r\n     </g>\r\n    </g>\r\n    <g id=\"xtick_6\">\r\n     <g id=\"line2d_6\">\r\n      <g>\r\n       <use style=\"stroke:#000000;stroke-width:0.8;\" x=\"356.047443\" xlink:href=\"#m83665f1f68\" y=\"239.758125\"/>\r\n      </g>\r\n     </g>\r\n     <g id=\"text_6\">\r\n      <!-- 50 -->\r\n      <g transform=\"translate(349.684943 254.356563)scale(0.1 -0.1)\">\r\n       <defs>\r\n        <path d=\"M 691 4666 \r\nL 3169 4666 \r\nL 3169 4134 \r\nL 1269 4134 \r\nL 1269 2991 \r\nQ 1406 3038 1543 3061 \r\nQ 1681 3084 1819 3084 \r\nQ 2600 3084 3056 2656 \r\nQ 3513 2228 3513 1497 \r\nQ 3513 744 3044 326 \r\nQ 2575 -91 1722 -91 \r\nQ 1428 -91 1123 -41 \r\nQ 819 9 494 109 \r\nL 494 744 \r\nQ 775 591 1075 516 \r\nQ 1375 441 1709 441 \r\nQ 2250 441 2565 725 \r\nQ 2881 1009 2881 1497 \r\nQ 2881 1984 2565 2268 \r\nQ 2250 2553 1709 2553 \r\nQ 1456 2553 1204 2497 \r\nQ 953 2441 691 2322 \r\nL 691 4666 \r\nz\r\n\" id=\"DejaVuSans-35\" transform=\"scale(0.015625)\"/>\r\n       </defs>\r\n       <use xlink:href=\"#DejaVuSans-35\"/>\r\n       <use x=\"63.623047\" xlink:href=\"#DejaVuSans-30\"/>\r\n      </g>\r\n     </g>\r\n    </g>\r\n   </g>\r\n   <g id=\"matplotlib.axis_2\">\r\n    <g id=\"ytick_1\">\r\n     <g id=\"line2d_7\">\r\n      <defs>\r\n       <path d=\"M 0 0 \r\nL -3.5 0 \r\n\" id=\"m3a3c790fbc\" style=\"stroke:#000000;stroke-width:0.8;\"/>\r\n      </defs>\r\n      <g>\r\n       <use style=\"stroke:#000000;stroke-width:0.8;\" x=\"36.465625\" xlink:href=\"#m3a3c790fbc\" y=\"235.060937\"/>\r\n      </g>\r\n     </g>\r\n     <g id=\"text_7\">\r\n      <!-- 2.25 -->\r\n      <g transform=\"translate(7.2 238.860156)scale(0.1 -0.1)\">\r\n       <defs>\r\n        <path d=\"M 684 794 \r\nL 1344 794 \r\nL 1344 0 \r\nL 684 0 \r\nL 684 794 \r\nz\r\n\" id=\"DejaVuSans-2e\" transform=\"scale(0.015625)\"/>\r\n       </defs>\r\n       <use xlink:href=\"#DejaVuSans-32\"/>\r\n       <use x=\"63.623047\" xlink:href=\"#DejaVuSans-2e\"/>\r\n       <use x=\"95.410156\" xlink:href=\"#DejaVuSans-32\"/>\r\n       <use x=\"159.033203\" xlink:href=\"#DejaVuSans-35\"/>\r\n      </g>\r\n     </g>\r\n    </g>\r\n    <g id=\"ytick_2\">\r\n     <g id=\"line2d_8\">\r\n      <g>\r\n       <use style=\"stroke:#000000;stroke-width:0.8;\" x=\"36.465625\" xlink:href=\"#m3a3c790fbc\" y=\"205.534664\"/>\r\n      </g>\r\n     </g>\r\n     <g id=\"text_8\">\r\n      <!-- 2.50 -->\r\n      <g transform=\"translate(7.2 209.333883)scale(0.1 -0.1)\">\r\n       <use xlink:href=\"#DejaVuSans-32\"/>\r\n       <use x=\"63.623047\" xlink:href=\"#DejaVuSans-2e\"/>\r\n       <use x=\"95.410156\" xlink:href=\"#DejaVuSans-35\"/>\r\n       <use x=\"159.033203\" xlink:href=\"#DejaVuSans-30\"/>\r\n      </g>\r\n     </g>\r\n    </g>\r\n    <g id=\"ytick_3\">\r\n     <g id=\"line2d_9\">\r\n      <g>\r\n       <use style=\"stroke:#000000;stroke-width:0.8;\" x=\"36.465625\" xlink:href=\"#m3a3c790fbc\" y=\"176.008391\"/>\r\n      </g>\r\n     </g>\r\n     <g id=\"text_9\">\r\n      <!-- 2.75 -->\r\n      <g transform=\"translate(7.2 179.80761)scale(0.1 -0.1)\">\r\n       <defs>\r\n        <path d=\"M 525 4666 \r\nL 3525 4666 \r\nL 3525 4397 \r\nL 1831 0 \r\nL 1172 0 \r\nL 2766 4134 \r\nL 525 4134 \r\nL 525 4666 \r\nz\r\n\" id=\"DejaVuSans-37\" transform=\"scale(0.015625)\"/>\r\n       </defs>\r\n       <use xlink:href=\"#DejaVuSans-32\"/>\r\n       <use x=\"63.623047\" xlink:href=\"#DejaVuSans-2e\"/>\r\n       <use x=\"95.410156\" xlink:href=\"#DejaVuSans-37\"/>\r\n       <use x=\"159.033203\" xlink:href=\"#DejaVuSans-35\"/>\r\n      </g>\r\n     </g>\r\n    </g>\r\n    <g id=\"ytick_4\">\r\n     <g id=\"line2d_10\">\r\n      <g>\r\n       <use style=\"stroke:#000000;stroke-width:0.8;\" x=\"36.465625\" xlink:href=\"#m3a3c790fbc\" y=\"146.482119\"/>\r\n      </g>\r\n     </g>\r\n     <g id=\"text_10\">\r\n      <!-- 3.00 -->\r\n      <g transform=\"translate(7.2 150.281337)scale(0.1 -0.1)\">\r\n       <use xlink:href=\"#DejaVuSans-33\"/>\r\n       <use x=\"63.623047\" xlink:href=\"#DejaVuSans-2e\"/>\r\n       <use x=\"95.410156\" xlink:href=\"#DejaVuSans-30\"/>\r\n       <use x=\"159.033203\" xlink:href=\"#DejaVuSans-30\"/>\r\n      </g>\r\n     </g>\r\n    </g>\r\n    <g id=\"ytick_5\">\r\n     <g id=\"line2d_11\">\r\n      <g>\r\n       <use style=\"stroke:#000000;stroke-width:0.8;\" x=\"36.465625\" xlink:href=\"#m3a3c790fbc\" y=\"116.955846\"/>\r\n      </g>\r\n     </g>\r\n     <g id=\"text_11\">\r\n      <!-- 3.25 -->\r\n      <g transform=\"translate(7.2 120.755065)scale(0.1 -0.1)\">\r\n       <use xlink:href=\"#DejaVuSans-33\"/>\r\n       <use x=\"63.623047\" xlink:href=\"#DejaVuSans-2e\"/>\r\n       <use x=\"95.410156\" xlink:href=\"#DejaVuSans-32\"/>\r\n       <use x=\"159.033203\" xlink:href=\"#DejaVuSans-35\"/>\r\n      </g>\r\n     </g>\r\n    </g>\r\n    <g id=\"ytick_6\">\r\n     <g id=\"line2d_12\">\r\n      <g>\r\n       <use style=\"stroke:#000000;stroke-width:0.8;\" x=\"36.465625\" xlink:href=\"#m3a3c790fbc\" y=\"87.429573\"/>\r\n      </g>\r\n     </g>\r\n     <g id=\"text_12\">\r\n      <!-- 3.50 -->\r\n      <g transform=\"translate(7.2 91.228792)scale(0.1 -0.1)\">\r\n       <use xlink:href=\"#DejaVuSans-33\"/>\r\n       <use x=\"63.623047\" xlink:href=\"#DejaVuSans-2e\"/>\r\n       <use x=\"95.410156\" xlink:href=\"#DejaVuSans-35\"/>\r\n       <use x=\"159.033203\" xlink:href=\"#DejaVuSans-30\"/>\r\n      </g>\r\n     </g>\r\n    </g>\r\n    <g id=\"ytick_7\">\r\n     <g id=\"line2d_13\">\r\n      <g>\r\n       <use style=\"stroke:#000000;stroke-width:0.8;\" x=\"36.465625\" xlink:href=\"#m3a3c790fbc\" y=\"57.9033\"/>\r\n      </g>\r\n     </g>\r\n     <g id=\"text_13\">\r\n      <!-- 3.75 -->\r\n      <g transform=\"translate(7.2 61.702519)scale(0.1 -0.1)\">\r\n       <use xlink:href=\"#DejaVuSans-33\"/>\r\n       <use x=\"63.623047\" xlink:href=\"#DejaVuSans-2e\"/>\r\n       <use x=\"95.410156\" xlink:href=\"#DejaVuSans-37\"/>\r\n       <use x=\"159.033203\" xlink:href=\"#DejaVuSans-35\"/>\r\n      </g>\r\n     </g>\r\n    </g>\r\n    <g id=\"ytick_8\">\r\n     <g id=\"line2d_14\">\r\n      <g>\r\n       <use style=\"stroke:#000000;stroke-width:0.8;\" x=\"36.465625\" xlink:href=\"#m3a3c790fbc\" y=\"28.377028\"/>\r\n      </g>\r\n     </g>\r\n     <g id=\"text_14\">\r\n      <!-- 4.00 -->\r\n      <g transform=\"translate(7.2 32.176246)scale(0.1 -0.1)\">\r\n       <use xlink:href=\"#DejaVuSans-34\"/>\r\n       <use x=\"63.623047\" xlink:href=\"#DejaVuSans-2e\"/>\r\n       <use x=\"95.410156\" xlink:href=\"#DejaVuSans-30\"/>\r\n       <use x=\"159.033203\" xlink:href=\"#DejaVuSans-30\"/>\r\n      </g>\r\n     </g>\r\n    </g>\r\n   </g>\r\n   <g id=\"line2d_15\">\r\n    <defs>\r\n     <path d=\"M 0 3 \r\nC 0.795609 3 1.55874 2.683901 2.12132 2.12132 \r\nC 2.683901 1.55874 3 0.795609 3 0 \r\nC 3 -0.795609 2.683901 -1.55874 2.12132 -2.12132 \r\nC 1.55874 -2.683901 0.795609 -3 0 -3 \r\nC -0.795609 -3 -1.55874 -2.683901 -2.12132 -2.12132 \r\nC -2.683901 -1.55874 -3 -0.795609 -3 0 \r\nC -3 0.795609 -2.683901 1.55874 -2.12132 2.12132 \r\nC -1.55874 2.683901 -0.795609 3 0 3 \r\nz\r\n\" id=\"meb3a226f5e\" style=\"stroke:#0000ff;\"/>\r\n    </defs>\r\n    <g clip-path=\"url(#pbf2f38049c)\">\r\n     <use style=\"fill:#0000ff;stroke:#0000ff;\" x=\"51.683807\" xlink:href=\"#meb3a226f5e\" y=\"32.201761\"/>\r\n     <use style=\"fill:#0000ff;stroke:#0000ff;\" x=\"57.89531\" xlink:href=\"#meb3a226f5e\" y=\"144.861853\"/>\r\n     <use style=\"fill:#0000ff;stroke:#0000ff;\" x=\"64.106812\" xlink:href=\"#meb3a226f5e\" y=\"154.193957\"/>\r\n     <use style=\"fill:#0000ff;stroke:#0000ff;\" x=\"70.318315\" xlink:href=\"#meb3a226f5e\" y=\"160.741444\"/>\r\n     <use style=\"fill:#0000ff;stroke:#0000ff;\" x=\"76.529818\" xlink:href=\"#meb3a226f5e\" y=\"166.433477\"/>\r\n     <use style=\"fill:#0000ff;stroke:#0000ff;\" x=\"82.741321\" xlink:href=\"#meb3a226f5e\" y=\"171.029893\"/>\r\n     <use style=\"fill:#0000ff;stroke:#0000ff;\" x=\"88.952824\" xlink:href=\"#meb3a226f5e\" y=\"174.230805\"/>\r\n     <use style=\"fill:#0000ff;stroke:#0000ff;\" x=\"95.164326\" xlink:href=\"#meb3a226f5e\" y=\"178.216633\"/>\r\n     <use style=\"fill:#0000ff;stroke:#0000ff;\" x=\"101.375829\" xlink:href=\"#meb3a226f5e\" y=\"180.289574\"/>\r\n     <use style=\"fill:#0000ff;stroke:#0000ff;\" x=\"107.587332\" xlink:href=\"#meb3a226f5e\" y=\"182.372707\"/>\r\n     <use style=\"fill:#0000ff;stroke:#0000ff;\" x=\"113.798835\" xlink:href=\"#meb3a226f5e\" y=\"183.804086\"/>\r\n     <use style=\"fill:#0000ff;stroke:#0000ff;\" x=\"120.010337\" xlink:href=\"#meb3a226f5e\" y=\"186.101336\"/>\r\n     <use style=\"fill:#0000ff;stroke:#0000ff;\" x=\"126.22184\" xlink:href=\"#meb3a226f5e\" y=\"186.930828\"/>\r\n     <use style=\"fill:#0000ff;stroke:#0000ff;\" x=\"132.433343\" xlink:href=\"#meb3a226f5e\" y=\"188.012591\"/>\r\n     <use style=\"fill:#0000ff;stroke:#0000ff;\" x=\"138.644846\" xlink:href=\"#meb3a226f5e\" y=\"189.125188\"/>\r\n     <use style=\"fill:#0000ff;stroke:#0000ff;\" x=\"144.856349\" xlink:href=\"#meb3a226f5e\" y=\"189.846607\"/>\r\n     <use style=\"fill:#0000ff;stroke:#0000ff;\" x=\"151.067851\" xlink:href=\"#meb3a226f5e\" y=\"190.816638\"/>\r\n     <use style=\"fill:#0000ff;stroke:#0000ff;\" x=\"157.279354\" xlink:href=\"#meb3a226f5e\" y=\"191.060574\"/>\r\n     <use style=\"fill:#0000ff;stroke:#0000ff;\" x=\"163.490857\" xlink:href=\"#meb3a226f5e\" y=\"192.345613\"/>\r\n     <use style=\"fill:#0000ff;stroke:#0000ff;\" x=\"169.70236\" xlink:href=\"#meb3a226f5e\" y=\"192.970055\"/>\r\n     <use style=\"fill:#0000ff;stroke:#0000ff;\" x=\"175.913862\" xlink:href=\"#meb3a226f5e\" y=\"194.039541\"/>\r\n     <use style=\"fill:#0000ff;stroke:#0000ff;\" x=\"182.125365\" xlink:href=\"#meb3a226f5e\" y=\"194.232511\"/>\r\n     <use style=\"fill:#0000ff;stroke:#0000ff;\" x=\"188.336868\" xlink:href=\"#meb3a226f5e\" y=\"195.418713\"/>\r\n     <use style=\"fill:#0000ff;stroke:#0000ff;\" x=\"194.548371\" xlink:href=\"#meb3a226f5e\" y=\"195.595689\"/>\r\n     <use style=\"fill:#0000ff;stroke:#0000ff;\" x=\"200.759874\" xlink:href=\"#meb3a226f5e\" y=\"196.300749\"/>\r\n     <use style=\"fill:#0000ff;stroke:#0000ff;\" x=\"206.971376\" xlink:href=\"#meb3a226f5e\" y=\"197.164763\"/>\r\n     <use style=\"fill:#0000ff;stroke:#0000ff;\" x=\"213.182879\" xlink:href=\"#meb3a226f5e\" y=\"197.076767\"/>\r\n     <use style=\"fill:#0000ff;stroke:#0000ff;\" x=\"219.394382\" xlink:href=\"#meb3a226f5e\" y=\"197.902795\"/>\r\n     <use style=\"fill:#0000ff;stroke:#0000ff;\" x=\"225.605885\" xlink:href=\"#meb3a226f5e\" y=\"197.929236\"/>\r\n     <use style=\"fill:#0000ff;stroke:#0000ff;\" x=\"231.817388\" xlink:href=\"#meb3a226f5e\" y=\"198.853706\"/>\r\n     <use style=\"fill:#0000ff;stroke:#0000ff;\" x=\"238.02889\" xlink:href=\"#meb3a226f5e\" y=\"199.447709\"/>\r\n     <use style=\"fill:#0000ff;stroke:#0000ff;\" x=\"244.240393\" xlink:href=\"#meb3a226f5e\" y=\"199.817992\"/>\r\n     <use style=\"fill:#0000ff;stroke:#0000ff;\" x=\"250.451896\" xlink:href=\"#meb3a226f5e\" y=\"200.011835\"/>\r\n     <use style=\"fill:#0000ff;stroke:#0000ff;\" x=\"256.663399\" xlink:href=\"#meb3a226f5e\" y=\"200.530148\"/>\r\n     <use style=\"fill:#0000ff;stroke:#0000ff;\" x=\"262.874901\" xlink:href=\"#meb3a226f5e\" y=\"200.550985\"/>\r\n     <use style=\"fill:#0000ff;stroke:#0000ff;\" x=\"269.086404\" xlink:href=\"#meb3a226f5e\" y=\"200.912962\"/>\r\n     <use style=\"fill:#0000ff;stroke:#0000ff;\" x=\"275.297907\" xlink:href=\"#meb3a226f5e\" y=\"202.116735\"/>\r\n     <use style=\"fill:#0000ff;stroke:#0000ff;\" x=\"281.50941\" xlink:href=\"#meb3a226f5e\" y=\"202.278477\"/>\r\n     <use style=\"fill:#0000ff;stroke:#0000ff;\" x=\"287.720913\" xlink:href=\"#meb3a226f5e\" y=\"202.464042\"/>\r\n     <use style=\"fill:#0000ff;stroke:#0000ff;\" x=\"293.932415\" xlink:href=\"#meb3a226f5e\" y=\"202.401164\"/>\r\n     <use style=\"fill:#0000ff;stroke:#0000ff;\" x=\"300.143918\" xlink:href=\"#meb3a226f5e\" y=\"202.707978\"/>\r\n     <use style=\"fill:#0000ff;stroke:#0000ff;\" x=\"306.355421\" xlink:href=\"#meb3a226f5e\" y=\"203.210072\"/>\r\n     <use style=\"fill:#0000ff;stroke:#0000ff;\" x=\"312.566924\" xlink:href=\"#meb3a226f5e\" y=\"204.142144\"/>\r\n     <use style=\"fill:#0000ff;stroke:#0000ff;\" x=\"318.778426\" xlink:href=\"#meb3a226f5e\" y=\"204.363413\"/>\r\n     <use style=\"fill:#0000ff;stroke:#0000ff;\" x=\"324.989929\" xlink:href=\"#meb3a226f5e\" y=\"204.610673\"/>\r\n     <use style=\"fill:#0000ff;stroke:#0000ff;\" x=\"331.201432\" xlink:href=\"#meb3a226f5e\" y=\"205.04054\"/>\r\n     <use style=\"fill:#0000ff;stroke:#0000ff;\" x=\"337.412935\" xlink:href=\"#meb3a226f5e\" y=\"205.207238\"/>\r\n     <use style=\"fill:#0000ff;stroke:#0000ff;\" x=\"343.624438\" xlink:href=\"#meb3a226f5e\" y=\"205.855192\"/>\r\n     <use style=\"fill:#0000ff;stroke:#0000ff;\" x=\"349.83594\" xlink:href=\"#meb3a226f5e\" y=\"205.955914\"/>\r\n     <use style=\"fill:#0000ff;stroke:#0000ff;\" x=\"356.047443\" xlink:href=\"#meb3a226f5e\" y=\"205.541844\"/>\r\n    </g>\r\n   </g>\r\n   <g id=\"line2d_16\">\r\n    <path clip-path=\"url(#pbf2f38049c)\" d=\"M 51.683807 218.025076 \r\nL 57.89531 222.91358 \r\nL 64.106812 225.961422 \r\nL 70.318315 226.004082 \r\nL 76.529818 227.913196 \r\nL 82.741321 227.773643 \r\nL 88.952824 229.461235 \r\nL 95.164326 228.380598 \r\nL 101.375829 228.830965 \r\nL 107.587332 229.874489 \r\nL 113.798835 228.874582 \r\nL 120.010337 228.495767 \r\nL 126.22184 226.831912 \r\nL 132.433343 225.594264 \r\nL 138.644846 224.919784 \r\nL 144.856349 228.071109 \r\nL 151.067851 226.290735 \r\nL 157.279354 223.994751 \r\nL 163.490857 224.616968 \r\nL 169.70236 222.557741 \r\nL 175.913862 224.848656 \r\nL 182.125365 225.23071 \r\nL 188.336868 225.294489 \r\nL 194.548371 223.540274 \r\nL 200.759874 223.25089 \r\nL 206.971376 222.102926 \r\nL 213.182879 223.415701 \r\nL 219.394382 220.067999 \r\nL 225.605885 222.912312 \r\nL 231.817388 221.829395 \r\nL 238.02889 221.338171 \r\nL 244.240393 220.361917 \r\nL 250.451896 223.640659 \r\nL 256.663399 223.405113 \r\nL 262.874901 222.228625 \r\nL 269.086404 218.816469 \r\nL 275.297907 223.528757 \r\nL 281.50941 217.917257 \r\nL 287.720913 222.303499 \r\nL 293.932415 221.18068 \r\nL 300.143918 221.747707 \r\nL 306.355421 218.143736 \r\nL 312.566924 222.081103 \r\nL 318.778426 220.209918 \r\nL 324.989929 217.407814 \r\nL 331.201432 221.739597 \r\nL 337.412935 221.046731 \r\nL 343.624438 222.480277 \r\nL 349.83594 219.715202 \r\nL 356.047443 220.58696 \r\n\" style=\"fill:none;stroke:#0000ff;stroke-linecap:square;stroke-width:1.5;\"/>\r\n   </g>\r\n   <g id=\"patch_3\">\r\n    <path d=\"M 36.465625 239.758125 \r\nL 36.465625 22.318125 \r\n\" style=\"fill:none;stroke:#000000;stroke-linecap:square;stroke-linejoin:miter;stroke-width:0.8;\"/>\r\n   </g>\r\n   <g id=\"patch_4\">\r\n    <path d=\"M 371.265625 239.758125 \r\nL 371.265625 22.318125 \r\n\" style=\"fill:none;stroke:#000000;stroke-linecap:square;stroke-linejoin:miter;stroke-width:0.8;\"/>\r\n   </g>\r\n   <g id=\"patch_5\">\r\n    <path d=\"M 36.465625 239.758125 \r\nL 371.265625 239.758125 \r\n\" style=\"fill:none;stroke:#000000;stroke-linecap:square;stroke-linejoin:miter;stroke-width:0.8;\"/>\r\n   </g>\r\n   <g id=\"patch_6\">\r\n    <path d=\"M 36.465625 22.318125 \r\nL 371.265625 22.318125 \r\n\" style=\"fill:none;stroke:#000000;stroke-linecap:square;stroke-linejoin:miter;stroke-width:0.8;\"/>\r\n   </g>\r\n   <g id=\"text_15\">\r\n    <!-- Training and validation MAE -->\r\n    <g transform=\"translate(120.5725 16.318125)scale(0.12 -0.12)\">\r\n     <defs>\r\n      <path d=\"M -19 4666 \r\nL 3928 4666 \r\nL 3928 4134 \r\nL 2272 4134 \r\nL 2272 0 \r\nL 1638 0 \r\nL 1638 4134 \r\nL -19 4134 \r\nL -19 4666 \r\nz\r\n\" id=\"DejaVuSans-54\" transform=\"scale(0.015625)\"/>\r\n      <path d=\"M 2631 2963 \r\nQ 2534 3019 2420 3045 \r\nQ 2306 3072 2169 3072 \r\nQ 1681 3072 1420 2755 \r\nQ 1159 2438 1159 1844 \r\nL 1159 0 \r\nL 581 0 \r\nL 581 3500 \r\nL 1159 3500 \r\nL 1159 2956 \r\nQ 1341 3275 1631 3429 \r\nQ 1922 3584 2338 3584 \r\nQ 2397 3584 2469 3576 \r\nQ 2541 3569 2628 3553 \r\nL 2631 2963 \r\nz\r\n\" id=\"DejaVuSans-72\" transform=\"scale(0.015625)\"/>\r\n      <path d=\"M 2194 1759 \r\nQ 1497 1759 1228 1600 \r\nQ 959 1441 959 1056 \r\nQ 959 750 1161 570 \r\nQ 1363 391 1709 391 \r\nQ 2188 391 2477 730 \r\nQ 2766 1069 2766 1631 \r\nL 2766 1759 \r\nL 2194 1759 \r\nz\r\nM 3341 1997 \r\nL 3341 0 \r\nL 2766 0 \r\nL 2766 531 \r\nQ 2569 213 2275 61 \r\nQ 1981 -91 1556 -91 \r\nQ 1019 -91 701 211 \r\nQ 384 513 384 1019 \r\nQ 384 1609 779 1909 \r\nQ 1175 2209 1959 2209 \r\nL 2766 2209 \r\nL 2766 2266 \r\nQ 2766 2663 2505 2880 \r\nQ 2244 3097 1772 3097 \r\nQ 1472 3097 1187 3025 \r\nQ 903 2953 641 2809 \r\nL 641 3341 \r\nQ 956 3463 1253 3523 \r\nQ 1550 3584 1831 3584 \r\nQ 2591 3584 2966 3190 \r\nQ 3341 2797 3341 1997 \r\nz\r\n\" id=\"DejaVuSans-61\" transform=\"scale(0.015625)\"/>\r\n      <path d=\"M 603 3500 \r\nL 1178 3500 \r\nL 1178 0 \r\nL 603 0 \r\nL 603 3500 \r\nz\r\nM 603 4863 \r\nL 1178 4863 \r\nL 1178 4134 \r\nL 603 4134 \r\nL 603 4863 \r\nz\r\n\" id=\"DejaVuSans-69\" transform=\"scale(0.015625)\"/>\r\n      <path d=\"M 3513 2113 \r\nL 3513 0 \r\nL 2938 0 \r\nL 2938 2094 \r\nQ 2938 2591 2744 2837 \r\nQ 2550 3084 2163 3084 \r\nQ 1697 3084 1428 2787 \r\nQ 1159 2491 1159 1978 \r\nL 1159 0 \r\nL 581 0 \r\nL 581 3500 \r\nL 1159 3500 \r\nL 1159 2956 \r\nQ 1366 3272 1645 3428 \r\nQ 1925 3584 2291 3584 \r\nQ 2894 3584 3203 3211 \r\nQ 3513 2838 3513 2113 \r\nz\r\n\" id=\"DejaVuSans-6e\" transform=\"scale(0.015625)\"/>\r\n      <path d=\"M 2906 1791 \r\nQ 2906 2416 2648 2759 \r\nQ 2391 3103 1925 3103 \r\nQ 1463 3103 1205 2759 \r\nQ 947 2416 947 1791 \r\nQ 947 1169 1205 825 \r\nQ 1463 481 1925 481 \r\nQ 2391 481 2648 825 \r\nQ 2906 1169 2906 1791 \r\nz\r\nM 3481 434 \r\nQ 3481 -459 3084 -895 \r\nQ 2688 -1331 1869 -1331 \r\nQ 1566 -1331 1297 -1286 \r\nQ 1028 -1241 775 -1147 \r\nL 775 -588 \r\nQ 1028 -725 1275 -790 \r\nQ 1522 -856 1778 -856 \r\nQ 2344 -856 2625 -561 \r\nQ 2906 -266 2906 331 \r\nL 2906 616 \r\nQ 2728 306 2450 153 \r\nQ 2172 0 1784 0 \r\nQ 1141 0 747 490 \r\nQ 353 981 353 1791 \r\nQ 353 2603 747 3093 \r\nQ 1141 3584 1784 3584 \r\nQ 2172 3584 2450 3431 \r\nQ 2728 3278 2906 2969 \r\nL 2906 3500 \r\nL 3481 3500 \r\nL 3481 434 \r\nz\r\n\" id=\"DejaVuSans-67\" transform=\"scale(0.015625)\"/>\r\n      <path id=\"DejaVuSans-20\" transform=\"scale(0.015625)\"/>\r\n      <path d=\"M 2906 2969 \r\nL 2906 4863 \r\nL 3481 4863 \r\nL 3481 0 \r\nL 2906 0 \r\nL 2906 525 \r\nQ 2725 213 2448 61 \r\nQ 2172 -91 1784 -91 \r\nQ 1150 -91 751 415 \r\nQ 353 922 353 1747 \r\nQ 353 2572 751 3078 \r\nQ 1150 3584 1784 3584 \r\nQ 2172 3584 2448 3432 \r\nQ 2725 3281 2906 2969 \r\nz\r\nM 947 1747 \r\nQ 947 1113 1208 752 \r\nQ 1469 391 1925 391 \r\nQ 2381 391 2643 752 \r\nQ 2906 1113 2906 1747 \r\nQ 2906 2381 2643 2742 \r\nQ 2381 3103 1925 3103 \r\nQ 1469 3103 1208 2742 \r\nQ 947 2381 947 1747 \r\nz\r\n\" id=\"DejaVuSans-64\" transform=\"scale(0.015625)\"/>\r\n      <path d=\"M 191 3500 \r\nL 800 3500 \r\nL 1894 563 \r\nL 2988 3500 \r\nL 3597 3500 \r\nL 2284 0 \r\nL 1503 0 \r\nL 191 3500 \r\nz\r\n\" id=\"DejaVuSans-76\" transform=\"scale(0.015625)\"/>\r\n      <path d=\"M 603 4863 \r\nL 1178 4863 \r\nL 1178 0 \r\nL 603 0 \r\nL 603 4863 \r\nz\r\n\" id=\"DejaVuSans-6c\" transform=\"scale(0.015625)\"/>\r\n      <path d=\"M 1172 4494 \r\nL 1172 3500 \r\nL 2356 3500 \r\nL 2356 3053 \r\nL 1172 3053 \r\nL 1172 1153 \r\nQ 1172 725 1289 603 \r\nQ 1406 481 1766 481 \r\nL 2356 481 \r\nL 2356 0 \r\nL 1766 0 \r\nQ 1100 0 847 248 \r\nQ 594 497 594 1153 \r\nL 594 3053 \r\nL 172 3053 \r\nL 172 3500 \r\nL 594 3500 \r\nL 594 4494 \r\nL 1172 4494 \r\nz\r\n\" id=\"DejaVuSans-74\" transform=\"scale(0.015625)\"/>\r\n      <path d=\"M 1959 3097 \r\nQ 1497 3097 1228 2736 \r\nQ 959 2375 959 1747 \r\nQ 959 1119 1226 758 \r\nQ 1494 397 1959 397 \r\nQ 2419 397 2687 759 \r\nQ 2956 1122 2956 1747 \r\nQ 2956 2369 2687 2733 \r\nQ 2419 3097 1959 3097 \r\nz\r\nM 1959 3584 \r\nQ 2709 3584 3137 3096 \r\nQ 3566 2609 3566 1747 \r\nQ 3566 888 3137 398 \r\nQ 2709 -91 1959 -91 \r\nQ 1206 -91 779 398 \r\nQ 353 888 353 1747 \r\nQ 353 2609 779 3096 \r\nQ 1206 3584 1959 3584 \r\nz\r\n\" id=\"DejaVuSans-6f\" transform=\"scale(0.015625)\"/>\r\n      <path d=\"M 628 4666 \r\nL 1569 4666 \r\nL 2759 1491 \r\nL 3956 4666 \r\nL 4897 4666 \r\nL 4897 0 \r\nL 4281 0 \r\nL 4281 4097 \r\nL 3078 897 \r\nL 2444 897 \r\nL 1241 4097 \r\nL 1241 0 \r\nL 628 0 \r\nL 628 4666 \r\nz\r\n\" id=\"DejaVuSans-4d\" transform=\"scale(0.015625)\"/>\r\n      <path d=\"M 2188 4044 \r\nL 1331 1722 \r\nL 3047 1722 \r\nL 2188 4044 \r\nz\r\nM 1831 4666 \r\nL 2547 4666 \r\nL 4325 0 \r\nL 3669 0 \r\nL 3244 1197 \r\nL 1141 1197 \r\nL 716 0 \r\nL 50 0 \r\nL 1831 4666 \r\nz\r\n\" id=\"DejaVuSans-41\" transform=\"scale(0.015625)\"/>\r\n      <path d=\"M 628 4666 \r\nL 3578 4666 \r\nL 3578 4134 \r\nL 1259 4134 \r\nL 1259 2753 \r\nL 3481 2753 \r\nL 3481 2222 \r\nL 1259 2222 \r\nL 1259 531 \r\nL 3634 531 \r\nL 3634 0 \r\nL 628 0 \r\nL 628 4666 \r\nz\r\n\" id=\"DejaVuSans-45\" transform=\"scale(0.015625)\"/>\r\n     </defs>\r\n     <use xlink:href=\"#DejaVuSans-54\"/>\r\n     <use x=\"46.333984\" xlink:href=\"#DejaVuSans-72\"/>\r\n     <use x=\"87.447266\" xlink:href=\"#DejaVuSans-61\"/>\r\n     <use x=\"148.726562\" xlink:href=\"#DejaVuSans-69\"/>\r\n     <use x=\"176.509766\" xlink:href=\"#DejaVuSans-6e\"/>\r\n     <use x=\"239.888672\" xlink:href=\"#DejaVuSans-69\"/>\r\n     <use x=\"267.671875\" xlink:href=\"#DejaVuSans-6e\"/>\r\n     <use x=\"331.050781\" xlink:href=\"#DejaVuSans-67\"/>\r\n     <use x=\"394.527344\" xlink:href=\"#DejaVuSans-20\"/>\r\n     <use x=\"426.314453\" xlink:href=\"#DejaVuSans-61\"/>\r\n     <use x=\"487.59375\" xlink:href=\"#DejaVuSans-6e\"/>\r\n     <use x=\"550.972656\" xlink:href=\"#DejaVuSans-64\"/>\r\n     <use x=\"614.449219\" xlink:href=\"#DejaVuSans-20\"/>\r\n     <use x=\"646.236328\" xlink:href=\"#DejaVuSans-76\"/>\r\n     <use x=\"705.416016\" xlink:href=\"#DejaVuSans-61\"/>\r\n     <use x=\"766.695312\" xlink:href=\"#DejaVuSans-6c\"/>\r\n     <use x=\"794.478516\" xlink:href=\"#DejaVuSans-69\"/>\r\n     <use x=\"822.261719\" xlink:href=\"#DejaVuSans-64\"/>\r\n     <use x=\"885.738281\" xlink:href=\"#DejaVuSans-61\"/>\r\n     <use x=\"947.017578\" xlink:href=\"#DejaVuSans-74\"/>\r\n     <use x=\"986.226562\" xlink:href=\"#DejaVuSans-69\"/>\r\n     <use x=\"1014.009766\" xlink:href=\"#DejaVuSans-6f\"/>\r\n     <use x=\"1075.191406\" xlink:href=\"#DejaVuSans-6e\"/>\r\n     <use x=\"1138.570312\" xlink:href=\"#DejaVuSans-20\"/>\r\n     <use x=\"1170.357422\" xlink:href=\"#DejaVuSans-4d\"/>\r\n     <use x=\"1256.636719\" xlink:href=\"#DejaVuSans-41\"/>\r\n     <use x=\"1325.044922\" xlink:href=\"#DejaVuSans-45\"/>\r\n    </g>\r\n   </g>\r\n   <g id=\"legend_1\">\r\n    <g id=\"patch_7\">\r\n     <path d=\"M 257.91875 59.674375 \r\nL 364.265625 59.674375 \r\nQ 366.265625 59.674375 366.265625 57.674375 \r\nL 366.265625 29.318125 \r\nQ 366.265625 27.318125 364.265625 27.318125 \r\nL 257.91875 27.318125 \r\nQ 255.91875 27.318125 255.91875 29.318125 \r\nL 255.91875 57.674375 \r\nQ 255.91875 59.674375 257.91875 59.674375 \r\nz\r\n\" style=\"fill:#ffffff;opacity:0.8;stroke:#cccccc;stroke-linejoin:miter;\"/>\r\n    </g>\r\n    <g id=\"line2d_17\"/>\r\n    <g id=\"line2d_18\">\r\n     <g>\r\n      <use style=\"fill:#0000ff;stroke:#0000ff;\" x=\"269.91875\" xlink:href=\"#meb3a226f5e\" y=\"35.416562\"/>\r\n     </g>\r\n    </g>\r\n    <g id=\"text_16\">\r\n     <!-- Training MAE -->\r\n     <g transform=\"translate(287.91875 38.916562)scale(0.1 -0.1)\">\r\n      <use xlink:href=\"#DejaVuSans-54\"/>\r\n      <use x=\"46.333984\" xlink:href=\"#DejaVuSans-72\"/>\r\n      <use x=\"87.447266\" xlink:href=\"#DejaVuSans-61\"/>\r\n      <use x=\"148.726562\" xlink:href=\"#DejaVuSans-69\"/>\r\n      <use x=\"176.509766\" xlink:href=\"#DejaVuSans-6e\"/>\r\n      <use x=\"239.888672\" xlink:href=\"#DejaVuSans-69\"/>\r\n      <use x=\"267.671875\" xlink:href=\"#DejaVuSans-6e\"/>\r\n      <use x=\"331.050781\" xlink:href=\"#DejaVuSans-67\"/>\r\n      <use x=\"394.527344\" xlink:href=\"#DejaVuSans-20\"/>\r\n      <use x=\"426.314453\" xlink:href=\"#DejaVuSans-4d\"/>\r\n      <use x=\"512.59375\" xlink:href=\"#DejaVuSans-41\"/>\r\n      <use x=\"581.001953\" xlink:href=\"#DejaVuSans-45\"/>\r\n     </g>\r\n    </g>\r\n    <g id=\"line2d_19\">\r\n     <path d=\"M 259.91875 50.094687 \r\nL 279.91875 50.094687 \r\n\" style=\"fill:none;stroke:#0000ff;stroke-linecap:square;stroke-width:1.5;\"/>\r\n    </g>\r\n    <g id=\"line2d_20\"/>\r\n    <g id=\"text_17\">\r\n     <!-- Validation MAE -->\r\n     <g transform=\"translate(287.91875 53.594687)scale(0.1 -0.1)\">\r\n      <defs>\r\n       <path d=\"M 1831 0 \r\nL 50 4666 \r\nL 709 4666 \r\nL 2188 738 \r\nL 3669 4666 \r\nL 4325 4666 \r\nL 2547 0 \r\nL 1831 0 \r\nz\r\n\" id=\"DejaVuSans-56\" transform=\"scale(0.015625)\"/>\r\n      </defs>\r\n      <use xlink:href=\"#DejaVuSans-56\"/>\r\n      <use x=\"60.658203\" xlink:href=\"#DejaVuSans-61\"/>\r\n      <use x=\"121.9375\" xlink:href=\"#DejaVuSans-6c\"/>\r\n      <use x=\"149.720703\" xlink:href=\"#DejaVuSans-69\"/>\r\n      <use x=\"177.503906\" xlink:href=\"#DejaVuSans-64\"/>\r\n      <use x=\"240.980469\" xlink:href=\"#DejaVuSans-61\"/>\r\n      <use x=\"302.259766\" xlink:href=\"#DejaVuSans-74\"/>\r\n      <use x=\"341.46875\" xlink:href=\"#DejaVuSans-69\"/>\r\n      <use x=\"369.251953\" xlink:href=\"#DejaVuSans-6f\"/>\r\n      <use x=\"430.433594\" xlink:href=\"#DejaVuSans-6e\"/>\r\n      <use x=\"493.8125\" xlink:href=\"#DejaVuSans-20\"/>\r\n      <use x=\"525.599609\" xlink:href=\"#DejaVuSans-4d\"/>\r\n      <use x=\"611.878906\" xlink:href=\"#DejaVuSans-41\"/>\r\n      <use x=\"680.287109\" xlink:href=\"#DejaVuSans-45\"/>\r\n     </g>\r\n    </g>\r\n   </g>\r\n  </g>\r\n </g>\r\n <defs>\r\n  <clipPath id=\"pbf2f38049c\">\r\n   <rect height=\"217.44\" width=\"334.8\" x=\"36.465625\" y=\"22.318125\"/>\r\n  </clipPath>\r\n </defs>\r\n</svg>\r\n",
      "image/png": "[encoded data removed]"
     },
     "metadata": {
      "needs_background": "light"
     }
    }
   ],
   "metadata": {}
  },
  {
   "cell_type": "code",
   "execution_count": 9,
   "source": [
    "model = keras.models.load_model(\"jena_lstm.keras\")\r\n",
    "print(f\"Test MAE: {model.evaluate(test_dataset)[1]:.2f}\")"
   ],
   "outputs": [
    {
     "output_type": "stream",
     "name": "stdout",
     "text": [
      "405/405 [==============================] - 7s 18ms/step - loss: 10.6795 - mae: 2.5664\n",
      "Test MAE: 2.57\n"
     ]
    }
   ],
   "metadata": {}
  },
  {
   "cell_type": "markdown",
   "source": [],
   "metadata": {}
  },
  {
   "cell_type": "markdown",
   "source": [
    "### 小贴士\r\n",
    "\r\n",
    "keras ltsm/gru 训练时 gpu 上使用 cuDNN 内核的前提是保持默认参数,上文我们打破了,所以无法调用 cuDNN 内核.模型的训练时间也就回退到了普通 tensorflow 的思想,比通常慢 3~5 倍\r\n",
    "\r\n",
    "当我们不能使用 cuDNN 时,可以尝试解卷积,解除 for 循环,并简单将其转换为内联(??),看原文就是增加一个参数 `unroll=True`,不过这样会大大增加显存的消耗,而且不能向模型传递任何没有固定形状的数据.(就是不能有 None)."
   ],
   "metadata": {}
  },
  {
   "cell_type": "code",
   "execution_count": 10,
   "source": [
    "# inputs = keras.Input(shape=(sequence_length, num_features))\r\n",
    "# x = layers.LSTM(32, recurrent_dropout=0.2, unroll=True)(inputs)"
   ],
   "outputs": [],
   "metadata": {}
  },
  {
   "cell_type": "markdown",
   "source": [
    "## rnn 堆叠\r\n",
    "\r\n",
    "模型不再过拟合吗,但是似乎遇到了性能瓶颈.此时需要考虑增大网络容量了.\r\n",
    "\r\n",
    "回顾一下机器学习的基本流程: 增加网络容量通常是个好办法,直到过拟合变为主要障碍(假设已经采取了基本的降低过拟合的策略,例如 dropout),只要不是过拟合太严重,很可能是容量不足问题.\r\n",
    "\r\n",
    "增加网络容量的办法通常是增加每层的单元数,或者增加层数,rnn 堆叠是更加更强大 rnn 网络的经典方法,目前 google 的翻译算法就是 7 个大型 ltsm 的堆叠.\r\n",
    "\r\n",
    "为了将 rnn 层堆叠起来,所有中间层都需要输出网站的序列,而不是只输出最后一个时间步的输出.这是通过指定 `return_sequences=True` 实现的.\r\n",
    "\r\n",
    "下面的例子中我们会将 ltsm 范围 gru,gru 和 ltsm 非常相似,你可以将其视为 ltsm 的简化版本.\r\n"
   ],
   "metadata": {}
  },
  {
   "cell_type": "code",
   "execution_count": 11,
   "source": [
    "inputs = keras.Input(shape=(sequence_length, raw_data.shape[-1]))\r\n",
    "x = layers.GRU(32, recurrent_dropout=0.5, unroll=True,\r\n",
    "               return_sequences=True)(inputs)\r\n",
    "x = layers.GRU(32, recurrent_dropout=0.5, unroll=True)(x)\r\n",
    "x = layers.Dropout(0.5)(x)\r\n",
    "outputs = layers.Dense(1)(x)\r\n",
    "model = keras.Model(inputs, outputs)\r\n",
    "\r\n",
    "model.compile(optimizer=\"rmsprop\", loss=\"mse\", metrics=[\"mae\"])"
   ],
   "outputs": [],
   "metadata": {}
  },
  {
   "cell_type": "markdown",
   "source": [
    "这里我们还是不能使用 cuRNN 内核,所以训练非常之慢...\r\n",
    "\r\n",
    "---\r\n",
    "\r\n",
    "我们堆叠了两个 gru 层,同时使用了 dropout.\r\n"
   ],
   "metadata": {}
  },
  {
   "cell_type": "code",
   "execution_count": 12,
   "source": [
    "callbacks = [\r\n",
    "    keras.callbacks.ModelCheckpoint(\"jena_stacked_gru_dropout.keras\",\r\n",
    "                                    save_best_only=True)\r\n",
    "]\r\n",
    "history = model.fit(train_dataset,\r\n",
    "                    epochs=50,\r\n",
    "                    validation_data=val_dataset,\r\n",
    "                    callbacks=callbacks)"
   ],
   "outputs": [
    {
     "output_type": "stream",
     "name": "stdout",
     "text": [
      "Epoch 1/50\n",
      "819/819 [==============================] - 148s 178ms/step - loss: 24.6477 - mae: 3.6737 - val_loss: 10.0024 - val_mae: 2.4640\n",
      "Epoch 2/50\n",
      "819/819 [==============================] - 144s 176ms/step - loss: 14.0645 - mae: 2.9031 - val_loss: 9.0201 - val_mae: 2.3240\n",
      "Epoch 3/50\n",
      "819/819 [==============================] - 148s 181ms/step - loss: 13.3406 - mae: 2.8282 - val_loss: 9.2028 - val_mae: 2.3511\n",
      "Epoch 4/50\n",
      "819/819 [==============================] - 149s 182ms/step - loss: 12.7574 - mae: 2.7630 - val_loss: 8.6870 - val_mae: 2.2830\n",
      "Epoch 5/50\n",
      " 45/819 [>.............................] - ETA: 2:10 - loss: 12.5069 - mae: 2.7326"
     ]
    },
    {
     "output_type": "error",
     "ename": "KeyboardInterrupt",
     "evalue": "",
     "traceback": [
      "\u001b[1;31m---------------------------------------------------------------------------\u001b[0m",
      "\u001b[1;31mKeyboardInterrupt\u001b[0m                         Traceback (most recent call last)",
      "\u001b[1;32m~\\AppData\\Local\\Temp/ipykernel_1700/2616552557.py\u001b[0m in \u001b[0;36m<module>\u001b[1;34m\u001b[0m\n\u001b[0;32m      3\u001b[0m                                     save_best_only=True)\n\u001b[0;32m      4\u001b[0m ]\n\u001b[1;32m----> 5\u001b[1;33m history = model.fit(train_dataset,\n\u001b[0m\u001b[0;32m      6\u001b[0m                     \u001b[0mepochs\u001b[0m\u001b[1;33m=\u001b[0m\u001b[1;36m50\u001b[0m\u001b[1;33m,\u001b[0m\u001b[1;33m\u001b[0m\u001b[1;33m\u001b[0m\u001b[0m\n\u001b[0;32m      7\u001b[0m                     \u001b[0mvalidation_data\u001b[0m\u001b[1;33m=\u001b[0m\u001b[0mval_dataset\u001b[0m\u001b[1;33m,\u001b[0m\u001b[1;33m\u001b[0m\u001b[1;33m\u001b[0m\u001b[0m\n",
      "\u001b[1;32mc:\\Users\\stati\\Git\\Deep-Learning\\tf\\lib\\site-packages\\tensorflow\\python\\keras\\engine\\training.py\u001b[0m in \u001b[0;36mfit\u001b[1;34m(self, x, y, batch_size, epochs, verbose, callbacks, validation_split, validation_data, shuffle, class_weight, sample_weight, initial_epoch, steps_per_epoch, validation_steps, validation_batch_size, validation_freq, max_queue_size, workers, use_multiprocessing)\u001b[0m\n\u001b[0;32m   1181\u001b[0m                 _r=1):\n\u001b[0;32m   1182\u001b[0m               \u001b[0mcallbacks\u001b[0m\u001b[1;33m.\u001b[0m\u001b[0mon_train_batch_begin\u001b[0m\u001b[1;33m(\u001b[0m\u001b[0mstep\u001b[0m\u001b[1;33m)\u001b[0m\u001b[1;33m\u001b[0m\u001b[1;33m\u001b[0m\u001b[0m\n\u001b[1;32m-> 1183\u001b[1;33m               \u001b[0mtmp_logs\u001b[0m \u001b[1;33m=\u001b[0m \u001b[0mself\u001b[0m\u001b[1;33m.\u001b[0m\u001b[0mtrain_function\u001b[0m\u001b[1;33m(\u001b[0m\u001b[0miterator\u001b[0m\u001b[1;33m)\u001b[0m\u001b[1;33m\u001b[0m\u001b[1;33m\u001b[0m\u001b[0m\n\u001b[0m\u001b[0;32m   1184\u001b[0m               \u001b[1;32mif\u001b[0m \u001b[0mdata_handler\u001b[0m\u001b[1;33m.\u001b[0m\u001b[0mshould_sync\u001b[0m\u001b[1;33m:\u001b[0m\u001b[1;33m\u001b[0m\u001b[1;33m\u001b[0m\u001b[0m\n\u001b[0;32m   1185\u001b[0m                 \u001b[0mcontext\u001b[0m\u001b[1;33m.\u001b[0m\u001b[0masync_wait\u001b[0m\u001b[1;33m(\u001b[0m\u001b[1;33m)\u001b[0m\u001b[1;33m\u001b[0m\u001b[1;33m\u001b[0m\u001b[0m\n",
      "\u001b[1;32mc:\\Users\\stati\\Git\\Deep-Learning\\tf\\lib\\site-packages\\tensorflow\\python\\eager\\def_function.py\u001b[0m in \u001b[0;36m__call__\u001b[1;34m(self, *args, **kwds)\u001b[0m\n\u001b[0;32m    887\u001b[0m \u001b[1;33m\u001b[0m\u001b[0m\n\u001b[0;32m    888\u001b[0m       \u001b[1;32mwith\u001b[0m \u001b[0mOptionalXlaContext\u001b[0m\u001b[1;33m(\u001b[0m\u001b[0mself\u001b[0m\u001b[1;33m.\u001b[0m\u001b[0m_jit_compile\u001b[0m\u001b[1;33m)\u001b[0m\u001b[1;33m:\u001b[0m\u001b[1;33m\u001b[0m\u001b[1;33m\u001b[0m\u001b[0m\n\u001b[1;32m--> 889\u001b[1;33m         \u001b[0mresult\u001b[0m \u001b[1;33m=\u001b[0m \u001b[0mself\u001b[0m\u001b[1;33m.\u001b[0m\u001b[0m_call\u001b[0m\u001b[1;33m(\u001b[0m\u001b[1;33m*\u001b[0m\u001b[0margs\u001b[0m\u001b[1;33m,\u001b[0m \u001b[1;33m**\u001b[0m\u001b[0mkwds\u001b[0m\u001b[1;33m)\u001b[0m\u001b[1;33m\u001b[0m\u001b[1;33m\u001b[0m\u001b[0m\n\u001b[0m\u001b[0;32m    890\u001b[0m \u001b[1;33m\u001b[0m\u001b[0m\n\u001b[0;32m    891\u001b[0m       \u001b[0mnew_tracing_count\u001b[0m \u001b[1;33m=\u001b[0m \u001b[0mself\u001b[0m\u001b[1;33m.\u001b[0m\u001b[0mexperimental_get_tracing_count\u001b[0m\u001b[1;33m(\u001b[0m\u001b[1;33m)\u001b[0m\u001b[1;33m\u001b[0m\u001b[1;33m\u001b[0m\u001b[0m\n",
      "\u001b[1;32mc:\\Users\\stati\\Git\\Deep-Learning\\tf\\lib\\site-packages\\tensorflow\\python\\eager\\def_function.py\u001b[0m in \u001b[0;36m_call\u001b[1;34m(self, *args, **kwds)\u001b[0m\n\u001b[0;32m    915\u001b[0m       \u001b[1;31m# In this case we have created variables on the first call, so we run the\u001b[0m\u001b[1;33m\u001b[0m\u001b[1;33m\u001b[0m\u001b[1;33m\u001b[0m\u001b[0m\n\u001b[0;32m    916\u001b[0m       \u001b[1;31m# defunned version which is guaranteed to never create variables.\u001b[0m\u001b[1;33m\u001b[0m\u001b[1;33m\u001b[0m\u001b[1;33m\u001b[0m\u001b[0m\n\u001b[1;32m--> 917\u001b[1;33m       \u001b[1;32mreturn\u001b[0m \u001b[0mself\u001b[0m\u001b[1;33m.\u001b[0m\u001b[0m_stateless_fn\u001b[0m\u001b[1;33m(\u001b[0m\u001b[1;33m*\u001b[0m\u001b[0margs\u001b[0m\u001b[1;33m,\u001b[0m \u001b[1;33m**\u001b[0m\u001b[0mkwds\u001b[0m\u001b[1;33m)\u001b[0m  \u001b[1;31m# pylint: disable=not-callable\u001b[0m\u001b[1;33m\u001b[0m\u001b[1;33m\u001b[0m\u001b[0m\n\u001b[0m\u001b[0;32m    918\u001b[0m     \u001b[1;32melif\u001b[0m \u001b[0mself\u001b[0m\u001b[1;33m.\u001b[0m\u001b[0m_stateful_fn\u001b[0m \u001b[1;32mis\u001b[0m \u001b[1;32mnot\u001b[0m \u001b[1;32mNone\u001b[0m\u001b[1;33m:\u001b[0m\u001b[1;33m\u001b[0m\u001b[1;33m\u001b[0m\u001b[0m\n\u001b[0;32m    919\u001b[0m       \u001b[1;31m# Release the lock early so that multiple threads can perform the call\u001b[0m\u001b[1;33m\u001b[0m\u001b[1;33m\u001b[0m\u001b[1;33m\u001b[0m\u001b[0m\n",
      "\u001b[1;32mc:\\Users\\stati\\Git\\Deep-Learning\\tf\\lib\\site-packages\\tensorflow\\python\\eager\\function.py\u001b[0m in \u001b[0;36m__call__\u001b[1;34m(self, *args, **kwargs)\u001b[0m\n\u001b[0;32m   3021\u001b[0m       (graph_function,\n\u001b[0;32m   3022\u001b[0m        filtered_flat_args) = self._maybe_define_function(args, kwargs)\n\u001b[1;32m-> 3023\u001b[1;33m     return graph_function._call_flat(\n\u001b[0m\u001b[0;32m   3024\u001b[0m         filtered_flat_args, captured_inputs=graph_function.captured_inputs)  # pylint: disable=protected-access\n\u001b[0;32m   3025\u001b[0m \u001b[1;33m\u001b[0m\u001b[0m\n",
      "\u001b[1;32mc:\\Users\\stati\\Git\\Deep-Learning\\tf\\lib\\site-packages\\tensorflow\\python\\eager\\function.py\u001b[0m in \u001b[0;36m_call_flat\u001b[1;34m(self, args, captured_inputs, cancellation_manager)\u001b[0m\n\u001b[0;32m   1958\u001b[0m         and executing_eagerly):\n\u001b[0;32m   1959\u001b[0m       \u001b[1;31m# No tape is watching; skip to running the function.\u001b[0m\u001b[1;33m\u001b[0m\u001b[1;33m\u001b[0m\u001b[1;33m\u001b[0m\u001b[0m\n\u001b[1;32m-> 1960\u001b[1;33m       return self._build_call_outputs(self._inference_function.call(\n\u001b[0m\u001b[0;32m   1961\u001b[0m           ctx, args, cancellation_manager=cancellation_manager))\n\u001b[0;32m   1962\u001b[0m     forward_backward = self._select_forward_and_backward_functions(\n",
      "\u001b[1;32mc:\\Users\\stati\\Git\\Deep-Learning\\tf\\lib\\site-packages\\tensorflow\\python\\eager\\function.py\u001b[0m in \u001b[0;36mcall\u001b[1;34m(self, ctx, args, cancellation_manager)\u001b[0m\n\u001b[0;32m    589\u001b[0m       \u001b[1;32mwith\u001b[0m \u001b[0m_InterpolateFunctionError\u001b[0m\u001b[1;33m(\u001b[0m\u001b[0mself\u001b[0m\u001b[1;33m)\u001b[0m\u001b[1;33m:\u001b[0m\u001b[1;33m\u001b[0m\u001b[1;33m\u001b[0m\u001b[0m\n\u001b[0;32m    590\u001b[0m         \u001b[1;32mif\u001b[0m \u001b[0mcancellation_manager\u001b[0m \u001b[1;32mis\u001b[0m \u001b[1;32mNone\u001b[0m\u001b[1;33m:\u001b[0m\u001b[1;33m\u001b[0m\u001b[1;33m\u001b[0m\u001b[0m\n\u001b[1;32m--> 591\u001b[1;33m           outputs = execute.execute(\n\u001b[0m\u001b[0;32m    592\u001b[0m               \u001b[0mstr\u001b[0m\u001b[1;33m(\u001b[0m\u001b[0mself\u001b[0m\u001b[1;33m.\u001b[0m\u001b[0msignature\u001b[0m\u001b[1;33m.\u001b[0m\u001b[0mname\u001b[0m\u001b[1;33m)\u001b[0m\u001b[1;33m,\u001b[0m\u001b[1;33m\u001b[0m\u001b[1;33m\u001b[0m\u001b[0m\n\u001b[0;32m    593\u001b[0m               \u001b[0mnum_outputs\u001b[0m\u001b[1;33m=\u001b[0m\u001b[0mself\u001b[0m\u001b[1;33m.\u001b[0m\u001b[0m_num_outputs\u001b[0m\u001b[1;33m,\u001b[0m\u001b[1;33m\u001b[0m\u001b[1;33m\u001b[0m\u001b[0m\n",
      "\u001b[1;32mc:\\Users\\stati\\Git\\Deep-Learning\\tf\\lib\\site-packages\\tensorflow\\python\\eager\\execute.py\u001b[0m in \u001b[0;36mquick_execute\u001b[1;34m(op_name, num_outputs, inputs, attrs, ctx, name)\u001b[0m\n\u001b[0;32m     57\u001b[0m   \u001b[1;32mtry\u001b[0m\u001b[1;33m:\u001b[0m\u001b[1;33m\u001b[0m\u001b[1;33m\u001b[0m\u001b[0m\n\u001b[0;32m     58\u001b[0m     \u001b[0mctx\u001b[0m\u001b[1;33m.\u001b[0m\u001b[0mensure_initialized\u001b[0m\u001b[1;33m(\u001b[0m\u001b[1;33m)\u001b[0m\u001b[1;33m\u001b[0m\u001b[1;33m\u001b[0m\u001b[0m\n\u001b[1;32m---> 59\u001b[1;33m     tensors = pywrap_tfe.TFE_Py_Execute(ctx._handle, device_name, op_name,\n\u001b[0m\u001b[0;32m     60\u001b[0m                                         inputs, attrs, num_outputs)\n\u001b[0;32m     61\u001b[0m   \u001b[1;32mexcept\u001b[0m \u001b[0mcore\u001b[0m\u001b[1;33m.\u001b[0m\u001b[0m_NotOkStatusException\u001b[0m \u001b[1;32mas\u001b[0m \u001b[0me\u001b[0m\u001b[1;33m:\u001b[0m\u001b[1;33m\u001b[0m\u001b[1;33m\u001b[0m\u001b[0m\n",
      "\u001b[1;31mKeyboardInterrupt\u001b[0m: "
     ]
    }
   ],
   "metadata": {}
  },
  {
   "cell_type": "code",
   "execution_count": null,
   "source": [
    "loss = history.history[\"mae\"]\r\n",
    "val_loss = history.history[\"val_mae\"]\r\n",
    "epochs = range(1, len(loss) + 1)\r\n",
    "plt.figure()\r\n",
    "plt.plot(epochs, loss, \"bo\", label=\"Training MAE\")\r\n",
    "plt.plot(epochs, val_loss, \"b\", label=\"Validation MAE\")\r\n",
    "plt.title(\"Training and validation MAE\")\r\n",
    "plt.legend()\r\n",
    "plt.show()"
   ],
   "outputs": [],
   "metadata": {}
  },
  {
   "cell_type": "code",
   "execution_count": null,
   "source": [
    "model = keras.models.load_model(\"jena_stacked_gru_dropout.keras\")\r\n",
    "print(f\"Test MAE: {model.evaluate(test_dataset)[1]:.2f}\")"
   ],
   "outputs": [],
   "metadata": {}
  },
  {
   "cell_type": "markdown",
   "source": [
    "## 双向 rnn\r\n",
    "\r\n",
    "本节介绍的最后一种方法叫做双向 rnn,双向 rnn 是一种常见的 rnn 变体,它在某些任务上表现比普通 rnn 更好,常用于自然语言处理.\r\n",
    "\r\n",
    "rnn 非常依赖与输入顺序/时间.rnn 按照顺序处理序列的时间步,而打乱时间步或者反转时间步将会完全改变 rnn 从序列中提取的模式.正是这个原因使得 rnn 在顺序敏感问题上表现很好.双向 rnn 利用了 rnn 对顺序的敏感性: 它包含两个普通 rnn,每个 rnn 分别沿着输入序列的正序和逆序进行处理,最后将结果合并.双向 rnn 有可能捕获单向 rnn 忽略的模式.\r\n"
   ],
   "metadata": {}
  },
  {
   "cell_type": "markdown",
   "source": [
    "值得注意的是截止到现在,本文例子中的 rnn 模型输入全部都是正向,至少我们没有刻意尝试逆向.逆向序列会更好吗?我们尝试一下第一个实验中使用的 ltsm 模型.(将输入实例程序替换 yield  samples[:, ::-1, :], targets)\r\n",
    "\r\n",
    "![backwards_lstm_model_metrics](backwards_lstm_model_metrics.png)\r\n",
    "\r\n",
    "逆序 ltsm 的结果,甚至低于基线..这表明至少在这个实验中,按照时间正向输入数据对解决问题非常重要: ltsm 在记忆刚刚过去的时间比记忆更遥远过去更加容易,对这个问题而言,较劲的天气数据比较早的数据预测上更有价值,因此输入正向的序列结果肯定比逆序的要好.\r\n"
   ],
   "metadata": {}
  }
 ],
 "metadata": {
  "orig_nbformat": 4,
  "language_info": {
   "name": "python",
   "version": "3.9.6",
   "mimetype": "text/x-python",
   "codemirror_mode": {
    "name": "ipython",
    "version": 3
   },
   "pygments_lexer": "ipython3",
   "nbconvert_exporter": "python",
   "file_extension": ".py"
  },
  "kernelspec": {
   "name": "python3",
   "display_name": "Python 3.9.6 64-bit ('tf')"
  },
  "interpreter": {
   "hash": "aac46f597da82ce9618f0e6f094e6d401f1ab16d9be89acf77ce1dd63d67a333"
  }
 },
 "nbformat": 4,
 "nbformat_minor": 2
}