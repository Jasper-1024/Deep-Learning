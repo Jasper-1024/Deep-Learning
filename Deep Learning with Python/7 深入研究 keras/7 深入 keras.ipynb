{
 "cells": [
  {
   "cell_type": "markdown",
   "source": [
    "# 深入 keras\r\n",
    "\r\n",
    "经历前面的学习,对 keras 终于摆脱了完全新手状态.本书接下来的章节将会深入深度学习在计算机视觉,时间序列,自然语言处理,生成式深度学习的应用,这些领域可需要用到 keras 更多东西.所以这个章节会是 keras api 的专门学习.接下来我们会学习到专业领域会用到的所有内容.\r\n"
   ],
   "metadata": {}
  },
  {
   "cell_type": "markdown",
   "source": [
    "## 章节概况\r\n",
    "\r\n",
    "- 创建 keras 模型不同的途径,Sequential 类 Functional API 和 model subclassing.\r\n",
    "- 如何使用 keras 内置的训练和评估方法.包括如何自定义的度量和自定义的损失函数.\r\n",
    "- 使用 keras 的回调进一步定制训练过程\r\n",
    "- 使用 TensorBoard 监控训练和评估指标的时间\r\n",
    "- 编写自定义的训练和评估循环\r\n"
   ],
   "metadata": {}
  }
 ],
 "metadata": {
  "orig_nbformat": 4,
  "language_info": {
   "name": "python"
  }
 },
 "nbformat": 4,
 "nbformat_minor": 2
}