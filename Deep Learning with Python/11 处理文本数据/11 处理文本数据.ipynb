{
 "cells": [
  {
   "cell_type": "markdown",
   "source": [
    "# 11 处理文本数据\r\n",
    "\r\n",
    "本章包括\r\n",
    "\r\n",
    "- 预处理文本数据\r\n",
    "- 用于文本数据处理的词袋和序列建模\r\n",
    "- Transformer 架构(变形金刚?🤣)\r\n",
    "- 序列到序列的学习\r\n"
   ],
   "metadata": {}
  }
 ],
 "metadata": {
  "orig_nbformat": 4,
  "language_info": {
   "name": "python"
  }
 },
 "nbformat": 4,
 "nbformat_minor": 2
}