{
 "cells": [
  {
   "cell_type": "markdown",
   "metadata": {},
   "source": [
    "这一章包括\n",
    "\n",
    "- 超参数调节\n",
    "- 组合模型\n",
    "- 混合精度训练\n",
    "- 在多个GPU/TPU上训练 Keras 模型"
   ]
  },
  {
   "cell_type": "markdown",
   "metadata": {},
   "source": [
    "概述\n",
    "---\n",
    "\n",
    "到这一章已经学了很多模型,但是都是小规模数据集,要到现实世界开发模型,还有一道鸿沟需要弥补,这就是这一章的主要工作,从初学者到工程师的最佳实践.\n",
    "\n",
    "- 超参数调节/模型组合\n",
    "- 多GPU/TPU训练\n",
    "- 混合精度训练\n",
    "- 云端加速等"
   ]
  }
 ],
 "metadata": {
  "language_info": {
   "name": "python"
  },
  "orig_nbformat": 4
 },
 "nbformat": 4,
 "nbformat_minor": 2
}
