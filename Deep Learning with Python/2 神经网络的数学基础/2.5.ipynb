{
 "cells": [
  {
   "cell_type": "markdown",
   "metadata": {},
   "source": [
    "# 回顾 mnist 例子\n",
    "\n",
    "网络 层 损失函数 优化器之间的关系如下图:\n",
    "\n",
    "![神经网络组件关系](./神经网络各个组件关系.png)\n"
   ]
  },
  {
   "cell_type": "markdown",
   "metadata": {},
   "source": [
    "这一节将使用 tensorflow 实现 minist 的神经网络训练.并且与 keras 对比.\n"
   ]
  },
  {
   "cell_type": "code",
   "execution_count": 1,
   "metadata": {},
   "outputs": [
    {
     "name": "stderr",
     "output_type": "stream",
     "text": [
      "2022-03-01 10:22:22.663073: I tensorflow/stream_executor/cuda/cuda_gpu_executor.cc:923] could not open file to read NUMA node: /sys/bus/pci/devices/0000:07:00.0/numa_node\n",
      "Your kernel may have been built without NUMA support.\n",
      "2022-03-01 10:22:22.696791: I tensorflow/stream_executor/cuda/cuda_gpu_executor.cc:923] could not open file to read NUMA node: /sys/bus/pci/devices/0000:07:00.0/numa_node\n",
      "Your kernel may have been built without NUMA support.\n",
      "2022-03-01 10:22:22.697082: I tensorflow/stream_executor/cuda/cuda_gpu_executor.cc:923] could not open file to read NUMA node: /sys/bus/pci/devices/0000:07:00.0/numa_node\n",
      "Your kernel may have been built without NUMA support.\n",
      "2022-03-01 10:22:22.698660: I tensorflow/core/platform/cpu_feature_guard.cc:142] This TensorFlow binary is optimized with oneAPI Deep Neural Network Library (oneDNN) to use the following CPU instructions in performance-critical operations:  AVX2 FMA\n",
      "To enable them in other operations, rebuild TensorFlow with the appropriate compiler flags.\n",
      "2022-03-01 10:22:22.700641: I tensorflow/stream_executor/cuda/cuda_gpu_executor.cc:923] could not open file to read NUMA node: /sys/bus/pci/devices/0000:07:00.0/numa_node\n",
      "Your kernel may have been built without NUMA support.\n",
      "2022-03-01 10:22:22.700930: I tensorflow/stream_executor/cuda/cuda_gpu_executor.cc:923] could not open file to read NUMA node: /sys/bus/pci/devices/0000:07:00.0/numa_node\n",
      "Your kernel may have been built without NUMA support.\n",
      "2022-03-01 10:22:22.701224: I tensorflow/stream_executor/cuda/cuda_gpu_executor.cc:923] could not open file to read NUMA node: /sys/bus/pci/devices/0000:07:00.0/numa_node\n",
      "Your kernel may have been built without NUMA support.\n",
      "2022-03-01 10:22:23.957481: I tensorflow/stream_executor/cuda/cuda_gpu_executor.cc:923] could not open file to read NUMA node: /sys/bus/pci/devices/0000:07:00.0/numa_node\n",
      "Your kernel may have been built without NUMA support.\n",
      "2022-03-01 10:22:23.957721: I tensorflow/stream_executor/cuda/cuda_gpu_executor.cc:923] could not open file to read NUMA node: /sys/bus/pci/devices/0000:07:00.0/numa_node\n",
      "Your kernel may have been built without NUMA support.\n",
      "2022-03-01 10:22:23.957733: I tensorflow/core/common_runtime/gpu/gpu_device.cc:1594] Could not identify NUMA node of platform GPU id 0, defaulting to 0.  Your kernel may not have been built with NUMA support.\n",
      "2022-03-01 10:22:23.957951: I tensorflow/stream_executor/cuda/cuda_gpu_executor.cc:923] could not open file to read NUMA node: /sys/bus/pci/devices/0000:07:00.0/numa_node\n",
      "Your kernel may have been built without NUMA support.\n",
      "2022-03-01 10:22:23.958006: I tensorflow/core/common_runtime/gpu/gpu_device.cc:1510] Created device /job:localhost/replica:0/task:0/device:GPU:0 with 3937 MB memory:  -> device: 0, name: NVIDIA GeForce RTX 2060, pci bus id: 0000:07:00.0, compute capability: 7.5\n"
     ]
    }
   ],
   "source": [
    "from tensorflow.keras import models\n",
    "from tensorflow.keras import layers\n",
    "\n",
    "model = models.Sequential([\n",
    "    layers.Dense(512, activation='relu'),  #全连接层，512个节点\n",
    "    layers.Dense(10, activation='softmax')  #全连接 输出层，10个节点，输出层全连接\n",
    "])"
   ]
  },
  {
   "cell_type": "markdown",
   "metadata": {},
   "source": [
    "这里是 keras 定义神经网络的起点,两个互相连接的 Dense 层.一个输出尺寸是 512 另一个是 10.激活函数一个是 relu 另一个是 softmax\n"
   ]
  },
  {
   "cell_type": "code",
   "execution_count": 2,
   "metadata": {},
   "outputs": [],
   "source": [
    "import tensorflow as tf\n",
    "import numpy as np\n",
    "\n",
    "\n",
    "class NaiveDense:  #一个基本的Dense层\n",
    "    def __init__(self, input_size, output_size, activation):\n",
    "        self.activation = activation\n",
    "        w_shape = (input_size, output_size\n",
    "                   )  #创建矩阵 w 尺寸为 (input_size, output_size) 随机初始化\n",
    "        w_initial_value = tf.random.uniform(w_shape, minval=0, maxval=1e-1)\n",
    "        self.W = tf.Variable(w_initial_value)\n",
    "\n",
    "        b_shape = (output_size, )  #创建矩阵 b 尺寸为 (output_size) 随机初始化\n",
    "        b_initial_value = tf.zeros(b_shape)\n",
    "        self.b = tf.Variable(b_initial_value)\n",
    "\n",
    "    def __call__(self, inputs):\n",
    "        return self.activation(tf.matmul(inputs, self.W) + self.b)  # 定义激活函数\n",
    "\n",
    "    @property\n",
    "    def weights(self):  #获取权重\n",
    "        return [self.W, self.b]"
   ]
  },
  {
   "cell_type": "markdown",
   "metadata": {},
   "source": [
    "在 tensorflow 中我们先实现定义一个 Dense 层.Dense 层的 `output = activation(dot(W, input) + b)`\n",
    "\n",
    "- `__init__`: 输入/输出/激活函数.\n",
    "  - 随机初始化 W 和 b.\n",
    "- `__call__`: 输出\n",
    "- `weights`: 将权重转换成属性,方便获取/修改.\n"
   ]
  },
  {
   "cell_type": "code",
   "execution_count": 3,
   "metadata": {},
   "outputs": [],
   "source": [
    "class NaiveSequential:  #连接\n",
    "    def __init__(self, layers):\n",
    "        self.layers = layers\n",
    "\n",
    "    def __call__(self, inputs):  #自上而下调用层\n",
    "        x = inputs\n",
    "        for layer in self.layers:\n",
    "            x = layer(x)\n",
    "        return x\n",
    "\n",
    "    @property\n",
    "    def weights(self):  #获取权重\n",
    "        weights = []\n",
    "        for layer in self.layers:\n",
    "            weights += layer.weights\n",
    "        return weights"
   ]
  },
  {
   "cell_type": "markdown",
   "metadata": {},
   "source": [
    "定义了 Dense 层之后,我们还需要将这些层输入输出连接起来.这是 NaiveSequential 的功能.\n",
    "\n",
    "- `__init__`: 所有神经网络层\n",
    "- `__call__`: 输入 input 调用所有层的 call 方法,获取神经网络最后的输出.\n",
    "- `weights`: 获取全部层的权重\n"
   ]
  },
  {
   "cell_type": "code",
   "execution_count": 4,
   "metadata": {},
   "outputs": [],
   "source": [
    "model2 = NaiveSequential([\n",
    "    NaiveDense(input_size=28 * 28, output_size=512, activation=tf.nn.relu),\n",
    "    NaiveDense(input_size=512, output_size=10, activation=tf.nn.softmax)\n",
    "])\n",
    "\n",
    "assert len(model2.weights) == 4"
   ]
  },
  {
   "cell_type": "markdown",
   "metadata": {},
   "source": [
    "终于到了与 `models.Sequential` 相同的定义了.\n",
    "\n",
    "- 2 个 Dense 层,第一层输入 28*28 输出 512 ,第二层输入 512 输出 10.\n",
    "- 第一层激活函数是 `relu` 第二层是 `softmax`\n"
   ]
  },
  {
   "cell_type": "code",
   "execution_count": 5,
   "metadata": {},
   "outputs": [],
   "source": [
    "model.compile(  #编译模型\n",
    "    optimizer='rmsprop',  #优化器\n",
    "    loss='sparse_categorical_crossentropy',  #损失函数\n",
    "    metrics=['accuracy'])  #指标"
   ]
  },
  {
   "cell_type": "markdown",
   "metadata": {},
   "source": [
    "这部分是模型训练部分,写完才知道 keras 封装了 NN 多的细节.\n"
   ]
  },
  {
   "cell_type": "code",
   "execution_count": 6,
   "metadata": {},
   "outputs": [],
   "source": [
    "from tensorflow.keras import optimizers\n",
    "\n",
    "optimizer = optimizers.SGD(learning_rate=1e-3)\n",
    "\n",
    "def update_weights(gradients, weights):  #更新权重\n",
    "    optimizer.apply_gradients(zip(gradients, weights))\n",
    "\n",
    "# learning_rate = 1e-3\n",
    "\n",
    "# def update_weights(gradients, weights):\n",
    "#     for g, w in zip(gradients, model.weights):\n",
    "#         w.assign_sub(w * learning_rate)"
   ]
  },
  {
   "cell_type": "markdown",
   "metadata": {},
   "source": [
    "更新权重即是将权重向梯度相反方向移动.移动的幅度与具体的优化器有关.\n",
    "\n",
    "上文注释掉部分示例了一个最简单的权重更新,即每次向梯度反方向移动 w * learning_rate.\n",
    "\n",
    "- learning_rate 即学习率,这里是取 1e-3\n",
    "\n",
    "最简单的更新权重效果并不算很好,原书直接使用了 tensorflow 内置的优化器.\n"
   ]
  },
  {
   "cell_type": "code",
   "execution_count": 7,
   "metadata": {},
   "outputs": [],
   "source": [
    "def one_training_step(model, images_batch, labels_batch):  #一次训练\n",
    "    with tf.GradientTape() as tape:\n",
    "        predictions = model(images_batch)  #计算预测值\n",
    "        per_sample_losses = tf.keras.losses.sparse_categorical_crossentropy(\n",
    "            labels_batch, predictions)  #计算每个样本的损失\n",
    "        average_loss = tf.reduce_mean(per_sample_losses)  #计算平均损失\n",
    "    gradients = tape.gradient(average_loss, model.weights)  #\n",
    "    update_weights(gradients, model.weights)  #更新权重\n",
    "    return average_loss  #返回平均的损失"
   ]
  },
  {
   "cell_type": "markdown",
   "metadata": {},
   "source": [
    "终于到了一次具体的模型训练\n",
    "\n",
    "- 输入是 模型/本轮的图像/本轮的标签\n",
    "- 开始计算损失\n",
    "  - 首先在模型上取预测值\n",
    "  - 调用 tf 库计算每个样本的损失\n",
    "  - 计算这个批次的平均损失\n",
    "- 计算梯度\n",
    "- 更新权重\n",
    "- 返回平均损失."
   ]
  },
  {
   "cell_type": "code",
   "execution_count": 8,
   "metadata": {},
   "outputs": [],
   "source": [
    "from keras.datasets import mnist\n",
    "(train_images, train_labels), (test_images, test_labels) = mnist.load_data()\n",
    "\n",
    "train_images = train_images.reshape(\n",
    "    (60000, 28 * 28))  #把训练集的数据变成一个60000*784的数组)\n",
    "train_images = train_images.astype('float32') / 255  #把数组元素转化为float32类型，值范围为0~1\n",
    "test_images = test_images.reshape((10000, 28 * 28))  #把测试集的数据变成一个10000*784的数组)\n",
    "test_images = test_images.astype('float32') / 255  #把数组元素转化为float32类型，值范围为0~1"
   ]
  },
  {
   "cell_type": "code",
   "execution_count": 9,
   "metadata": {},
   "outputs": [],
   "source": [
    "class BatchGenerator:  #生成器 处理 mnist 数据返回每次训练需要的 mnist 数据s\n",
    "    def __init__(self, images, labels, batch_size=128):\n",
    "        self.index = 0\n",
    "        self.images = images\n",
    "        self.labels = labels\n",
    "        self.batch_size = batch_size\n",
    "\n",
    "    def next(self):\n",
    "        images = self.images[self.index:self.index + self.batch_size]\n",
    "        labels = self.labels[self.index:self.index + self.batch_size]\n",
    "        self.index += self.batch_size\n",
    "        return images, labels"
   ]
  },
  {
   "cell_type": "markdown",
   "metadata": {},
   "source": [
    "准备数据,无论是 keras 或者 tf 都是相同的. tf 增加了 BatchGenerator 迭代器.\n"
   ]
  },
  {
   "cell_type": "code",
   "execution_count": 10,
   "metadata": {},
   "outputs": [
    {
     "name": "stderr",
     "output_type": "stream",
     "text": [
      "2022-03-01 10:22:38.791545: I tensorflow/compiler/mlir/mlir_graph_optimization_pass.cc:185] None of the MLIR Optimization Passes are enabled (registered 2)\n"
     ]
    },
    {
     "name": "stdout",
     "output_type": "stream",
     "text": [
      "Epoch 1/5\n",
      "469/469 [==============================] - 4s 6ms/step - loss: 0.2581 - accuracy: 0.9254\n",
      "Epoch 2/5\n",
      "469/469 [==============================] - 3s 6ms/step - loss: 0.1033 - accuracy: 0.9696\n",
      "Epoch 3/5\n",
      "469/469 [==============================] - 3s 6ms/step - loss: 0.0685 - accuracy: 0.9790\n",
      "Epoch 4/5\n",
      "469/469 [==============================] - 3s 6ms/step - loss: 0.0495 - accuracy: 0.9850\n",
      "Epoch 5/5\n",
      "469/469 [==============================] - 3s 5ms/step - loss: 0.0382 - accuracy: 0.9882\n"
     ]
    },
    {
     "data": {
      "text/plain": [
       "<keras.callbacks.History at 0x7f7cfc113160>"
      ]
     },
     "execution_count": 10,
     "metadata": {},
     "output_type": "execute_result"
    }
   ],
   "source": [
    "model.fit(train_images, train_labels, \\\n",
    "            epochs=5,batch_size=128)  #训练模型，训练5轮，每批128个样本"
   ]
  },
  {
   "cell_type": "markdown",
   "metadata": {},
   "source": [
    "keras 开始训练模型\n"
   ]
  },
  {
   "cell_type": "code",
   "execution_count": 11,
   "metadata": {},
   "outputs": [
    {
     "name": "stdout",
     "output_type": "stream",
     "text": [
      "Epoch 0\n",
      "loss at batch 0: 5.84\n",
      "loss at batch 100: 2.22\n",
      "loss at batch 200: 2.19\n",
      "loss at batch 300: 2.07\n",
      "loss at batch 400: 2.18\n",
      "Epoch 1\n",
      "loss at batch 0: 1.88\n",
      "loss at batch 100: 1.87\n",
      "loss at batch 200: 1.81\n",
      "loss at batch 300: 1.69\n",
      "loss at batch 400: 1.80\n",
      "Epoch 2\n",
      "loss at batch 0: 1.54\n",
      "loss at batch 100: 1.57\n",
      "loss at batch 200: 1.49\n",
      "loss at batch 300: 1.40\n",
      "loss at batch 400: 1.50\n",
      "Epoch 3\n",
      "loss at batch 0: 1.28\n",
      "loss at batch 100: 1.34\n",
      "loss at batch 200: 1.23\n",
      "loss at batch 300: 1.19\n",
      "loss at batch 400: 1.27\n",
      "Epoch 4\n",
      "loss at batch 0: 1.09\n",
      "loss at batch 100: 1.16\n",
      "loss at batch 200: 1.04\n",
      "loss at batch 300: 1.03\n",
      "loss at batch 400: 1.10\n",
      "Epoch 5\n",
      "loss at batch 0: 0.95\n",
      "loss at batch 100: 1.02\n",
      "loss at batch 200: 0.90\n",
      "loss at batch 300: 0.92\n",
      "loss at batch 400: 0.98\n",
      "Epoch 6\n",
      "loss at batch 0: 0.84\n",
      "loss at batch 100: 0.92\n",
      "loss at batch 200: 0.80\n",
      "loss at batch 300: 0.83\n",
      "loss at batch 400: 0.90\n",
      "Epoch 7\n",
      "loss at batch 0: 0.76\n",
      "loss at batch 100: 0.84\n",
      "loss at batch 200: 0.73\n",
      "loss at batch 300: 0.76\n",
      "loss at batch 400: 0.83\n",
      "Epoch 8\n",
      "loss at batch 0: 0.70\n",
      "loss at batch 100: 0.77\n",
      "loss at batch 200: 0.67\n",
      "loss at batch 300: 0.71\n",
      "loss at batch 400: 0.78\n",
      "Epoch 9\n",
      "loss at batch 0: 0.66\n",
      "loss at batch 100: 0.72\n",
      "loss at batch 200: 0.62\n",
      "loss at batch 300: 0.67\n",
      "loss at batch 400: 0.73\n"
     ]
    }
   ],
   "source": [
    "def fit(model, images, labels, epochs, batch_size=128):  #训练\n",
    "    for epoch_counter in range(epochs):  #epochs个轮次\n",
    "        print('Epoch %d' % epoch_counter)  #打印当前训练的轮次\n",
    "        batch_generator = BatchGenerator(images, labels)  #训练数据获取\n",
    "        for batch_counter in range(len(images) // batch_size):\n",
    "            images_batch, labels_batch = batch_generator.next()  #本次训练数据\n",
    "            loss = one_training_step(model, images_batch, labels_batch)  #一次训练\n",
    "            if batch_counter % 100 == 0:\n",
    "                print('loss at batch %d: %.2f' % (batch_counter, loss))  # 打印损失\n",
    "\n",
    "fit(model2, train_images, train_labels, epochs=10, batch_size=128)"
   ]
  },
  {
   "cell_type": "markdown",
   "metadata": {},
   "source": [
    "fit 基本上是上面函数的调用了,流程看注释了.开始训练.\n"
   ]
  },
  {
   "cell_type": "code",
   "execution_count": 12,
   "metadata": {},
   "outputs": [
    {
     "name": "stdout",
     "output_type": "stream",
     "text": [
      "313/313 [==============================] - 1s 4ms/step - loss: 0.0758 - accuracy: 0.9766\n"
     ]
    },
    {
     "data": {
      "text/plain": [
       "0.9765999913215637"
      ]
     },
     "execution_count": 12,
     "metadata": {},
     "output_type": "execute_result"
    }
   ],
   "source": [
    "test_loss, test_acc = model.evaluate(test_images, test_labels)  #对测试集进行评估\n",
    "test_acc  #测试集的准确率"
   ]
  },
  {
   "cell_type": "code",
   "execution_count": 13,
   "metadata": {},
   "outputs": [
    {
     "name": "stdout",
     "output_type": "stream",
     "text": [
      "accuracy: 0.83\n"
     ]
    }
   ],
   "source": [
    "predictions = model2(test_images)\n",
    "predictions = predictions.numpy()\n",
    "predicted_labels = np.argmax(predictions, axis=1)\n",
    "matches = predicted_labels == test_labels\n",
    "print(f\"accuracy: {matches.mean():.2f}\")"
   ]
  },
  {
   "cell_type": "markdown",
   "metadata": {},
   "source": [
    "tf 和 keras 上模型的在测试集的准确度... 谢天谢地有 keras 才不至于关注到 NN 多的细节.\n"
   ]
  }
 ],
 "metadata": {
  "interpreter": {
   "hash": "aac46f597da82ce9618f0e6f094e6d401f1ab16d9be89acf77ce1dd63d67a333"
  },
  "kernelspec": {
   "display_name": "Python 3.9.6 64-bit ('tf': venv)",
   "name": "python3"
  },
  "language_info": {
   "codemirror_mode": {
    "name": "ipython",
    "version": 3
   },
   "file_extension": ".py",
   "mimetype": "text/x-python",
   "name": "python",
   "nbconvert_exporter": "python",
   "pygments_lexer": "ipython3",
   "version": "3.8.10"
  },
  "orig_nbformat": 4
 },
 "nbformat": 4,
 "nbformat_minor": 2
}
