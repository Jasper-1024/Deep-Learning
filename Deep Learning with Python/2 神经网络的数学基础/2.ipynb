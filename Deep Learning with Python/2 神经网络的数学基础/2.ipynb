{
 "cells": [
  {
   "cell_type": "markdown",
   "metadata": {},
   "source": [
    "# 神经网络的数学基础"
   ]
  },
  {
   "cell_type": "markdown",
   "metadata": {},
   "source": [
    "本章包括\n",
    "\n",
    "- 神经网络的第一个示例\n",
    "- 张量与张量操作\n",
    "- 神经网络如何通过梯度下降与反向传播学习"
   ]
  },
  {
   "cell_type": "markdown",
   "metadata": {},
   "source": [
    "理解深度学习需要熟悉很多的数学概率: 张量 张量运算 微分 梯度下降等等,我们在本章的目标是建立起对这些概念的直觉而不是过于理论化.特别是我们会远离数学符号,数学符号对没有数学背景的人而言会带来不必要的障碍.对数学运算最准确的描述是它对应的可执行代码.\n",
    "\n",
    "本章将会介绍足够的背景知识,通过一个实例来介绍上面提到的新的概念,请让我开始这段旅程."
   ]
  }
 ],
 "metadata": {
  "language_info": {
   "name": "python"
  },
  "orig_nbformat": 4
 },
 "nbformat": 4,
 "nbformat_minor": 2
}
