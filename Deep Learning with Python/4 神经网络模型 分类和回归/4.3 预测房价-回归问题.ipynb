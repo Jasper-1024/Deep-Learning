{
 "cells": [
  {
   "cell_type": "markdown",
   "source": [
    "# 预测房价-回归问题\r\n",
    "\r\n",
    "前两个例子都是分类问题,目标是预测输入数据的对应的单一标签.而机器学习的另一大类是回归问题,目标是预测一个或多个连续值.例如根据气象条件预测气温等等.\r\n",
    "\r\n",
    "ps: 回归(regression) 和 回归算法(logistic regression),没什么关系,而且 回归算法(logistic regression) 还不是回归问题的算法,回归算法(logistic regression) 是分类问题的一类算法..\r\n"
   ],
   "metadata": {}
  },
  {
   "cell_type": "markdown",
   "source": [
    "## 准备数据\r\n"
   ],
   "metadata": {}
  },
  {
   "cell_type": "code",
   "execution_count": 1,
   "source": [
    "from tensorflow.keras.datasets import boston_housing\r\n",
    "(train_data, train_targets), (test_data, test_targets) = boston_housing.load_data()"
   ],
   "outputs": [],
   "metadata": {}
  },
  {
   "cell_type": "code",
   "execution_count": 4,
   "source": [
    "print(train_data.shape, test_data.shape)\r\n",
    "print(train_data[0])\r\n",
    "print(train_targets[0])\r\n"
   ],
   "outputs": [
    {
     "output_type": "stream",
     "name": "stdout",
     "text": [
      "(404, 13) (102, 13)\n",
      "[  1.23247   0.        8.14      0.        0.538     6.142    91.7\n",
      "   3.9769    4.      307.       21.      396.9      18.72   ]\n",
      "15.2\n"
     ]
    }
   ],
   "metadata": {}
  },
  {
   "cell_type": "markdown",
   "source": [
    "波士顿房价数据集,是 1970 年代波士顿房价中位数还有附件犯罪率/房产税等等的数据集.与前两个例子完全不同.\r\n",
    "\r\n",
    "- 样本数量少得多,训练数据 404,测试数据,102.一个样本有 13 个维度.\r\n",
    "- 样本每个维度的取值范围均不相同.\r\n",
    "- 房屋价格是中位数,单位是 千美元.\r\n"
   ],
   "metadata": {}
  },
  {
   "cell_type": "code",
   "execution_count": 5,
   "source": [
    "mean = train_data.mean(axis=0)  #均值\r\n",
    "train_data -= mean\r\n",
    "std = train_data.std(axis=0)  #标准差\r\n",
    "train_data /= std\r\n",
    "test_data -= mean  #测试数据\r\n",
    "test_data /= std"
   ],
   "outputs": [],
   "metadata": {}
  },
  {
   "cell_type": "markdown",
   "source": [
    "输入数据范围差距很大,如果是神经网络自适应,会加大学习的难度.因此最好是预处理一下.\r\n",
    "\r\n",
    "特征标准化 = (特征值 - 均值) / 标准差\r\n",
    "\r\n",
    "**取均值/标准差** 绝对不要使用测试集,在模型验证之前,不能从测试集获取任何信息!!\r\n"
   ],
   "metadata": {}
  },
  {
   "cell_type": "markdown",
   "source": [
    "## 构建 model\r\n"
   ],
   "metadata": {}
  },
  {
   "cell_type": "code",
   "execution_count": 6,
   "source": [
    "from tensorflow import keras\r\n",
    "from tensorflow.keras import layers\r\n",
    "\r\n",
    "\r\n",
    "def build_model():  #后面还要有多次实例化,写成函数\r\n",
    "    model = keras.Sequential([\r\n",
    "        layers.Dense(64, activation='relu'),\r\n",
    "        layers.Dense(64, activation='relu'),\r\n",
    "        layers.Dense(1)\r\n",
    "    ])\r\n",
    "    model.compile(optimizer='rmsprop', loss='mse', metrics=['mae'])\r\n",
    "    return model\r\n"
   ],
   "outputs": [],
   "metadata": {}
  },
  {
   "cell_type": "markdown",
   "source": [
    "样本数量非常少,可能面临相对严重的过拟合.使用较小的模型可以一定程度上缓解这个问题.\r\n",
    "\r\n",
    "model\r\n",
    "\r\n",
    "- 输出层只有一个单元,输出一个标量.没有激活函数,所以输出值值域没有限定.\r\n",
    "- 损失函数改为了 `mse` 均方误差,预测值与目标值之差的平方.(回归问题常用)\r\n",
    "- 指标改为了 平均绝对误差 (MAE),预测值与目标值之差的绝对值.\r\n"
   ],
   "metadata": {}
  },
  {
   "cell_type": "markdown",
   "source": [
    "## K 折交叉验证\r\n",
    "\r\n",
    "样本数量过少,不止容易过拟合,还很难分出合适的验证集.\r\n",
    "\r\n",
    "- 验证集样本数量贴别少,无从验证.\r\n",
    "- 验证集取样位置,影响验证结果.\r\n",
    "\r\n",
    "这种情况下最好的做法是 K 折交叉验证\r\n"
   ],
   "metadata": {}
  },
  {
   "cell_type": "markdown",
   "source": [
    "K 折交叉验证\r\n",
    "\r\n",
    "- 可用数据分为 K 个分区 (4,5 常见).\r\n",
    "- 实例化 K 个相同模型.\r\n",
    "- 迭代 K 次,第 i 个分区数据验证,其他 K-1 个分区训练.\r\n",
    "- 最好结果是 K 个验证分数的均值.\r\n",
    "\r\n",
    "[K 折交叉验证](./3-fold-cross-validation.png)\r\n"
   ],
   "metadata": {}
  },
  {
   "cell_type": "code",
   "execution_count": 9,
   "source": [
    "import numpy as np\r\n",
    "\r\n",
    "k = 4\r\n",
    "num_val_samples = len(train_data) // k\r\n",
    "num_epochs = 100\r\n",
    "all_scores = []\r\n",
    "for i in range(k):\r\n",
    "    print(f\"Processing fold #{i}\")  #轮次\r\n",
    "    val_data = train_data[i * num_val_samples: \\\r\n",
    "                                (i + 1) * num_val_samples]  #取 i 轮验证数据\r\n",
    "    val_targets = train_targets[i * num_val_samples: \\\r\n",
    "                                    (i + 1) * num_val_samples]  #取 i 轮验证数据\r\n",
    "    partial_train_data = np.concatenate([\r\n",
    "        train_data[:i * num_val_samples],\r\n",
    "        train_data[(i + 1) * num_val_samples:]],\\\r\n",
    "        axis=0)  # i 轮训练数据\r\n",
    "    partial_train_targets = np.concatenate([\r\n",
    "        train_targets[:i * num_val_samples],\r\n",
    "        train_targets[(i + 1) * num_val_samples:]],\\\r\n",
    "        axis=0)  # i 轮训练数据\r\n",
    "    model = build_model()  # 获取模型\r\n",
    "    model.fit(partial_train_data,\r\n",
    "              partial_train_targets,\r\n",
    "              epochs=num_epochs,\r\n",
    "              batch_size=16,\r\n",
    "              verbose=0)  # verbose=0 关闭输出,静默模式\r\n",
    "    val_mse, val_mae = model.evaluate(val_data, val_targets, verbose=0)  #验证结果\r\n",
    "    all_scores.append(val_mae)"
   ],
   "outputs": [
    {
     "output_type": "stream",
     "name": "stdout",
     "text": [
      "Processing fold #0\n",
      "Processing fold #1\n",
      "Processing fold #2\n",
      "Processing fold #3\n"
     ]
    }
   ],
   "metadata": {}
  },
  {
   "cell_type": "code",
   "execution_count": 10,
   "source": [
    "print(all_scores)\r\n",
    "np.mean(all_scores)"
   ],
   "outputs": [
    {
     "output_type": "stream",
     "name": "stdout",
     "text": [
      "[1.9347295761108398, 2.5065197944641113, 2.454893112182617, 2.3161709308624268]\n"
     ]
    },
    {
     "output_type": "execute_result",
     "data": {
      "text/plain": [
       "2.303078353404999"
      ]
     },
     "metadata": {},
     "execution_count": 10
    }
   ],
   "metadata": {}
  },
  {
   "cell_type": "markdown",
   "source": [
    "平均的偏差到了 2.3 差不多是 $2300,效果还是差很多.\r\n"
   ],
   "metadata": {}
  },
  {
   "cell_type": "code",
   "execution_count": 11,
   "source": [
    "num_epochs = 500\r\n",
    "all_mae_histories = []\r\n",
    "for i in range(k):\r\n",
    "    print(f\"Processing fold #{i}\")  #轮次\r\n",
    "    val_data = train_data[i * num_val_samples:(i + 1) * num_val_samples]  #验证数据\r\n",
    "    val_targets = train_targets[i * num_val_samples:(i + 1) * num_val_samples]\r\n",
    "    partial_train_data = np.concatenate([\r\n",
    "        train_data[:i * num_val_samples],\r\n",
    "        train_data[(i + 1) * num_val_samples:]\r\n",
    "    ],\r\n",
    "                                        axis=0)  #训练数据\r\n",
    "    partial_train_targets = np.concatenate([\r\n",
    "        train_targets[:i * num_val_samples],\r\n",
    "        train_targets[(i + 1) * num_val_samples:]\r\n",
    "    ],\r\n",
    "                                           axis=0)\r\n",
    "    model = build_model()\r\n",
    "    history = model.fit(partial_train_data,\r\n",
    "                        partial_train_targets,\r\n",
    "                        validation_data=(val_data, val_targets),\r\n",
    "                        epochs=num_epochs,\r\n",
    "                        batch_size=16,\r\n",
    "                        verbose=0)  #静默\r\n",
    "    mae_history = history.history[\"val_mae\"]\r\n",
    "    all_mae_histories.append(mae_history)"
   ],
   "outputs": [
    {
     "output_type": "stream",
     "name": "stdout",
     "text": [
      "Processing fold #0\n",
      "Processing fold #1\n",
      "Processing fold #2\n",
      "Processing fold #3\n"
     ]
    }
   ],
   "metadata": {}
  },
  {
   "cell_type": "markdown",
   "source": [
    "训练轮次增加到 500,详细记录数据.\r\n"
   ],
   "metadata": {}
  },
  {
   "cell_type": "code",
   "execution_count": 12,
   "source": [
    "average_mae_history = [\r\n",
    "    np.mean([x[i] for x in all_mae_histories]) for i in range(num_epochs)\r\n",
    "]\r\n"
   ],
   "outputs": [],
   "metadata": {}
  },
  {
   "cell_type": "markdown",
   "source": [
    "算出每一个轮次 K 折验证的均值"
   ],
   "metadata": {}
  },
  {
   "cell_type": "code",
   "execution_count": 14,
   "source": [
    "import matplotlib.pyplot as plt\r\n",
    "\r\n",
    "plt.plot(range(1, len(average_mae_history) + 1), average_mae_history)\r\n",
    "plt.xlabel(\"Epochs\")\r\n",
    "plt.ylabel(\"Validation MAE\")\r\n",
    "plt.show()"
   ],
   "outputs": [
    {
     "output_type": "display_data",
     "data": {
      "text/plain": [
       "<Figure size 432x288 with 1 Axes>"
      ],
      "image/png": "[encoded data removed]"
     },
     "metadata": {
      "needs_background": "light"
     }
    }
   ],
   "metadata": {}
  },
  {
   "cell_type": "markdown",
   "source": [
    "因此前面几个与后面的数据差距太大,后面真正需要的数据反而看不清变化了,重绘\r\n"
   ],
   "metadata": {}
  },
  {
   "cell_type": "code",
   "execution_count": 15,
   "source": [
    "truncated_mae_history = average_mae_history[10:]  #去掉前10个数据\r\n",
    "plt.plot(range(1, len(truncated_mae_history) + 1), truncated_mae_history)\r\n",
    "plt.xlabel(\"Epochs\")\r\n",
    "plt.ylabel(\"Validation MAE\")\r\n",
    "plt.show()"
   ],
   "outputs": [
    {
     "output_type": "display_data",
     "data": {
      "text/plain": [
       "<Figure size 432x288 with 1 Axes>"
      ],
      "image/png": "[encoded data removed]"
     },
     "metadata": {
      "needs_background": "light"
     }
    }
   ],
   "metadata": {}
  },
  {
   "cell_type": "markdown",
   "source": [
    "差不多 mae 最低点是在 100 左右,加上忽略的 10 个点,过拟合是在 110 ~ 120 之间,和书上貌似提前了一些.\r\n"
   ],
   "metadata": {}
  },
  {
   "cell_type": "code",
   "execution_count": 33,
   "source": [
    "model = build_model()\r\n",
    "model.fit(train_data, train_targets,\r\n",
    "          epochs=130, batch_size=16, verbose=0)\r\n",
    "test_mse_score, test_mae_score = model.evaluate(test_data, test_targets)"
   ],
   "outputs": [
    {
     "output_type": "stream",
     "name": "stdout",
     "text": [
      "4/4 [==============================] - 0s 2ms/step - loss: 12.1270 - mae: 2.4050\n"
     ]
    }
   ],
   "metadata": {}
  },
  {
   "cell_type": "code",
   "execution_count": 34,
   "source": [
    "test_mae_score"
   ],
   "outputs": [
    {
     "output_type": "execute_result",
     "data": {
      "text/plain": [
       "2.405019760131836"
      ]
     },
     "metadata": {},
     "execution_count": 34
    }
   ],
   "metadata": {}
  },
  {
   "cell_type": "markdown",
   "source": [
    "最终还是按照书上取 130 吧,这样最后的结果是 2.4 左右..\r\n"
   ],
   "metadata": {}
  },
  {
   "cell_type": "markdown",
   "source": [
    "## 应用 model"
   ],
   "metadata": {}
  },
  {
   "cell_type": "code",
   "execution_count": 37,
   "source": [
    "predictions = model.predict(test_data)\r\n",
    "print(predictions[0])\r\n",
    "print(test_targets[0])"
   ],
   "outputs": [
    {
     "output_type": "stream",
     "name": "stdout",
     "text": [
      "[6.9066005]\n",
      "7.2\n"
     ]
    }
   ],
   "metadata": {}
  },
  {
   "cell_type": "markdown",
   "source": [
    "第一个结果与预测值只相差了 300 美元,似乎比书上的结果更好一点..\r\n"
   ],
   "metadata": {}
  },
  {
   "cell_type": "markdown",
   "source": [
    "## 结论\r\n",
    "\r\n",
    "与分类问题不同,回归问题使用的损失函数一般是 均方误差(mse),常用的指标是 平均绝对误差(mae)\r\n",
    "\r\n",
    "如果输入的特征取值范围相差很大,应当进行预处理,对每个特征单独缩放.这里是特征标准化,**无论如何不能从测试集抽取信息**\r\n",
    "\r\n",
    "可用样本数据很少,一个做法是 K 折验证.\r\n",
    "\r\n",
    "一个较小的模型可以一定程度上缓解过拟合.\r\n"
   ],
   "metadata": {}
  }
 ],
 "metadata": {
  "orig_nbformat": 4,
  "language_info": {
   "name": "python",
   "version": "3.9.6",
   "mimetype": "text/x-python",
   "codemirror_mode": {
    "name": "ipython",
    "version": 3
   },
   "pygments_lexer": "ipython3",
   "nbconvert_exporter": "python",
   "file_extension": ".py"
  },
  "kernelspec": {
   "name": "python3",
   "display_name": "Python 3.9.6 64-bit ('tf')"
  },
  "interpreter": {
   "hash": "aac46f597da82ce9618f0e6f094e6d401f1ab16d9be89acf77ce1dd63d67a333"
  }
 },
 "nbformat": 4,
 "nbformat_minor": 2
}