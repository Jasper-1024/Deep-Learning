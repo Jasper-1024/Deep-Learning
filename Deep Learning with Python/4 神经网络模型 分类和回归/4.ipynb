{
 "cells": [
  {
   "cell_type": "markdown",
   "source": [
    "这一章正式开始深度学习的一类基础问题--分类和回归.\r\n",
    "\r\n",
    "本章有 3 个主要实验\r\n",
    "\r\n",
    "- 二分类 -> imdb 数据集\r\n",
    "- 多分类 -> 路透社 iris 数据集\r\n",
    "- 线性回归 -> 波士顿房价数据集\r\n"
   ],
   "metadata": {}
  },
  {
   "cell_type": "markdown",
   "source": [
    "下面是机器学习中分类和回归问题常见的专业术语(因为现在是菜鸟,可能有翻译错误..)\r\n",
    "\r\n",
    "- sample or input 输入或样本: 输入模型的数据\r\n",
    "- prediction or output 预测或输出: 模型的输出\r\n",
    "- target 目标: 真实值,针对外来数据,模型能给出的最好预测结果.\r\n",
    "- prediction error or loss value 预测误差或损失值: 模型的输出与真实的结果之间的差值.\r\n",
    "- classes 类: 分类问题中一组可能的标签,猫狗的图片分类中,猫 狗 就是两类.\r\n",
    "- label 标签: 分类问题中一个类具体的注释.\r\n",
    "- ground truth 真值: 分类问题中的真实答案.通常由人工标注.\r\n",
    "- Binary classification: 二分类\r\n",
    "- Multiclass classification: 多分类\r\n",
    "- Multilabel classification: 多标签分类\r\n",
    "- Scalar regression: 线性回归问题,标量回归问题.\r\n",
    "- Vector regression: 矢量回归,向量回归.\r\n",
    "- Mini-batch or batch: 小批量/批量.模型同时处理一部分样本(通常是 8 ~ 128),样本数量一般是 2 的幂.\r\n"
   ],
   "metadata": {}
  },
  {
   "cell_type": "markdown",
   "source": [
    "## 4.4 总结\r\n",
    "\r\n",
    "分类问题如果类别很多,中间层的变量不能太小,会损失信息.\r\n",
    "\r\n",
    "回归问题使用的损失函数和指标与分类问题不同\r\n",
    "\r\n",
    "数据输入神经网络前通常需要预处理.\r\n",
    "\r\n",
    "神经网络过拟合最终不可避免\r\n",
    "\r\n",
    "- 合适的训练轮次\r\n",
    "- 样本量少,则模型也相对小.\r\n",
    "- K 折验证可帮助这种情况.\r\n"
   ],
   "metadata": {}
  }
 ],
 "metadata": {
  "orig_nbformat": 4,
  "language_info": {
   "name": "python"
  }
 },
 "nbformat": 4,
 "nbformat_minor": 2
}