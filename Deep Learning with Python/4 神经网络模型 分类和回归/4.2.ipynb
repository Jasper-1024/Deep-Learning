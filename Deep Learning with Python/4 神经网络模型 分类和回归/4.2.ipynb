{
 "cells": [
  {
   "cell_type": "markdown",
   "source": [
    "# 新闻分类: 多分类问题\r\n",
    "\r\n",
    "上一节面对的评论只有两个分类,这一节则要面对 46 个类别.具体而言这一节是单标签的多分类问题,即每个样本只有属于一个类别.(single-label,  multiclass  classification)\r\n"
   ],
   "metadata": {}
  },
  {
   "cell_type": "markdown",
   "source": [
    "# 准备数据\r\n",
    "\r\n",
    "路透社数据集\r\n",
    "\r\n",
    "- 1986 年发布的包含短新闻和主题的数据集\r\n",
    "- 46 个主题/类别\r\n",
    "- 每个主题至少有 10 个样本,每个样本只属于一个主题/类别\r\n"
   ],
   "metadata": {}
  },
  {
   "cell_type": "code",
   "execution_count": 2,
   "source": [
    "from keras.datasets import reuters\r\n",
    "\r\n",
    "(train_data, train_labels), \\\r\n",
    "    (test_data,test_labels) = reuters.load_data(num_words=10000) #限定词频最高的 10000 个单词"
   ],
   "outputs": [],
   "metadata": {}
  },
  {
   "cell_type": "markdown",
   "source": [
    "如 imdb 数据集,依旧是取词频最高的前 10000 个词.\r\n"
   ],
   "metadata": {}
  },
  {
   "cell_type": "code",
   "execution_count": 3,
   "source": [
    "print(len(train_data), len(test_data))"
   ],
   "outputs": [
    {
     "output_type": "stream",
     "name": "stdout",
     "text": [
      "8982 2246\n"
     ]
    }
   ],
   "metadata": {}
  },
  {
   "cell_type": "markdown",
   "source": [
    "训练数据有 8982 条,测试数据有 2246 条"
   ],
   "metadata": {}
  },
  {
   "cell_type": "code",
   "execution_count": 4,
   "source": [
    "print(train_data[0])"
   ],
   "outputs": [
    {
     "output_type": "stream",
     "name": "stdout",
     "text": [
      "[1, 2, 2, 8, 43, 10, 447, 5, 25, 207, 270, 5, 3095, 111, 16, 369, 186, 90, 67, 7, 89, 5, 19, 102, 6, 19, 124, 15, 90, 67, 84, 22, 482, 26, 7, 48, 4, 49, 8, 864, 39, 209, 154, 6, 151, 6, 83, 11, 15, 22, 155, 11, 15, 7, 48, 9, 4579, 1005, 504, 6, 258, 6, 272, 11, 15, 22, 134, 44, 11, 15, 16, 8, 197, 1245, 90, 67, 52, 29, 209, 30, 32, 132, 6, 109, 15, 17, 12]\n"
     ]
    }
   ],
   "metadata": {}
  },
  {
   "cell_type": "markdown",
   "source": [
    "一个样本是整数的 list."
   ],
   "metadata": {}
  },
  {
   "cell_type": "code",
   "execution_count": 5,
   "source": [
    "word_index = reuters.get_word_index()  # 取字典\r\n",
    "reverse_word_index = dict([(value, key) for (key, value) in word_index.items()\r\n",
    "                           ])  #key value 取反\r\n",
    "decoded_newswire = \" \".join([reverse_word_index.get(i - 3, \"?\") \\\r\n",
    "                                for i in train_data[0]]) # 与 imdb 数据集相同,原 list 对应字典 0 1 2 为 padding start  of  sequence unknown 保留"
   ],
   "outputs": [],
   "metadata": {}
  },
  {
   "cell_type": "code",
   "execution_count": 6,
   "source": [
    "import numpy as np\r\n",
    "\r\n",
    "\r\n",
    "def vectorize_sequences(sequences, dimension=10000):\r\n",
    "    results = np.zeros((len(sequences), dimension))  # 初始化全 0 2d 张量\r\n",
    "    for i, sequence in enumerate(sequences):\r\n",
    "        for j in sequence:\r\n",
    "            results[i, j] = 1  #sequences 第 i 个整数序列包含的整数值在 results 中的位置设为 1\r\n",
    "    return results\r\n",
    "\r\n",
    "\r\n",
    "x_train = vectorize_sequences(train_data)\r\n",
    "x_test = vectorize_sequences(test_data)"
   ],
   "outputs": [],
   "metadata": {}
  },
  {
   "cell_type": "markdown",
   "source": [
    "这是从整数 list -> 字符串的转换,索引减 3 是原 list 对应字典 0 1 2 为 padding start  of  sequence unknown 保留."
   ],
   "metadata": {}
  },
  {
   "cell_type": "code",
   "execution_count": 7,
   "source": [
    "from tensorflow.keras.utils import to_categorical\r\n",
    "y_train = to_categorical(train_labels)\r\n",
    "y_test = to_categorical(test_labels)"
   ],
   "outputs": [],
   "metadata": {}
  },
  {
   "cell_type": "markdown",
   "source": [
    "整数数组无法输入神经网络,必须转换成张量.\r\n",
    "\r\n",
    "- 所有数组填充到同样长度,转换成整数张量.keras 有专门能接受这样输入的 layer.\r\n",
    "- 使用 1D 10000 维的张量表示整数 list.list 内有那些整数,这些位置就是 1,其他位置都是 0.所谓的 one-hot 编码.\r\n",
    "\r\n",
    "与上一节不同,这里直接使用了 keras 内置的函数完成 one-hot 编码.\r\n"
   ],
   "metadata": {}
  },
  {
   "cell_type": "markdown",
   "source": [
    "## 构建模型\r\n",
    "\r\n",
    "与 imdb 的例子相比\r\n",
    "\r\n",
    "- 都是对文本的分类问题,输入都是整数 list 处理而来的张量.\r\n",
    "- 分类的输出从 2 增加到了 46 种."
   ],
   "metadata": {}
  },
  {
   "cell_type": "code",
   "execution_count": 8,
   "source": [
    "from tensorflow import keras\r\n",
    "from tensorflow.keras import layers\r\n",
    "\r\n",
    "model = keras.Sequential([\r\n",
    "    layers.Dense(64, activation=\"relu\"),\r\n",
    "    layers.Dense(64, activation=\"relu\"),\r\n",
    "    layers.Dense(46, activation=\"softmax\")\r\n",
    "])"
   ],
   "outputs": [],
   "metadata": {}
  },
  {
   "cell_type": "markdown",
   "source": [
    "与 imdb model 的变换\r\n",
    "\r\n",
    "- 处理的张量类型没有变化,所以 layer 种类,排列没有变换.激活函数没有变换.\r\n",
    "- 但是隐藏层的单元增加到了 64,最后输出是 46 种类别,隐藏层单元 16 可表示的假设空间太小了.一旦某些重要信息在中间层丢失,那永远也找不回来了,必须加大假设空间.\r\n",
    "- 2 分类最后输出的是标量概率就够了,而 46 分类标量远远不够.输出层的激活函数变成了 softmax,输出的是概率张量,1d 46 维,总和为 1.\r\n"
   ],
   "metadata": {}
  },
  {
   "cell_type": "code",
   "execution_count": 9,
   "source": [
    "model.compile(optimizer=\"rmsprop\",\r\n",
    "              loss=\"categorical_crossentropy\",\r\n",
    "              metrics=[\"accuracy\"])"
   ],
   "outputs": [],
   "metadata": {}
  },
  {
   "cell_type": "markdown",
   "source": [
    "对于分类问题,损失函数最好的是 categorical_crossentropy (分类交叉熵),具体原理是什么?\r\n",
    "\r\n",
    "这里仅引用第一版的说明: 它用于衡量两个概率分布之间的距离，这里两个概率分布分别是网络输出的概率分布和标签的真实分布。通过将这两个分布的距离最小化，训练网络可使输出结果尽可能接近真实标签.\r\n"
   ],
   "metadata": {}
  },
  {
   "cell_type": "markdown",
   "source": [
    "## 训练 model"
   ],
   "metadata": {}
  },
  {
   "cell_type": "code",
   "execution_count": 10,
   "source": [
    "x_val = x_train[:1000]\r\n",
    "partial_x_train = x_train[1000:]\r\n",
    "y_val = y_train[:1000]\r\n",
    "partial_y_train = y_train[1000:]"
   ],
   "outputs": [],
   "metadata": {}
  },
  {
   "cell_type": "markdown",
   "source": [
    "取前 1000 个作为验证集."
   ],
   "metadata": {}
  },
  {
   "cell_type": "code",
   "execution_count": 11,
   "source": [
    "history = model.fit(\r\n",
    "    partial_x_train,\r\n",
    "    partial_y_train,\r\n",
    "    epochs=20,  # 训练20轮肯定过拟合,不过是验证模型而已\r\n",
    "    batch_size=512,\r\n",
    "    validation_data=(x_val, y_val))\r\n"
   ],
   "outputs": [
    {
     "output_type": "stream",
     "name": "stdout",
     "text": [
      "Epoch 1/20\n",
      "16/16 [==============================] - 1s 20ms/step - loss: 2.4884 - accuracy: 0.5576 - val_loss: 1.6327 - val_accuracy: 0.6400\n",
      "Epoch 2/20\n",
      "16/16 [==============================] - 0s 12ms/step - loss: 1.3532 - accuracy: 0.7116 - val_loss: 1.2700 - val_accuracy: 0.7240\n",
      "Epoch 3/20\n",
      "16/16 [==============================] - 0s 12ms/step - loss: 1.0205 - accuracy: 0.7810 - val_loss: 1.1109 - val_accuracy: 0.7700\n",
      "Epoch 4/20\n",
      "16/16 [==============================] - 0s 13ms/step - loss: 0.8116 - accuracy: 0.8289 - val_loss: 1.0250 - val_accuracy: 0.7910\n",
      "Epoch 5/20\n",
      "16/16 [==============================] - 0s 14ms/step - loss: 0.6544 - accuracy: 0.8629 - val_loss: 0.9527 - val_accuracy: 0.8120\n",
      "Epoch 6/20\n",
      "16/16 [==============================] - 0s 12ms/step - loss: 0.5224 - accuracy: 0.8918 - val_loss: 0.9368 - val_accuracy: 0.8010\n",
      "Epoch 7/20\n",
      "16/16 [==============================] - 0s 13ms/step - loss: 0.4185 - accuracy: 0.9139 - val_loss: 0.9093 - val_accuracy: 0.8110\n",
      "Epoch 8/20\n",
      "16/16 [==============================] - 0s 13ms/step - loss: 0.3423 - accuracy: 0.9277 - val_loss: 0.8967 - val_accuracy: 0.8150\n",
      "Epoch 9/20\n",
      "16/16 [==============================] - 0s 13ms/step - loss: 0.2823 - accuracy: 0.9375 - val_loss: 0.9200 - val_accuracy: 0.8170\n",
      "Epoch 10/20\n",
      "16/16 [==============================] - 0s 12ms/step - loss: 0.2395 - accuracy: 0.9458 - val_loss: 0.9329 - val_accuracy: 0.8120\n",
      "Epoch 11/20\n",
      "16/16 [==============================] - 0s 12ms/step - loss: 0.2075 - accuracy: 0.9481 - val_loss: 1.0019 - val_accuracy: 0.8040\n",
      "Epoch 12/20\n",
      "16/16 [==============================] - 0s 12ms/step - loss: 0.1808 - accuracy: 0.9526 - val_loss: 0.9835 - val_accuracy: 0.8070\n",
      "Epoch 13/20\n",
      "16/16 [==============================] - 0s 12ms/step - loss: 0.1648 - accuracy: 0.9528 - val_loss: 1.0040 - val_accuracy: 0.8110\n",
      "Epoch 14/20\n",
      "16/16 [==============================] - 0s 12ms/step - loss: 0.1472 - accuracy: 0.9538 - val_loss: 0.9781 - val_accuracy: 0.8230\n",
      "Epoch 15/20\n",
      "16/16 [==============================] - 0s 12ms/step - loss: 0.1420 - accuracy: 0.9541 - val_loss: 0.9988 - val_accuracy: 0.8130\n",
      "Epoch 16/20\n",
      "16/16 [==============================] - 0s 12ms/step - loss: 0.1279 - accuracy: 0.9564 - val_loss: 1.0802 - val_accuracy: 0.8060\n",
      "Epoch 17/20\n",
      "16/16 [==============================] - 0s 12ms/step - loss: 0.1261 - accuracy: 0.9563 - val_loss: 1.0502 - val_accuracy: 0.8160\n",
      "Epoch 18/20\n",
      "16/16 [==============================] - 0s 12ms/step - loss: 0.1211 - accuracy: 0.9563 - val_loss: 1.0537 - val_accuracy: 0.7990\n",
      "Epoch 19/20\n",
      "16/16 [==============================] - 0s 11ms/step - loss: 0.1150 - accuracy: 0.9572 - val_loss: 1.0539 - val_accuracy: 0.8100\n",
      "Epoch 20/20\n",
      "16/16 [==============================] - 0s 11ms/step - loss: 0.1084 - accuracy: 0.9569 - val_loss: 1.0853 - val_accuracy: 0.8120\n"
     ]
    }
   ],
   "metadata": {}
  },
  {
   "cell_type": "code",
   "execution_count": 12,
   "source": [
    "import matplotlib.pyplot as plt\r\n",
    "\r\n",
    "loss = history.history[\"loss\"]\r\n",
    "val_loss = history.history[\"val_loss\"]\r\n",
    "epochs = range(1, len(loss) + 1)\r\n",
    "plt.plot(epochs, loss, \"bo\", label=\"Training loss\")\r\n",
    "plt.plot(epochs, val_loss, \"b\", label=\"Validation loss\")\r\n",
    "plt.title(\"Training and validation loss\")\r\n",
    "plt.xlabel(\"Epochs\")\r\n",
    "plt.ylabel(\"Loss\")\r\n",
    "plt.legend()\r\n",
    "plt.show()"
   ],
   "outputs": [
    {
     "output_type": "display_data",
     "data": {
      "text/plain": [
       "<Figure size 432x288 with 1 Axes>"
      ],
      "image/png": "[encoded data removed]"
     },
     "metadata": {
      "needs_background": "light"
     }
    }
   ],
   "metadata": {}
  },
  {
   "cell_type": "code",
   "execution_count": 13,
   "source": [
    "plt.clf()\r\n",
    "acc = history.history[\"accuracy\"]\r\n",
    "val_acc = history.history[\"val_accuracy\"]\r\n",
    "plt.plot(epochs, acc, \"bo\", label=\"Training accuracy\")\r\n",
    "plt.plot(epochs, val_acc, \"b\", label=\"Validation accuracy\")\r\n",
    "plt.title(\"Training and validation accuracy\")\r\n",
    "plt.xlabel(\"Epochs\")\r\n",
    "plt.ylabel(\"Accuracy\")\r\n",
    "plt.legend()\r\n",
    "plt.show()"
   ],
   "outputs": [
    {
     "output_type": "display_data",
     "data": {
      "text/plain": [
       "<Figure size 432x288 with 1 Axes>"
      ],
      "image/png": "[encoded data removed]"
     },
     "metadata": {
      "needs_background": "light"
     }
    }
   ],
   "metadata": {}
  },
  {
   "cell_type": "markdown",
   "source": [
    "大约是第 9 轮开始是过拟合的拐点,因此模型训练迭代 9 次为好.\r\n"
   ],
   "metadata": {}
  },
  {
   "cell_type": "code",
   "execution_count": 19,
   "source": [
    "model = keras.Sequential([\r\n",
    "  layers.Dense(64, activation=\"relu\"),\r\n",
    "  layers.Dense(64, activation=\"relu\"),\r\n",
    "  layers.Dense(46, activation=\"softmax\")\r\n",
    "])\r\n",
    "model.compile(optimizer=\"rmsprop\",\r\n",
    "              loss=\"categorical_crossentropy\",\r\n",
    "              metrics=[\"accuracy\"])\r\n",
    "model.fit(x_train,\r\n",
    "          y_train,\r\n",
    "          epochs=9,\r\n",
    "          batch_size=512)"
   ],
   "outputs": [
    {
     "output_type": "stream",
     "name": "stdout",
     "text": [
      "Epoch 1/9\n",
      "18/18 [==============================] - 1s 10ms/step - loss: 2.5390 - accuracy: 0.5636\n",
      "Epoch 2/9\n",
      "18/18 [==============================] - 0s 11ms/step - loss: 1.3532 - accuracy: 0.7188\n",
      "Epoch 3/9\n",
      "18/18 [==============================] - 0s 10ms/step - loss: 0.9916 - accuracy: 0.7917\n",
      "Epoch 4/9\n",
      "18/18 [==============================] - 0s 10ms/step - loss: 0.7712 - accuracy: 0.8381\n",
      "Epoch 5/9\n",
      "18/18 [==============================] - 0s 10ms/step - loss: 0.6092 - accuracy: 0.8743\n",
      "Epoch 6/9\n",
      "18/18 [==============================] - 0s 10ms/step - loss: 0.4851 - accuracy: 0.9005\n",
      "Epoch 7/9\n",
      "18/18 [==============================] - 0s 10ms/step - loss: 0.3959 - accuracy: 0.9173\n",
      "Epoch 8/9\n",
      "18/18 [==============================] - 0s 11ms/step - loss: 0.3223 - accuracy: 0.9296\n",
      "Epoch 9/9\n",
      "18/18 [==============================] - 0s 9ms/step - loss: 0.2683 - accuracy: 0.9404\n"
     ]
    },
    {
     "output_type": "execute_result",
     "data": {
      "text/plain": [
       "<tensorflow.python.keras.callbacks.History at 0x1e603ddfc40>"
      ]
     },
     "metadata": {},
     "execution_count": 19
    }
   ],
   "metadata": {}
  },
  {
   "cell_type": "code",
   "execution_count": 21,
   "source": [
    "results = model.evaluate(x_test, y_test)\r\n",
    "print(results)"
   ],
   "outputs": [
    {
     "output_type": "stream",
     "name": "stdout",
     "text": [
      "71/71 [==============================] - 0s 3ms/step - loss: 0.9761 - accuracy: 0.7930\n",
      "[0.9760991930961609, 0.792965292930603]\n"
     ]
    }
   ],
   "metadata": {}
  },
  {
   "cell_type": "code",
   "execution_count": 22,
   "source": [
    "import copy\r\n",
    "test_labels_copy = copy.copy(test_labels)\r\n",
    "np.random.shuffle(test_labels_copy)\r\n",
    "hits_array = np.array(test_labels) == np.array(test_labels_copy)\r\n",
    "hits_array.mean()"
   ],
   "outputs": [
    {
     "output_type": "execute_result",
     "data": {
      "text/plain": [
       "0.18521816562778273"
      ]
     },
     "metadata": {},
     "execution_count": 22
    }
   ],
   "metadata": {}
  },
  {
   "cell_type": "markdown",
   "source": [
    "如果是完全随机分类器,二分类问题准确度是 50%,在这个问题上是 18.5%.相比之下这个 model 测试集上的精度 80% 上下.已经算好的了.\r\n"
   ],
   "metadata": {}
  },
  {
   "cell_type": "markdown",
   "source": [
    "## 应用 model\r\n"
   ],
   "metadata": {}
  },
  {
   "cell_type": "code",
   "execution_count": 23,
   "source": [
    "predictions = model.predict(x_test)"
   ],
   "outputs": [],
   "metadata": {}
  },
  {
   "cell_type": "code",
   "execution_count": 24,
   "source": [
    "predictions[0].shape"
   ],
   "outputs": [
    {
     "output_type": "execute_result",
     "data": {
      "text/plain": [
       "(46,)"
      ]
     },
     "metadata": {},
     "execution_count": 24
    }
   ],
   "metadata": {}
  },
  {
   "cell_type": "code",
   "execution_count": 25,
   "source": [
    "np.argmax(predictions[0])"
   ],
   "outputs": [
    {
     "output_type": "execute_result",
     "data": {
      "text/plain": [
       "4"
      ]
     },
     "metadata": {},
     "execution_count": 25
    }
   ],
   "metadata": {}
  },
  {
   "cell_type": "markdown",
   "source": [
    "应用模型的方法还是调用 model.predict,只不过这次返回的是 1d 46 维的张量,取结果要麻烦一点点.\r\n"
   ],
   "metadata": {}
  },
  {
   "cell_type": "markdown",
   "source": [
    "## 另一种处理整数 list 方式\r\n"
   ],
   "metadata": {}
  },
  {
   "cell_type": "code",
   "execution_count": null,
   "source": [
    "y_train = np.array(train_labels)\r\n",
    "y_test = np.array(test_labels)"
   ],
   "outputs": [],
   "metadata": {}
  },
  {
   "cell_type": "markdown",
   "source": [
    "另一种处理数据方式是将其转换成整数张量.\r\n"
   ],
   "metadata": {}
  },
  {
   "cell_type": "code",
   "execution_count": null,
   "source": [
    "model.compile(optimizer=\"rmsprop\",\r\n",
    "              loss=\"sparse_categorical_crossentropy\",\r\n",
    "              metrics=[\"accuracy\"])"
   ],
   "outputs": [],
   "metadata": {}
  },
  {
   "cell_type": "markdown",
   "source": [
    "模型不需要大的改动,只是损失函数改为了 `sparse_categorical_crossentropy`,在数学上与 `categorical_crossentropy` 完全相同.\r\n"
   ],
   "metadata": {}
  },
  {
   "cell_type": "markdown",
   "source": [
    "## 结论\r\n",
    "\r\n",
    "N 分类问题,要以 N 大小的密集层为输出.\r\n",
    "\r\n",
    "单标签多任务的问题中,最后一层要使用 softmax 激活函数.最终输出一个 1d 的概率向量.\r\n",
    "\r\n",
    "这一类问题的损失函数清一色是 categorical_crossentropy (分类交叉熵).这在实践中证明过了.\r\n",
    "\r\n",
    "多分类问题处理输入数据\r\n",
    "\r\n",
    "- 转换成整数张量\r\n",
    "- 通过 one-hot 编码再成.\r\n",
    "\r\n",
    "如果类别较多,别吝啬内存,中间层的变量给足,避免丢失关键信息.\r\n"
   ],
   "metadata": {}
  }
 ],
 "metadata": {
  "orig_nbformat": 4,
  "language_info": {
   "name": "python",
   "version": "3.9.6",
   "mimetype": "text/x-python",
   "codemirror_mode": {
    "name": "ipython",
    "version": 3
   },
   "pygments_lexer": "ipython3",
   "nbconvert_exporter": "python",
   "file_extension": ".py"
  },
  "kernelspec": {
   "name": "python3",
   "display_name": "Python 3.9.6 64-bit ('tf': venv)"
  },
  "interpreter": {
   "hash": "aac46f597da82ce9618f0e6f094e6d401f1ab16d9be89acf77ce1dd63d67a333"
  }
 },
 "nbformat": 4,
 "nbformat_minor": 2
}