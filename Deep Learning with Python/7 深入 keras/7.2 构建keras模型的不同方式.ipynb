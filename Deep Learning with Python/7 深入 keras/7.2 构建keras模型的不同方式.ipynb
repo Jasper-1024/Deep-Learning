{
 "cells": [
  {
   "cell_type": "markdown",
   "source": [
    "# 7.2 构建keras模型的不同方式.ipynb\r\n",
    "\r\n",
    "具体而言是 3 种构建方式\r\n",
    "\r\n",
    "- Sequential model: 最容易上手的方式,脱胎于 python 的 list,基本上只是层的堆叠.\r\n",
    "- Functional API: 以类似图的方式构建模型,在易用性和灵活性算是取了一个平衡点.\r\n",
    "- Model subclassing: 非常底层的 api,需要自行实现所有,如果你需要控制全部细节,就用这个.代价是许多 keras 内置功能无法使用,自行编码的错误可能会更高.\r\n",
    "\r\n",
    "下图显示了构建 keras 模型复杂性一步一步上升的过程\r\n",
    "\r\n",
    "![progressive_disclosure_of_complexity_models](./progressive_disclosure_of_complexity_models.png)\r\n"
   ],
   "metadata": {}
  },
  {
   "cell_type": "markdown",
   "source": [
    "## Sequential model\r\n"
   ],
   "metadata": {}
  },
  {
   "cell_type": "code",
   "execution_count": 1,
   "source": [
    "from tensorflow import keras\r\n",
    "from tensorflow.keras import layers\r\n",
    "\r\n",
    "model = keras.Sequential([\r\n",
    "    layers.Dense(64, activation='relu'),\r\n",
    "    layers.Dense(10, activation='softmax')\r\n",
    "])"
   ],
   "outputs": [],
   "metadata": {}
  },
  {
   "cell_type": "markdown",
   "source": [
    "这是 mnist 例子中的模型\r\n"
   ],
   "metadata": {}
  },
  {
   "cell_type": "code",
   "execution_count": 2,
   "source": [
    "model = keras.Sequential()\r\n",
    "model.add(layers.Dense(64, activation='relu'))\r\n",
    "model.add(layers.Dense(10, activation='softmax'))"
   ],
   "outputs": [],
   "metadata": {}
  },
  {
   "cell_type": "markdown",
   "source": [
    "上文说到了 Sequential model 是类似 python list 的存在,因此也可以通过 `add` 构建相同的模型.\r\n"
   ],
   "metadata": {}
  },
  {
   "cell_type": "code",
   "execution_count": 3,
   "source": [
    "# model.weights"
   ],
   "outputs": [],
   "metadata": {}
  },
  {
   "cell_type": "markdown",
   "source": [
    "model 只有在第一次调用时候才真正被初始化,换句话说层的权重只有在第一次调用时才会初始化.上面直接输出权重就错误了.\r\n"
   ],
   "metadata": {}
  },
  {
   "cell_type": "code",
   "execution_count": 4,
   "source": [
    "model.build(input_shape=(None, 3))\r\n",
    "print(model.weights)"
   ],
   "outputs": [
    {
     "output_type": "stream",
     "name": "stdout",
     "text": [
      "[<tf.Variable 'dense_2/kernel:0' shape=(3, 64) dtype=float32, numpy=\n",
      "array([[-9.99439806e-02, -1.70938805e-01, -2.68222243e-01,\n",
      "        -2.78833449e-01, -2.30783463e-01,  4.02760506e-02,\n",
      "         9.76600051e-02,  2.25072622e-01,  2.13095963e-01,\n",
      "         2.39129663e-01, -1.22565180e-01, -1.76242054e-01,\n",
      "        -3.31361592e-02,  2.75913417e-01,  9.51828361e-02,\n",
      "        -6.58249259e-02,  8.02602172e-02, -6.70928359e-02,\n",
      "         1.19453430e-01,  6.28221333e-02, -2.62252808e-01,\n",
      "         2.05870032e-01,  2.78914154e-01,  2.59759128e-01,\n",
      "        -1.00582615e-01,  1.44286901e-01,  9.75522101e-02,\n",
      "        -1.27362087e-01, -1.72672868e-02,  2.85015047e-01,\n",
      "        -2.29416579e-01,  5.33044338e-03,  4.96112108e-02,\n",
      "         6.30314648e-02, -8.38843882e-02, -3.29253376e-02,\n",
      "         9.17175412e-02, -2.42787242e-01, -1.68251157e-01,\n",
      "        -5.98750412e-02,  1.13567412e-01,  1.76168561e-01,\n",
      "         3.14050913e-03,  1.70151561e-01,  1.16963893e-01,\n",
      "         2.80281246e-01,  9.84037220e-02,  1.65942132e-01,\n",
      "        -1.50825962e-01,  7.17547536e-02, -2.97314286e-01,\n",
      "        -2.82353044e-01,  1.54578775e-01,  1.95125014e-01,\n",
      "        -2.41546080e-01, -4.66668606e-02,  1.19734257e-01,\n",
      "        -1.21084452e-02, -2.86472917e-01,  2.11095929e-01,\n",
      "        -5.81482053e-03,  4.17078435e-02,  2.31070220e-01,\n",
      "        -1.73625544e-01],\n",
      "       [ 1.26168519e-01,  1.98201299e-01,  2.24026620e-01,\n",
      "        -2.97900289e-01,  2.46142149e-02,  5.70187271e-02,\n",
      "        -1.13327473e-01, -5.79678565e-02, -2.18648404e-01,\n",
      "        -2.06136197e-01, -2.01464385e-01,  8.99442136e-02,\n",
      "        -1.98801339e-01, -5.16132265e-02, -8.82069767e-02,\n",
      "        -1.99625194e-01,  2.23901868e-03, -2.79599220e-01,\n",
      "         1.00350976e-02, -2.10800052e-01,  3.16261053e-02,\n",
      "         2.52238631e-01, -1.31313503e-02, -2.26313055e-01,\n",
      "        -2.52312541e-01, -2.29480371e-01,  1.27740502e-01,\n",
      "         1.11701250e-01, -1.52766332e-01, -3.53555083e-02,\n",
      "         8.07973742e-03,  1.24607861e-01,  2.44299948e-01,\n",
      "        -1.24823540e-01,  2.96133876e-01, -2.65910029e-01,\n",
      "        -6.19948506e-02, -1.80693641e-01, -1.81437731e-01,\n",
      "        -1.30446434e-01,  7.02759922e-02, -1.93993375e-01,\n",
      "         1.47042841e-01,  2.41197050e-01,  6.76566958e-02,\n",
      "         1.42421305e-01,  1.45606548e-01, -2.55333483e-01,\n",
      "         2.47029841e-01,  1.19548172e-01, -1.43539757e-01,\n",
      "        -2.17180580e-01, -6.77609295e-02,  1.19293481e-01,\n",
      "        -1.68851033e-01, -2.17193633e-01,  1.10562623e-01,\n",
      "        -4.09830213e-02, -2.25204661e-01, -7.85716474e-02,\n",
      "        -1.30395293e-02, -9.49704945e-02, -2.20672607e-01,\n",
      "         1.09583080e-01],\n",
      "       [ 3.68569493e-02, -8.17713141e-03,  6.86571300e-02,\n",
      "        -1.58454224e-01, -2.90575325e-01,  2.40290344e-01,\n",
      "         2.66829908e-01, -1.38005763e-01,  5.67500293e-02,\n",
      "        -2.71651566e-01,  2.13612497e-01, -2.31623724e-01,\n",
      "         1.96441948e-01, -1.12026930e-04,  5.16788661e-02,\n",
      "        -2.16551438e-01, -2.86608040e-01, -1.91901833e-01,\n",
      "        -2.73821801e-01,  9.17517245e-02, -1.26936346e-01,\n",
      "        -2.71583766e-01, -1.06517568e-01, -8.39299113e-02,\n",
      "        -2.37327307e-01,  1.43354177e-01,  5.13677895e-02,\n",
      "        -2.05977678e-01,  1.38588458e-01, -1.22311324e-01,\n",
      "         2.24888802e-01, -1.51980370e-01,  2.16568470e-01,\n",
      "        -2.83351749e-01, -1.53313145e-01,  6.85501695e-02,\n",
      "         1.99820817e-01,  8.37690234e-02, -4.82780337e-02,\n",
      "         2.89630294e-01, -1.70090839e-01, -2.13142529e-01,\n",
      "        -6.87667876e-02, -2.26227939e-01,  8.90102088e-02,\n",
      "         2.78765917e-01,  1.78295881e-01,  1.37383461e-01,\n",
      "        -2.96497166e-01,  1.24697387e-02, -1.70849621e-01,\n",
      "        -1.20194808e-01, -2.00397089e-01,  2.37088978e-01,\n",
      "        -1.71864897e-01, -1.45298824e-01, -2.01428980e-01,\n",
      "         1.37643754e-01, -2.02126414e-01, -2.33629942e-01,\n",
      "         2.78520823e-01,  8.87044668e-02, -9.21704620e-02,\n",
      "         4.08697426e-02]], dtype=float32)>, <tf.Variable 'dense_2/bias:0' shape=(64,) dtype=float32, numpy=\n",
      "array([0., 0., 0., 0., 0., 0., 0., 0., 0., 0., 0., 0., 0., 0., 0., 0., 0.,\n",
      "       0., 0., 0., 0., 0., 0., 0., 0., 0., 0., 0., 0., 0., 0., 0., 0., 0.,\n",
      "       0., 0., 0., 0., 0., 0., 0., 0., 0., 0., 0., 0., 0., 0., 0., 0., 0.,\n",
      "       0., 0., 0., 0., 0., 0., 0., 0., 0., 0., 0., 0., 0.], dtype=float32)>, <tf.Variable 'dense_3/kernel:0' shape=(64, 10) dtype=float32, numpy=\n",
      "array([[-0.04963627, -0.11081167,  0.00400314,  0.16863835,  0.24603441,\n",
      "        -0.2800285 , -0.2578585 ,  0.24432293,  0.2171239 , -0.10441597],\n",
      "       [ 0.07439345,  0.24749902,  0.16048339,  0.2676511 , -0.04099217,\n",
      "         0.05866084,  0.14651114,  0.09157541, -0.27220815,  0.0623464 ],\n",
      "       [-0.10754226,  0.19915318, -0.12269048,  0.06758222, -0.24822205,\n",
      "         0.00346839, -0.19048634,  0.1089181 , -0.16564661, -0.10659432],\n",
      "       [ 0.03348166, -0.07058685,  0.16624546, -0.05737448,  0.16633758,\n",
      "        -0.01385561, -0.15713678,  0.21731254, -0.17144176, -0.20890363],\n",
      "       [ 0.21447855,  0.07530412, -0.00243756, -0.21210447,  0.09779081,\n",
      "         0.11100957, -0.02817696,  0.11672255, -0.15725084,  0.00540885],\n",
      "       [-0.04364908,  0.18866584,  0.08274183,  0.11125505, -0.0575539 ,\n",
      "        -0.09584552, -0.2610366 ,  0.22361717, -0.09550634,  0.14431417],\n",
      "       [-0.1835901 ,  0.05576164, -0.2745451 ,  0.19985646, -0.05722579,\n",
      "        -0.11431392,  0.12955949, -0.02192682, -0.14286922,  0.19064316],\n",
      "       [ 0.0938271 , -0.22399591,  0.1603812 , -0.06952092,  0.19691205,\n",
      "         0.20120323, -0.08357219,  0.04864013,  0.20234385,  0.12279937],\n",
      "       [ 0.17606536, -0.20702466, -0.18508047, -0.08031392, -0.25676882,\n",
      "        -0.16055833, -0.10253382,  0.04768792, -0.24395421,  0.10822204],\n",
      "       [-0.18802679,  0.18671572,  0.2074692 ,  0.21082115,  0.15672198,\n",
      "         0.04937625, -0.17111671, -0.21191913,  0.16653934,  0.14306542],\n",
      "       [ 0.24509224, -0.21092509,  0.22983626,  0.04857102,  0.06820667,\n",
      "        -0.26340842,  0.10029238,  0.07349187,  0.0844295 , -0.20420435],\n",
      "       [-0.06472319,  0.05010295, -0.12121335,  0.09034678,  0.25152716,\n",
      "        -0.09263551, -0.05197147, -0.12641549,  0.06777847, -0.18546207],\n",
      "       [ 0.23583934,  0.1947994 ,  0.07326284, -0.1834076 ,  0.2683604 ,\n",
      "         0.00339431,  0.10489568, -0.09334849,  0.04739356, -0.21611983],\n",
      "       [-0.22749057,  0.18033686,  0.08924717, -0.01839998, -0.02499539,\n",
      "        -0.19227712,  0.26836613,  0.12482703, -0.05230004, -0.03555642],\n",
      "       [ 0.25230536,  0.11369675, -0.22377832, -0.22521228,  0.20149454,\n",
      "        -0.12542506, -0.11647184, -0.27838504,  0.11447012, -0.14383467],\n",
      "       [-0.22870734, -0.2700292 , -0.2842072 ,  0.16214618, -0.2254896 ,\n",
      "         0.1433621 ,  0.21968672,  0.06560439,  0.11979434, -0.28204045],\n",
      "       [-0.27138296,  0.08553997,  0.08586711,  0.11026061,  0.10800961,\n",
      "         0.23477474, -0.15373181,  0.06522754, -0.00466955, -0.22342157],\n",
      "       [-0.10969467,  0.23278633, -0.07715498, -0.13611202,  0.02703914,\n",
      "         0.25311163,  0.13042039,  0.08084536, -0.04131871, -0.04636762],\n",
      "       [-0.04399952, -0.01963019,  0.26591566, -0.06802878, -0.23769796,\n",
      "        -0.22405945,  0.26886842,  0.18878207, -0.16642904,  0.2475752 ],\n",
      "       [-0.27053055, -0.11269735,  0.24895021, -0.22934163, -0.20457698,\n",
      "        -0.16875593, -0.22138883, -0.17431435, -0.11737463, -0.09277862],\n",
      "       [ 0.07622734, -0.22900103, -0.08552101,  0.09575623, -0.02890676,\n",
      "         0.08161318, -0.26161718,  0.24084833, -0.03731067, -0.0519291 ],\n",
      "       [-0.03612567, -0.11113128,  0.20405185,  0.25865874, -0.08829041,\n",
      "        -0.19940954,  0.10082132, -0.16691601, -0.24184346,  0.27714112],\n",
      "       [ 0.1446473 ,  0.26333007, -0.08115724, -0.12920226,  0.13034591,\n",
      "         0.04901049, -0.26758036, -0.12541045,  0.12207526, -0.11760281],\n",
      "       [ 0.13098013, -0.10589962,  0.20363069, -0.24962892,  0.03628066,\n",
      "         0.23125055,  0.23492232, -0.27288967,  0.10509941, -0.04320692],\n",
      "       [-0.159962  , -0.22757842, -0.10858843, -0.16342765, -0.21680394,\n",
      "         0.25022146,  0.07625926,  0.17846331, -0.076471  ,  0.16955593],\n",
      "       [-0.14853077, -0.06174266, -0.05808385, -0.18510538,  0.12687251,\n",
      "         0.14894325, -0.09595495,  0.1759009 ,  0.25533757,  0.17395127],\n",
      "       [-0.18091175,  0.26888976, -0.27313334,  0.18141004, -0.2826173 ,\n",
      "        -0.11965211, -0.18820071,  0.05798888, -0.24813665,  0.202075  ],\n",
      "       [-0.13125788, -0.18790554,  0.21436083,  0.09461793, -0.0245057 ,\n",
      "        -0.14014177, -0.16654879,  0.07005039,  0.19205266,  0.13516647],\n",
      "       [ 0.12295878,  0.21455675, -0.27244663,  0.23912111,  0.19845706,\n",
      "         0.0285399 ,  0.17664376,  0.1477626 ,  0.15069589, -0.01639298],\n",
      "       [ 0.2792782 , -0.13775127, -0.04945698,  0.03848156,  0.0054439 ,\n",
      "        -0.26453334, -0.02246863,  0.28066543, -0.272544  ,  0.07992187],\n",
      "       [-0.01222777, -0.06329224,  0.1900638 , -0.0534139 , -0.23286086,\n",
      "        -0.2723499 ,  0.08452156, -0.1996657 ,  0.13735616,  0.25708798],\n",
      "       [ 0.2174299 , -0.1282618 ,  0.11524034, -0.11879052, -0.1595161 ,\n",
      "        -0.15294375, -0.02503985, -0.13696939, -0.19713649,  0.10177597],\n",
      "       [ 0.18500462,  0.22931907,  0.21846804,  0.03813973, -0.03135884,\n",
      "        -0.13725534,  0.09381679, -0.23905587, -0.10963677, -0.07328245],\n",
      "       [ 0.14368647,  0.25155452,  0.12493795,  0.05278552,  0.00788775,\n",
      "        -0.04511738,  0.08577567,  0.04414839, -0.23717983, -0.24460079],\n",
      "       [-0.19308099, -0.09947772,  0.27161935, -0.05442837,  0.25501272,\n",
      "         0.10481516,  0.10708332,  0.07018834, -0.01557016,  0.14984936],\n",
      "       [-0.21244276,  0.24842611,  0.21739379, -0.24977298,  0.00922686,\n",
      "        -0.25862706, -0.17699367,  0.16722998, -0.14580949, -0.25066993],\n",
      "       [-0.07286154, -0.02546579,  0.13624713, -0.24400362,  0.00282073,\n",
      "        -0.1346596 ,  0.26878044, -0.07034516,  0.12649873, -0.0087871 ],\n",
      "       [ 0.07674044, -0.04425491,  0.07911146,  0.0917584 ,  0.07081541,\n",
      "        -0.23355395, -0.06127858,  0.00907832,  0.2592745 ,  0.18405452],\n",
      "       [-0.22871746, -0.14313847, -0.24798667,  0.11593327,  0.11179441,\n",
      "         0.10462025,  0.11858481,  0.04035103, -0.15874691,  0.01840046],\n",
      "       [-0.04401486, -0.05575831,  0.20224798, -0.08173287,  0.2626768 ,\n",
      "        -0.14012711, -0.13038449, -0.08750792, -0.09852761, -0.21684441],\n",
      "       [ 0.08056566,  0.25445828,  0.22210547,  0.20234284,  0.05826384,\n",
      "        -0.25290585, -0.11747545, -0.253248  ,  0.066174  ,  0.14207816],\n",
      "       [-0.23574975,  0.03487015,  0.03309387, -0.22506747, -0.2566926 ,\n",
      "        -0.01311433, -0.1374812 ,  0.0359962 ,  0.10925713,  0.07426214],\n",
      "       [-0.04024878, -0.16435435, -0.12645887,  0.13719776,  0.1316405 ,\n",
      "        -0.2754176 ,  0.13803056, -0.04335518,  0.22143212, -0.05411267],\n",
      "       [-0.1143017 ,  0.16846591,  0.20562452, -0.03746662, -0.2699909 ,\n",
      "        -0.16785477, -0.07265753,  0.05739015,  0.04123548, -0.11402912],\n",
      "       [-0.0052003 ,  0.20963472,  0.21509892, -0.28034425,  0.16503772,\n",
      "         0.22194561, -0.27821994, -0.18594801, -0.06157947,  0.16595164],\n",
      "       [ 0.05426931, -0.25092533,  0.10640654, -0.19027351,  0.15401796,\n",
      "        -0.24811201,  0.2047768 , -0.20209856,  0.12821367,  0.03598318],\n",
      "       [-0.05734412, -0.18080583,  0.18800065,  0.05584642, -0.03226638,\n",
      "         0.02723241, -0.21358722, -0.18308264, -0.12431581,  0.04271892],\n",
      "       [ 0.2136234 ,  0.20369843,  0.17522025,  0.04992068,  0.010037  ,\n",
      "         0.06742871, -0.23121184,  0.28187487, -0.17116179, -0.02124974],\n",
      "       [ 0.21165258,  0.26685712,  0.1504882 , -0.11862515,  0.1621483 ,\n",
      "        -0.25989226, -0.23226371,  0.11138096,  0.03523016, -0.28068566],\n",
      "       [ 0.03301609,  0.0432623 ,  0.28121123,  0.07793909,  0.14333051,\n",
      "         0.21750501, -0.00629148, -0.26361415, -0.0336237 ,  0.08920026],\n",
      "       [ 0.13096297, -0.08645082, -0.17768267,  0.00535095, -0.09135608,\n",
      "        -0.09070638,  0.00355604, -0.05819336,  0.23204795, -0.02508527],\n",
      "       [-0.27044594,  0.03191254,  0.11290711,  0.21215618,  0.17001873,\n",
      "        -0.22666137, -0.24880311,  0.19156307, -0.03505574, -0.16276065],\n",
      "       [ 0.26927426,  0.16082928, -0.22534832, -0.15632035, -0.03830899,\n",
      "         0.24285212, -0.0721322 , -0.05888617, -0.14071076, -0.00049612],\n",
      "       [ 0.15297389,  0.19375208,  0.21519056, -0.1394121 ,  0.17028594,\n",
      "        -0.09887099,  0.11494896,  0.23993286,  0.27502862,  0.20911443],\n",
      "       [ 0.22994122,  0.22458985,  0.23509923,  0.11958393, -0.23345421,\n",
      "         0.2162787 ,  0.12758338, -0.10065457, -0.28016788,  0.05079168],\n",
      "       [-0.07867101,  0.20735955, -0.07108136,  0.16283017, -0.21026568,\n",
      "         0.02143019,  0.13218829,  0.23486659,  0.17516676, -0.18725535],\n",
      "       [ 0.20210984, -0.19213346, -0.01699936,  0.15338627,  0.02065504,\n",
      "         0.20740396,  0.17113829,  0.00388747,  0.13620651, -0.00898409],\n",
      "       [ 0.11168674,  0.2316238 , -0.2597325 , -0.23960218,  0.05359685,\n",
      "        -0.21575356,  0.19235581, -0.09899339, -0.12027852, -0.18196157],\n",
      "       [-0.08877032,  0.21025196,  0.23107234, -0.02554998,  0.06853837,\n",
      "         0.06816152,  0.24142262, -0.04191993,  0.21362668, -0.11740987],\n",
      "       [-0.28410944, -0.15871602, -0.20772323, -0.2670891 ,  0.04772505,\n",
      "         0.00194705, -0.13949227,  0.05830556, -0.11261289,  0.23533508],\n",
      "       [-0.02836847, -0.21405281, -0.04743233, -0.22171558, -0.12852113,\n",
      "        -0.03950825, -0.19266966,  0.02826038,  0.18544313, -0.03840871],\n",
      "       [-0.19409186, -0.24639013, -0.02535066,  0.00433928,  0.19580668,\n",
      "         0.08685565, -0.16031203, -0.15398599, -0.27444673, -0.15047361],\n",
      "       [-0.24773176, -0.27499214, -0.19317421,  0.07994264, -0.09233022,\n",
      "        -0.15254633,  0.1793777 , -0.22688228,  0.02477014,  0.11951131],\n",
      "       [ 0.20565921, -0.12562506,  0.02514815,  0.2698907 , -0.21455994,\n",
      "         0.17116958, -0.20091939,  0.17014459, -0.09893067,  0.04346922]],\n",
      "      dtype=float32)>, <tf.Variable 'dense_3/bias:0' shape=(10,) dtype=float32, numpy=array([0., 0., 0., 0., 0., 0., 0., 0., 0., 0.], dtype=float32)>]\n"
     ]
    }
   ],
   "metadata": {}
  },
  {
   "cell_type": "markdown",
   "source": [
    "`build` 以后,有了输入的规模,weight 才能初始化.\r\n"
   ],
   "metadata": {}
  },
  {
   "cell_type": "code",
   "execution_count": 5,
   "source": [
    "model.summary()"
   ],
   "outputs": [
    {
     "output_type": "stream",
     "name": "stdout",
     "text": [
      "Model: \"sequential_1\"\n",
      "_________________________________________________________________\n",
      "Layer (type)                 Output Shape              Param #   \n",
      "=================================================================\n",
      "dense_2 (Dense)              (None, 64)                256       \n",
      "_________________________________________________________________\n",
      "dense_3 (Dense)              (None, 10)                650       \n",
      "=================================================================\n",
      "Total params: 906\n",
      "Trainable params: 906\n",
      "Non-trainable params: 0\n",
      "_________________________________________________________________\n"
     ]
    }
   ],
   "metadata": {}
  },
  {
   "cell_type": "markdown",
   "source": [
    "一旦模型初始化后,调用 `model.summary()` 就能输出模型的结构.对调试很方便.\r\n"
   ],
   "metadata": {}
  },
  {
   "cell_type": "code",
   "execution_count": 6,
   "source": [
    "model = keras.Sequential(name=\"my_example_model\")\r\n",
    "model.add(layers.Dense(64, activation=\"relu\", name=\"my_first_layer\"))\r\n",
    "model.add(layers.Dense(10, activation=\"softmax\", name=\"my_last_layer\"))\r\n",
    "model.build((None, 3))\r\n",
    "model.summary()"
   ],
   "outputs": [
    {
     "output_type": "stream",
     "name": "stdout",
     "text": [
      "Model: \"my_example_model\"\n",
      "_________________________________________________________________\n",
      "Layer (type)                 Output Shape              Param #   \n",
      "=================================================================\n",
      "my_first_layer (Dense)       (None, 64)                256       \n",
      "_________________________________________________________________\n",
      "my_last_layer (Dense)        (None, 10)                650       \n",
      "=================================================================\n",
      "Total params: 906\n",
      "Trainable params: 906\n",
      "Non-trainable params: 0\n",
      "_________________________________________________________________\n"
     ]
    }
   ],
   "metadata": {}
  },
  {
   "cell_type": "markdown",
   "source": [
    "model 默认名称是 `sequential_1` 每一层是 `dense_2` `dense_3`.\r\n",
    "实际上 keras 允许通过 `name` 字段设置 model/layer 名称. just for fun.\r\n"
   ],
   "metadata": {}
  },
  {
   "cell_type": "code",
   "execution_count": 7,
   "source": [
    "model = keras.Sequential()\r\n",
    "model.add(layers.InputLayer(input_shape = (3,)))\r\n",
    "model.add(layers.Dense(64, activation=\"relu\"))\r\n",
    "model.summary()"
   ],
   "outputs": [
    {
     "output_type": "stream",
     "name": "stdout",
     "text": [
      "Model: \"sequential_2\"\n",
      "_________________________________________________________________\n",
      "Layer (type)                 Output Shape              Param #   \n",
      "=================================================================\n",
      "dense_4 (Dense)              (None, 64)                256       \n",
      "=================================================================\n",
      "Total params: 256\n",
      "Trainable params: 256\n",
      "Non-trainable params: 0\n",
      "_________________________________________________________________\n"
     ]
    }
   ],
   "metadata": {}
  },
  {
   "cell_type": "code",
   "execution_count": 8,
   "source": [
    "model.add(layers.Dense(10, activation=\"softmax\"))\r\n",
    "model.summary()"
   ],
   "outputs": [
    {
     "output_type": "stream",
     "name": "stdout",
     "text": [
      "Model: \"sequential_2\"\n",
      "_________________________________________________________________\n",
      "Layer (type)                 Output Shape              Param #   \n",
      "=================================================================\n",
      "dense_4 (Dense)              (None, 64)                256       \n",
      "_________________________________________________________________\n",
      "dense_5 (Dense)              (None, 10)                650       \n",
      "=================================================================\n",
      "Total params: 906\n",
      "Trainable params: 906\n",
      "Non-trainable params: 0\n",
      "_________________________________________________________________\n"
     ]
    }
   ],
   "metadata": {}
  },
  {
   "cell_type": "markdown",
   "source": [
    "上文无法直接调用 `model.summary()` 是模型还没有初始化,模型不知道输入规模.但是如果提前指定了输入规模,那直接调用 `model.summary()` 就能输出了.\r\n",
    "\r\n",
    "上面这样添加层再 `summary()` 查看,是挺常见的工作流,下一章学习卷积层时会常用.\r\n"
   ],
   "metadata": {}
  },
  {
   "cell_type": "markdown",
   "source": [
    "## Functional API\r\n",
    "\r\n",
    "Sequential 构建模型非常方便,但是通过 Sequential 构建的模型却非常受限,它只能有单一的输入输出,以顺序的形式堆叠.Sequential 无法处理实践中常常会有一次性多个输入(例如: 输入图片和对应的元数据),多个输出(例如: 预测数据多个方面).同时 Sequential 无法构建非线性拓扑模型.\r\n",
    "\r\n",
    "这种情况下就是 Functional API 的天下了,使用 Functional API 构建的模型几乎是最常见的 keras 模型.\r\n",
    "\r\n",
    "想想乐高积木,Functional API 与之类似.\r\n"
   ],
   "metadata": {}
  },
  {
   "cell_type": "markdown",
   "source": [
    "### 单输入单输出模型\r\n"
   ],
   "metadata": {}
  },
  {
   "cell_type": "code",
   "execution_count": 9,
   "source": [
    "inputs = keras.Input(shape=(3,), name=\"my_input\")\r\n",
    "features = layers.Dense(64, activation=\"relu\")(inputs)\r\n",
    "outputs = layers.Dense(10, activation=\"softmax\")(features)\r\n",
    "model = keras.Model(inputs=inputs, outputs=outputs)"
   ],
   "outputs": [],
   "metadata": {}
  },
  {
   "cell_type": "markdown",
   "source": [
    "与上面例子相同的模型,2层,单输入单输出.\r\n"
   ],
   "metadata": {}
  },
  {
   "cell_type": "code",
   "execution_count": 10,
   "source": [
    "inputs = keras.Input(shape=(3,), name=\"my_input\")"
   ],
   "outputs": [],
   "metadata": {}
  },
  {
   "cell_type": "code",
   "execution_count": 11,
   "source": [
    "inputs.shape"
   ],
   "outputs": [
    {
     "output_type": "execute_result",
     "data": {
      "text/plain": [
       "TensorShape([None, 3])"
      ]
     },
     "metadata": {},
     "execution_count": 11
    }
   ],
   "metadata": {}
  },
  {
   "cell_type": "code",
   "execution_count": 12,
   "source": [
    "inputs.dtype"
   ],
   "outputs": [
    {
     "output_type": "execute_result",
     "data": {
      "text/plain": [
       "tf.float32"
      ]
     },
     "metadata": {},
     "execution_count": 12
    }
   ],
   "metadata": {}
  },
  {
   "cell_type": "markdown",
   "source": [
    "从 Input 开始,Input 定义了模型的输入.(Input 也有 name属性).\r\n",
    "\r\n",
    "我们把这边实例称为 符号张量 (symbolic tensor 没找到这个词对应的翻译,暂且如此称呼了),它不包含任何实际的数据,但是代表了将会输入模型的实际张量的规模.\r\n"
   ],
   "metadata": {}
  },
  {
   "cell_type": "code",
   "execution_count": 13,
   "source": [
    "features = layers.Dense(64, activation=\"relu\")(inputs)"
   ],
   "outputs": [],
   "metadata": {}
  },
  {
   "cell_type": "code",
   "execution_count": 14,
   "source": [
    "features.shape"
   ],
   "outputs": [
    {
     "output_type": "execute_result",
     "data": {
      "text/plain": [
       "TensorShape([None, 64])"
      ]
     },
     "metadata": {},
     "execution_count": 14
    }
   ],
   "metadata": {}
  },
  {
   "cell_type": "markdown",
   "source": [
    "所有 keras 层都可以调用真实的数据张量或者符号张量,调用符号张量时,keras 层返回的也是符号张量,代表这一层输出的规模.\r\n"
   ],
   "metadata": {}
  },
  {
   "cell_type": "code",
   "execution_count": 15,
   "source": [
    "outputs = layers.Dense(10, activation=\"softmax\")(features)\r\n",
    "model = keras.Model(inputs=inputs, outputs=outputs)\r\n",
    "model.summary()"
   ],
   "outputs": [
    {
     "output_type": "stream",
     "name": "stdout",
     "text": [
      "Model: \"model_1\"\n",
      "_________________________________________________________________\n",
      "Layer (type)                 Output Shape              Param #   \n",
      "=================================================================\n",
      "my_input (InputLayer)        [(None, 3)]               0         \n",
      "_________________________________________________________________\n",
      "dense_8 (Dense)              (None, 64)                256       \n",
      "_________________________________________________________________\n",
      "dense_9 (Dense)              (None, 10)                650       \n",
      "=================================================================\n",
      "Total params: 906\n",
      "Trainable params: 906\n",
      "Non-trainable params: 0\n",
      "_________________________________________________________________\n"
     ]
    }
   ],
   "metadata": {}
  },
  {
   "cell_type": "markdown",
   "source": [
    "最后我们定义了模型的输出,调用 `summary` 查看模型的情况.\r\n"
   ],
   "metadata": {}
  },
  {
   "cell_type": "markdown",
   "source": [
    "### 多输入多输出模型\r\n",
    "\r\n",
    "实际上列表堆叠的模型适用范围很小,很多场景下模型的拓扑更像图而不是简单的层叠.构建这样的模型是 Functional API 的强项了.\r\n"
   ],
   "metadata": {}
  },
  {
   "cell_type": "code",
   "execution_count": 16,
   "source": [
    "vocabulary_size = 10000  #文本编码长度\r\n",
    "num_tags = 100  # one-hot 编码长度\r\n",
    "num_departments = 4  # 部门几个\r\n",
    "# 输入数据\r\n",
    "title = keras.Input(shape=(vocabulary_size, ), name=\"title\")\r\n",
    "text_body = keras.Input(shape=(vocabulary_size, ), name=\"text_body\")\r\n",
    "tags = keras.Input(shape=(num_tags, ), name=\"tags\")\r\n",
    "# 中间 layer\r\n",
    "features = layers.Concatenate()([title, text_body, tags])\r\n",
    "features = layers.Dense(64, activation=\"relu\")(features)\r\n",
    "# 输出数据\r\n",
    "priority = layers.Dense(1, activation=\"sigmoid\",\r\n",
    "                        name=\"priority\")(features)  #优先级\r\n",
    "department = layers.Dense(num_departments,\r\n",
    "                          activation=\"softmax\",\r\n",
    "                          name=\"department\")(features)  #部门\r\n",
    "\r\n",
    "model = keras.Model(inputs=[title, text_body, tags],\r\n",
    "                    outputs=[priority, department])"
   ],
   "outputs": [],
   "metadata": {}
  },
  {
   "cell_type": "markdown",
   "source": [
    "例如上面的模型是按照优先级对客户的票据进行排序,并将其转交给适当部门.\r\n",
    "\r\n",
    "输入\r\n",
    "\r\n",
    "- 票据的标题: 文本\r\n",
    "- 票据的正文: 文本\r\n",
    "- 用户添加的任何标签: 这里假定是 one-hot 编码\r\n",
    "\r\n",
    "输出\r\n",
    "\r\n",
    "- 票据的优先级: 0~1 sigmoid\r\n",
    "- 票据需要转交的部分: 部门的集合 softmax\r\n",
    "\r\n",
    "文本信息编码成了 vocabulary_size 的 01 数组,详情见 11 章.\r\n"
   ],
   "metadata": {}
  },
  {
   "cell_type": "markdown",
   "source": [
    "#### 训练多输入多输出模型\r\n"
   ],
   "metadata": {}
  },
  {
   "cell_type": "code",
   "execution_count": 17,
   "source": [
    "import numpy as np\r\n",
    "\r\n",
    "num_samples = 1280\r\n",
    "\r\n",
    "title_data = np.random.randint(0, 2, size=(num_samples, vocabulary_size))  #标题\r\n",
    "text_body_data = np.random.randint(0, 2,\r\n",
    "                                   size=(num_samples, vocabulary_size))  #正文\r\n",
    "tags_data = np.random.randint(0, 2, size=(num_samples, num_tags))  #标签\r\n",
    "\r\n",
    "priority_data = np.random.random(size=(num_samples, 1))  #优先级\r\n",
    "department_data = np.random.randint(0, 2,\r\n",
    "                                    size=(num_samples, num_departments))  #部门\r\n",
    "\r\n",
    "model.compile(\r\n",
    "    optimizer=\"adam\",  #优化器\r\n",
    "    loss=[\"mean_squared_error\", \"categorical_crossentropy\"],  #损失函数\r\n",
    "    metrics=[[\"mean_absolute_error\"], [\"accuracy\"]])  #指标\r\n",
    "\r\n",
    "model.fit([title_data, text_body_data, tags_data],\r\n",
    "          [priority_data, department_data],\r\n",
    "          epochs=1)  #训练模型,传入数据要和 model 声明一致"
   ],
   "outputs": [
    {
     "output_type": "stream",
     "name": "stdout",
     "text": [
      "40/40 [==============================] - 1s 5ms/step - loss: 7.1819 - priority_loss: 0.3063 - department_loss: 6.8756 - priority_mean_absolute_error: 0.4753 - department_accuracy: 0.2250\n"
     ]
    },
    {
     "output_type": "execute_result",
     "data": {
      "text/plain": [
       "<tensorflow.python.keras.callbacks.History at 0x190adb56a90>"
      ]
     },
     "metadata": {},
     "execution_count": 17
    }
   ],
   "metadata": {}
  },
  {
   "cell_type": "markdown",
   "source": [
    "训练过程和上面的单输入单输出模型一样,只是输入和输出的时组个 `[]` 传入.\r\n"
   ],
   "metadata": {}
  },
  {
   "cell_type": "code",
   "execution_count": 18,
   "source": [
    "results = model.evaluate([title_data, text_body_data, tags_data],\r\n",
    "               [priority_data, department_data])#评估模型 传入数据要和 model 声明一致\r\n",
    "results"
   ],
   "outputs": [
    {
     "output_type": "stream",
     "name": "stdout",
     "text": [
      "40/40 [==============================] - 0s 4ms/step - loss: 4.5311 - priority_loss: 0.3307 - department_loss: 4.2004 - priority_mean_absolute_error: 0.4982 - department_accuracy: 0.4367\n"
     ]
    },
    {
     "output_type": "execute_result",
     "data": {
      "text/plain": [
       "[4.531145095825195,\n",
       " 0.33074676990509033,\n",
       " 4.200397491455078,\n",
       " 0.4982284605503082,\n",
       " 0.43671876192092896]"
      ]
     },
     "metadata": {},
     "execution_count": 18
    }
   ],
   "metadata": {}
  },
  {
   "cell_type": "markdown",
   "source": [
    "测试集评估也是一样.\r\n"
   ],
   "metadata": {}
  },
  {
   "cell_type": "code",
   "execution_count": 19,
   "source": [
    "priority_preds, department_preds = model.predict(\r\n",
    "    [title_data, text_body_data, tags_data])  # 获取预测值"
   ],
   "outputs": [],
   "metadata": {}
  },
  {
   "cell_type": "markdown",
   "source": [
    "获取预测值也是一样.\r\n"
   ],
   "metadata": {}
  },
  {
   "cell_type": "code",
   "execution_count": 20,
   "source": [
    "model.compile(\r\n",
    "    optimizer=\"adam\",  #优化器\r\n",
    "    loss={\r\n",
    "        \"priority\": \"mean_squared_error\",\r\n",
    "        \"department\": \"categorical_crossentropy\"\r\n",
    "    },  #损失函数\r\n",
    "    metrics={\r\n",
    "        \"priority\": [\"mean_absolute_error\"],\r\n",
    "        \"department\": [\"accuracy\"]\r\n",
    "    })  #指标\r\n",
    "\r\n",
    "model.fit({\r\n",
    "    \"title\": title_data,\r\n",
    "    \"text_body\": text_body_data,\r\n",
    "    \"tags\": tags_data\r\n",
    "}, {\r\n",
    "    \"priority\": priority_data,\r\n",
    "    \"department\": department_data\r\n",
    "},\r\n",
    "          epochs=1)\r\n"
   ],
   "outputs": [
    {
     "output_type": "stream",
     "name": "stdout",
     "text": [
      "40/40 [==============================] - 1s 5ms/step - loss: 5.6119 - priority_loss: 0.3307 - department_loss: 5.2812 - priority_mean_absolute_error: 0.4982 - department_accuracy: 0.3000\n"
     ]
    },
    {
     "output_type": "execute_result",
     "data": {
      "text/plain": [
       "<tensorflow.python.keras.callbacks.History at 0x191b9291d90>"
      ]
     },
     "metadata": {},
     "execution_count": 20
    }
   ],
   "metadata": {}
  },
  {
   "cell_type": "markdown",
   "source": [
    "格式化完成略喜感..\r\n",
    "\r\n",
    "---\r\n",
    "\r\n",
    "如果不想遵守严格的顺序,可以采用类似字典的方式.\r\n",
    "\r\n",
    "定义损失函数等也能用类似字典.\r\n"
   ],
   "metadata": {}
  },
  {
   "cell_type": "code",
   "execution_count": 21,
   "source": [
    "priority_preds, department_preds = model.predict({\r\n",
    "    \"title\": title_data,\r\n",
    "    \"text_body\": text_body_data,\r\n",
    "    \"tags\": tags_data\r\n",
    "})\r\n"
   ],
   "outputs": [],
   "metadata": {}
  },
  {
   "cell_type": "code",
   "execution_count": 22,
   "source": [
    "priority_preds, department_preds = model.predict({\r\n",
    "    \"title\": title_data,\r\n",
    "    \"text_body\": text_body_data,\r\n",
    "    \"tags\": tags_data\r\n",
    "})"
   ],
   "outputs": [],
   "metadata": {}
  },
  {
   "cell_type": "markdown",
   "source": [
    "评估和获取预测值类似."
   ],
   "metadata": {}
  },
  {
   "cell_type": "markdown",
   "source": [
    "### Functional API 对层的访问\r\n",
    "\r\n",
    "使用 Functional API 一直让我想起乐高积木,Functional 模型是一个明确的图,而在研究人员脑中深度学习模型也是一个非常类似的图.\r\n",
    "\r\n",
    "类似图的结构,让 Functional 模型输出层直接连接,或者重用部分 layer 成为可能.\r\n"
   ],
   "metadata": {}
  },
  {
   "cell_type": "markdown",
   "source": [
    "#### 模型可视化\r\n"
   ],
   "metadata": {}
  },
  {
   "cell_type": "code",
   "execution_count": 27,
   "source": [
    "keras.utils.plot_model(model, \"ticket_classifier.png\")"
   ],
   "outputs": [
    {
     "output_type": "execute_result",
     "data": {
      "text/plain": [
       "<IPython.core.display.Image object>"
      ],
      "image/png": "[encoded data removed]"
     },
     "metadata": {},
     "execution_count": 27
    }
   ],
   "metadata": {}
  },
  {
   "cell_type": "markdown",
   "source": [
    "`keras.utils.plot_model` 可以将 model 以图形的方式展示出来.这非常受用.\r\n"
   ],
   "metadata": {}
  },
  {
   "cell_type": "code",
   "execution_count": 28,
   "source": [
    "keras.utils.plot_model(model, \"ticket_classifier_with_shape_info.png\", show_shapes=True)"
   ],
   "outputs": [
    {
     "output_type": "execute_result",
     "data": {
      "text/plain": [
       "<IPython.core.display.Image object>"
      ],
      "image/png": "[encoded data removed]"
     },
     "metadata": {},
     "execution_count": 28
    }
   ],
   "metadata": {}
  },
  {
   "cell_type": "markdown",
   "source": [
    "加上各层的输入输出大小也没关系. None 代表任意大小.\r\n"
   ],
   "metadata": {}
  },
  {
   "cell_type": "markdown",
   "source": [
    "#### 提取模型特征\r\n"
   ],
   "metadata": {}
  },
  {
   "cell_type": "code",
   "execution_count": 29,
   "source": [
    "model.layers"
   ],
   "outputs": [
    {
     "output_type": "execute_result",
     "data": {
      "text/plain": [
       "[<tensorflow.python.keras.engine.input_layer.InputLayer at 0x190832e3610>,\n",
       " <tensorflow.python.keras.engine.input_layer.InputLayer at 0x190832e3670>,\n",
       " <tensorflow.python.keras.engine.input_layer.InputLayer at 0x190832e3640>,\n",
       " <tensorflow.python.keras.layers.merge.Concatenate at 0x190831ac2b0>,\n",
       " <tensorflow.python.keras.layers.core.Dense at 0x19047c91bb0>,\n",
       " <tensorflow.python.keras.layers.core.Dense at 0x1904821f4f0>,\n",
       " <tensorflow.python.keras.layers.core.Dense at 0x190481ee850>]"
      ]
     },
     "metadata": {},
     "execution_count": 29
    }
   ],
   "metadata": {}
  },
  {
   "cell_type": "code",
   "execution_count": 30,
   "source": [
    "model.layers[3].input"
   ],
   "outputs": [
    {
     "output_type": "execute_result",
     "data": {
      "text/plain": [
       "[<KerasTensor: shape=(None, 10000) dtype=float32 (created by layer 'title')>,\n",
       " <KerasTensor: shape=(None, 10000) dtype=float32 (created by layer 'text_body')>,\n",
       " <KerasTensor: shape=(None, 100) dtype=float32 (created by layer 'tags')>]"
      ]
     },
     "metadata": {},
     "execution_count": 30
    }
   ],
   "metadata": {}
  },
  {
   "cell_type": "markdown",
   "source": [
    "Functional 可以访问所有 layer 包括 layer 对应的 input/output.\r\n"
   ],
   "metadata": {}
  },
  {
   "cell_type": "code",
   "execution_count": 31,
   "source": [
    "features = model.layers[4].output\r\n",
    "difficulty = layers.Dense(3, activation=\"softmax\", name=\"difficulty\")(features)\r\n",
    "\r\n",
    "new_model = keras.Model(inputs=[title, text_body, tags],\r\n",
    "                        outputs=[priority, department, difficulty])"
   ],
   "outputs": [],
   "metadata": {}
  },
  {
   "cell_type": "markdown",
   "source": [
    "model 每个 layer 声明都是互相独立的,这意味着可以像操作图一样修改模型\r\n",
    "\r\n",
    "- 增删改 model 某个部分\r\n",
    "- 重用 model 或部分 model\r\n",
    "\r\n",
    "上面就是在 model 添加一个输出,困难的评级.输出有 3 个级别.\r\n"
   ],
   "metadata": {}
  },
  {
   "cell_type": "code",
   "execution_count": 32,
   "source": [
    "keras.utils.plot_model(new_model, \"updated_ticket_classifier.png\", show_shapes=True)"
   ],
   "outputs": [
    {
     "output_type": "execute_result",
     "data": {
      "text/plain": [
       "<IPython.core.display.Image object>"
      ],
      "image/png": "[encoded data removed]"
     },
     "metadata": {},
     "execution_count": 32
    }
   ],
   "metadata": {}
  },
  {
   "cell_type": "markdown",
   "source": [
    "重新可视化 model 此时困难评级已经添加了.\r\n"
   ],
   "metadata": {}
  },
  {
   "cell_type": "markdown",
   "source": [
    "## Model subclassin\r\n"
   ],
   "metadata": {}
  }
 ],
 "metadata": {
  "orig_nbformat": 4,
  "language_info": {
   "name": "python",
   "version": "3.9.6",
   "mimetype": "text/x-python",
   "codemirror_mode": {
    "name": "ipython",
    "version": 3
   },
   "pygments_lexer": "ipython3",
   "nbconvert_exporter": "python",
   "file_extension": ".py"
  },
  "kernelspec": {
   "name": "python3",
   "display_name": "Python 3.9.6 64-bit ('tf': venv)"
  },
  "interpreter": {
   "hash": "aac46f597da82ce9618f0e6f094e6d401f1ab16d9be89acf77ce1dd63d67a333"
  }
 },
 "nbformat": 4,
 "nbformat_minor": 2
}