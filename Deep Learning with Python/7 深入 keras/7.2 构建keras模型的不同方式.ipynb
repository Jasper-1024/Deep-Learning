{
 "cells": [
  {
   "cell_type": "markdown",
   "source": [
    "# 7.2 构建keras模型的不同方式.ipynb\r\n",
    "\r\n",
    "具体而言是 3 种构建方式\r\n",
    "\r\n",
    "- Sequential model: 最容易上手的方式,脱胎于 python 的 list,基本上只是层的堆叠.\r\n",
    "- Functional API: 以类似图的方式构建模型,在易用性和灵活性算是取了一个平衡点.\r\n",
    "- Model subclassing: 非常底层的 api,需要自行实现所有,如果你需要控制全部细节,就用这个.代价是许多 keras 内置功能无法使用,自行编码的错误可能会更高.\r\n",
    "\r\n",
    "下图显示了构建 keras 模型复杂性一步一步上升的过程\r\n",
    "\r\n",
    "![progressive_disclosure_of_complexity_models](./progressive_disclosure_of_complexity_models.png)\r\n",
    "\r\n",
    "ps: Functional API 翻译是函数式 api,Model subclassing 翻译应该是 模型子类化,但是下文基本没用中文译名,感觉有点乱.\r\n"
   ],
   "metadata": {}
  },
  {
   "cell_type": "markdown",
   "source": [
    "## Sequential model\r\n"
   ],
   "metadata": {}
  },
  {
   "cell_type": "code",
   "execution_count": 2,
   "source": [
    "from tensorflow import keras\r\n",
    "from tensorflow.keras import layers\r\n",
    "\r\n",
    "model = keras.Sequential([\r\n",
    "    layers.Dense(64, activation='relu'),\r\n",
    "    layers.Dense(10, activation='softmax')\r\n",
    "])"
   ],
   "outputs": [],
   "metadata": {}
  },
  {
   "cell_type": "markdown",
   "source": [
    "这是 mnist 例子中的模型\r\n"
   ],
   "metadata": {}
  },
  {
   "cell_type": "code",
   "execution_count": 3,
   "source": [
    "model = keras.Sequential()\r\n",
    "model.add(layers.Dense(64, activation='relu'))\r\n",
    "model.add(layers.Dense(10, activation='softmax'))"
   ],
   "outputs": [],
   "metadata": {}
  },
  {
   "cell_type": "markdown",
   "source": [
    "上文说到了 Sequential model 是类似 python list 的存在,因此也可以通过 `add` 构建相同的模型.\r\n"
   ],
   "metadata": {}
  },
  {
   "cell_type": "code",
   "execution_count": 4,
   "source": [
    "# model.weights"
   ],
   "outputs": [],
   "metadata": {}
  },
  {
   "cell_type": "markdown",
   "source": [
    "model 只有在第一次调用时候才真正被初始化,换句话说层的权重只有在第一次调用时才会初始化.上面直接输出权重就错误了.\r\n"
   ],
   "metadata": {}
  },
  {
   "cell_type": "code",
   "execution_count": 5,
   "source": [
    "model.build(input_shape=(None, 3))\r\n",
    "print(model.weights)"
   ],
   "outputs": [
    {
     "output_type": "stream",
     "name": "stdout",
     "text": [
      "[<tf.Variable 'dense_2/kernel:0' shape=(3, 64) dtype=float32, numpy=\n",
      "array([[-0.01508206, -0.21241748, -0.19637111,  0.13810778, -0.00385767,\n",
      "        -0.07358995, -0.17630114,  0.04232615, -0.2634571 ,  0.27217948,\n",
      "        -0.23710321, -0.05766878, -0.16470526,  0.00448591, -0.19204003,\n",
      "         0.23932171, -0.13070242,  0.02772033, -0.18671152, -0.0680676 ,\n",
      "        -0.21475312, -0.00352293,  0.16426754,  0.10479939,  0.04239485,\n",
      "         0.10195413,  0.20310414,  0.18602806,  0.29925275, -0.16383603,\n",
      "        -0.2676912 ,  0.00919312,  0.07071528, -0.11225447,  0.28656268,\n",
      "        -0.05786777, -0.2213676 , -0.05220449, -0.23168844,  0.0274657 ,\n",
      "        -0.02362141, -0.18139648,  0.17658082,  0.1553055 ,  0.2660908 ,\n",
      "         0.07132494,  0.19276926,  0.01630872, -0.06041323,  0.15625837,\n",
      "         0.18527502, -0.18378656,  0.12096557, -0.12344211, -0.10719681,\n",
      "        -0.02358881,  0.24612468,  0.27764994, -0.13578215, -0.27190876,\n",
      "        -0.13797943,  0.03926292, -0.2793214 ,  0.25676012],\n",
      "       [ 0.09736213, -0.21786973, -0.21280435, -0.1826716 , -0.02218783,\n",
      "         0.2525515 , -0.01691967, -0.18305752,  0.08236933, -0.16708654,\n",
      "        -0.10076889,  0.21475649, -0.0332793 ,  0.22441477, -0.21835238,\n",
      "         0.11426696,  0.2593255 , -0.23997344,  0.0077143 , -0.17630029,\n",
      "         0.03974137, -0.07364817, -0.19972822,  0.06006098,  0.20755297,\n",
      "         0.09044385,  0.2101686 ,  0.20064574,  0.03243691, -0.2024898 ,\n",
      "         0.23864532,  0.00191832,  0.22580576,  0.15488756,  0.2969535 ,\n",
      "        -0.17921945, -0.16290787,  0.0821687 ,  0.01563936, -0.02305335,\n",
      "        -0.1473826 ,  0.26174676, -0.22628821,  0.19866464,  0.23605025,\n",
      "         0.19237158,  0.08376202, -0.05279274,  0.24431711,  0.21589541,\n",
      "         0.0473291 ,  0.05699354,  0.14036587,  0.2180528 , -0.06394136,\n",
      "        -0.22054511,  0.10800618, -0.17174375,  0.20893866, -0.27292454,\n",
      "        -0.08304121, -0.15886076, -0.22790973,  0.27043253],\n",
      "       [ 0.05655888, -0.03677866,  0.01925388,  0.16867375,  0.09596178,\n",
      "        -0.11078836,  0.20623493, -0.05386595, -0.03413484, -0.26821488,\n",
      "        -0.19008854, -0.20713478,  0.22952789, -0.28041714, -0.11233988,\n",
      "        -0.05240397,  0.02964428, -0.18816864,  0.19672605,  0.21472454,\n",
      "         0.00736418,  0.14407521, -0.17917123, -0.14599176,  0.2606539 ,\n",
      "         0.29883993, -0.21128649, -0.16611223, -0.22347149, -0.17299546,\n",
      "         0.12127137,  0.28520423, -0.20604545,  0.07803538, -0.12260899,\n",
      "        -0.02552867, -0.16997711,  0.28210652, -0.2659065 ,  0.18856356,\n",
      "        -0.2821061 , -0.21415508, -0.08274768, -0.17712663, -0.15769294,\n",
      "        -0.14567254,  0.04852954,  0.20975047,  0.13656527, -0.21026751,\n",
      "        -0.13009647, -0.11165959,  0.00046375, -0.16772361,  0.13049766,\n",
      "        -0.19745657, -0.14832403,  0.00263849, -0.26493868,  0.21623653,\n",
      "         0.22807932,  0.13534522,  0.2767746 ,  0.01450464]],\n",
      "      dtype=float32)>, <tf.Variable 'dense_2/bias:0' shape=(64,) dtype=float32, numpy=\n",
      "array([0., 0., 0., 0., 0., 0., 0., 0., 0., 0., 0., 0., 0., 0., 0., 0., 0.,\n",
      "       0., 0., 0., 0., 0., 0., 0., 0., 0., 0., 0., 0., 0., 0., 0., 0., 0.,\n",
      "       0., 0., 0., 0., 0., 0., 0., 0., 0., 0., 0., 0., 0., 0., 0., 0., 0.,\n",
      "       0., 0., 0., 0., 0., 0., 0., 0., 0., 0., 0., 0., 0.], dtype=float32)>, <tf.Variable 'dense_3/kernel:0' shape=(64, 10) dtype=float32, numpy=\n",
      "array([[ 0.16792443, -0.08039913, -0.14115563,  0.25076386,  0.15486595,\n",
      "        -0.13790931,  0.02801925,  0.2713774 , -0.20036331, -0.03016469],\n",
      "       [-0.21600705,  0.02313977, -0.25020877,  0.23451796,  0.22637746,\n",
      "         0.19252253,  0.00995484,  0.00092953,  0.11700776, -0.18454598],\n",
      "       [ 0.216863  , -0.06395286,  0.10486817,  0.1793378 , -0.21924081,\n",
      "         0.17451286,  0.01795328, -0.18449453,  0.23371306,  0.23112527],\n",
      "       [ 0.11136231, -0.06415197,  0.2470645 , -0.14226392,  0.22399494,\n",
      "        -0.07220519, -0.02305892, -0.10638157, -0.27622128,  0.16129494],\n",
      "       [ 0.20321018, -0.2046391 ,  0.0810774 ,  0.1234962 ,  0.13931707,\n",
      "        -0.10364413,  0.17255047, -0.22735167, -0.05763605,  0.19109294],\n",
      "       [-0.21553625, -0.25468293, -0.23733367, -0.20989183,  0.05241096,\n",
      "         0.19532853,  0.03246883,  0.19179985,  0.20462954,  0.1121932 ],\n",
      "       [-0.09695047, -0.104177  , -0.1364983 , -0.05112176,  0.00858748,\n",
      "        -0.22229066, -0.03057948, -0.25802028, -0.20986867, -0.26034588],\n",
      "       [ 0.14098632, -0.12561162,  0.27687314,  0.08519536,  0.17247918,\n",
      "         0.11437318, -0.15419115, -0.1324105 , -0.1370508 ,  0.19374469],\n",
      "       [ 0.05107361, -0.194404  ,  0.2605135 ,  0.17294264,  0.00918403,\n",
      "         0.22827348, -0.06604336,  0.12847382,  0.06327561, -0.06176813],\n",
      "       [-0.0595229 ,  0.04315791, -0.18192416,  0.16730988, -0.1804192 ,\n",
      "        -0.19329627,  0.28070268,  0.09498394, -0.12709838,  0.18710029],\n",
      "       [ 0.14737928, -0.12375532,  0.12827727,  0.03332803,  0.02119768,\n",
      "         0.10391724, -0.04009908, -0.01697817,  0.1307849 ,  0.25365463],\n",
      "       [ 0.2489672 , -0.1331507 ,  0.25404128, -0.08137272, -0.02264047,\n",
      "        -0.24088609,  0.19397768,  0.08361572, -0.2733584 , -0.27816683],\n",
      "       [-0.13160343,  0.05340338,  0.14701602, -0.03341848,  0.13100913,\n",
      "         0.07786542,  0.08707696, -0.1060396 ,  0.09735176, -0.20925896],\n",
      "       [-0.03999521, -0.09476614, -0.0957673 ,  0.15395203, -0.05964489,\n",
      "         0.17683744,  0.06133655,  0.17882842,  0.18507972,  0.07825959],\n",
      "       [-0.2557576 ,  0.25939056, -0.25951552,  0.22985312,  0.07058188,\n",
      "        -0.11337386,  0.00200149,  0.1481266 ,  0.07077348,  0.2730361 ],\n",
      "       [-0.01129714,  0.03346646, -0.02839509, -0.02699018,  0.06512842,\n",
      "         0.10453084,  0.27681014, -0.2751977 ,  0.26138535, -0.24606556],\n",
      "       [-0.24800366,  0.15294123, -0.19778903,  0.09428957,  0.2614753 ,\n",
      "        -0.12921937,  0.10106829, -0.01847669, -0.27724552, -0.18743595],\n",
      "       [-0.19535744, -0.00730696, -0.1375051 ,  0.1291542 , -0.1950607 ,\n",
      "         0.26800832,  0.1605413 ,  0.06679794,  0.08301365, -0.11590952],\n",
      "       [ 0.12470034, -0.0562617 , -0.0347973 , -0.18838978, -0.20861441,\n",
      "        -0.1325623 ,  0.12689859, -0.21277188, -0.25165397,  0.20907408],\n",
      "       [-0.15565124, -0.07211761, -0.03055525, -0.14134958, -0.09115751,\n",
      "        -0.05684617, -0.08823229, -0.01861233, -0.2721679 , -0.111223  ],\n",
      "       [-0.08695579, -0.13569348,  0.00415787, -0.26513362,  0.04493475,\n",
      "        -0.19733417,  0.20934796,  0.06453541,  0.123097  ,  0.25816253],\n",
      "       [-0.22443467,  0.09862503,  0.03740951, -0.12523252,  0.20945686,\n",
      "        -0.14475423, -0.09005845, -0.10385813,  0.24876282, -0.16311747],\n",
      "       [-0.06256486,  0.17433518,  0.16667446,  0.04035434, -0.04179841,\n",
      "         0.27624932, -0.2579856 , -0.2736812 ,  0.2381927 , -0.18375555],\n",
      "       [ 0.22581652,  0.0260455 ,  0.16903359,  0.21832189, -0.11326599,\n",
      "        -0.264652  ,  0.20312843, -0.10262235,  0.16833884, -0.27261227],\n",
      "       [ 0.01897174,  0.22908553, -0.14214009,  0.02791369,  0.0043965 ,\n",
      "        -0.2513765 ,  0.00549582,  0.08374509, -0.28132606, -0.15915723],\n",
      "       [-0.2334629 , -0.16082913, -0.01912135, -0.17663595,  0.2657424 ,\n",
      "        -0.21104607,  0.07353425, -0.18602549, -0.20675752,  0.22105011],\n",
      "       [ 0.26215294,  0.14144903, -0.01782361,  0.27387658, -0.13883512,\n",
      "        -0.20942175, -0.1523944 , -0.04888345,  0.02107304,  0.05507731],\n",
      "       [ 0.17526227,  0.03438771,  0.16448373,  0.00299886,  0.03523993,\n",
      "        -0.14951324,  0.10592744,  0.1308564 , -0.11474678,  0.18154466],\n",
      "       [-0.25574565,  0.23102859,  0.24911126, -0.15163513, -0.0657898 ,\n",
      "         0.12793872,  0.21496522, -0.03721523, -0.2798543 , -0.2613926 ],\n",
      "       [-0.15820956,  0.22249302,  0.02088776,  0.10112837, -0.07541348,\n",
      "         0.20546898,  0.26058826,  0.05980116,  0.19092497,  0.14361784],\n",
      "       [ 0.02863005,  0.1222581 ,  0.25850418,  0.2299271 , -0.03160575,\n",
      "        -0.08723181, -0.02469662,  0.27281627, -0.16788438, -0.26989135],\n",
      "       [-0.01874009,  0.13893083, -0.14464445, -0.04165979,  0.20488295,\n",
      "         0.16584003, -0.07642686,  0.17249826, -0.04899038,  0.0560827 ],\n",
      "       [ 0.06617045, -0.0887344 ,  0.19901145,  0.16993842, -0.18512657,\n",
      "         0.00784364, -0.21691188,  0.0818578 ,  0.1940271 , -0.11087072],\n",
      "       [ 0.02342832,  0.09418902,  0.00750262,  0.2330915 ,  0.13548648,\n",
      "         0.05510828,  0.13541487,  0.26298776,  0.25129595,  0.05977634],\n",
      "       [ 0.00445595,  0.24031737, -0.12303312,  0.23542938, -0.23446271,\n",
      "        -0.214723  ,  0.03986886,  0.2697427 , -0.14070274, -0.27990153],\n",
      "       [ 0.14891636, -0.15210362, -0.00508752, -0.15607792,  0.21418512,\n",
      "        -0.09434395,  0.12108421, -0.02535954, -0.20029578,  0.2357336 ],\n",
      "       [-0.03937736, -0.11465968, -0.2216572 , -0.22955371, -0.19956575,\n",
      "        -0.10728075,  0.22168514, -0.18689963,  0.09256348, -0.24237844],\n",
      "       [-0.250062  ,  0.06648839,  0.00905097,  0.06630364, -0.18603736,\n",
      "        -0.20165178, -0.2114847 , -0.05938834,  0.11323816,  0.06918684],\n",
      "       [-0.27945748,  0.00326079,  0.14545959,  0.23249957,  0.2606015 ,\n",
      "        -0.09738816,  0.28375617,  0.12267026,  0.2786542 ,  0.04981327],\n",
      "       [-0.19822705,  0.23176166,  0.01545876, -0.24188563, -0.17279351,\n",
      "        -0.13229991, -0.19776472, -0.01325372,  0.15265116,  0.04639402],\n",
      "       [-0.15317437,  0.21655396,  0.23418954, -0.15580107, -0.02694002,\n",
      "         0.04478711,  0.16779414, -0.27380022, -0.1293314 , -0.2715264 ],\n",
      "       [-0.26475474,  0.12002447,  0.22235367,  0.07207802, -0.1425906 ,\n",
      "        -0.03769785, -0.00757107, -0.21672872,  0.05903491,  0.00120428],\n",
      "       [ 0.2826256 , -0.06789695, -0.01837364, -0.12399057, -0.10094637,\n",
      "        -0.01921207,  0.08027738, -0.1203972 ,  0.05573544,  0.27403483],\n",
      "       [-0.14467093,  0.12232944,  0.16294762, -0.00101346,  0.19681007,\n",
      "         0.13608906, -0.11390346, -0.15231876, -0.26734722,  0.24121848],\n",
      "       [-0.28242803,  0.01002273, -0.03373727, -0.26513973,  0.03684863,\n",
      "         0.06288341,  0.130158  ,  0.12330502,  0.1478867 ,  0.09750819],\n",
      "       [ 0.14257246,  0.04943362, -0.2042171 ,  0.05983165, -0.17892456,\n",
      "        -0.21775867,  0.0176217 ,  0.00284219,  0.2840303 , -0.21120948],\n",
      "       [-0.13800816, -0.2838025 , -0.12942928,  0.2186428 , -0.1637859 ,\n",
      "        -0.12550265, -0.09420267, -0.2002069 , -0.25901356, -0.04110044],\n",
      "       [-0.19766092, -0.00145784, -0.16913082,  0.13897985, -0.08637859,\n",
      "         0.21821806,  0.05810809,  0.1552864 , -0.17134203, -0.22019249],\n",
      "       [-0.07366182,  0.0524238 , -0.2636054 , -0.25628054, -0.12347074,\n",
      "        -0.23302719, -0.26380652, -0.10014771,  0.26151785, -0.15069948],\n",
      "       [-0.07633677,  0.17055288, -0.13656598, -0.20656866,  0.17895064,\n",
      "         0.17743888,  0.076482  , -0.27232853, -0.15673645, -0.10348745],\n",
      "       [-0.08235344,  0.22046968,  0.0609335 , -0.17629209,  0.09822822,\n",
      "        -0.04322293, -0.2191999 , -0.04151838,  0.27040592, -0.00592917],\n",
      "       [ 0.01055112, -0.12275036, -0.06928168, -0.05187654, -0.20647007,\n",
      "         0.26149014,  0.22257105, -0.05218585, -0.00218645, -0.24017985],\n",
      "       [ 0.1437405 ,  0.12121621,  0.12539661,  0.03678745, -0.23159677,\n",
      "        -0.10876291, -0.05869445,  0.20814171, -0.16323194,  0.00827867],\n",
      "       [-0.06103303,  0.00125709, -0.16208869, -0.16165629,  0.26407483,\n",
      "        -0.00095534,  0.08874419,  0.12930933, -0.16369608, -0.06876035],\n",
      "       [ 0.07852009,  0.14563176,  0.11295974,  0.01839733,  0.23523542,\n",
      "         0.01273829, -0.03039727, -0.0466404 ,  0.02766743, -0.24020761],\n",
      "       [-0.18060142, -0.08180939, -0.17515475,  0.15153825, -0.17028928,\n",
      "         0.084883  , -0.26382154,  0.07334158,  0.20214763,  0.11750239],\n",
      "       [ 0.17290932,  0.14504206,  0.17578712, -0.27824137,  0.1695452 ,\n",
      "         0.18314862,  0.05890477,  0.260309  ,  0.10120705,  0.08937868],\n",
      "       [ 0.08718118, -0.16999525,  0.06034991, -0.1578186 ,  0.21569869,\n",
      "        -0.26750046,  0.15513107,  0.02752855, -0.21099637, -0.23274091],\n",
      "       [-0.17682122, -0.1617047 ,  0.11204949, -0.16563745,  0.2422311 ,\n",
      "         0.23911116,  0.03261995, -0.22569585, -0.03440407, -0.26676404],\n",
      "       [ 0.14739057, -0.14219311,  0.03237569,  0.2567375 , -0.28217176,\n",
      "        -0.0297052 ,  0.27213177, -0.04749417,  0.03238478,  0.1189062 ],\n",
      "       [-0.2800429 , -0.24921459,  0.27839264, -0.16897759,  0.20096427,\n",
      "         0.1295062 ,  0.27767292, -0.2180165 ,  0.0996224 ,  0.06074905],\n",
      "       [-0.17520595, -0.10747355, -0.13127485,  0.27531263, -0.10939623,\n",
      "         0.21395463, -0.09673765, -0.10676134,  0.23302242, -0.03812161],\n",
      "       [-0.2305487 ,  0.2539511 ,  0.01396057,  0.04447475,  0.08243042,\n",
      "        -0.0698567 ,  0.2718688 , -0.14879376,  0.11582947, -0.25882933],\n",
      "       [ 0.11485094, -0.00333294,  0.14371735,  0.24234101,  0.13605282,\n",
      "         0.06261471, -0.06646258, -0.13832167,  0.27102605,  0.25998154]],\n",
      "      dtype=float32)>, <tf.Variable 'dense_3/bias:0' shape=(10,) dtype=float32, numpy=array([0., 0., 0., 0., 0., 0., 0., 0., 0., 0.], dtype=float32)>]\n"
     ]
    }
   ],
   "metadata": {}
  },
  {
   "cell_type": "markdown",
   "source": [
    "`build` 以后,有了输入的规模,weight 才能初始化.\r\n"
   ],
   "metadata": {}
  },
  {
   "cell_type": "code",
   "execution_count": 6,
   "source": [
    "model.summary()"
   ],
   "outputs": [
    {
     "output_type": "stream",
     "name": "stdout",
     "text": [
      "Model: \"sequential_1\"\n",
      "_________________________________________________________________\n",
      "Layer (type)                 Output Shape              Param #   \n",
      "=================================================================\n",
      "dense_2 (Dense)              (None, 64)                256       \n",
      "_________________________________________________________________\n",
      "dense_3 (Dense)              (None, 10)                650       \n",
      "=================================================================\n",
      "Total params: 906\n",
      "Trainable params: 906\n",
      "Non-trainable params: 0\n",
      "_________________________________________________________________\n"
     ]
    }
   ],
   "metadata": {}
  },
  {
   "cell_type": "markdown",
   "source": [
    "一旦模型初始化后,调用 `model.summary()` 就能输出模型的结构.对调试很方便.\r\n"
   ],
   "metadata": {}
  },
  {
   "cell_type": "code",
   "execution_count": 7,
   "source": [
    "model = keras.Sequential(name=\"my_example_model\")\r\n",
    "model.add(layers.Dense(64, activation=\"relu\", name=\"my_first_layer\"))\r\n",
    "model.add(layers.Dense(10, activation=\"softmax\", name=\"my_last_layer\"))\r\n",
    "model.build((None, 3))\r\n",
    "model.summary()"
   ],
   "outputs": [
    {
     "output_type": "stream",
     "name": "stdout",
     "text": [
      "Model: \"my_example_model\"\n",
      "_________________________________________________________________\n",
      "Layer (type)                 Output Shape              Param #   \n",
      "=================================================================\n",
      "my_first_layer (Dense)       (None, 64)                256       \n",
      "_________________________________________________________________\n",
      "my_last_layer (Dense)        (None, 10)                650       \n",
      "=================================================================\n",
      "Total params: 906\n",
      "Trainable params: 906\n",
      "Non-trainable params: 0\n",
      "_________________________________________________________________\n"
     ]
    }
   ],
   "metadata": {}
  },
  {
   "cell_type": "markdown",
   "source": [
    "model 默认名称是 `sequential_1` 每一层是 `dense_2` `dense_3`.\r\n",
    "实际上 keras 允许通过 `name` 字段设置 model/layer 名称. just for fun.\r\n"
   ],
   "metadata": {}
  },
  {
   "cell_type": "code",
   "execution_count": 8,
   "source": [
    "model = keras.Sequential()\r\n",
    "model.add(layers.InputLayer(input_shape = (3,)))\r\n",
    "model.add(layers.Dense(64, activation=\"relu\"))\r\n",
    "model.summary()"
   ],
   "outputs": [
    {
     "output_type": "stream",
     "name": "stdout",
     "text": [
      "Model: \"sequential_2\"\n",
      "_________________________________________________________________\n",
      "Layer (type)                 Output Shape              Param #   \n",
      "=================================================================\n",
      "dense_4 (Dense)              (None, 64)                256       \n",
      "=================================================================\n",
      "Total params: 256\n",
      "Trainable params: 256\n",
      "Non-trainable params: 0\n",
      "_________________________________________________________________\n"
     ]
    }
   ],
   "metadata": {}
  },
  {
   "cell_type": "code",
   "execution_count": 9,
   "source": [
    "model.add(layers.Dense(10, activation=\"softmax\"))\r\n",
    "model.summary()"
   ],
   "outputs": [
    {
     "output_type": "stream",
     "name": "stdout",
     "text": [
      "Model: \"sequential_2\"\n",
      "_________________________________________________________________\n",
      "Layer (type)                 Output Shape              Param #   \n",
      "=================================================================\n",
      "dense_4 (Dense)              (None, 64)                256       \n",
      "_________________________________________________________________\n",
      "dense_5 (Dense)              (None, 10)                650       \n",
      "=================================================================\n",
      "Total params: 906\n",
      "Trainable params: 906\n",
      "Non-trainable params: 0\n",
      "_________________________________________________________________\n"
     ]
    }
   ],
   "metadata": {}
  },
  {
   "cell_type": "markdown",
   "source": [
    "上文无法直接调用 `model.summary()` 是模型还没有初始化,模型不知道输入规模.但是如果提前指定了输入规模,那直接调用 `model.summary()` 就能输出了.\r\n",
    "\r\n",
    "上面这样添加层再 `summary()` 查看,是挺常见的工作流,下一章学习卷积层时会常用.\r\n"
   ],
   "metadata": {}
  },
  {
   "cell_type": "markdown",
   "source": [
    "## Functional API\r\n",
    "\r\n",
    "Sequential 构建模型非常方便,但是通过 Sequential 构建的模型却非常受限,它只能有单一的输入输出,以顺序的形式堆叠.Sequential 无法处理实践中常常会有一次性多个输入(例如: 输入图片和对应的元数据),多个输出(例如: 预测数据多个方面).同时 Sequential 无法构建非线性拓扑模型.\r\n",
    "\r\n",
    "这种情况下就是 Functional API 的天下了,使用 Functional API 构建的模型几乎是最常见的 keras 模型.\r\n",
    "\r\n",
    "想想乐高积木,Functional API 与之类似.\r\n"
   ],
   "metadata": {}
  },
  {
   "cell_type": "markdown",
   "source": [
    "### 单输入单输出模型\r\n"
   ],
   "metadata": {}
  },
  {
   "cell_type": "code",
   "execution_count": 10,
   "source": [
    "inputs = keras.Input(shape=(3,), name=\"my_input\")\r\n",
    "features = layers.Dense(64, activation=\"relu\")(inputs)\r\n",
    "outputs = layers.Dense(10, activation=\"softmax\")(features)\r\n",
    "model = keras.Model(inputs=inputs, outputs=outputs)"
   ],
   "outputs": [],
   "metadata": {}
  },
  {
   "cell_type": "markdown",
   "source": [
    "与上面例子相同的模型,2层,单输入单输出.\r\n"
   ],
   "metadata": {}
  },
  {
   "cell_type": "code",
   "execution_count": 11,
   "source": [
    "inputs = keras.Input(shape=(3,), name=\"my_input\")"
   ],
   "outputs": [],
   "metadata": {}
  },
  {
   "cell_type": "code",
   "execution_count": 12,
   "source": [
    "inputs.shape"
   ],
   "outputs": [
    {
     "output_type": "execute_result",
     "data": {
      "text/plain": [
       "TensorShape([None, 3])"
      ]
     },
     "metadata": {},
     "execution_count": 12
    }
   ],
   "metadata": {}
  },
  {
   "cell_type": "code",
   "execution_count": 13,
   "source": [
    "inputs.dtype"
   ],
   "outputs": [
    {
     "output_type": "execute_result",
     "data": {
      "text/plain": [
       "tf.float32"
      ]
     },
     "metadata": {},
     "execution_count": 13
    }
   ],
   "metadata": {}
  },
  {
   "cell_type": "markdown",
   "source": [
    "从 Input 开始,Input 定义了模型的输入.(Input 也有 name属性).\r\n",
    "\r\n",
    "我们把这边实例称为 符号张量 (symbolic tensor 没找到这个词对应的翻译,暂且如此称呼了),它不包含任何实际的数据,但是代表了将会输入模型的实际张量的规模.\r\n"
   ],
   "metadata": {}
  },
  {
   "cell_type": "code",
   "execution_count": 14,
   "source": [
    "features = layers.Dense(64, activation=\"relu\")(inputs)"
   ],
   "outputs": [],
   "metadata": {}
  },
  {
   "cell_type": "code",
   "execution_count": 15,
   "source": [
    "features.shape"
   ],
   "outputs": [
    {
     "output_type": "execute_result",
     "data": {
      "text/plain": [
       "TensorShape([None, 64])"
      ]
     },
     "metadata": {},
     "execution_count": 15
    }
   ],
   "metadata": {}
  },
  {
   "cell_type": "markdown",
   "source": [
    "所有 keras 层都可以调用真实的数据张量或者符号张量,调用符号张量时,keras 层返回的也是符号张量,代表这一层输出的规模.\r\n"
   ],
   "metadata": {}
  },
  {
   "cell_type": "code",
   "execution_count": 16,
   "source": [
    "outputs = layers.Dense(10, activation=\"softmax\")(features)\r\n",
    "model = keras.Model(inputs=inputs, outputs=outputs)\r\n",
    "model.summary()"
   ],
   "outputs": [
    {
     "output_type": "stream",
     "name": "stdout",
     "text": [
      "Model: \"model_1\"\n",
      "_________________________________________________________________\n",
      "Layer (type)                 Output Shape              Param #   \n",
      "=================================================================\n",
      "my_input (InputLayer)        [(None, 3)]               0         \n",
      "_________________________________________________________________\n",
      "dense_8 (Dense)              (None, 64)                256       \n",
      "_________________________________________________________________\n",
      "dense_9 (Dense)              (None, 10)                650       \n",
      "=================================================================\n",
      "Total params: 906\n",
      "Trainable params: 906\n",
      "Non-trainable params: 0\n",
      "_________________________________________________________________\n"
     ]
    }
   ],
   "metadata": {}
  },
  {
   "cell_type": "markdown",
   "source": [
    "最后我们定义了模型的输出,调用 `summary` 查看模型的情况.\r\n"
   ],
   "metadata": {}
  },
  {
   "cell_type": "markdown",
   "source": [
    "### 多输入多输出模型\r\n",
    "\r\n",
    "实际上列表堆叠的模型适用范围很小,很多场景下模型的拓扑更像图而不是简单的层叠.构建这样的模型是 Functional API 的强项了.\r\n"
   ],
   "metadata": {}
  },
  {
   "cell_type": "code",
   "execution_count": 17,
   "source": [
    "vocabulary_size = 10000  #文本编码长度\r\n",
    "num_tags = 100  # one-hot 编码长度\r\n",
    "num_departments = 4  # 部门几个\r\n",
    "# 输入数据\r\n",
    "title = keras.Input(shape=(vocabulary_size, ), name=\"title\")\r\n",
    "text_body = keras.Input(shape=(vocabulary_size, ), name=\"text_body\")\r\n",
    "tags = keras.Input(shape=(num_tags, ), name=\"tags\")\r\n",
    "# 中间 layer\r\n",
    "features = layers.Concatenate()([title, text_body, tags])\r\n",
    "features = layers.Dense(64, activation=\"relu\")(features)\r\n",
    "# 输出数据\r\n",
    "priority = layers.Dense(1, activation=\"sigmoid\",\r\n",
    "                        name=\"priority\")(features)  #优先级\r\n",
    "department = layers.Dense(num_departments,\r\n",
    "                          activation=\"softmax\",\r\n",
    "                          name=\"department\")(features)  #部门\r\n",
    "\r\n",
    "model = keras.Model(inputs=[title, text_body, tags],\r\n",
    "                    outputs=[priority, department])"
   ],
   "outputs": [],
   "metadata": {}
  },
  {
   "cell_type": "markdown",
   "source": [
    "例如上面的模型是按照优先级对客户的票据进行排序,并将其转交给适当部门.\r\n",
    "\r\n",
    "输入\r\n",
    "\r\n",
    "- 票据的标题: 文本\r\n",
    "- 票据的正文: 文本\r\n",
    "- 用户添加的任何标签: 这里假定是 one-hot 编码\r\n",
    "\r\n",
    "输出\r\n",
    "\r\n",
    "- 票据的优先级: 0~1 sigmoid\r\n",
    "- 票据需要转交的部分: 部门的集合 softmax\r\n",
    "\r\n",
    "文本信息编码成了 vocabulary_size 的 01 数组,详情见 11 章.\r\n"
   ],
   "metadata": {}
  },
  {
   "cell_type": "markdown",
   "source": [
    "#### 训练多输入多输出模型\r\n"
   ],
   "metadata": {}
  },
  {
   "cell_type": "code",
   "execution_count": 18,
   "source": [
    "import numpy as np\r\n",
    "\r\n",
    "num_samples = 1280\r\n",
    "\r\n",
    "title_data = np.random.randint(0, 2, size=(num_samples, vocabulary_size))  #标题\r\n",
    "text_body_data = np.random.randint(0, 2,\r\n",
    "                                   size=(num_samples, vocabulary_size))  #正文\r\n",
    "tags_data = np.random.randint(0, 2, size=(num_samples, num_tags))  #标签\r\n",
    "\r\n",
    "priority_data = np.random.random(size=(num_samples, 1))  #优先级\r\n",
    "department_data = np.random.randint(0, 2,\r\n",
    "                                    size=(num_samples, num_departments))  #部门\r\n",
    "\r\n",
    "model.compile(\r\n",
    "    optimizer=\"adam\",  #优化器\r\n",
    "    loss=[\"mean_squared_error\", \"categorical_crossentropy\"],  #损失函数\r\n",
    "    metrics=[[\"mean_absolute_error\"], [\"accuracy\"]])  #指标\r\n",
    "\r\n",
    "model.fit([title_data, text_body_data, tags_data],\r\n",
    "          [priority_data, department_data],\r\n",
    "          epochs=1)  #训练模型,传入数据要和 model 声明一致"
   ],
   "outputs": [
    {
     "output_type": "stream",
     "name": "stdout",
     "text": [
      "40/40 [==============================] - 1s 5ms/step - loss: 10.7752 - priority_loss: 0.3292 - department_loss: 10.4460 - priority_mean_absolute_error: 0.4971 - department_accuracy: 0.1484\n"
     ]
    },
    {
     "output_type": "execute_result",
     "data": {
      "text/plain": [
       "<tensorflow.python.keras.callbacks.History at 0x2d3b8208c10>"
      ]
     },
     "metadata": {},
     "execution_count": 18
    }
   ],
   "metadata": {}
  },
  {
   "cell_type": "markdown",
   "source": [
    "训练过程和上面的单输入单输出模型一样,只是输入和输出的时组个 `[]` 传入.\r\n"
   ],
   "metadata": {}
  },
  {
   "cell_type": "code",
   "execution_count": 19,
   "source": [
    "results = model.evaluate([title_data, text_body_data, tags_data],\r\n",
    "               [priority_data, department_data])#评估模型 传入数据要和 model 声明一致\r\n",
    "results"
   ],
   "outputs": [
    {
     "output_type": "stream",
     "name": "stdout",
     "text": [
      "40/40 [==============================] - 0s 4ms/step - loss: 4.3634 - priority_loss: 0.3356 - department_loss: 4.0278 - priority_mean_absolute_error: 0.5036 - department_accuracy: 0.2727\n"
     ]
    },
    {
     "output_type": "execute_result",
     "data": {
      "text/plain": [
       "[4.363386631011963,\n",
       " 0.3355919122695923,\n",
       " 4.02779483795166,\n",
       " 0.5036084055900574,\n",
       " 0.27265626192092896]"
      ]
     },
     "metadata": {},
     "execution_count": 19
    }
   ],
   "metadata": {}
  },
  {
   "cell_type": "markdown",
   "source": [
    "测试集评估也是一样.\r\n"
   ],
   "metadata": {}
  },
  {
   "cell_type": "code",
   "execution_count": 20,
   "source": [
    "priority_preds, department_preds = model.predict(\r\n",
    "    [title_data, text_body_data, tags_data])  # 获取预测值"
   ],
   "outputs": [],
   "metadata": {}
  },
  {
   "cell_type": "markdown",
   "source": [
    "获取预测值也是一样.\r\n"
   ],
   "metadata": {}
  },
  {
   "cell_type": "code",
   "execution_count": 21,
   "source": [
    "model.compile(\r\n",
    "    optimizer=\"adam\",  #优化器\r\n",
    "    loss={\r\n",
    "        \"priority\": \"mean_squared_error\",\r\n",
    "        \"department\": \"categorical_crossentropy\"\r\n",
    "    },  #损失函数\r\n",
    "    metrics={\r\n",
    "        \"priority\": [\"mean_absolute_error\"],\r\n",
    "        \"department\": [\"accuracy\"]\r\n",
    "    })  #指标\r\n",
    "\r\n",
    "model.fit({\r\n",
    "    \"title\": title_data,\r\n",
    "    \"text_body\": text_body_data,\r\n",
    "    \"tags\": tags_data\r\n",
    "}, {\r\n",
    "    \"priority\": priority_data,\r\n",
    "    \"department\": department_data\r\n",
    "},\r\n",
    "          epochs=1)\r\n"
   ],
   "outputs": [
    {
     "output_type": "stream",
     "name": "stdout",
     "text": [
      "40/40 [==============================] - 1s 5ms/step - loss: 6.1595 - priority_loss: 0.3356 - department_loss: 5.8240 - priority_mean_absolute_error: 0.5036 - department_accuracy: 0.2383\n"
     ]
    },
    {
     "output_type": "execute_result",
     "data": {
      "text/plain": [
       "<tensorflow.python.keras.callbacks.History at 0x2d3b96d6f10>"
      ]
     },
     "metadata": {},
     "execution_count": 21
    }
   ],
   "metadata": {}
  },
  {
   "cell_type": "markdown",
   "source": [
    "格式化完成略喜感..\r\n",
    "\r\n",
    "---\r\n",
    "\r\n",
    "如果不想遵守严格的顺序,可以采用类似字典的方式.\r\n",
    "\r\n",
    "定义损失函数等也能用类似字典.\r\n"
   ],
   "metadata": {}
  },
  {
   "cell_type": "code",
   "execution_count": 22,
   "source": [
    "priority_preds, department_preds = model.predict({\r\n",
    "    \"title\": title_data,\r\n",
    "    \"text_body\": text_body_data,\r\n",
    "    \"tags\": tags_data\r\n",
    "})\r\n"
   ],
   "outputs": [],
   "metadata": {}
  },
  {
   "cell_type": "code",
   "execution_count": 23,
   "source": [
    "priority_preds, department_preds = model.predict({\r\n",
    "    \"title\": title_data,\r\n",
    "    \"text_body\": text_body_data,\r\n",
    "    \"tags\": tags_data\r\n",
    "})"
   ],
   "outputs": [],
   "metadata": {}
  },
  {
   "cell_type": "markdown",
   "source": [
    "评估和获取预测值类似."
   ],
   "metadata": {}
  },
  {
   "cell_type": "markdown",
   "source": [
    "### Functional API 对层的访问\r\n",
    "\r\n",
    "使用 Functional API 一直让我想起乐高积木,Functional 模型是一个明确的图,而在研究人员脑中深度学习模型也是一个非常类似的图.\r\n",
    "\r\n",
    "类似图的结构,让 Functional 模型输出层直接连接,或者重用部分 layer 成为可能.\r\n"
   ],
   "metadata": {}
  },
  {
   "cell_type": "markdown",
   "source": [
    "#### 模型可视化\r\n"
   ],
   "metadata": {}
  },
  {
   "cell_type": "code",
   "execution_count": 24,
   "source": [
    "keras.utils.plot_model(model, \"ticket_classifier.png\")"
   ],
   "outputs": [
    {
     "output_type": "execute_result",
     "data": {
      "text/plain": [
       "<IPython.core.display.Image object>"
      ],
      "image/png": "[encoded data removed]"
     },
     "metadata": {},
     "execution_count": 24
    }
   ],
   "metadata": {}
  },
  {
   "cell_type": "markdown",
   "source": [
    "`keras.utils.plot_model` 可以将 model 以图形的方式展示出来.这非常受用.\r\n"
   ],
   "metadata": {}
  },
  {
   "cell_type": "code",
   "execution_count": 25,
   "source": [
    "keras.utils.plot_model(model, \"ticket_classifier_with_shape_info.png\", show_shapes=True)"
   ],
   "outputs": [
    {
     "output_type": "execute_result",
     "data": {
      "text/plain": [
       "<IPython.core.display.Image object>"
      ],
      "image/png": "[encoded data removed]"
     },
     "metadata": {},
     "execution_count": 25
    }
   ],
   "metadata": {}
  },
  {
   "cell_type": "markdown",
   "source": [
    "加上各层的输入输出大小也没关系. None 代表任意大小.\r\n"
   ],
   "metadata": {}
  },
  {
   "cell_type": "markdown",
   "source": [
    "#### 提取模型特征\r\n"
   ],
   "metadata": {}
  },
  {
   "cell_type": "code",
   "execution_count": 26,
   "source": [
    "model.layers"
   ],
   "outputs": [
    {
     "output_type": "execute_result",
     "data": {
      "text/plain": [
       "[<tensorflow.python.keras.engine.input_layer.InputLayer at 0x2d282139c40>,\n",
       " <tensorflow.python.keras.engine.input_layer.InputLayer at 0x2d283da3fa0>,\n",
       " <tensorflow.python.keras.engine.input_layer.InputLayer at 0x2d283da36a0>,\n",
       " <tensorflow.python.keras.layers.merge.Concatenate at 0x2d283ddcd30>,\n",
       " <tensorflow.python.keras.layers.core.Dense at 0x2d28212d8b0>,\n",
       " <tensorflow.python.keras.layers.core.Dense at 0x2d283a10e80>,\n",
       " <tensorflow.python.keras.layers.core.Dense at 0x2d283a719a0>]"
      ]
     },
     "metadata": {},
     "execution_count": 26
    }
   ],
   "metadata": {}
  },
  {
   "cell_type": "code",
   "execution_count": 27,
   "source": [
    "model.layers[3].input"
   ],
   "outputs": [
    {
     "output_type": "execute_result",
     "data": {
      "text/plain": [
       "[<KerasTensor: shape=(None, 10000) dtype=float32 (created by layer 'title')>,\n",
       " <KerasTensor: shape=(None, 10000) dtype=float32 (created by layer 'text_body')>,\n",
       " <KerasTensor: shape=(None, 100) dtype=float32 (created by layer 'tags')>]"
      ]
     },
     "metadata": {},
     "execution_count": 27
    }
   ],
   "metadata": {}
  },
  {
   "cell_type": "markdown",
   "source": [
    "Functional 可以访问所有 layer 包括 layer 对应的 input/output.\r\n"
   ],
   "metadata": {}
  },
  {
   "cell_type": "code",
   "execution_count": 28,
   "source": [
    "features = model.layers[4].output\r\n",
    "difficulty = layers.Dense(3, activation=\"softmax\", name=\"difficulty\")(features)\r\n",
    "\r\n",
    "new_model = keras.Model(inputs=[title, text_body, tags],\r\n",
    "                        outputs=[priority, department, difficulty])"
   ],
   "outputs": [],
   "metadata": {}
  },
  {
   "cell_type": "markdown",
   "source": [
    "model 每个 layer 声明都是互相独立的,这意味着可以像操作图一样修改模型\r\n",
    "\r\n",
    "- 增删改 model 某个部分\r\n",
    "- 重用 model 或部分 model\r\n",
    "\r\n",
    "上面就是在 model 添加一个输出,困难的评级.输出有 3 个级别.\r\n"
   ],
   "metadata": {}
  },
  {
   "cell_type": "code",
   "execution_count": 29,
   "source": [
    "keras.utils.plot_model(new_model, \"updated_ticket_classifier.png\", show_shapes=True)"
   ],
   "outputs": [
    {
     "output_type": "execute_result",
     "data": {
      "text/plain": [
       "<IPython.core.display.Image object>"
      ],
      "image/png": "[encoded data removed]"
     },
     "metadata": {},
     "execution_count": 29
    }
   ],
   "metadata": {}
  },
  {
   "cell_type": "markdown",
   "source": [
    "重新可视化 model 此时困难评级已经添加了.\r\n"
   ],
   "metadata": {}
  },
  {
   "cell_type": "markdown",
   "source": [
    "## model subclassing\r\n"
   ],
   "metadata": {}
  },
  {
   "cell_type": "markdown",
   "source": [
    "最后一种构建模型的方法是 model subclassing.第 3 章,我们已经实现过类似的过程了.继承 Layer 类实现自己的子类.model subclassing 非常类似.\r\n",
    "\r\n",
    "- init 方法中定义要使用的 layer\r\n",
    "- 在 call 方法中实现前向传播,重用已经已经创建的层.\r\n",
    "- 实例化子类对象,在传入数据时创建权重.\r\n"
   ],
   "metadata": {}
  },
  {
   "cell_type": "code",
   "execution_count": 30,
   "source": [
    "class CustomerTicketModel(keras.Model):\r\n",
    "    def __init__(self, num_departments):\r\n",
    "        super().__init__()\r\n",
    "        self.concat_layer = layers.Concatenate()  #第一层\r\n",
    "        self.mixing_layer = layers.Dense(64, activation=\"relu\")  #第二层\r\n",
    "        self.priority_scorer = layers.Dense(1, activation=\"sigmoid\")  #优先级\r\n",
    "        self.department_classifier = layers.Dense(num_departments,\r\n",
    "                                                  activation=\"softmax\")  #部门\r\n",
    "\r\n",
    "    def call(self, inputs):\r\n",
    "        title = inputs[\"title\"]\r\n",
    "        text_body = inputs[\"text_body\"]\r\n",
    "        tags = inputs[\"tags\"]\r\n",
    "\r\n",
    "        features = self.concat_layer([title, text_body, tags])  #第一层\r\n",
    "        features = self.mixing_layer(features)  #第二层\r\n",
    "        priority = self.priority_scorer(features)  #优先级\r\n",
    "        department = self.department_classifier(features)  #部门\r\n",
    "        return priority, department"
   ],
   "outputs": [],
   "metadata": {}
  },
  {
   "cell_type": "markdown",
   "source": [
    "这里重新实现了上面例子里的 model\r\n"
   ],
   "metadata": {}
  },
  {
   "cell_type": "code",
   "execution_count": 31,
   "source": [
    "model = CustomerTicketModel(num_departments=4)  #实例化 model ,部门数 4\r\n"
   ],
   "outputs": [],
   "metadata": {}
  },
  {
   "cell_type": "code",
   "execution_count": 32,
   "source": [
    "priority, department = model({\r\n",
    "    \"title\": title_data,\r\n",
    "    \"text_body\": text_body_data,\r\n",
    "    \"tags\": tags_data\r\n",
    "})"
   ],
   "outputs": [],
   "metadata": {}
  },
  {
   "cell_type": "markdown",
   "source": [
    "只有当第一次调用时,层的权重才会初始化.\r\n"
   ],
   "metadata": {}
  },
  {
   "cell_type": "markdown",
   "source": [
    "与自定义 Layer 子类非常相似,当然也有区别\r\n",
    "\r\n",
    "- Model 子类有 fit evaluate predict 等方法,(废话要不然证明训练评估验证啊)\r\n",
    "- Model 子类实例可以保存在硬盘上.\r\n"
   ],
   "metadata": {}
  },
  {
   "cell_type": "code",
   "execution_count": 33,
   "source": [
    "model.compile(optimizer=\"adam\",\r\n",
    "              loss=[\"mean_squared_error\", \"categorical_crossentropy\"],\r\n",
    "              metrics=[[\"mean_absolute_error\"], [\"accuracy\"]])\r\n",
    "model.fit({\r\n",
    "    \"title\": title_data,\r\n",
    "    \"text_body\": text_body_data,\r\n",
    "    \"tags\": tags_data\r\n",
    "}, [priority_data, department_data],\r\n",
    "          epochs=1)\r\n"
   ],
   "outputs": [
    {
     "output_type": "stream",
     "name": "stdout",
     "text": [
      "40/40 [==============================] - 1s 5ms/step - loss: 7.5288 - output_1_loss: 0.3313 - output_2_loss: 7.1975 - output_1_mean_absolute_error: 0.4990 - output_2_accuracy: 0.2125\n"
     ]
    },
    {
     "output_type": "execute_result",
     "data": {
      "text/plain": [
       "<tensorflow.python.keras.callbacks.History at 0x2d3ba8a7430>"
      ]
     },
     "metadata": {},
     "execution_count": 33
    }
   ],
   "metadata": {}
  },
  {
   "cell_type": "code",
   "execution_count": 34,
   "source": [
    "model.evaluate(\r\n",
    "    {\r\n",
    "        \"title\": title_data,\r\n",
    "        \"text_body\": text_body_data,\r\n",
    "        \"tags\": tags_data\r\n",
    "    }, [priority_data, department_data])"
   ],
   "outputs": [
    {
     "output_type": "stream",
     "name": "stdout",
     "text": [
      "40/40 [==============================] - 0s 4ms/step - loss: 4.6757 - output_1_loss: 0.3356 - output_2_loss: 4.3401 - output_1_mean_absolute_error: 0.5036 - output_2_accuracy: 0.1570\n"
     ]
    },
    {
     "output_type": "execute_result",
     "data": {
      "text/plain": [
       "[4.6757121086120605,\n",
       " 0.3355919122695923,\n",
       " 4.340120792388916,\n",
       " 0.5036084055900574,\n",
       " 0.15703125298023224]"
      ]
     },
     "metadata": {},
     "execution_count": 34
    }
   ],
   "metadata": {}
  },
  {
   "cell_type": "code",
   "execution_count": 35,
   "source": [
    "priority_preds, department_preds = model.predict({\r\n",
    "    \"title\": title_data,\r\n",
    "    \"text_body\": text_body_data,\r\n",
    "    \"tags\": tags_data\r\n",
    "})"
   ],
   "outputs": [],
   "metadata": {}
  },
  {
   "cell_type": "markdown",
   "source": [
    "模型的训练评估预测,几乎没有什么区别.\r\n"
   ],
   "metadata": {}
  },
  {
   "cell_type": "markdown",
   "source": [
    "Model subclassing 几乎是最灵活的建立模型的方式,如果需要的模型无法表示层有向无环图,那就只能使用  Model subclassing 方式构建模型.\r\n",
    "\r\n",
    "想象一下\r\n",
    "\r\n",
    "- call 方法的 for 循环体中使用 layer\r\n",
    "- call 方法中递归调用\r\n",
    "- 一切随意.\r\n"
   ],
   "metadata": {}
  },
  {
   "cell_type": "markdown",
   "source": [
    "### model subclassing 无法支持的 keras 部分\r\n",
    "\r\n",
    "model subclassing 异常灵活性的代价是,开发者要负责模型的一切.潜在的出错面太多了.\r\n",
    "\r\n",
    "Functional api 创建的 model 被限定在可以表示成有向无环图,这样我们才能任意的修改/访问/提取 mdoel 的任意部分.\r\n",
    "\r\n",
    "model subclassing 创建的模型其拓扑结构完全取决于代码,完全是一个黑箱,具体的结构能不能可视化都很难说.\r\n",
    "\r\n",
    "- `summary` 将无法显示层的连接\r\n",
    "- `plot_model` 也无法绘制\r\n",
    "- 对于黑箱,完全得不到任何细节,当然也不能任意的修改/访问/重用 mdoel 的任意部分.\r\n",
    "- 同样的一旦实例化,前向传递也成了另一个黑箱..\r\n",
    "\r\n",
    "自由是有代价的(想想早期用 c/c++ 写机器学习的人)\r\n"
   ],
   "metadata": {}
  },
  {
   "cell_type": "markdown",
   "source": [
    "## 混合不同类型 model\r\n",
    "\r\n",
    "虽然 keras 有 3 种完全不同的构建 model 的方式,但是不同来源的 model 是可以互相操作/引用/串联的.\r\n"
   ],
   "metadata": {}
  },
  {
   "cell_type": "code",
   "execution_count": 36,
   "source": [
    "class Classifier(keras.Model):\r\n",
    "    def __init__(self, num_classes=2):\r\n",
    "        super().__init__()\r\n",
    "        if num_classes == 2:\r\n",
    "            num_units = 1\r\n",
    "            activation = \"sigmoid\"\r\n",
    "        else:\r\n",
    "            num_units = num_classes\r\n",
    "            activation = \"softmax\"\r\n",
    "        self.dense = layers.Dense(num_units, activation=activation)\r\n",
    "\r\n",
    "    def call(self, inputs):\r\n",
    "        return self.dense(inputs)\r\n",
    "\r\n",
    "\r\n",
    "inputs = keras.Input(shape=(3, ))\r\n",
    "features = layers.Dense(64, activation=\"relu\")(inputs)\r\n",
    "outputs = Classifier(num_classes=10)(features)\r\n",
    "model = keras.Model(inputs=inputs, outputs=outputs)"
   ],
   "outputs": [],
   "metadata": {}
  },
  {
   "cell_type": "markdown",
   "source": [
    "这里是 subclassing 创建的模型 ->  Functional API 创建的模型\r\n"
   ],
   "metadata": {}
  },
  {
   "cell_type": "code",
   "execution_count": 38,
   "source": [
    "inputs = keras.Input(shape=(64, ))\r\n",
    "outputs = layers.Dense(1, activation=\"sigmoid\")(inputs)\r\n",
    "binary_classifier = keras.Model(inputs=inputs, outputs=outputs)\r\n",
    "\r\n",
    "\r\n",
    "class MyModel(keras.Model):\r\n",
    "    def __init__(self, num_classes=2):\r\n",
    "        super().__init__()\r\n",
    "        self.dense = layers.Dense(64, activation=\"relu\")\r\n",
    "        self.classifier = binary_classifier\r\n",
    "\r\n",
    "    def call(self, inputs):\r\n",
    "        features = self.dense(inputs)\r\n",
    "        return self.classifier(features)\r\n",
    "\r\n",
    "\r\n",
    "model = MyModel()"
   ],
   "outputs": [],
   "metadata": {}
  },
  {
   "cell_type": "markdown",
   "source": [
    "也可以是反过来 Functional API 创建的模型 -> subclassing 创建的模型\r\n"
   ],
   "metadata": {}
  },
  {
   "cell_type": "markdown",
   "source": [
    "## 使用正确的工具\r\n",
    "\r\n",
    "keras 构建模型的 3 种方式以上.那么如何选取呢?--选取最适合手头工作的.\r\n",
    "\r\n",
    "通常 functional api 在易用性和灵活性之间取得了平衡,修改/访问/重用 model 的任何部分.假如你的模型可以表示成有向无环图,那么别犹豫,作者建议使用 functional api.\r\n",
    "\r\n",
    "本书的所有例子都将使用 functional api 构建.当然我们也会大量使用 subclassing 构建的子层.所以这里是包含 subclassing 构建的子层的 Functional 模型.\r\n",
    "\r\n",
    "没有银弹,只有更加趁手能解决问题的工具.\r\n"
   ],
   "metadata": {}
  }
 ],
 "metadata": {
  "orig_nbformat": 4,
  "language_info": {
   "name": "python",
   "version": "3.9.6",
   "mimetype": "text/x-python",
   "codemirror_mode": {
    "name": "ipython",
    "version": 3
   },
   "pygments_lexer": "ipython3",
   "nbconvert_exporter": "python",
   "file_extension": ".py"
  },
  "kernelspec": {
   "name": "python3",
   "display_name": "Python 3.9.6 64-bit ('tf')"
  },
  "interpreter": {
   "hash": "aac46f597da82ce9618f0e6f094e6d401f1ab16d9be89acf77ce1dd63d67a333"
  }
 },
 "nbformat": 4,
 "nbformat_minor": 2
}