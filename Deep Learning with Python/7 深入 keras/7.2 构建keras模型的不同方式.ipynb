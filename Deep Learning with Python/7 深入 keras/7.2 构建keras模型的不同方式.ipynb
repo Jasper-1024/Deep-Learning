{
 "cells": [
  {
   "cell_type": "markdown",
   "source": [
    "# 7.2 构建keras模型的不同方式.ipynb\r\n",
    "\r\n",
    "具体而言是 3 种构建方式\r\n",
    "\r\n",
    "- Sequential model: 最容易上手的方式,脱胎于 python 的 list,基本上只是层的堆叠.\r\n",
    "- Functional API: 以类似图的方式构建模型,在易用性和灵活性算是取了一个平衡点.\r\n",
    "- Model subclassing: 非常底层的 api,需要自行实现所有,如果你需要控制全部细节,就用这个.代价是许多 keras 内置功能无法使用,自行编码的错误可能会更高.\r\n",
    "\r\n",
    "下图显示了构建 keras 模型复杂性一步一步上升的过程\r\n",
    "\r\n",
    "![progressive_disclosure_of_complexity_models](./progressive_disclosure_of_complexity_models.png)\r\n",
    "\r\n",
    "ps: Functional API 翻译是函数式 api,Model subclassing 翻译应该是 模型子类化,但是下文基本没用中文译名,感觉有点乱.\r\n"
   ],
   "metadata": {}
  },
  {
   "cell_type": "markdown",
   "source": [
    "## Sequential model\r\n"
   ],
   "metadata": {}
  },
  {
   "cell_type": "code",
   "execution_count": 31,
   "source": [
    "from tensorflow import keras\r\n",
    "from tensorflow.keras import layers\r\n",
    "\r\n",
    "model = keras.Sequential([\r\n",
    "    layers.Dense(64, activation='relu'),\r\n",
    "    layers.Dense(10, activation='softmax')\r\n",
    "])"
   ],
   "outputs": [],
   "metadata": {}
  },
  {
   "cell_type": "markdown",
   "source": [
    "这是 mnist 例子中的模型\r\n"
   ],
   "metadata": {}
  },
  {
   "cell_type": "code",
   "execution_count": 32,
   "source": [
    "model = keras.Sequential()\r\n",
    "model.add(layers.Dense(64, activation='relu'))\r\n",
    "model.add(layers.Dense(10, activation='softmax'))"
   ],
   "outputs": [],
   "metadata": {}
  },
  {
   "cell_type": "markdown",
   "source": [
    "上文说到了 Sequential model 是类似 python list 的存在,因此也可以通过 `add` 构建相同的模型.\r\n"
   ],
   "metadata": {}
  },
  {
   "cell_type": "code",
   "execution_count": 33,
   "source": [
    "# model.weights"
   ],
   "outputs": [],
   "metadata": {}
  },
  {
   "cell_type": "markdown",
   "source": [
    "model 只有在第一次调用时候才真正被初始化,换句话说层的权重只有在第一次调用时才会初始化.上面直接输出权重就错误了.\r\n"
   ],
   "metadata": {}
  },
  {
   "cell_type": "code",
   "execution_count": 34,
   "source": [
    "model.build(input_shape=(None, 3))\r\n",
    "print(model.weights)"
   ],
   "outputs": [
    {
     "output_type": "stream",
     "name": "stdout",
     "text": [
      "[<tf.Variable 'dense_13/kernel:0' shape=(3, 64) dtype=float32, numpy=\n",
      "array([[ 6.06084168e-02, -3.15418839e-03,  8.58865380e-02,\n",
      "        -1.17399484e-01, -2.18760207e-01,  2.03133106e-01,\n",
      "         3.94403934e-04,  7.80939758e-02,  2.70989835e-01,\n",
      "        -2.72370875e-02,  5.91449440e-02,  2.51299858e-01,\n",
      "         2.65208840e-01,  1.49688691e-01, -2.42584944e-02,\n",
      "        -1.09088510e-01, -6.49666190e-02,  1.81378871e-01,\n",
      "         1.68126643e-01, -5.68719655e-02,  1.92425013e-01,\n",
      "        -2.28488654e-01, -8.10976923e-02,  3.22560370e-02,\n",
      "         2.58261085e-01, -1.42608956e-01, -2.57614225e-01,\n",
      "        -1.64356723e-01, -8.17659348e-02, -2.78414786e-02,\n",
      "         2.89801836e-01,  9.60581005e-02, -7.22503364e-02,\n",
      "         7.34184384e-02, -2.12388024e-01, -2.29247928e-01,\n",
      "        -1.78653955e-01,  2.24992812e-01,  1.92946196e-03,\n",
      "        -1.77435070e-01,  2.77973175e-01, -2.00364202e-01,\n",
      "        -1.85190320e-01, -1.82224393e-01,  6.55112863e-02,\n",
      "        -3.31111252e-02,  1.83018506e-01,  1.47909522e-02,\n",
      "        -9.51516628e-03, -2.01594651e-01, -2.09067792e-01,\n",
      "        -1.41551733e-01,  2.19179034e-01,  3.82730365e-03,\n",
      "        -1.78883627e-01,  1.67205989e-01, -1.75340801e-01,\n",
      "        -2.85787344e-01,  4.51766253e-02, -1.13585457e-01,\n",
      "        -1.87538296e-01, -7.17239231e-02, -4.63030636e-02,\n",
      "        -2.38018155e-01],\n",
      "       [ 2.10085511e-01,  2.99015105e-01,  1.69850469e-01,\n",
      "         1.37232006e-01, -2.68453956e-02, -1.82390496e-01,\n",
      "        -2.79993773e-01, -2.93348581e-01, -1.00552708e-01,\n",
      "         9.31541324e-02,  2.05574214e-01,  2.85655975e-01,\n",
      "        -1.28742591e-01, -1.88872904e-01, -2.19589263e-01,\n",
      "         1.06981337e-01,  1.99882686e-01, -1.36577532e-01,\n",
      "        -1.23701319e-01,  1.94988251e-02,  2.71396220e-01,\n",
      "         1.18746877e-01, -2.05628574e-01,  1.49246633e-01,\n",
      "        -1.31309599e-01, -9.28184390e-02,  5.70719540e-02,\n",
      "        -2.88846493e-02,  2.89390087e-02,  1.25972509e-01,\n",
      "        -2.66459674e-01, -9.55011100e-02, -2.72737384e-01,\n",
      "        -2.51488060e-01,  2.70134270e-01,  2.34041095e-01,\n",
      "        -2.18838617e-01, -6.31623119e-02,  2.63747334e-01,\n",
      "         2.14538038e-01,  1.39932990e-01,  2.00022459e-02,\n",
      "        -1.68698147e-01,  1.51335806e-01,  1.65607154e-01,\n",
      "         1.46297127e-01, -3.10330689e-02, -1.87290132e-01,\n",
      "        -1.11136824e-01, -2.45723695e-01,  2.34738529e-01,\n",
      "         8.80431533e-02,  2.21748650e-01, -1.15757778e-01,\n",
      "        -9.79443192e-02, -2.02480078e-01,  6.22617006e-02,\n",
      "         7.81464875e-02,  2.77926981e-01,  9.11224484e-02,\n",
      "        -7.67406523e-02, -1.20567083e-02, -1.65948987e-01,\n",
      "        -8.15603137e-02],\n",
      "       [-2.31647909e-01,  2.44595587e-01,  1.93242431e-02,\n",
      "         4.80780303e-02,  1.27596676e-01, -1.13168433e-01,\n",
      "        -3.29989791e-02, -2.42294297e-01,  2.80759752e-01,\n",
      "        -1.80422738e-01, -2.42345035e-01, -1.37742132e-01,\n",
      "         1.75721169e-01,  4.76917028e-02,  2.55249858e-01,\n",
      "         2.61365592e-01, -8.69394094e-02,  1.40106589e-01,\n",
      "        -1.61717534e-02, -9.87967849e-02, -1.73462003e-01,\n",
      "         2.28859603e-01,  8.19103420e-02,  9.83466506e-02,\n",
      "        -2.05091476e-01,  2.60310471e-01, -2.05755234e-02,\n",
      "         1.41808152e-01, -2.19441086e-01,  5.17965853e-02,\n",
      "        -1.62840158e-01,  7.88831413e-02, -9.45150107e-02,\n",
      "         2.46255577e-01,  2.00416774e-01, -3.57490480e-02,\n",
      "        -2.95162201e-04,  5.87709546e-02,  1.66135758e-01,\n",
      "         2.04979539e-01,  2.24904716e-01,  2.23689079e-02,\n",
      "         1.94835275e-01,  2.41664588e-01,  2.49782741e-01,\n",
      "        -2.87337780e-01,  1.57518417e-01,  2.66245902e-01,\n",
      "        -1.03929952e-01,  2.66880751e-01, -2.39617705e-01,\n",
      "         2.66088784e-01, -1.25231713e-01,  2.12604880e-01,\n",
      "         1.24401450e-01,  2.83250213e-03, -1.32664189e-01,\n",
      "         2.50123322e-01,  1.80413187e-01, -2.24581301e-01,\n",
      "        -8.89502615e-02,  3.17275524e-03, -1.92146331e-01,\n",
      "        -2.62569815e-01]], dtype=float32)>, <tf.Variable 'dense_13/bias:0' shape=(64,) dtype=float32, numpy=\n",
      "array([0., 0., 0., 0., 0., 0., 0., 0., 0., 0., 0., 0., 0., 0., 0., 0., 0.,\n",
      "       0., 0., 0., 0., 0., 0., 0., 0., 0., 0., 0., 0., 0., 0., 0., 0., 0.,\n",
      "       0., 0., 0., 0., 0., 0., 0., 0., 0., 0., 0., 0., 0., 0., 0., 0., 0.,\n",
      "       0., 0., 0., 0., 0., 0., 0., 0., 0., 0., 0., 0., 0.], dtype=float32)>, <tf.Variable 'dense_14/kernel:0' shape=(64, 10) dtype=float32, numpy=\n",
      "array([[ 0.08081061,  0.11990336,  0.19018233, -0.05118544,  0.13577557,\n",
      "        -0.07889904, -0.04152244,  0.06245252,  0.12536505, -0.28066543],\n",
      "       [-0.03881767,  0.07516414, -0.09791674, -0.15476793,  0.27810952,\n",
      "         0.09511802,  0.00842497, -0.05716504,  0.28149524,  0.11845922],\n",
      "       [-0.05606177, -0.00848708,  0.131547  , -0.00465536, -0.23514764,\n",
      "         0.16252834,  0.14628011,  0.1639297 ,  0.00658938, -0.23204158],\n",
      "       [-0.1443955 ,  0.10210076, -0.04460196, -0.02095491,  0.0740388 ,\n",
      "         0.05396977,  0.01811036, -0.03506348,  0.13509965, -0.092996  ],\n",
      "       [ 0.28303394,  0.11531889,  0.12375072, -0.24312665, -0.08571959,\n",
      "        -0.20618773,  0.26645228, -0.09573187,  0.15275109, -0.07358333],\n",
      "       [ 0.24042162,  0.07676843,  0.23005137, -0.12648724,  0.10473701,\n",
      "         0.00417218,  0.23827925, -0.26292512, -0.01213381, -0.03104419],\n",
      "       [-0.1601903 ,  0.130954  , -0.00435066, -0.28077853,  0.04007703,\n",
      "        -0.22136487,  0.02085832, -0.12151505, -0.155901  ,  0.2603207 ],\n",
      "       [-0.04390855, -0.17873223,  0.22117057, -0.25375724,  0.2029376 ,\n",
      "        -0.1841051 ,  0.18327808, -0.20960349, -0.21046922, -0.21381778],\n",
      "       [ 0.01988661,  0.05442843, -0.00832129,  0.20027044, -0.01877913,\n",
      "         0.04561827, -0.01396465,  0.14784509,  0.21316087, -0.17816842],\n",
      "       [ 0.20750797,  0.2589223 ,  0.07007462,  0.22649017, -0.28355432,\n",
      "         0.09357199, -0.17572454, -0.12767178,  0.03130874,  0.09519827],\n",
      "       [-0.18641326,  0.27329555, -0.18549201, -0.03722039, -0.26897648,\n",
      "         0.06900394,  0.04146251,  0.04356137,  0.22846755, -0.21141762],\n",
      "       [ 0.26439664,  0.214782  , -0.20279415, -0.14488818, -0.26734743,\n",
      "         0.24953505,  0.19135877, -0.23367281,  0.18086267, -0.13612668],\n",
      "       [-0.23354314,  0.04227671,  0.2823077 , -0.26786602,  0.08666867,\n",
      "        -0.15696129,  0.01320428,  0.02309328,  0.2062656 ,  0.23055205],\n",
      "       [-0.11188845,  0.27233365,  0.18136516,  0.08718702,  0.16384938,\n",
      "         0.01008615, -0.11298601,  0.09994152, -0.1098824 ,  0.24024925],\n",
      "       [ 0.13764775, -0.07801832,  0.25635573, -0.01229241, -0.11007723,\n",
      "        -0.04358464, -0.15262848, -0.00555971,  0.16121086,  0.19644502],\n",
      "       [ 0.22012195, -0.14037335, -0.18149239,  0.20462662,  0.1424737 ,\n",
      "         0.21315232, -0.21153344, -0.02270386,  0.2744389 ,  0.10693192],\n",
      "       [-0.208517  , -0.21165001, -0.22461104, -0.24718451,  0.27901486,\n",
      "        -0.18747777, -0.09214719,  0.28023407, -0.11368874, -0.07054278],\n",
      "       [-0.2570471 , -0.15397553,  0.03702983,  0.0519931 , -0.24167748,\n",
      "         0.15408531, -0.05383168, -0.1976937 , -0.28324637,  0.19174221],\n",
      "       [-0.16375732,  0.21860865, -0.05655628,  0.05078542,  0.17790234,\n",
      "         0.03889251, -0.25771138,  0.11437705, -0.2642051 , -0.09905897],\n",
      "       [ 0.12874287, -0.07826734,  0.21243677,  0.17209491,  0.14882466,\n",
      "         0.24740651, -0.01792285, -0.0966665 ,  0.1723269 ,  0.2550548 ],\n",
      "       [-0.176927  , -0.22520888, -0.14423406,  0.19125232, -0.09545495,\n",
      "        -0.16300151, -0.06505661,  0.09665644, -0.10654137, -0.22511642],\n",
      "       [ 0.27337483,  0.02146041, -0.22709171,  0.10341719,  0.2835813 ,\n",
      "         0.07187662,  0.00158888, -0.215945  ,  0.24972233, -0.23513888],\n",
      "       [ 0.10237759,  0.214356  ,  0.22718188, -0.27273822, -0.10088722,\n",
      "         0.19302553,  0.18107548, -0.2548407 , -0.04134186,  0.27255723],\n",
      "       [-0.08740188,  0.08774084, -0.26703873,  0.20912915,  0.27855465,\n",
      "         0.1993927 ,  0.04570788, -0.2487966 , -0.02084664, -0.19567537],\n",
      "       [-0.04392619, -0.17512141, -0.2783369 , -0.2176324 ,  0.1588755 ,\n",
      "         0.2770042 , -0.05528037,  0.01730227, -0.13201478,  0.05049998],\n",
      "       [ 0.15049526, -0.11138791, -0.21391404,  0.23860595,  0.14707291,\n",
      "         0.16459373, -0.11482261, -0.13213147, -0.08558564, -0.22078136],\n",
      "       [ 0.2748489 , -0.13690747,  0.09121108,  0.0224334 ,  0.17563784,\n",
      "         0.05501214,  0.23153272, -0.07633053, -0.20443238,  0.03287229],\n",
      "       [-0.03151274,  0.262709  , -0.1409244 ,  0.11001688, -0.1943819 ,\n",
      "         0.12821585, -0.26471618,  0.09828064,  0.1948956 ,  0.13912302],\n",
      "       [ 0.0404253 , -0.09862307,  0.22352973,  0.17498374,  0.1345211 ,\n",
      "         0.10821322, -0.15870237, -0.19481705, -0.23790598, -0.03051832],\n",
      "       [ 0.03214738,  0.15593916,  0.21048129, -0.13632159,  0.10874003,\n",
      "         0.07486448,  0.15173668,  0.25355104, -0.02871579, -0.11691611],\n",
      "       [ 0.25280896, -0.23070233,  0.20750138,  0.09465909,  0.24149302,\n",
      "        -0.09025194, -0.23253642, -0.09978098,  0.12494454,  0.27240875],\n",
      "       [-0.21073127,  0.02390239,  0.0743843 , -0.22711928, -0.03488596,\n",
      "        -0.22955066, -0.06420961, -0.17181692, -0.24247043,  0.19812182],\n",
      "       [-0.13726789, -0.10815129,  0.10133359, -0.278612  , -0.1925112 ,\n",
      "         0.25982246,  0.07766828, -0.00164381,  0.07061392, -0.03645147],\n",
      "       [-0.07454899,  0.24622473,  0.02364135,  0.20188212,  0.10108072,\n",
      "         0.04046556, -0.19368562,  0.24144879, -0.09647104,  0.06352699],\n",
      "       [ 0.23596177, -0.15421973,  0.01875585, -0.27971864,  0.07768193,\n",
      "        -0.26809895, -0.10288039, -0.06602015, -0.28342795,  0.23969802],\n",
      "       [ 0.23228559,  0.20241037,  0.09415141,  0.07674399,  0.261628  ,\n",
      "         0.10908532, -0.14566998,  0.04252136,  0.27767047,  0.18832713],\n",
      "       [-0.0726244 ,  0.17203063,  0.18171853, -0.08082139, -0.00728035,\n",
      "         0.26658317, -0.03132021, -0.14559516, -0.11842623,  0.21742073],\n",
      "       [ 0.139252  ,  0.15885791,  0.04915345,  0.11569086,  0.14378613,\n",
      "        -0.26973054, -0.02242771,  0.1477583 , -0.19693491, -0.1311439 ],\n",
      "       [-0.16707921,  0.21687928,  0.2453681 ,  0.18088302, -0.11141458,\n",
      "        -0.15406121,  0.10560328, -0.09375222, -0.2279235 ,  0.06737942],\n",
      "       [ 0.16525936,  0.2671303 , -0.07623623,  0.24120691, -0.09259662,\n",
      "        -0.15612727, -0.1852665 , -0.26303124, -0.07670012, -0.17754139],\n",
      "       [-0.19454977,  0.19627327, -0.03880526, -0.01897317, -0.05416828,\n",
      "        -0.0962221 ,  0.2788383 , -0.02921382, -0.07573059, -0.00355875],\n",
      "       [ 0.24483046,  0.17016461, -0.27000418,  0.13982663, -0.16986178,\n",
      "         0.22036192,  0.12065077,  0.14303479,  0.27592197,  0.23038301],\n",
      "       [ 0.24596974,  0.07550019, -0.2525823 , -0.25437042, -0.16107482,\n",
      "        -0.09092906,  0.15730155, -0.2494556 ,  0.06583875, -0.03247935],\n",
      "       [-0.11402322, -0.11723791,  0.12498838, -0.08595699,  0.11271378,\n",
      "         0.27975503,  0.03219476, -0.0379768 ,  0.02543592,  0.07983625],\n",
      "       [-0.22541343,  0.15712023,  0.278017  ,  0.018053  , -0.25483242,\n",
      "        -0.24784717, -0.01229838,  0.01233837,  0.08515984,  0.05463427],\n",
      "       [-0.19705074, -0.25093836,  0.02398962,  0.12080732,  0.13123703,\n",
      "         0.19332078,  0.17391679,  0.26526418,  0.21339339, -0.23588064],\n",
      "       [-0.12443164,  0.26938412, -0.0861868 ,  0.11154711,  0.00447375,\n",
      "         0.09136137,  0.05133948,  0.1581567 , -0.00189683, -0.13408709],\n",
      "       [ 0.14401871,  0.2541277 ,  0.26307747,  0.26903567, -0.17126022,\n",
      "        -0.20783566,  0.13182014, -0.14607868, -0.08905709,  0.1511561 ],\n",
      "       [-0.1392379 , -0.21104479,  0.2778897 ,  0.22708169, -0.25009674,\n",
      "         0.0366182 ,  0.17099696, -0.2817038 ,  0.18303043,  0.00992641],\n",
      "       [ 0.06905696,  0.25190684,  0.11434853,  0.22691801, -0.0526139 ,\n",
      "         0.2647327 ,  0.07192662, -0.05196595,  0.03449911,  0.184585  ],\n",
      "       [ 0.27242014, -0.15742932, -0.18087   ,  0.18732888, -0.23065127,\n",
      "         0.06795526, -0.08394395, -0.27548292, -0.20767388, -0.19806784],\n",
      "       [ 0.11920893,  0.00649706,  0.14740822, -0.19617918, -0.03561169,\n",
      "        -0.21582681, -0.1372759 , -0.09741369,  0.02898517,  0.04759416],\n",
      "       [ 0.00961885,  0.03167087,  0.12068057,  0.22676936, -0.12219802,\n",
      "        -0.10437639,  0.16652748,  0.00792009, -0.08594017, -0.06031014],\n",
      "       [-0.22072005, -0.26326397,  0.20478594,  0.27299663, -0.22507814,\n",
      "         0.19763756, -0.2095612 ,  0.00304869,  0.26576212, -0.22171062],\n",
      "       [-0.19089171, -0.17594558,  0.14811474, -0.06456767,  0.1910027 ,\n",
      "        -0.06539503, -0.22672878,  0.13986593,  0.07409298,  0.03193867],\n",
      "       [ 0.16104564, -0.28432688, -0.14343338,  0.18971947,  0.2240816 ,\n",
      "         0.2586989 , -0.01571068, -0.2661593 , -0.03654855, -0.01522726],\n",
      "       [ 0.15017658,  0.08365774,  0.06078589, -0.03195035, -0.20829296,\n",
      "        -0.01403016, -0.22419849, -0.11897321, -0.21874502, -0.20364182],\n",
      "       [-0.0865369 , -0.23825553, -0.0584072 , -0.08809713, -0.032316  ,\n",
      "         0.17481837,  0.10046375,  0.04758167,  0.00893345, -0.04394799],\n",
      "       [ 0.05815607, -0.16151184,  0.2534236 , -0.01229465,  0.10982719,\n",
      "        -0.2766855 ,  0.1070565 ,  0.1266937 , -0.00567266,  0.19313082],\n",
      "       [-0.11722989,  0.21018332, -0.24518205, -0.08743936,  0.13371432,\n",
      "        -0.18792997,  0.12298465,  0.05187267, -0.14888562, -0.14578404],\n",
      "       [-0.0105941 , -0.21672288, -0.1651058 ,  0.23840407,  0.17704871,\n",
      "         0.15808383, -0.22696395,  0.23097816,  0.25202164,  0.00532752],\n",
      "       [ 0.19203639, -0.27526253,  0.26950797, -0.04846376,  0.26339528,\n",
      "        -0.26478666,  0.02423722,  0.27729753, -0.24043524,  0.255843  ],\n",
      "       [ 0.0778943 ,  0.17589873,  0.15905967, -0.08801486, -0.20906703,\n",
      "        -0.2526438 ,  0.00737277, -0.22462693, -0.21706267, -0.02038246],\n",
      "       [ 0.21311471,  0.05697447,  0.05210954, -0.25684348,  0.18510187,\n",
      "        -0.2694896 , -0.26215568, -0.14911827,  0.27859053, -0.23586822]],\n",
      "      dtype=float32)>, <tf.Variable 'dense_14/bias:0' shape=(10,) dtype=float32, numpy=array([0., 0., 0., 0., 0., 0., 0., 0., 0., 0.], dtype=float32)>]\n"
     ]
    }
   ],
   "metadata": {}
  },
  {
   "cell_type": "markdown",
   "source": [
    "`build` 以后,有了输入的规模,weight 才能初始化.\r\n"
   ],
   "metadata": {}
  },
  {
   "cell_type": "code",
   "execution_count": 35,
   "source": [
    "model.summary()"
   ],
   "outputs": [
    {
     "output_type": "stream",
     "name": "stdout",
     "text": [
      "Model: \"sequential_4\"\n",
      "_________________________________________________________________\n",
      "Layer (type)                 Output Shape              Param #   \n",
      "=================================================================\n",
      "dense_13 (Dense)             (None, 64)                256       \n",
      "_________________________________________________________________\n",
      "dense_14 (Dense)             (None, 10)                650       \n",
      "=================================================================\n",
      "Total params: 906\n",
      "Trainable params: 906\n",
      "Non-trainable params: 0\n",
      "_________________________________________________________________\n"
     ]
    }
   ],
   "metadata": {}
  },
  {
   "cell_type": "markdown",
   "source": [
    "一旦模型初始化后,调用 `model.summary()` 就能输出模型的结构.对调试很方便.\r\n"
   ],
   "metadata": {}
  },
  {
   "cell_type": "code",
   "execution_count": 36,
   "source": [
    "model = keras.Sequential(name=\"my_example_model\")\r\n",
    "model.add(layers.Dense(64, activation=\"relu\", name=\"my_first_layer\"))\r\n",
    "model.add(layers.Dense(10, activation=\"softmax\", name=\"my_last_layer\"))\r\n",
    "model.build((None, 3))\r\n",
    "model.summary()"
   ],
   "outputs": [
    {
     "output_type": "stream",
     "name": "stdout",
     "text": [
      "Model: \"my_example_model\"\n",
      "_________________________________________________________________\n",
      "Layer (type)                 Output Shape              Param #   \n",
      "=================================================================\n",
      "my_first_layer (Dense)       (None, 64)                256       \n",
      "_________________________________________________________________\n",
      "my_last_layer (Dense)        (None, 10)                650       \n",
      "=================================================================\n",
      "Total params: 906\n",
      "Trainable params: 906\n",
      "Non-trainable params: 0\n",
      "_________________________________________________________________\n"
     ]
    }
   ],
   "metadata": {}
  },
  {
   "cell_type": "markdown",
   "source": [
    "model 默认名称是 `sequential_1` 每一层是 `dense_2` `dense_3`.\r\n",
    "实际上 keras 允许通过 `name` 字段设置 model/layer 名称. just for fun.\r\n"
   ],
   "metadata": {}
  },
  {
   "cell_type": "code",
   "execution_count": 37,
   "source": [
    "model = keras.Sequential()\r\n",
    "model.add(layers.InputLayer(input_shape = (3,)))\r\n",
    "model.add(layers.Dense(64, activation=\"relu\"))\r\n",
    "model.summary()"
   ],
   "outputs": [
    {
     "output_type": "stream",
     "name": "stdout",
     "text": [
      "Model: \"sequential_5\"\n",
      "_________________________________________________________________\n",
      "Layer (type)                 Output Shape              Param #   \n",
      "=================================================================\n",
      "dense_15 (Dense)             (None, 64)                256       \n",
      "=================================================================\n",
      "Total params: 256\n",
      "Trainable params: 256\n",
      "Non-trainable params: 0\n",
      "_________________________________________________________________\n"
     ]
    }
   ],
   "metadata": {}
  },
  {
   "cell_type": "code",
   "execution_count": 38,
   "source": [
    "model.add(layers.Dense(10, activation=\"softmax\"))\r\n",
    "model.summary()"
   ],
   "outputs": [
    {
     "output_type": "stream",
     "name": "stdout",
     "text": [
      "Model: \"sequential_5\"\n",
      "_________________________________________________________________\n",
      "Layer (type)                 Output Shape              Param #   \n",
      "=================================================================\n",
      "dense_15 (Dense)             (None, 64)                256       \n",
      "_________________________________________________________________\n",
      "dense_16 (Dense)             (None, 10)                650       \n",
      "=================================================================\n",
      "Total params: 906\n",
      "Trainable params: 906\n",
      "Non-trainable params: 0\n",
      "_________________________________________________________________\n"
     ]
    }
   ],
   "metadata": {}
  },
  {
   "cell_type": "markdown",
   "source": [
    "上文无法直接调用 `model.summary()` 是模型还没有初始化,模型不知道输入规模.但是如果提前指定了输入规模,那直接调用 `model.summary()` 就能输出了.\r\n",
    "\r\n",
    "上面这样添加层再 `summary()` 查看,是挺常见的工作流,下一章学习卷积层时会常用.\r\n"
   ],
   "metadata": {}
  },
  {
   "cell_type": "markdown",
   "source": [
    "## Functional API\r\n",
    "\r\n",
    "Sequential 构建模型非常方便,但是通过 Sequential 构建的模型却非常受限,它只能有单一的输入输出,以顺序的形式堆叠.Sequential 无法处理实践中常常会有一次性多个输入(例如: 输入图片和对应的元数据),多个输出(例如: 预测数据多个方面).同时 Sequential 无法构建非线性拓扑模型.\r\n",
    "\r\n",
    "这种情况下就是 Functional API 的天下了,使用 Functional API 构建的模型几乎是最常见的 keras 模型.\r\n",
    "\r\n",
    "想想乐高积木,Functional API 与之类似.\r\n"
   ],
   "metadata": {}
  },
  {
   "cell_type": "markdown",
   "source": [
    "### 单输入单输出模型\r\n"
   ],
   "metadata": {}
  },
  {
   "cell_type": "code",
   "execution_count": 39,
   "source": [
    "inputs = keras.Input(shape=(3,), name=\"my_input\")\r\n",
    "features = layers.Dense(64, activation=\"relu\")(inputs)\r\n",
    "outputs = layers.Dense(10, activation=\"softmax\")(features)\r\n",
    "model = keras.Model(inputs=inputs, outputs=outputs)"
   ],
   "outputs": [],
   "metadata": {}
  },
  {
   "cell_type": "markdown",
   "source": [
    "与上面例子相同的模型,2层,单输入单输出.\r\n"
   ],
   "metadata": {}
  },
  {
   "cell_type": "code",
   "execution_count": 40,
   "source": [
    "inputs = keras.Input(shape=(3,), name=\"my_input\")"
   ],
   "outputs": [],
   "metadata": {}
  },
  {
   "cell_type": "code",
   "execution_count": 41,
   "source": [
    "inputs.shape"
   ],
   "outputs": [
    {
     "output_type": "execute_result",
     "data": {
      "text/plain": [
       "TensorShape([None, 3])"
      ]
     },
     "metadata": {},
     "execution_count": 41
    }
   ],
   "metadata": {}
  },
  {
   "cell_type": "code",
   "execution_count": 42,
   "source": [
    "inputs.dtype"
   ],
   "outputs": [
    {
     "output_type": "execute_result",
     "data": {
      "text/plain": [
       "tf.float32"
      ]
     },
     "metadata": {},
     "execution_count": 42
    }
   ],
   "metadata": {}
  },
  {
   "cell_type": "markdown",
   "source": [
    "从 Input 开始,Input 定义了模型的输入.(Input 也有 name属性).\r\n",
    "\r\n",
    "我们把这边实例称为 符号张量 (symbolic tensor 没找到这个词对应的翻译,暂且如此称呼了),它不包含任何实际的数据,但是代表了将会输入模型的实际张量的规模.\r\n"
   ],
   "metadata": {}
  },
  {
   "cell_type": "code",
   "execution_count": 43,
   "source": [
    "features = layers.Dense(64, activation=\"relu\")(inputs)"
   ],
   "outputs": [],
   "metadata": {}
  },
  {
   "cell_type": "code",
   "execution_count": 44,
   "source": [
    "features.shape"
   ],
   "outputs": [
    {
     "output_type": "execute_result",
     "data": {
      "text/plain": [
       "TensorShape([None, 64])"
      ]
     },
     "metadata": {},
     "execution_count": 44
    }
   ],
   "metadata": {}
  },
  {
   "cell_type": "markdown",
   "source": [
    "所有 keras 层都可以调用真实的数据张量或者符号张量,调用符号张量时,keras 层返回的也是符号张量,代表这一层输出的规模.\r\n"
   ],
   "metadata": {}
  },
  {
   "cell_type": "code",
   "execution_count": 45,
   "source": [
    "outputs = layers.Dense(10, activation=\"softmax\")(features)\r\n",
    "model = keras.Model(inputs=inputs, outputs=outputs)\r\n",
    "model.summary()"
   ],
   "outputs": [
    {
     "output_type": "stream",
     "name": "stdout",
     "text": [
      "Model: \"model_5\"\n",
      "_________________________________________________________________\n",
      "Layer (type)                 Output Shape              Param #   \n",
      "=================================================================\n",
      "my_input (InputLayer)        [(None, 3)]               0         \n",
      "_________________________________________________________________\n",
      "dense_19 (Dense)             (None, 64)                256       \n",
      "_________________________________________________________________\n",
      "dense_20 (Dense)             (None, 10)                650       \n",
      "=================================================================\n",
      "Total params: 906\n",
      "Trainable params: 906\n",
      "Non-trainable params: 0\n",
      "_________________________________________________________________\n"
     ]
    }
   ],
   "metadata": {}
  },
  {
   "cell_type": "markdown",
   "source": [
    "最后我们定义了模型的输出,调用 `summary` 查看模型的情况.\r\n"
   ],
   "metadata": {}
  },
  {
   "cell_type": "markdown",
   "source": [
    "### 多输入多输出模型\r\n",
    "\r\n",
    "实际上列表堆叠的模型适用范围很小,很多场景下模型的拓扑更像图而不是简单的层叠.构建这样的模型是 Functional API 的强项了.\r\n"
   ],
   "metadata": {}
  },
  {
   "cell_type": "code",
   "execution_count": 46,
   "source": [
    "vocabulary_size = 10000  #文本编码长度\r\n",
    "num_tags = 100  # one-hot 编码长度\r\n",
    "num_departments = 4  # 部门几个\r\n",
    "# 输入数据\r\n",
    "title = keras.Input(shape=(vocabulary_size, ), name=\"title\")\r\n",
    "text_body = keras.Input(shape=(vocabulary_size, ), name=\"text_body\")\r\n",
    "tags = keras.Input(shape=(num_tags, ), name=\"tags\")\r\n",
    "# 中间 layer\r\n",
    "features = layers.Concatenate()([title, text_body, tags])\r\n",
    "features = layers.Dense(64, activation=\"relu\")(features)\r\n",
    "# 输出数据\r\n",
    "priority = layers.Dense(1, activation=\"sigmoid\",\r\n",
    "                        name=\"priority\")(features)  #优先级\r\n",
    "department = layers.Dense(num_departments,\r\n",
    "                          activation=\"softmax\",\r\n",
    "                          name=\"department\")(features)  #部门\r\n",
    "\r\n",
    "model = keras.Model(inputs=[title, text_body, tags],\r\n",
    "                    outputs=[priority, department])"
   ],
   "outputs": [],
   "metadata": {}
  },
  {
   "cell_type": "markdown",
   "source": [
    "例如上面的模型是按照优先级对客户的票据进行排序,并将其转交给适当部门.\r\n",
    "\r\n",
    "输入\r\n",
    "\r\n",
    "- 票据的标题: 文本\r\n",
    "- 票据的正文: 文本\r\n",
    "- 用户添加的任何标签: 这里假定是 one-hot 编码\r\n",
    "\r\n",
    "输出\r\n",
    "\r\n",
    "- 票据的优先级: 0~1 sigmoid\r\n",
    "- 票据需要转交的部分: 部门的集合 softmax\r\n",
    "\r\n",
    "文本信息编码成了 vocabulary_size 的 01 数组,详情见 11 章.\r\n"
   ],
   "metadata": {}
  },
  {
   "cell_type": "markdown",
   "source": [
    "#### 训练多输入多输出模型\r\n"
   ],
   "metadata": {}
  },
  {
   "cell_type": "code",
   "execution_count": 47,
   "source": [
    "import numpy as np\r\n",
    "\r\n",
    "num_samples = 1280\r\n",
    "\r\n",
    "title_data = np.random.randint(0, 2, size=(num_samples, vocabulary_size))  #标题\r\n",
    "text_body_data = np.random.randint(0, 2,\r\n",
    "                                   size=(num_samples, vocabulary_size))  #正文\r\n",
    "tags_data = np.random.randint(0, 2, size=(num_samples, num_tags))  #标签\r\n",
    "\r\n",
    "priority_data = np.random.random(size=(num_samples, 1))  #优先级\r\n",
    "department_data = np.random.randint(0, 2,\r\n",
    "                                    size=(num_samples, num_departments))  #部门\r\n",
    "\r\n",
    "model.compile(\r\n",
    "    optimizer=\"adam\",  #优化器\r\n",
    "    loss=[\"mean_squared_error\", \"categorical_crossentropy\"],  #损失函数\r\n",
    "    metrics=[[\"mean_absolute_error\"], [\"accuracy\"]])  #指标\r\n",
    "\r\n",
    "model.fit([title_data, text_body_data, tags_data],\r\n",
    "          [priority_data, department_data],\r\n",
    "          epochs=1)  #训练模型,传入数据要和 model 声明一致"
   ],
   "outputs": [
    {
     "output_type": "stream",
     "name": "stdout",
     "text": [
      "40/40 [==============================] - 0s 5ms/step - loss: 7.1950 - priority_loss: 0.2069 - department_loss: 6.9880 - priority_mean_absolute_error: 0.3716 - department_accuracy: 0.2305\n"
     ]
    },
    {
     "output_type": "execute_result",
     "data": {
      "text/plain": [
       "<tensorflow.python.keras.callbacks.History at 0x1cdba707130>"
      ]
     },
     "metadata": {},
     "execution_count": 47
    }
   ],
   "metadata": {}
  },
  {
   "cell_type": "markdown",
   "source": [
    "训练过程和上面的单输入单输出模型一样,只是输入和输出的时组个 `[]` 传入.\r\n"
   ],
   "metadata": {}
  },
  {
   "cell_type": "code",
   "execution_count": 48,
   "source": [
    "results = model.evaluate([title_data, text_body_data, tags_data],\r\n",
    "               [priority_data, department_data])#评估模型 传入数据要和 model 声明一致\r\n",
    "results"
   ],
   "outputs": [
    {
     "output_type": "stream",
     "name": "stdout",
     "text": [
      "40/40 [==============================] - 0s 4ms/step - loss: 2.9723 - priority_loss: 0.1512 - department_loss: 2.8210 - priority_mean_absolute_error: 0.3196 - department_accuracy: 0.2422\n"
     ]
    },
    {
     "output_type": "execute_result",
     "data": {
      "text/plain": [
       "[2.9722564220428467,\n",
       " 0.15124726295471191,\n",
       " 2.8210091590881348,\n",
       " 0.3195568025112152,\n",
       " 0.2421875]"
      ]
     },
     "metadata": {},
     "execution_count": 48
    }
   ],
   "metadata": {}
  },
  {
   "cell_type": "markdown",
   "source": [
    "测试集评估也是一样.\r\n"
   ],
   "metadata": {}
  },
  {
   "cell_type": "code",
   "execution_count": 49,
   "source": [
    "priority_preds, department_preds = model.predict(\r\n",
    "    [title_data, text_body_data, tags_data])  # 获取预测值"
   ],
   "outputs": [],
   "metadata": {}
  },
  {
   "cell_type": "markdown",
   "source": [
    "获取预测值也是一样.\r\n"
   ],
   "metadata": {}
  },
  {
   "cell_type": "code",
   "execution_count": 50,
   "source": [
    "model.compile(\r\n",
    "    optimizer=\"adam\",  #优化器\r\n",
    "    loss={\r\n",
    "        \"priority\": \"mean_squared_error\",\r\n",
    "        \"department\": \"categorical_crossentropy\"\r\n",
    "    },  #损失函数\r\n",
    "    metrics={\r\n",
    "        \"priority\": [\"mean_absolute_error\"],\r\n",
    "        \"department\": [\"accuracy\"]\r\n",
    "    })  #指标\r\n",
    "\r\n",
    "model.fit({\r\n",
    "    \"title\": title_data,\r\n",
    "    \"text_body\": text_body_data,\r\n",
    "    \"tags\": tags_data\r\n",
    "}, {\r\n",
    "    \"priority\": priority_data,\r\n",
    "    \"department\": department_data\r\n",
    "},\r\n",
    "          epochs=1)\r\n"
   ],
   "outputs": [
    {
     "output_type": "stream",
     "name": "stdout",
     "text": [
      "40/40 [==============================] - 0s 5ms/step - loss: 4.3084 - priority_loss: 0.3315 - department_loss: 3.9768 - priority_mean_absolute_error: 0.4985 - department_accuracy: 0.3367\n"
     ]
    },
    {
     "output_type": "execute_result",
     "data": {
      "text/plain": [
       "<tensorflow.python.keras.callbacks.History at 0x1cdba819e20>"
      ]
     },
     "metadata": {},
     "execution_count": 50
    }
   ],
   "metadata": {}
  },
  {
   "cell_type": "markdown",
   "source": [
    "格式化完成略喜感..\r\n",
    "\r\n",
    "---\r\n",
    "\r\n",
    "如果不想遵守严格的顺序,可以采用类似字典的方式.\r\n",
    "\r\n",
    "定义损失函数等也能用类似字典.\r\n"
   ],
   "metadata": {}
  },
  {
   "cell_type": "code",
   "execution_count": 51,
   "source": [
    "priority_preds, department_preds = model.predict({\r\n",
    "    \"title\": title_data,\r\n",
    "    \"text_body\": text_body_data,\r\n",
    "    \"tags\": tags_data\r\n",
    "})\r\n"
   ],
   "outputs": [],
   "metadata": {}
  },
  {
   "cell_type": "code",
   "execution_count": 52,
   "source": [
    "priority_preds, department_preds = model.predict({\r\n",
    "    \"title\": title_data,\r\n",
    "    \"text_body\": text_body_data,\r\n",
    "    \"tags\": tags_data\r\n",
    "})"
   ],
   "outputs": [],
   "metadata": {}
  },
  {
   "cell_type": "markdown",
   "source": [
    "评估和获取预测值类似."
   ],
   "metadata": {}
  },
  {
   "cell_type": "markdown",
   "source": [
    "### Functional API 对层的访问\r\n",
    "\r\n",
    "使用 Functional API 一直让我想起乐高积木,Functional 模型是一个明确的图,而在研究人员脑中深度学习模型也是一个非常类似的图.\r\n",
    "\r\n",
    "类似图的结构,让 Functional 模型输出层直接连接,或者重用部分 layer 成为可能.\r\n"
   ],
   "metadata": {}
  },
  {
   "cell_type": "markdown",
   "source": [
    "#### 模型可视化\r\n"
   ],
   "metadata": {}
  },
  {
   "cell_type": "code",
   "execution_count": 53,
   "source": [
    "keras.utils.plot_model(model, \"ticket_classifier.png\")"
   ],
   "outputs": [
    {
     "output_type": "execute_result",
     "data": {
      "text/plain": [
       "<IPython.core.display.Image object>"
      ],
      "image/png": "[encoded data removed]"
     },
     "metadata": {},
     "execution_count": 53
    }
   ],
   "metadata": {}
  },
  {
   "cell_type": "markdown",
   "source": [
    "`keras.utils.plot_model` 可以将 model 以图形的方式展示出来.这非常受用.\r\n"
   ],
   "metadata": {}
  },
  {
   "cell_type": "code",
   "execution_count": 54,
   "source": [
    "keras.utils.plot_model(model, \"ticket_classifier_with_shape_info.png\", show_shapes=True)"
   ],
   "outputs": [
    {
     "output_type": "execute_result",
     "data": {
      "text/plain": [
       "<IPython.core.display.Image object>"
      ],
      "image/png": "[encoded data removed]"
     },
     "metadata": {},
     "execution_count": 54
    }
   ],
   "metadata": {}
  },
  {
   "cell_type": "markdown",
   "source": [
    "加上各层的输入输出大小也没关系. None 代表任意大小.\r\n"
   ],
   "metadata": {}
  },
  {
   "cell_type": "markdown",
   "source": [
    "#### 提取模型特征\r\n"
   ],
   "metadata": {}
  },
  {
   "cell_type": "code",
   "execution_count": 55,
   "source": [
    "model.layers"
   ],
   "outputs": [
    {
     "output_type": "execute_result",
     "data": {
      "text/plain": [
       "[<tensorflow.python.keras.engine.input_layer.InputLayer at 0x1cdba5e7490>,\n",
       " <tensorflow.python.keras.engine.input_layer.InputLayer at 0x1cdba6e6df0>,\n",
       " <tensorflow.python.keras.engine.input_layer.InputLayer at 0x1cdba6e6f70>,\n",
       " <tensorflow.python.keras.layers.merge.Concatenate at 0x1cdba6c1fa0>,\n",
       " <tensorflow.python.keras.layers.core.Dense at 0x1cdba6c5e80>,\n",
       " <tensorflow.python.keras.layers.core.Dense at 0x1cdba655ee0>,\n",
       " <tensorflow.python.keras.layers.core.Dense at 0x1cdba6a4a90>]"
      ]
     },
     "metadata": {},
     "execution_count": 55
    }
   ],
   "metadata": {}
  },
  {
   "cell_type": "code",
   "execution_count": 56,
   "source": [
    "model.layers[3].input"
   ],
   "outputs": [
    {
     "output_type": "execute_result",
     "data": {
      "text/plain": [
       "[<KerasTensor: shape=(None, 10000) dtype=float32 (created by layer 'title')>,\n",
       " <KerasTensor: shape=(None, 10000) dtype=float32 (created by layer 'text_body')>,\n",
       " <KerasTensor: shape=(None, 100) dtype=float32 (created by layer 'tags')>]"
      ]
     },
     "metadata": {},
     "execution_count": 56
    }
   ],
   "metadata": {}
  },
  {
   "cell_type": "markdown",
   "source": [
    "Functional 可以访问所有 layer 包括 layer 对应的 input/output.\r\n"
   ],
   "metadata": {}
  },
  {
   "cell_type": "code",
   "execution_count": 57,
   "source": [
    "features = model.layers[4].output\r\n",
    "difficulty = layers.Dense(3, activation=\"softmax\", name=\"difficulty\")(features)\r\n",
    "\r\n",
    "new_model = keras.Model(inputs=[title, text_body, tags],\r\n",
    "                        outputs=[priority, department, difficulty])"
   ],
   "outputs": [],
   "metadata": {}
  },
  {
   "cell_type": "markdown",
   "source": [
    "model 每个 layer 声明都是互相独立的,这意味着可以像操作图一样修改模型\r\n",
    "\r\n",
    "- 增删改 model 某个部分\r\n",
    "- 重用 model 或部分 model\r\n",
    "\r\n",
    "上面就是在 model 添加一个输出,困难的评级.输出有 3 个级别.\r\n"
   ],
   "metadata": {}
  },
  {
   "cell_type": "code",
   "execution_count": 58,
   "source": [
    "keras.utils.plot_model(new_model, \"updated_ticket_classifier.png\", show_shapes=True)"
   ],
   "outputs": [
    {
     "output_type": "execute_result",
     "data": {
      "text/plain": [
       "<IPython.core.display.Image object>"
      ],
      "image/png": "[encoded data removed]"
     },
     "metadata": {},
     "execution_count": 58
    }
   ],
   "metadata": {}
  },
  {
   "cell_type": "markdown",
   "source": [
    "重新可视化 model 此时困难评级已经添加了.\r\n"
   ],
   "metadata": {}
  },
  {
   "cell_type": "markdown",
   "source": [
    "## model subclassing\r\n"
   ],
   "metadata": {}
  },
  {
   "cell_type": "markdown",
   "source": [
    "最后一种构建模型的方法是 model subclassing.第 3 章,我们已经实现过类似的过程了.继承 Layer 类实现自己的子类.model subclassing 非常类似.\r\n",
    "\r\n",
    "- init 方法中定义要使用的 layer\r\n",
    "- 在 call 方法中实现前向传播,重用已经已经创建的层.\r\n",
    "- 实例化子类对象,在传入数据时创建权重.\r\n"
   ],
   "metadata": {}
  },
  {
   "cell_type": "code",
   "execution_count": 59,
   "source": [
    "class CustomerTicketModel(keras.Model):\r\n",
    "    def __init__(self, num_departments):\r\n",
    "        super().__init__()\r\n",
    "        self.concat_layer = layers.Concatenate()  #第一层\r\n",
    "        self.mixing_layer = layers.Dense(64, activation=\"relu\")  #第二层\r\n",
    "        self.priority_scorer = layers.Dense(1, activation=\"sigmoid\")  #优先级\r\n",
    "        self.department_classifier = layers.Dense(num_departments,\r\n",
    "                                                  activation=\"softmax\")  #部门\r\n",
    "\r\n",
    "    def call(self, inputs):\r\n",
    "        title = inputs[\"title\"]\r\n",
    "        text_body = inputs[\"text_body\"]\r\n",
    "        tags = inputs[\"tags\"]\r\n",
    "\r\n",
    "        features = self.concat_layer([title, text_body, tags])  #第一层\r\n",
    "        features = self.mixing_layer(features)  #第二层\r\n",
    "        priority = self.priority_scorer(features)  #优先级\r\n",
    "        department = self.department_classifier(features)  #部门\r\n",
    "        return priority, department"
   ],
   "outputs": [],
   "metadata": {}
  },
  {
   "cell_type": "markdown",
   "source": [
    "这里重新实现了上面例子里的 model\r\n"
   ],
   "metadata": {}
  },
  {
   "cell_type": "code",
   "execution_count": 62,
   "source": [
    "model = CustomerTicketModel(num_departments=4)  #实例化 model ,部门数 4\r\n"
   ],
   "outputs": [],
   "metadata": {}
  },
  {
   "cell_type": "code",
   "execution_count": 63,
   "source": [
    "priority, department = model({\r\n",
    "    \"title\": title_data,\r\n",
    "    \"text_body\": text_body_data,\r\n",
    "    \"tags\": tags_data\r\n",
    "})"
   ],
   "outputs": [],
   "metadata": {}
  },
  {
   "cell_type": "markdown",
   "source": [
    "只有当第一次调用时,层的权重才会初始化.\r\n"
   ],
   "metadata": {}
  },
  {
   "cell_type": "markdown",
   "source": [
    "与自定义 Layer 子类非常相似,当然也有区别\r\n",
    "\r\n",
    "- Model 子类有 fit evaluate predict 等方法,(废话要不然证明训练评估验证啊)\r\n",
    "- Model 子类实例可以保存在硬盘上.\r\n"
   ],
   "metadata": {}
  },
  {
   "cell_type": "code",
   "execution_count": 66,
   "source": [
    "model.compile(optimizer=\"adam\",\r\n",
    "              loss=[\"mean_squared_error\", \"categorical_crossentropy\"],\r\n",
    "              metrics=[[\"mean_absolute_error\"], [\"accuracy\"]])\r\n",
    "model.fit({\r\n",
    "    \"title\": title_data,\r\n",
    "    \"text_body\": text_body_data,\r\n",
    "    \"tags\": tags_data\r\n",
    "}, [priority_data, department_data],\r\n",
    "          epochs=1)\r\n"
   ],
   "outputs": [
    {
     "output_type": "stream",
     "name": "stdout",
     "text": [
      "40/40 [==============================] - 1s 6ms/step - loss: 10.8316 - output_1_loss: 0.3276 - output_2_loss: 10.5040 - output_1_mean_absolute_error: 0.4946 - output_2_accuracy: 0.2812\n"
     ]
    },
    {
     "output_type": "execute_result",
     "data": {
      "text/plain": [
       "<tensorflow.python.keras.callbacks.History at 0x1cdbae09670>"
      ]
     },
     "metadata": {},
     "execution_count": 66
    }
   ],
   "metadata": {}
  },
  {
   "cell_type": "code",
   "execution_count": 67,
   "source": [
    "model.evaluate(\r\n",
    "    {\r\n",
    "        \"title\": title_data,\r\n",
    "        \"text_body\": text_body_data,\r\n",
    "        \"tags\": tags_data\r\n",
    "    }, [priority_data, department_data])"
   ],
   "outputs": [
    {
     "output_type": "stream",
     "name": "stdout",
     "text": [
      "40/40 [==============================] - 0s 4ms/step - loss: 3.2759 - output_1_loss: 0.3276 - output_2_loss: 2.9483 - output_1_mean_absolute_error: 0.4946 - output_2_accuracy: 0.2937\n"
     ]
    },
    {
     "output_type": "execute_result",
     "data": {
      "text/plain": [
       "[3.2758827209472656,\n",
       " 0.3275989294052124,\n",
       " 2.9482836723327637,\n",
       " 0.49458885192871094,\n",
       " 0.29374998807907104]"
      ]
     },
     "metadata": {},
     "execution_count": 67
    }
   ],
   "metadata": {}
  },
  {
   "cell_type": "code",
   "execution_count": 68,
   "source": [
    "priority_preds, department_preds = model.predict({\r\n",
    "    \"title\": title_data,\r\n",
    "    \"text_body\": text_body_data,\r\n",
    "    \"tags\": tags_data\r\n",
    "})"
   ],
   "outputs": [],
   "metadata": {}
  },
  {
   "cell_type": "markdown",
   "source": [
    "模型的训练评估预测,几乎没有什么区别.\r\n"
   ],
   "metadata": {}
  },
  {
   "cell_type": "markdown",
   "source": [
    "Model subclassing 几乎是最灵活的建立模型的方式,如果需要的模型无法表示层有向无环图,那就只能使用  Model subclassing 方式构建模型.\r\n",
    "\r\n",
    "想象一下\r\n",
    "\r\n",
    "- call 方法的 for 循环体中使用 layer\r\n",
    "- call 方法中递归调用\r\n",
    "- 一切随意.\r\n"
   ],
   "metadata": {}
  },
  {
   "cell_type": "markdown",
   "source": [
    "### model subclassing 无法支持的 keras 部分\r\n",
    "\r\n",
    "model subclassing 异常灵活性的代价是,开发者要负责模型的一切.潜在的出错面太多了.\r\n",
    "\r\n",
    "Functional api 创建的 model 被限定在可以表示成有向无环图,这样我们才能任意的修改/访问/提取 mdoel 的任意部分.\r\n",
    "\r\n",
    "model subclassing 创建的模型其拓扑结构完全取决于代码,完全是一个黑箱,具体的结构能不能可视化都很难说.\r\n",
    "\r\n",
    "- `summary` 将无法显示层的连接\r\n",
    "- `plot_model` 也无法绘制\r\n",
    "- 对于黑箱,完全得不到任何细节,当然也不能任意的修改/访问/重用 mdoel 的任意部分.\r\n",
    "- 同样的一旦实例化,前向传递也成了另一个黑箱..\r\n",
    "\r\n",
    "自由是有代价的(想想早期用 c/c++ 写机器学习的人)\r\n"
   ],
   "metadata": {}
  }
 ],
 "metadata": {
  "orig_nbformat": 4,
  "language_info": {
   "name": "python",
   "version": "3.9.6",
   "mimetype": "text/x-python",
   "codemirror_mode": {
    "name": "ipython",
    "version": 3
   },
   "pygments_lexer": "ipython3",
   "nbconvert_exporter": "python",
   "file_extension": ".py"
  },
  "kernelspec": {
   "name": "python3",
   "display_name": "Python 3.9.6 64-bit ('tf': venv)"
  },
  "interpreter": {
   "hash": "aac46f597da82ce9618f0e6f094e6d401f1ab16d9be89acf77ce1dd63d67a333"
  }
 },
 "nbformat": 4,
 "nbformat_minor": 2
}