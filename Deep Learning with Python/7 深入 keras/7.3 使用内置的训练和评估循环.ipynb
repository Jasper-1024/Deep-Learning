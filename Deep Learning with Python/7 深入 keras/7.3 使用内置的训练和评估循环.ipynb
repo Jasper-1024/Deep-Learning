{
 "cells": [
  {
   "cell_type": "markdown",
   "source": [
    "# 7.3 使用内置的训练和评估循环\r\n",
    "\r\n",
    "别吐槽这一节的译名,原文直译就是这个.\r\n",
    "\r\n",
    "---\r\n",
    "\r\n",
    "已经提到了,keras api 是复杂度逐渐披露,但是无论是新手还是专家,调用的 api 是一样的.\r\n",
    "\r\n",
    "模型训练也是这样,我们已经熟悉了简单模型训练/拟合/评估/预测的流程.\r\n"
   ],
   "metadata": {}
  },
  {
   "cell_type": "code",
   "execution_count": 25,
   "source": [
    "import tensorflow.keras as keras\r\n",
    "import tensorflow.keras.layers as layers"
   ],
   "outputs": [],
   "metadata": {}
  },
  {
   "cell_type": "code",
   "execution_count": 26,
   "source": [
    "from tensorflow.keras.datasets import mnist\r\n",
    "#取数据\r\n",
    "(images, labels), (test_images, test_labels) = mnist.load_data()\r\n",
    "images = images.reshape((60000, 28 * 28)).astype(\"float32\") / 255\r\n",
    "test_images = test_images.reshape((10000, 28 * 28)).astype(\"float32\") / 255\r\n",
    "train_images, val_images = images[10000:], images[:10000]\r\n",
    "train_labels, val_labels = labels[10000:], labels[:10000]"
   ],
   "outputs": [],
   "metadata": {}
  },
  {
   "cell_type": "code",
   "execution_count": 27,
   "source": [
    "def get_mnist_model():\r\n",
    "    inputs = keras.Input(shape=(28 * 28, ))\r\n",
    "    features = layers.Dense(512, activation=\"relu\")(inputs)\r\n",
    "    features = layers.Dropout(0.5)(features)\r\n",
    "    outputs = layers.Dense(10, activation=\"softmax\")(features)\r\n",
    "    model = keras.Model(inputs, outputs)\r\n",
    "    return model\r\n",
    "\r\n",
    "\r\n",
    "model = get_mnist_model()  #模型\r\n"
   ],
   "outputs": [],
   "metadata": {}
  },
  {
   "cell_type": "code",
   "execution_count": 28,
   "source": [
    "model.compile(optimizer=\"rmsprop\",\r\n",
    "              loss=\"sparse_categorical_crossentropy\",\r\n",
    "              metrics=[\"accuracy\"])  #模型参数\r\n",
    "model.fit(train_images,\r\n",
    "          train_labels,\r\n",
    "          epochs=3,\r\n",
    "          validation_data=(val_images, val_labels))  #训练"
   ],
   "outputs": [
    {
     "output_type": "stream",
     "name": "stdout",
     "text": [
      "Epoch 1/3\n",
      "1561/1563 [============================>.] - ETA: 0s - loss: 0.2940 - accuracy: 0.9124"
     ]
    },
    {
     "output_type": "error",
     "ename": "KeyboardInterrupt",
     "evalue": "",
     "traceback": [
      "\u001b[1;31m---------------------------------------------------------------------------\u001b[0m",
      "\u001b[1;31mKeyboardInterrupt\u001b[0m                         Traceback (most recent call last)",
      "\u001b[1;32m~\\AppData\\Local\\Temp/ipykernel_10148/1952564015.py\u001b[0m in \u001b[0;36m<module>\u001b[1;34m\u001b[0m\n\u001b[0;32m      2\u001b[0m               \u001b[0mloss\u001b[0m\u001b[1;33m=\u001b[0m\u001b[1;34m\"sparse_categorical_crossentropy\"\u001b[0m\u001b[1;33m,\u001b[0m\u001b[1;33m\u001b[0m\u001b[1;33m\u001b[0m\u001b[0m\n\u001b[0;32m      3\u001b[0m               metrics=[\"accuracy\"])  #模型参数\n\u001b[1;32m----> 4\u001b[1;33m model.fit(train_images,\n\u001b[0m\u001b[0;32m      5\u001b[0m           \u001b[0mtrain_labels\u001b[0m\u001b[1;33m,\u001b[0m\u001b[1;33m\u001b[0m\u001b[1;33m\u001b[0m\u001b[0m\n\u001b[0;32m      6\u001b[0m           \u001b[0mepochs\u001b[0m\u001b[1;33m=\u001b[0m\u001b[1;36m3\u001b[0m\u001b[1;33m,\u001b[0m\u001b[1;33m\u001b[0m\u001b[1;33m\u001b[0m\u001b[0m\n",
      "\u001b[1;32mc:\\Users\\stati\\Git\\Deep-Learning\\tf\\lib\\site-packages\\tensorflow\\python\\keras\\engine\\training.py\u001b[0m in \u001b[0;36mfit\u001b[1;34m(self, x, y, batch_size, epochs, verbose, callbacks, validation_split, validation_data, shuffle, class_weight, sample_weight, initial_epoch, steps_per_epoch, validation_steps, validation_batch_size, validation_freq, max_queue_size, workers, use_multiprocessing)\u001b[0m\n\u001b[0;32m   1212\u001b[0m                 \u001b[0mmodel\u001b[0m\u001b[1;33m=\u001b[0m\u001b[0mself\u001b[0m\u001b[1;33m,\u001b[0m\u001b[1;33m\u001b[0m\u001b[1;33m\u001b[0m\u001b[0m\n\u001b[0;32m   1213\u001b[0m                 steps_per_execution=self._steps_per_execution)\n\u001b[1;32m-> 1214\u001b[1;33m           val_logs = self.evaluate(\n\u001b[0m\u001b[0;32m   1215\u001b[0m               \u001b[0mx\u001b[0m\u001b[1;33m=\u001b[0m\u001b[0mval_x\u001b[0m\u001b[1;33m,\u001b[0m\u001b[1;33m\u001b[0m\u001b[1;33m\u001b[0m\u001b[0m\n\u001b[0;32m   1216\u001b[0m               \u001b[0my\u001b[0m\u001b[1;33m=\u001b[0m\u001b[0mval_y\u001b[0m\u001b[1;33m,\u001b[0m\u001b[1;33m\u001b[0m\u001b[1;33m\u001b[0m\u001b[0m\n",
      "\u001b[1;32mc:\\Users\\stati\\Git\\Deep-Learning\\tf\\lib\\site-packages\\tensorflow\\python\\keras\\engine\\training.py\u001b[0m in \u001b[0;36mevaluate\u001b[1;34m(self, x, y, batch_size, verbose, sample_weight, steps, callbacks, max_queue_size, workers, use_multiprocessing, return_dict, **kwargs)\u001b[0m\n\u001b[0;32m   1487\u001b[0m             \u001b[1;32mwith\u001b[0m \u001b[0mtrace\u001b[0m\u001b[1;33m.\u001b[0m\u001b[0mTrace\u001b[0m\u001b[1;33m(\u001b[0m\u001b[1;34m'test'\u001b[0m\u001b[1;33m,\u001b[0m \u001b[0mstep_num\u001b[0m\u001b[1;33m=\u001b[0m\u001b[0mstep\u001b[0m\u001b[1;33m,\u001b[0m \u001b[0m_r\u001b[0m\u001b[1;33m=\u001b[0m\u001b[1;36m1\u001b[0m\u001b[1;33m)\u001b[0m\u001b[1;33m:\u001b[0m\u001b[1;33m\u001b[0m\u001b[1;33m\u001b[0m\u001b[0m\n\u001b[0;32m   1488\u001b[0m               \u001b[0mcallbacks\u001b[0m\u001b[1;33m.\u001b[0m\u001b[0mon_test_batch_begin\u001b[0m\u001b[1;33m(\u001b[0m\u001b[0mstep\u001b[0m\u001b[1;33m)\u001b[0m\u001b[1;33m\u001b[0m\u001b[1;33m\u001b[0m\u001b[0m\n\u001b[1;32m-> 1489\u001b[1;33m               \u001b[0mtmp_logs\u001b[0m \u001b[1;33m=\u001b[0m \u001b[0mself\u001b[0m\u001b[1;33m.\u001b[0m\u001b[0mtest_function\u001b[0m\u001b[1;33m(\u001b[0m\u001b[0miterator\u001b[0m\u001b[1;33m)\u001b[0m\u001b[1;33m\u001b[0m\u001b[1;33m\u001b[0m\u001b[0m\n\u001b[0m\u001b[0;32m   1490\u001b[0m               \u001b[1;32mif\u001b[0m \u001b[0mdata_handler\u001b[0m\u001b[1;33m.\u001b[0m\u001b[0mshould_sync\u001b[0m\u001b[1;33m:\u001b[0m\u001b[1;33m\u001b[0m\u001b[1;33m\u001b[0m\u001b[0m\n\u001b[0;32m   1491\u001b[0m                 \u001b[0mcontext\u001b[0m\u001b[1;33m.\u001b[0m\u001b[0masync_wait\u001b[0m\u001b[1;33m(\u001b[0m\u001b[1;33m)\u001b[0m\u001b[1;33m\u001b[0m\u001b[1;33m\u001b[0m\u001b[0m\n",
      "\u001b[1;32mc:\\Users\\stati\\Git\\Deep-Learning\\tf\\lib\\site-packages\\tensorflow\\python\\eager\\def_function.py\u001b[0m in \u001b[0;36m__call__\u001b[1;34m(self, *args, **kwds)\u001b[0m\n\u001b[0;32m    887\u001b[0m \u001b[1;33m\u001b[0m\u001b[0m\n\u001b[0;32m    888\u001b[0m       \u001b[1;32mwith\u001b[0m \u001b[0mOptionalXlaContext\u001b[0m\u001b[1;33m(\u001b[0m\u001b[0mself\u001b[0m\u001b[1;33m.\u001b[0m\u001b[0m_jit_compile\u001b[0m\u001b[1;33m)\u001b[0m\u001b[1;33m:\u001b[0m\u001b[1;33m\u001b[0m\u001b[1;33m\u001b[0m\u001b[0m\n\u001b[1;32m--> 889\u001b[1;33m         \u001b[0mresult\u001b[0m \u001b[1;33m=\u001b[0m \u001b[0mself\u001b[0m\u001b[1;33m.\u001b[0m\u001b[0m_call\u001b[0m\u001b[1;33m(\u001b[0m\u001b[1;33m*\u001b[0m\u001b[0margs\u001b[0m\u001b[1;33m,\u001b[0m \u001b[1;33m**\u001b[0m\u001b[0mkwds\u001b[0m\u001b[1;33m)\u001b[0m\u001b[1;33m\u001b[0m\u001b[1;33m\u001b[0m\u001b[0m\n\u001b[0m\u001b[0;32m    890\u001b[0m \u001b[1;33m\u001b[0m\u001b[0m\n\u001b[0;32m    891\u001b[0m       \u001b[0mnew_tracing_count\u001b[0m \u001b[1;33m=\u001b[0m \u001b[0mself\u001b[0m\u001b[1;33m.\u001b[0m\u001b[0mexperimental_get_tracing_count\u001b[0m\u001b[1;33m(\u001b[0m\u001b[1;33m)\u001b[0m\u001b[1;33m\u001b[0m\u001b[1;33m\u001b[0m\u001b[0m\n",
      "\u001b[1;32mc:\\Users\\stati\\Git\\Deep-Learning\\tf\\lib\\site-packages\\tensorflow\\python\\eager\\def_function.py\u001b[0m in \u001b[0;36m_call\u001b[1;34m(self, *args, **kwds)\u001b[0m\n\u001b[0;32m    922\u001b[0m       \u001b[1;31m# In this case we have not created variables on the first call. So we can\u001b[0m\u001b[1;33m\u001b[0m\u001b[1;33m\u001b[0m\u001b[1;33m\u001b[0m\u001b[0m\n\u001b[0;32m    923\u001b[0m       \u001b[1;31m# run the first trace but we should fail if variables are created.\u001b[0m\u001b[1;33m\u001b[0m\u001b[1;33m\u001b[0m\u001b[1;33m\u001b[0m\u001b[0m\n\u001b[1;32m--> 924\u001b[1;33m       \u001b[0mresults\u001b[0m \u001b[1;33m=\u001b[0m \u001b[0mself\u001b[0m\u001b[1;33m.\u001b[0m\u001b[0m_stateful_fn\u001b[0m\u001b[1;33m(\u001b[0m\u001b[1;33m*\u001b[0m\u001b[0margs\u001b[0m\u001b[1;33m,\u001b[0m \u001b[1;33m**\u001b[0m\u001b[0mkwds\u001b[0m\u001b[1;33m)\u001b[0m\u001b[1;33m\u001b[0m\u001b[1;33m\u001b[0m\u001b[0m\n\u001b[0m\u001b[0;32m    925\u001b[0m       \u001b[1;32mif\u001b[0m \u001b[0mself\u001b[0m\u001b[1;33m.\u001b[0m\u001b[0m_created_variables\u001b[0m\u001b[1;33m:\u001b[0m\u001b[1;33m\u001b[0m\u001b[1;33m\u001b[0m\u001b[0m\n\u001b[0;32m    926\u001b[0m         raise ValueError(\"Creating variables on a non-first call to a function\"\n",
      "\u001b[1;32mc:\\Users\\stati\\Git\\Deep-Learning\\tf\\lib\\site-packages\\tensorflow\\python\\eager\\function.py\u001b[0m in \u001b[0;36m__call__\u001b[1;34m(self, *args, **kwargs)\u001b[0m\n\u001b[0;32m   3021\u001b[0m       (graph_function,\n\u001b[0;32m   3022\u001b[0m        filtered_flat_args) = self._maybe_define_function(args, kwargs)\n\u001b[1;32m-> 3023\u001b[1;33m     return graph_function._call_flat(\n\u001b[0m\u001b[0;32m   3024\u001b[0m         filtered_flat_args, captured_inputs=graph_function.captured_inputs)  # pylint: disable=protected-access\n\u001b[0;32m   3025\u001b[0m \u001b[1;33m\u001b[0m\u001b[0m\n",
      "\u001b[1;32mc:\\Users\\stati\\Git\\Deep-Learning\\tf\\lib\\site-packages\\tensorflow\\python\\eager\\function.py\u001b[0m in \u001b[0;36m_call_flat\u001b[1;34m(self, args, captured_inputs, cancellation_manager)\u001b[0m\n\u001b[0;32m   1958\u001b[0m         and executing_eagerly):\n\u001b[0;32m   1959\u001b[0m       \u001b[1;31m# No tape is watching; skip to running the function.\u001b[0m\u001b[1;33m\u001b[0m\u001b[1;33m\u001b[0m\u001b[1;33m\u001b[0m\u001b[0m\n\u001b[1;32m-> 1960\u001b[1;33m       return self._build_call_outputs(self._inference_function.call(\n\u001b[0m\u001b[0;32m   1961\u001b[0m           ctx, args, cancellation_manager=cancellation_manager))\n\u001b[0;32m   1962\u001b[0m     forward_backward = self._select_forward_and_backward_functions(\n",
      "\u001b[1;32mc:\\Users\\stati\\Git\\Deep-Learning\\tf\\lib\\site-packages\\tensorflow\\python\\eager\\function.py\u001b[0m in \u001b[0;36mcall\u001b[1;34m(self, ctx, args, cancellation_manager)\u001b[0m\n\u001b[0;32m    589\u001b[0m       \u001b[1;32mwith\u001b[0m \u001b[0m_InterpolateFunctionError\u001b[0m\u001b[1;33m(\u001b[0m\u001b[0mself\u001b[0m\u001b[1;33m)\u001b[0m\u001b[1;33m:\u001b[0m\u001b[1;33m\u001b[0m\u001b[1;33m\u001b[0m\u001b[0m\n\u001b[0;32m    590\u001b[0m         \u001b[1;32mif\u001b[0m \u001b[0mcancellation_manager\u001b[0m \u001b[1;32mis\u001b[0m \u001b[1;32mNone\u001b[0m\u001b[1;33m:\u001b[0m\u001b[1;33m\u001b[0m\u001b[1;33m\u001b[0m\u001b[0m\n\u001b[1;32m--> 591\u001b[1;33m           outputs = execute.execute(\n\u001b[0m\u001b[0;32m    592\u001b[0m               \u001b[0mstr\u001b[0m\u001b[1;33m(\u001b[0m\u001b[0mself\u001b[0m\u001b[1;33m.\u001b[0m\u001b[0msignature\u001b[0m\u001b[1;33m.\u001b[0m\u001b[0mname\u001b[0m\u001b[1;33m)\u001b[0m\u001b[1;33m,\u001b[0m\u001b[1;33m\u001b[0m\u001b[1;33m\u001b[0m\u001b[0m\n\u001b[0;32m    593\u001b[0m               \u001b[0mnum_outputs\u001b[0m\u001b[1;33m=\u001b[0m\u001b[0mself\u001b[0m\u001b[1;33m.\u001b[0m\u001b[0m_num_outputs\u001b[0m\u001b[1;33m,\u001b[0m\u001b[1;33m\u001b[0m\u001b[1;33m\u001b[0m\u001b[0m\n",
      "\u001b[1;32mc:\\Users\\stati\\Git\\Deep-Learning\\tf\\lib\\site-packages\\tensorflow\\python\\eager\\execute.py\u001b[0m in \u001b[0;36mquick_execute\u001b[1;34m(op_name, num_outputs, inputs, attrs, ctx, name)\u001b[0m\n\u001b[0;32m     57\u001b[0m   \u001b[1;32mtry\u001b[0m\u001b[1;33m:\u001b[0m\u001b[1;33m\u001b[0m\u001b[1;33m\u001b[0m\u001b[0m\n\u001b[0;32m     58\u001b[0m     \u001b[0mctx\u001b[0m\u001b[1;33m.\u001b[0m\u001b[0mensure_initialized\u001b[0m\u001b[1;33m(\u001b[0m\u001b[1;33m)\u001b[0m\u001b[1;33m\u001b[0m\u001b[1;33m\u001b[0m\u001b[0m\n\u001b[1;32m---> 59\u001b[1;33m     tensors = pywrap_tfe.TFE_Py_Execute(ctx._handle, device_name, op_name,\n\u001b[0m\u001b[0;32m     60\u001b[0m                                         inputs, attrs, num_outputs)\n\u001b[0;32m     61\u001b[0m   \u001b[1;32mexcept\u001b[0m \u001b[0mcore\u001b[0m\u001b[1;33m.\u001b[0m\u001b[0m_NotOkStatusException\u001b[0m \u001b[1;32mas\u001b[0m \u001b[0me\u001b[0m\u001b[1;33m:\u001b[0m\u001b[1;33m\u001b[0m\u001b[1;33m\u001b[0m\u001b[0m\n",
      "\u001b[1;31mKeyboardInterrupt\u001b[0m: "
     ]
    }
   ],
   "metadata": {}
  },
  {
   "cell_type": "code",
   "execution_count": null,
   "source": [
    "test_metrics = model.evaluate(test_images, test_labels)  #评估"
   ],
   "outputs": [
    {
     "output_type": "stream",
     "name": "stdout",
     "text": [
      "313/313 [==============================] - 1s 2ms/step - loss: 0.1021 - accuracy: 0.9778\n"
     ]
    }
   ],
   "metadata": {}
  },
  {
   "cell_type": "code",
   "execution_count": null,
   "source": [
    "predictions = model.predict(test_images)  #预测"
   ],
   "outputs": [],
   "metadata": {}
  },
  {
   "cell_type": "markdown",
   "source": [
    "上面就是新手级别的工作流示例了.应该已经非常熟悉了.\r\n",
    "\r\n",
    "要定制这个工作流有几种办法\r\n",
    "\r\n",
    "- 使用完全自定义的指标\r\n",
    "- 给 `fit` 传递回调,以安排训练时特定时间点执行的任务\r\n",
    "\r\n",
    "下面小节都会看到\r\n"
   ],
   "metadata": {}
  },
  {
   "cell_type": "markdown",
   "source": [
    "## 编写自定义指标\r\n",
    "\r\n",
    "指标是衡量模型性能的关键,特别是衡量模型在训练数据和在测试数据上差异的关键.\r\n",
    "\r\n",
    "常见指标已经内置在 keras,成为了 `keras.metrics` 的一部分.但是如果你想做一些不寻常的事,此时会需要自定义指标.\r\n"
   ],
   "metadata": {}
  },
  {
   "cell_type": "code",
   "execution_count": null,
   "source": [
    "import tensorflow as tf\r\n",
    "\r\n",
    "\r\n",
    "class RootMeanSquaredError(keras.metrics.Metric):\r\n",
    "    def __init__(self, name=\"rmse\", **kwargs):\r\n",
    "        super().__init__(name=name, **kwargs)\r\n",
    "        self.mse_sum = self.add_weight(name=\"mse_sum\", initializer=\"zeros\")\r\n",
    "        self.total_samples = self.add_weight(name=\"total_samples\",\r\n",
    "                                             initializer=\"zeros\",\r\n",
    "                                             dtype=\"int32\")\r\n",
    "\r\n",
    "    def update_state(self,\r\n",
    "                     y_true,\r\n",
    "                     y_pred,\r\n",
    "                     sample_weight=None):  #可以忽略 sample_weight ,这个例子不使用\r\n",
    "        y_true = tf.one_hot(y_true, depth=tf.shape(y_pred)[1])\r\n",
    "        mse = tf.reduce_sum(\r\n",
    "            tf.square(y_true -\r\n",
    "                      y_pred))  # (真实值-预测值) square 取平方 reduce_sum 压缩求和(未细究)\r\n",
    "        self.mse_sum.assign_add(mse)  # assign_add 求和;;全部 mse 之和\r\n",
    "        num_samples = tf.shape(y_pred)[0]  #样本数量\r\n",
    "        self.total_samples.assign_add(num_samples)  #全部样本数量\r\n",
    "\r\n",
    "    def result(self):  #计算\r\n",
    "        return tf.sqrt(self.mse_sum / tf.cast(self.total_samples, tf.float32))\r\n",
    "\r\n",
    "    def reset_states(self):\r\n",
    "        self.mse_sum.assign(0.)\r\n",
    "        self.total_samples.assign(0)\r\n"
   ],
   "outputs": [],
   "metadata": {}
  },
  {
   "cell_type": "markdown",
   "source": [
    "与自定义 layer / model 类似\r\n",
    "\r\n",
    "- 需要继承 `keras.metrics.Metric`\r\n",
    "- 指标内部变量值的更新要在 `update_state` 编写,不能像 layer 那样通过反向传播计算.\r\n",
    "\r\n",
    "上面是平均误差根值(RMSE Root Mean Squared Error)\r\n"
   ],
   "metadata": {}
  },
  {
   "cell_type": "markdown",
   "source": [
    "题外话 方差 标准差(SD) 均方差 均方误差(MSE) 均方根误差(RMSE)\r\n",
    "\r\n",
    "---\r\n",
    "\r\n",
    "描述 **一个随机变量** 取值与 **均值** 的偏离程度\r\n",
    "\r\n",
    "- 方差: 所有 (值 - 均值)平方之和,再 * 概率.\r\n",
    "- 标准差: $\\sqrt{方差}$,相比方差更加直观,读图直接出概率.\r\n",
    "- **标准差 == 均方差**\r\n",
    "\r\n",
    "描述一组数据种, **各个数据** 与 **真实值** 的偏离程度\r\n",
    "\r\n",
    "- 均方误差(MSE): 与方差计算很像.最核心的插值换成了 (预测值 - 实际值)\r\n",
    "- 均方根误差(RMSE): $\\sqrt{均方误差}$,和标准差很像.常用于机器学习模型的评价.\r\n",
    "\r\n",
    "`result` 返回真正的 RMSE (来自 rmse 定义)\r\n",
    "\r\n",
    "`reset_states` 重置指标,在进行另一轮评估时使用.\r\n"
   ],
   "metadata": {}
  },
  {
   "cell_type": "code",
   "execution_count": null,
   "source": [
    "model = get_mnist_model()\r\n",
    "model.compile(optimizer=\"rmsprop\",\r\n",
    "              loss=\"sparse_categorical_crossentropy\",\r\n",
    "              metrics=[\"accuracy\", RootMeanSquaredError()])  #自定义指标\r\n",
    "model.fit(train_images,\r\n",
    "          train_labels,\r\n",
    "          epochs=3,\r\n",
    "          validation_data=(val_images, val_labels))\r\n",
    "test_metrics = model.evaluate(test_images, test_labels)"
   ],
   "outputs": [
    {
     "output_type": "stream",
     "name": "stdout",
     "text": [
      "Epoch 1/3\n",
      "1563/1563 [==============================] - 9s 5ms/step - loss: 0.2933 - accuracy: 0.9134 - rmse: 7.1844 - val_loss: 0.1506 - val_accuracy: 0.9594 - val_rmse: 7.3707\n",
      "Epoch 2/3\n",
      "1563/1563 [==============================] - 9s 6ms/step - loss: 0.1648 - accuracy: 0.9546 - rmse: 7.3555 - val_loss: 0.1214 - val_accuracy: 0.9693 - val_rmse: 7.4063\n",
      "Epoch 3/3\n",
      "1563/1563 [==============================] - 9s 6ms/step - loss: 0.1417 - accuracy: 0.9625 - rmse: 7.3886 - val_loss: 0.1153 - val_accuracy: 0.9701 - val_rmse: 7.4204\n",
      "313/313 [==============================] - 1s 3ms/step - loss: 0.1064 - accuracy: 0.9727 - rmse: 7.4310\n"
     ]
    }
   ],
   "metadata": {}
  },
  {
   "cell_type": "markdown",
   "source": [
    "使用自定义指标和使用内置指标完全相同(还记得 `\"accuracy\"` 最终会被展开成相关对象吗?)\r\n",
    "\r\n",
    "在结果中,看到了自定义的指标 `rmse`\r\n"
   ],
   "metadata": {}
  },
  {
   "cell_type": "markdown",
   "source": [
    "## 使用回调\r\n",
    "\r\n",
    "迄今为止我们使用 `model.fit` 就像是一个只有发动机的火箭,一点火就飞,至于飞行的结果是中途爆炸还是到达目的地再爆炸,我们完全不知道,除非发射一次.发射一次我们有了数据,就再发射一枚新的火箭,轰炸目标,boom!\r\n",
    "\r\n",
    "这样没什么问题,就是成本太高.大型数据集训练需要耗费非常多的资源.更好的做法是安上飞控,当偏离目标时能导航,不明原因失败时能记录.给 `fit` 传递的回调就是做这件事情的.\r\n",
    "\r\n",
    "回调是一个对象而不是函数(实现特定方法的实例),它可以在训练的特定时刻被调用.模型的一切都可以被回调修改.模型状态不错,保存一下,基础操作;模型训练效果不佳,换个学习率吧,没问题;\r\n",
    "\r\n",
    "下面是回调的被使用的典型时刻\r\n",
    "\r\n",
    "- 模型的检查点: 训练资源很珍贵,存个档.\r\n",
    "- 过早停止: 验证损失不再有改善时,可以选择终止训练保存模型.\r\n",
    "- 动态调整模型某些值: 优化器的学习率,典型的.\r\n",
    "- 记录训练和验证的指标: 这个我们已经用过了,实际上是回调.\r\n"
   ],
   "metadata": {}
  },
  {
   "cell_type": "markdown",
   "source": [
    "```py\r\n",
    "keras.callbacks.ModelCheckpoint\r\n",
    "keras.callbacks.EarlyStopping\r\n",
    "keras.callbacks.LearningRateScheduler\r\n",
    "keras.callbacks.ReduceLROnPlateau\r\n",
    "keras.callbacks.CSVLogger\r\n",
    "```"
   ],
   "metadata": {}
  },
  {
   "cell_type": "markdown",
   "source": [
    "上面是 `keras.callbacks` 包含的一些回调(不是全部).\r\n"
   ],
   "metadata": {}
  },
  {
   "cell_type": "code",
   "execution_count": 34,
   "source": [
    "callbacks_list = [\r\n",
    "    keras.callbacks.EarlyStopping(\r\n",
    "        monitor=\"accuracy\", #监控 accuracy 指标\r\n",
    "        patience=1, # 经历 1 轮指标没有改善\r\n",
    "    ),\r\n",
    "    keras.callbacks.ModelCheckpoint(\r\n",
    "        filepath=\"checkpoint_path.keras\",\r\n",
    "        monitor=\"val_loss\",  #监视 val_loss\r\n",
    "        save_best_only=True,  #只保存 val_loss 最好的模型\r\n",
    "    )\r\n",
    "]\r\n",
    "model = get_mnist_model()\r\n",
    "model.compile(optimizer=\"rmsprop\",\r\n",
    "              loss=\"sparse_categorical_crossentropy\",\r\n",
    "              metrics=[\"accuracy\"])"
   ],
   "outputs": [],
   "metadata": {}
  },
  {
   "cell_type": "code",
   "execution_count": 37,
   "source": [
    "model.fit(train_images,\r\n",
    "          train_labels,\r\n",
    "          epochs=10,\r\n",
    "          callbacks=callbacks_list,\r\n",
    "          validation_data=(val_images, val_labels))"
   ],
   "outputs": [
    {
     "output_type": "stream",
     "name": "stdout",
     "text": [
      "Epoch 1/10\n",
      "1563/1563 [==============================] - 8s 5ms/step - loss: 0.0705 - accuracy: 0.9858 - val_loss: 0.1422 - val_accuracy: 0.9798\n",
      "Epoch 2/10\n",
      "1563/1563 [==============================] - 9s 5ms/step - loss: 0.0743 - accuracy: 0.9850 - val_loss: 0.1533 - val_accuracy: 0.9792\n"
     ]
    },
    {
     "output_type": "execute_result",
     "data": {
      "text/plain": [
       "<tensorflow.python.keras.callbacks.History at 0x137873cf430>"
      ]
     },
     "metadata": {},
     "execution_count": 37
    }
   ],
   "metadata": {}
  },
  {
   "cell_type": "markdown",
   "source": [
    "上面的停止,是连续调用了几轮才有的.默认 10 次直接调用,确实会有没有触发 EarlyStopping 的情况.\r\n",
    "\r\n",
    "上面是使用 EarlyStopping 和 ModelCheckpoint 的例子.实例化一个 callbacks_list 列表,成员是需要使用的 `keras.callbacks` 下的对象.在 `fit` 传入给 callbacks 参数.\r\n",
    "\r\n",
    "EarlyStopping 是在监控指标经过一定次数还没有改善时,终止训练.这个回调允许模型在过拟合后终止训练,通常配合 ModelCheckpoint 使用,后者允许保存在训练阶段持续保存模型,当然也能设置只保存在监视指标上表现最好的模型.\r\n"
   ],
   "metadata": {}
  },
  {
   "cell_type": "code",
   "execution_count": null,
   "source": [
    "# model.save('my_checkpoint_path')\r\n",
    "# model = keras.models.load_model(\"checkpoint_path.keras\")"
   ],
   "outputs": [],
   "metadata": {}
  },
  {
   "cell_type": "markdown",
   "source": [
    "当然手动保存模型也是可以的,调用 `model.save` 传入保存的路径.\r\n",
    "\r\n",
    "加载模型时调用 `keras.models.load_model` 从指定路径加载.\r\n"
   ],
   "metadata": {}
  },
  {
   "cell_type": "markdown",
   "source": [
    "### 编写自定义回调\r\n",
    "\r\n",
    "虽然 keras 内置的回调能覆盖很多场景,但是不能猜测用户需求,keras 可以从头写一个回调.\r\n"
   ],
   "metadata": {}
  },
  {
   "cell_type": "markdown",
   "source": [
    "所谓实现自定义回调,就是继承 `keras.callbacks.Callback`,需要在那个时刻调用,就实现下面的某个方法.\r\n",
    "\r\n",
    "```py\r\n",
    "on_epoch_begin(epoch, logs) # epoch开始前\r\n",
    "on_epoch_end(epoch, logs) # epoch结束后\r\n",
    "on_batch_begin(batch, logs) # batch开始前\r\n",
    "on_batch_end(batch, logs)# batch结束后\r\n",
    "on_train_begin(logs)# 训练开始前\r\n",
    "on_train_end(logs)# 训练结束后\r\n",
    "```\r\n",
    "\r\n",
    "参数\r\n",
    "\r\n",
    "- logs 是字典,记录的是是上一个 epoch/batch/train 的信息(训练和验证指标等).\r\n",
    "- batch/epoch 整数,记录的是当前的轮次\r\n"
   ],
   "metadata": {}
  },
  {
   "cell_type": "code",
   "execution_count": 38,
   "source": [
    "from matplotlib import pyplot as plt\r\n",
    "\r\n",
    "\r\n",
    "class LossHistory(keras.callbacks.Callback):\r\n",
    "    def on_train_begin(self, logs):  #训练开始前调用\r\n",
    "        self.per_batch_losses = []\r\n",
    "\r\n",
    "    def on_batch_end(self, batch, logs):  # batch 结束后\r\n",
    "        self.per_batch_losses.append(logs.get(\"loss\"))  #添加损失数据\r\n",
    "\r\n",
    "    def on_epoch_end(self, epoch, logs):  # epoch 结束后\r\n",
    "        plt.clf()  #开始绘图\r\n",
    "        plt.plot(range(len(self.per_batch_losses)),\r\n",
    "                 self.per_batch_losses,\r\n",
    "                 label=\"Training loss for each batch\")\r\n",
    "        plt.xlabel(f\"Batch (epoch {epoch})\")\r\n",
    "        plt.ylabel(\"Loss\")\r\n",
    "        plt.legend()\r\n",
    "        plt.savefig(f\"plot_at_epoch_{epoch}\")\r\n",
    "        self.per_batch_losses = []"
   ],
   "outputs": [],
   "metadata": {}
  },
  {
   "cell_type": "markdown",
   "source": [
    "`LossHistory` 是简单的自定义回调示例,记录每次 epoch 中每轮 loss 的变化,epoch 结束后绘图.\r\n"
   ],
   "metadata": {}
  },
  {
   "cell_type": "code",
   "execution_count": 39,
   "source": [
    "model = get_mnist_model()\r\n",
    "model.compile(optimizer=\"rmsprop\",\r\n",
    "              loss=\"sparse_categorical_crossentropy\",\r\n",
    "              metrics=[\"accuracy\"])\r\n",
    "model.fit(train_images,\r\n",
    "          train_labels,\r\n",
    "          epochs=10,\r\n",
    "          callbacks=[LossHistory()],\r\n",
    "          validation_data=(val_images, val_labels))"
   ],
   "outputs": [
    {
     "output_type": "stream",
     "name": "stdout",
     "text": [
      "Epoch 1/10\n",
      "1563/1563 [==============================] - 8s 5ms/step - loss: 0.2955 - accuracy: 0.9112 - val_loss: 0.1414 - val_accuracy: 0.9585\n",
      "Epoch 2/10\n",
      "1563/1563 [==============================] - 8s 5ms/step - loss: 0.1672 - accuracy: 0.9534 - val_loss: 0.1275 - val_accuracy: 0.9651\n",
      "Epoch 3/10\n",
      "1563/1563 [==============================] - 9s 5ms/step - loss: 0.1399 - accuracy: 0.9632 - val_loss: 0.1107 - val_accuracy: 0.9712\n",
      "Epoch 4/10\n",
      "1563/1563 [==============================] - 9s 6ms/step - loss: 0.1244 - accuracy: 0.9671 - val_loss: 0.1111 - val_accuracy: 0.9725\n",
      "Epoch 5/10\n",
      "1563/1563 [==============================] - 9s 5ms/step - loss: 0.1204 - accuracy: 0.9694 - val_loss: 0.1181 - val_accuracy: 0.9738\n",
      "Epoch 6/10\n",
      "1563/1563 [==============================] - 8s 5ms/step - loss: 0.1086 - accuracy: 0.9740 - val_loss: 0.1147 - val_accuracy: 0.9748\n",
      "Epoch 7/10\n",
      "1563/1563 [==============================] - 8s 5ms/step - loss: 0.1027 - accuracy: 0.9755 - val_loss: 0.1095 - val_accuracy: 0.9776\n",
      "Epoch 8/10\n",
      "1563/1563 [==============================] - 8s 5ms/step - loss: 0.1041 - accuracy: 0.9757 - val_loss: 0.1067 - val_accuracy: 0.9780\n",
      "Epoch 9/10\n",
      "1563/1563 [==============================] - 8s 5ms/step - loss: 0.0941 - accuracy: 0.9777 - val_loss: 0.1154 - val_accuracy: 0.9774\n",
      "Epoch 10/10\n",
      "1563/1563 [==============================] - 8s 5ms/step - loss: 0.0942 - accuracy: 0.9798 - val_loss: 0.1121 - val_accuracy: 0.9779\n"
     ]
    },
    {
     "output_type": "execute_result",
     "data": {
      "text/plain": [
       "<tensorflow.python.keras.callbacks.History at 0x1378b0d9970>"
      ]
     },
     "metadata": {},
     "execution_count": 39
    },
    {
     "output_type": "display_data",
     "data": {
      "text/plain": [
       "<Figure size 432x288 with 1 Axes>"
      ],
      "image/png": "[encoded data removed]"
     },
     "metadata": {
      "needs_background": "light"
     }
    }
   ],
   "metadata": {}
  }
 ],
 "metadata": {
  "orig_nbformat": 4,
  "language_info": {
   "name": "python",
   "version": "3.9.6",
   "mimetype": "text/x-python",
   "codemirror_mode": {
    "name": "ipython",
    "version": 3
   },
   "pygments_lexer": "ipython3",
   "nbconvert_exporter": "python",
   "file_extension": ".py"
  },
  "kernelspec": {
   "name": "python3",
   "display_name": "Python 3.9.6 64-bit ('tf')"
  },
  "interpreter": {
   "hash": "aac46f597da82ce9618f0e6f094e6d401f1ab16d9be89acf77ce1dd63d67a333"
  }
 },
 "nbformat": 4,
 "nbformat_minor": 2
}