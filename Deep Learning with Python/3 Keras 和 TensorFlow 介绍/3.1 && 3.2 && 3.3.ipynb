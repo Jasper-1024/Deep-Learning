{
 "cells": [
  {
   "cell_type": "markdown",
   "source": [
    "# 3.1 3.2 3.3\r\n"
   ],
   "metadata": {}
  },
  {
   "cell_type": "markdown",
   "source": [
    "## Tensorflow 简介\r\n",
    "\r\n",
    "tensorflow 是 google 开发的开源机器学习平台.主要是方便工程师和研究人员在方便的进行张量操作.这方面与 numpy 相似.\r\n",
    "\r\n",
    "- 自动计算任何可微表达式的梯度.(反向传播)\r\n",
    "- 运行在 cpu/gpu/tpu\r\n",
    "- 非常容易进行分布式计算\r\n",
    "- 容易导出到其他运行环境.c++ javascript 或者移动设备的 tensorflow lite.\r\n",
    "\r\n",
    "总而言之,tensorflow 是一个平台,在深度学习领域有非常广泛的应用.\r\n"
   ],
   "metadata": {}
  },
  {
   "cell_type": "markdown",
   "source": [
    "## keras 简介\r\n",
    "\r\n",
    "keras 是用于 python 的深度学习 api.建立在 tensorflow 之上,为了研究人员提供快速的深度学习研究.\r\n",
    "\r\n",
    "![keras and tensorflow](./keras和tensorflow.png)\r\n",
    "\r\n",
    "简而言之,keros 提供了建立在 tensorflow 等深度学习平台之上的高级 api,隐藏了大量底层细节,方便研究人员使用.\r\n",
    "\r\n",
    "书中是将 keras 与 python 进行比较,keras 提供了尽可能简化的 api 使得使用者快速开发,同时对于想控制模型全部细节也提供了支持.\r\n"
   ],
   "metadata": {}
  },
  {
   "cell_type": "markdown",
   "source": [
    "## keras 与 tensorflow\r\n",
    "\r\n",
    "keras 发布于 2015.3 比 tensorflow 早了 8 个月.最初 keras 是建立在 theano 之上.tensorflow 发布后,keras 经过重构,可以以 tensorflow 作为后端.\r\n",
    "\r\n",
    "这些年 keras 和 tensorflow 一定程度上保持了共生关系,tensorflow 2.0 发布后 keras 成为 tensorflow 最重要的高级 api.\r\n"
   ],
   "metadata": {}
  }
 ],
 "metadata": {
  "orig_nbformat": 4,
  "language_info": {
   "name": "python"
  }
 },
 "nbformat": 4,
 "nbformat_minor": 2
}