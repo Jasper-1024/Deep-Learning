{
 "cells": [
  {
   "cell_type": "markdown",
   "source": [
    "# 使用 tensorflow\r\n",
    "\r\n",
    "从前例可以看出训练神经网络实际上是在两个层次上进行.\r\n",
    "\r\n",
    "低级别层次上训练神经网络实际上是对张量的各种操作,如果用 tensorflow 的 api 说明\r\n",
    "\r\n",
    "- 张量,包括存储网络状态的特殊张量.\r\n",
    "- 张量操作,像是张量的加减 relu matmul\r\n",
    "- 反向传播(backpropagation),一种链式计算梯度的方法.(tensorflow 中使用 GradientTape 类处理)\r\n",
    "\r\n",
    "高层次上以 keras 的 api 说明\r\n",
    "\r\n",
    "- layers,许多的层组合成一个神经网络模型 model\r\n",
    "- 损失函数,定义了训练中的反馈信号.\r\n",
    "- 优化器,定义了训练中的参数更新方法,如何进行学习.\r\n",
    "- 指标,用来评估模型,例如模型的准确度等.\r\n",
    "- 循环训练,执行小批量的随机梯度下降.\r\n"
   ],
   "metadata": {}
  },
  {
   "cell_type": "markdown",
   "source": [
    "## 张量变量\r\n"
   ],
   "metadata": {}
  },
  {
   "cell_type": "code",
   "execution_count": 94,
   "source": [
    "import tensorflow as tf\r\n",
    "x = tf.ones(shape=(2,1))\r\n",
    "print(x)\r\n",
    "x = tf.zeros(shape=(2,1))\r\n",
    "print(x)"
   ],
   "outputs": [
    {
     "output_type": "stream",
     "name": "stdout",
     "text": [
      "tf.Tensor(\n",
      "[[1.]\n",
      " [1.]], shape=(2, 1), dtype=float32)\n",
      "tf.Tensor(\n",
      "[[0.]\n",
      " [0.]], shape=(2, 1), dtype=float32)\n"
     ]
    }
   ],
   "metadata": {}
  },
  {
   "cell_type": "markdown",
   "source": [
    "初始化 shape(2,1) 的张量,全1 或 全0\r\n"
   ],
   "metadata": {}
  },
  {
   "cell_type": "code",
   "execution_count": 95,
   "source": [
    "x = tf.random.normal(shape=(3, 1), mean=0., stddev=1.)\r\n",
    "print(x)\r\n",
    "\r\n",
    "x = tf.random.uniform(shape=(3, 1), minval=0., maxval=1.)\r\n",
    "print(x)"
   ],
   "outputs": [
    {
     "output_type": "stream",
     "name": "stdout",
     "text": [
      "tf.Tensor(\n",
      "[[ 0.35340306]\n",
      " [-0.85525894]\n",
      " [-0.47521758]], shape=(3, 1), dtype=float32)\n",
      "tf.Tensor(\n",
      "[[0.33027422]\n",
      " [0.08277977]\n",
      " [0.21255636]], shape=(3, 1), dtype=float32)\n"
     ]
    }
   ],
   "metadata": {}
  },
  {
   "cell_type": "markdown",
   "source": [
    "随机填充值\r\n",
    "\r\n",
    "- `tf.random.normal(shape=(3, 1), mean=0., stddev=1.)` 是从平均数0和标准差1中产生随机数.等同于 `np.random.normal(size=(3, 1), loc=0.,.scale=1.)`\r\n",
    "- `tf.random.uniform(shape=(3, 1), minval=0., maxval=1.)` 是从0到1的均匀分布中产生随机数.等同于 `np.random.uniform(size=(3, 1), low=0., high=1.)`\r\n"
   ],
   "metadata": {}
  },
  {
   "cell_type": "code",
   "execution_count": 96,
   "source": [
    "import numpy as np\r\n",
    "x = np.ones(shape=(2, 2))\r\n",
    "x[0, 0] = 0."
   ],
   "outputs": [],
   "metadata": {}
  },
  {
   "cell_type": "code",
   "execution_count": 97,
   "source": [
    "x = tf.ones(shape=(2, 2))\r\n",
    "try:\r\n",
    "    x[0, 0] = 0.\r\n",
    "except Exception as e:\r\n",
    "    print(e)"
   ],
   "outputs": [
    {
     "output_type": "stream",
     "name": "stdout",
     "text": [
      "'tensorflow.python.framework.ops.EagerTensor' object does not support item assignment\n"
     ]
    }
   ],
   "metadata": {}
  },
  {
   "cell_type": "markdown",
   "source": [
    "**tensorflow 创建的数组是不可变的**,而 numpy 创建的数组是可变的.\r\n",
    "\r\n",
    "tensorflow 中创建可以修改的张量是靠 tf.Variable 类,使用 tf.Variable 需要提供 initial_value (张量初始值).\r\n"
   ],
   "metadata": {}
  },
  {
   "cell_type": "code",
   "execution_count": 98,
   "source": [
    "v = tf.Variable(initial_value=tf.random.normal(shape=[3, 1], mean=0, stddev=1))\r\n",
    "v"
   ],
   "outputs": [
    {
     "output_type": "execute_result",
     "data": {
      "text/plain": [
       "<tf.Variable 'Variable:0' shape=(3, 1) dtype=float32, numpy=\n",
       "array([[-0.55020344],\n",
       "       [ 1.2159227 ],\n",
       "       [-1.355476  ]], dtype=float32)>"
      ]
     },
     "metadata": {},
     "execution_count": 98
    }
   ],
   "metadata": {}
  },
  {
   "cell_type": "markdown",
   "source": [
    "创建一个 tf.Variable\r\n"
   ],
   "metadata": {}
  },
  {
   "cell_type": "code",
   "execution_count": 99,
   "source": [
    "v.assign(tf.ones((3, 1)))\r\n",
    "print(v)\r\n",
    "v[0, 0].assign(3.)\r\n",
    "print(v)"
   ],
   "outputs": [
    {
     "output_type": "stream",
     "name": "stdout",
     "text": [
      "<tf.Variable 'Variable:0' shape=(3, 1) dtype=float32, numpy=\n",
      "array([[1.],\n",
      "       [1.],\n",
      "       [1.]], dtype=float32)>\n",
      "<tf.Variable 'Variable:0' shape=(3, 1) dtype=float32, numpy=\n",
      "array([[3.],\n",
      "       [1.],\n",
      "       [1.]], dtype=float32)>\n"
     ]
    }
   ],
   "metadata": {}
  },
  {
   "cell_type": "markdown",
   "source": [
    "修改 tf.Variable 需要通过 assign 方法.\r\n",
    "\r\n",
    "修改子集也是通过 assign 方法.\r\n"
   ],
   "metadata": {}
  },
  {
   "cell_type": "code",
   "execution_count": 100,
   "source": [
    "v.assign_add(tf.ones((3,1)))\r\n",
    "print(v)\r\n",
    "\r\n",
    "v.assign_sub(tf.ones((3,1)))\r\n",
    "print(v)"
   ],
   "outputs": [
    {
     "output_type": "stream",
     "name": "stdout",
     "text": [
      "<tf.Variable 'Variable:0' shape=(3, 1) dtype=float32, numpy=\n",
      "array([[4.],\n",
      "       [2.],\n",
      "       [2.]], dtype=float32)>\n",
      "<tf.Variable 'Variable:0' shape=(3, 1) dtype=float32, numpy=\n",
      "array([[3.],\n",
      "       [1.],\n",
      "       [1.]], dtype=float32)>\n"
     ]
    }
   ],
   "metadata": {}
  },
  {
   "cell_type": "markdown",
   "source": [
    "assign_add 相当于 +=\r\n",
    "\r\n",
    "assign_sub 相当于 -=\r\n"
   ],
   "metadata": {}
  },
  {
   "cell_type": "markdown",
   "source": [
    "## 张量运算\r\n"
   ],
   "metadata": {}
  },
  {
   "cell_type": "code",
   "execution_count": 101,
   "source": [
    "a = tf.ones((2, 2))\r\n",
    "b = tf.square(a)\r\n",
    "print(b)\r\n",
    "c = tf.sqrt(a)\r\n",
    "print(c)\r\n",
    "d = b + c\r\n",
    "print(d)\r\n",
    "e = tf.matmul(a, b)\r\n",
    "print(e)\r\n",
    "e *= d\r\n",
    "print(e)"
   ],
   "outputs": [
    {
     "output_type": "stream",
     "name": "stdout",
     "text": [
      "tf.Tensor(\n",
      "[[1. 1.]\n",
      " [1. 1.]], shape=(2, 2), dtype=float32)\n",
      "tf.Tensor(\n",
      "[[1. 1.]\n",
      " [1. 1.]], shape=(2, 2), dtype=float32)\n",
      "tf.Tensor(\n",
      "[[2. 2.]\n",
      " [2. 2.]], shape=(2, 2), dtype=float32)\n",
      "tf.Tensor(\n",
      "[[2. 2.]\n",
      " [2. 2.]], shape=(2, 2), dtype=float32)\n",
      "tf.Tensor(\n",
      "[[4. 4.]\n",
      " [4. 4.]], shape=(2, 2), dtype=float32)\n"
     ]
    }
   ],
   "metadata": {}
  },
  {
   "cell_type": "markdown",
   "source": [
    "张量运算\r\n",
    "\r\n",
    "- tf.square 平方\r\n",
    "- tf.sqrt 平方根\r\n",
    "- `+` 张量相加\r\n",
    "- `tf.matmul` 张量乘法\r\n",
    "- `*` 张量逐元素相乘\r\n"
   ],
   "metadata": {}
  },
  {
   "cell_type": "markdown",
   "source": [
    "## 再探 GradientTape\r\n",
    "\r\n",
    "从上面的张量运算来看,tensorflow 做了和 numpy 非常相似的工作.但是在 tensorflow 有一条是 numpy 做不到的,tensorflow 可以方便计算任何可微表达式的梯度.只要借助 GradientTape api.\r\n"
   ],
   "metadata": {}
  },
  {
   "cell_type": "code",
   "execution_count": 102,
   "source": [
    "input_var = tf.Variable(initial_value=3.)\r\n",
    "\r\n",
    "with tf.GradientTape() as tape:\r\n",
    "    result = tf.square(input_var)\r\n",
    "gradient = tape.gradient(result, input_var)\r\n",
    "\r\n",
    "print(gradient)"
   ],
   "outputs": [
    {
     "output_type": "stream",
     "name": "stdout",
     "text": [
      "tf.Tensor(6.0, shape=(), dtype=float32)\n"
     ]
    }
   ],
   "metadata": {}
  },
  {
   "cell_type": "markdown",
   "source": [
    "最常见计算梯度的形式 `gradients = tape.gradient(loss, weights)`\r\n",
    "\r\n",
    "第二章,我们看到过 GradientTape 的输入可以是单一输入或者输入列表.可以输入常量或者更高维的张量.\r\n",
    "\r\n",
    "到现在为止我们看到输入 tape.gradient() 都是由 tensorflow 生成的变量.但是实际上 tape.gradient() 可以接收任意的张量输入.但是默认情况下只有张量是可训练张量(trainable variables)时才会被跟踪??,对于冻结张量(常量)需要手动通过 `tape.watch()` 设置跟踪.(??有点云里雾里??)\r\n"
   ],
   "metadata": {}
  },
  {
   "cell_type": "code",
   "execution_count": 103,
   "source": [
    "input_const = tf.constant(3.)\r\n",
    "\r\n",
    "with tf.GradientTape() as tape:\r\n",
    "    tape.watch(input_const)\r\n",
    "    result = tf.square(input_const)\r\n",
    "\r\n",
    "gradient = tape.gradient(result, input_const)"
   ],
   "outputs": [],
   "metadata": {}
  },
  {
   "cell_type": "markdown",
   "source": [
    "计算常量张量的梯度需要 `tape.watch` 设置跟踪.\r\n",
    "\r\n",
    "计算梯度是非常消耗资源的事情,不可能预先跟踪所有张量.为了避免资源浪费,tensorflow 默认只监视可训练的张量(trainable variables),因为通常需要计算梯度的就是这些张量.\r\n",
    "\r\n",
    "除了计算梯度以外,我们还可以计算梯度的梯度,物理学类比的化是计算速度,再计算加速度.\r\n"
   ],
   "metadata": {}
  },
  {
   "cell_type": "code",
   "execution_count": 104,
   "source": [
    "time = tf.Variable(0.)\r\n",
    "with tf.GradientTape() as outer_tape:\r\n",
    "    with tf.GradientTape() as inner_tape:\r\n",
    "        position = 4.9 * time**2 # ** 是乘方\r\n",
    "    speed = inner_tape.gradient(position, time)\r\n",
    "acceleration = outer_tape.gradient(speed, time)\r\n",
    "print(position)\r\n",
    "print(speed)\r\n",
    "print(acceleration)"
   ],
   "outputs": [
    {
     "output_type": "stream",
     "name": "stdout",
     "text": [
      "tf.Tensor(0.0, shape=(), dtype=float32)\n",
      "tf.Tensor(0.0, shape=(), dtype=float32)\n",
      "tf.Tensor(9.8, shape=(), dtype=float32)\n"
     ]
    }
   ],
   "metadata": {}
  },
  {
   "cell_type": "markdown",
   "source": [
    "时间和位置: $p = 4.9 * time^2$\r\n",
    "\r\n",
    "时间和速度: $s = 4.9 * 2 *time$\r\n",
    "\r\n",
    "时间和加速度: $a = 4.9 *2$\r\n"
   ],
   "metadata": {}
  },
  {
   "cell_type": "markdown",
   "source": [
    "## 端到端的 tensorflow 的线性分类器\r\n"
   ],
   "metadata": {}
  },
  {
   "cell_type": "code",
   "execution_count": 105,
   "source": [
    "num_samples_per_classs = 1000\r\n",
    "negative_samples = np.random.multivariate_normal(\r\n",
    "    mean=[0,3],cov=[[1,0.5],[0.5,1]],size=num_samples_per_classs)\r\n",
    "positive_samples = np.random.multivariate_normal(\r\n",
    "    mean=[3,0],cov=[[1,0.5],[0.5,1]],size=num_samples_per_classs)"
   ],
   "outputs": [],
   "metadata": {}
  },
  {
   "cell_type": "markdown",
   "source": [
    "negative_samples 与 positive_samples 都是生成 1000 个点云\r\n",
    "\r\n",
    "- mean 决定了点云的位置\r\n",
    "- cov 协方差矩阵决定了点云的形状,这里是从左下到右上.\r\n"
   ],
   "metadata": {}
  },
  {
   "cell_type": "code",
   "execution_count": 106,
   "source": [
    "inputs = np.vstack((negative_samples, positive_samples)).astype(np.float32)"
   ],
   "outputs": [],
   "metadata": {}
  },
  {
   "cell_type": "markdown",
   "source": [
    "把 negative_samples 与 positive_samples 组合成 input.\r\n"
   ],
   "metadata": {}
  },
  {
   "cell_type": "code",
   "execution_count": 107,
   "source": [
    "targets = np.vstack((np.zeros((num_samples_per_classs, 1), dtype=\"float32\"),\r\n",
    "                     np.ones((num_samples_per_classs, 1), dtype=\"float32\")))\r\n"
   ],
   "outputs": [],
   "metadata": {}
  },
  {
   "cell_type": "markdown",
   "source": [
    "生成标签,一维数组,2000个,前1000是0,后1000是1.\r\n",
    "\r\n",
    "对应输入的 1000 个是类 0, 后面 1000 个的是类 1.\r\n"
   ],
   "metadata": {}
  },
  {
   "cell_type": "code",
   "execution_count": 108,
   "source": [
    "import matplotlib.pyplot as plt\r\n",
    "\r\n",
    "plt.scatter(inputs[:, 0], inputs[:, 1], c=targets[:, 0])\r\n",
    "plt.show()\r\n"
   ],
   "outputs": [
    {
     "output_type": "display_data",
     "data": {
      "text/plain": [
       "<Figure size 432x288 with 1 Axes>"
      ],
      "image/png": "[encoded data removed]"
     },
     "metadata": {
      "needs_background": "light"
     }
    }
   ],
   "metadata": {}
  },
  {
   "cell_type": "markdown",
   "source": [
    "将 inputs 可视化之后的样子.\r\n",
    "\r\n",
    "接下来我们正式开始创建分类器.实际上这比第二章的例子简单多了.\r\n"
   ],
   "metadata": {}
  },
  {
   "cell_type": "code",
   "execution_count": 109,
   "source": [
    "input_dim = 2 # 输入数据阶数\r\n",
    "output_dim = 1 # 输出数据阶数\r\n",
    "\r\n",
    "W = tf.Variable(initial_value=tf.random.uniform(shape=(input_dim, output_dim)))\r\n",
    "b = tf.Variable(initial_value=tf.zeros(shape=(output_dim,)))\r\n"
   ],
   "outputs": [],
   "metadata": {}
  },
  {
   "cell_type": "markdown",
   "source": [
    "输入是平面 2d 坐标数据\r\n",
    "\r\n",
    "输出是一个分数,靠近 0 即类 0, 靠近 1 即类 1.\r\n"
   ],
   "metadata": {}
  },
  {
   "cell_type": "code",
   "execution_count": 110,
   "source": [
    "def model(inputs):\r\n",
    "    return tf.matmul(inputs, W) + b # prediction = W * P + b"
   ],
   "outputs": [],
   "metadata": {}
  },
  {
   "cell_type": "markdown",
   "source": [
    "因为输入是 (x,y) 坐标,所以张量 W 实际上是两个标量. W = [w1,w2].同时 b 是一个标量.\r\n",
    "\r\n",
    "预测值 `prediction = W * P + b = [w1,w2] * [x,y]] + b =w1*x+w2*y+b`.相当于只有一层神经网络.\r\n"
   ],
   "metadata": {}
  },
  {
   "cell_type": "code",
   "execution_count": 111,
   "source": [
    "def square_loss(targets, predictions):\r\n",
    "    per_sample_loss = tf.square(\r\n",
    "        targets - predictions)  #per_sample_loss =  (targets - predictions)^2\r\n",
    "    return tf.reduce_mean(per_sample_loss)  # per_sample_loss 平均值\r\n"
   ],
   "outputs": [],
   "metadata": {}
  },
  {
   "cell_type": "markdown",
   "source": [
    "per_sample_loss 形状与 targets 相同,每个元素是一个样本的损失值.\r\n",
    "\r\n",
    "最终 square_loss 返回是 per_sample_loss 的平均值\r\n"
   ],
   "metadata": {}
  },
  {
   "cell_type": "code",
   "execution_count": 112,
   "source": [
    "learning_rate = 0.1  # 学习率\r\n",
    "\r\n",
    "\r\n",
    "def training_step(inputs, targets):\r\n",
    "    with tf.GradientTape() as tape:\r\n",
    "        predictions = model(inputs)  #预测值\r\n",
    "        loss = square_loss(targets, predictions)  #计算损失\r\n",
    "    grad_loss_wrt_W, grad_loss_wrt_b = tape.gradient(loss, [W, b])  #计算梯度\r\n",
    "    W.assign_sub(\r\n",
    "        grad_loss_wrt_W *\r\n",
    "        learning_rate)  #更新 W 值 W = W + grad_loss_wrt_W * learning_rate\r\n",
    "    b.assign_sub(\r\n",
    "        grad_loss_wrt_b *\r\n",
    "        learning_rate)  #更新 b 值 b = b + grad_loss_wrt_b * learning_rate\r\n",
    "    return loss"
   ],
   "outputs": [],
   "metadata": {}
  },
  {
   "cell_type": "markdown",
   "source": [
    "与第二章的例子不同,这里进行的是直接对整个传入的训练集训练,计算梯度更新权重.相比第二章例子每次取一部分训练集,这样训练的时间要长的多,但是我们计算反向传播和梯度时是针对全部传入样本.每次更新权重会更加准确.\r\n",
    "\r\n",
    "在这样的前提下,学习率要比小批量训练更大.\r\n"
   ],
   "metadata": {}
  },
  {
   "cell_type": "code",
   "execution_count": 113,
   "source": [
    "for step in range(40):\r\n",
    "    loss = training_step(inputs,targets)\r\n",
    "    print(f\"Loss at step {step}:{loss}\")"
   ],
   "outputs": [
    {
     "output_type": "stream",
     "name": "stdout",
     "text": [
      "Loss at step 0:0.18655896186828613\n",
      "Loss at step 1:0.0974356085062027\n",
      "Loss at step 2:0.08357813209295273\n",
      "Loss at step 3:0.07769067585468292\n",
      "Loss at step 4:0.07321707159280777\n",
      "Loss at step 5:0.06924176961183548\n",
      "Loss at step 6:0.06561518460512161\n",
      "Loss at step 7:0.062293581664562225\n",
      "Loss at step 8:0.05924953520298004\n",
      "Loss at step 9:0.05645960569381714\n",
      "Loss at step 10:0.05390254408121109\n",
      "Loss at step 11:0.05155892297625542\n",
      "Loss at step 12:0.04941090568900108\n",
      "Loss at step 13:0.04744217172265053\n",
      "Loss at step 14:0.045637767761945724\n",
      "Loss at step 15:0.043983977288007736\n",
      "Loss at step 16:0.042468223720788956\n",
      "Loss at step 17:0.041078973561525345\n",
      "Loss at step 18:0.03980568051338196\n",
      "Loss at step 19:0.03863866627216339\n",
      "Loss at step 20:0.037569060921669006\n",
      "Loss at step 21:0.03658873215317726\n",
      "Loss at step 22:0.035690225660800934\n",
      "Loss at step 23:0.03486671671271324\n",
      "Loss at step 24:0.03411194682121277\n",
      "Loss at step 25:0.03342016786336899\n",
      "Loss at step 26:0.03278612717986107\n",
      "Loss at step 27:0.0322050116956234\n",
      "Loss at step 28:0.031672403216362\n",
      "Loss at step 29:0.03118424490094185\n",
      "Loss at step 30:0.030736830085515976\n",
      "Loss at step 31:0.030326763167977333\n",
      "Loss at step 32:0.029950924217700958\n",
      "Loss at step 33:0.029606450349092484\n",
      "Loss at step 34:0.029290731996297836\n",
      "Loss at step 35:0.02900136634707451\n",
      "Loss at step 36:0.02873615175485611\n",
      "Loss at step 37:0.02849307470023632\n",
      "Loss at step 38:0.028270281851291656\n",
      "Loss at step 39:0.028066087514162064\n"
     ]
    }
   ],
   "metadata": {}
  },
  {
   "cell_type": "markdown",
   "source": [
    "训练 40 轮,基本上错误率在 0.028 了.\r\n"
   ],
   "metadata": {}
  },
  {
   "cell_type": "code",
   "execution_count": 114,
   "source": [
    "predictions = model(inputs)\r\n",
    "plt.scatter(inputs[:, 0], inputs[:, 1], c=predictions[:, 0] > 0.5)\r\n",
    "plt.show()"
   ],
   "outputs": [
    {
     "output_type": "display_data",
     "data": {
      "text/plain": [
       "<Figure size 432x288 with 1 Axes>"
      ],
      "image/png": "[encoded data removed]"
     },
     "metadata": {
      "needs_background": "light"
     }
    }
   ],
   "metadata": {}
  },
  {
   "cell_type": "markdown",
   "source": [
    "输出是二分类,临界点是 0.5 绘图.\r\n"
   ],
   "metadata": {}
  },
  {
   "cell_type": "code",
   "execution_count": 115,
   "source": [
    "x = np.linspace(-1, 4, 100)\r\n",
    "y = -W[0] / W[1] * x + (0.5 - b) / W[1]\r\n",
    "plt.plot(x, y, \"-r\")  # 红线\r\n",
    "plt.scatter(inputs[:, 0], inputs[:, 1], c=predictions[:, 0] > 0.5)\r\n"
   ],
   "outputs": [
    {
     "output_type": "execute_result",
     "data": {
      "text/plain": [
       "<matplotlib.collections.PathCollection at 0x19f398ff7f0>"
      ]
     },
     "metadata": {},
     "execution_count": 115
    },
    {
     "output_type": "display_data",
     "data": {
      "text/plain": [
       "<Figure size 432x288 with 1 Axes>"
      ],
      "image/png": "[encoded data removed]"
     },
     "metadata": {
      "needs_background": "light"
     }
    }
   ],
   "metadata": {}
  },
  {
   "cell_type": "markdown",
   "source": [
    "实际上直接把图画出来,类 0 和类 1 几乎就在斜率是 0.5 的直线上下.\r\n",
    "\r\n",
    "让我想起了 svm...\r\n"
   ],
   "metadata": {}
  }
 ],
 "metadata": {
  "orig_nbformat": 4,
  "language_info": {
   "name": "python",
   "version": "3.9.6",
   "mimetype": "text/x-python",
   "codemirror_mode": {
    "name": "ipython",
    "version": 3
   },
   "pygments_lexer": "ipython3",
   "nbconvert_exporter": "python",
   "file_extension": ".py"
  },
  "kernelspec": {
   "name": "python3",
   "display_name": "Python 3.9.6 64-bit ('tf')"
  },
  "interpreter": {
   "hash": "aac46f597da82ce9618f0e6f094e6d401f1ab16d9be89acf77ce1dd63d67a333"
  }
 },
 "nbformat": 4,
 "nbformat_minor": 2
}