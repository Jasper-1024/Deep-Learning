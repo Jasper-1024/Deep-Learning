{
 "cells": [
  {
   "cell_type": "markdown",
   "metadata": {},
   "source": [
    "# 配置深度学习工作空间"
   ]
  },
  {
   "cell_type": "markdown",
   "metadata": {},
   "source": [
    "正式开始前你需要配置好你的工作环境,虽然不少必须但强烈建议你使用 nvidia 的 GPU 运行深度学习代码,而不是在 CPU 上.即使是如今最好的多核 CPU,跑一些应用程序特别是使用卷积网络的图像处理程序时也要慢的难以忍受.总结大概是 5-10 倍的差距."
   ]
  },
  {
   "cell_type": "markdown",
   "metadata": {},
   "source": [
    "具体而言你有三种选择\n",
    "\n",
    "- 使用一个带 nvidia GPU 的物理设备\n",
    "- 使用 google or aws 的在线 GPU 服务器\n",
    "- 使用 Colaboratory 的免费 GPU,Colaboratory 是一个 google 托管的 notebook 服务.\n",
    "\n",
    "如果你还没有 nvidia GPU,云端的 Colaboratory 回收一个异常简单的低成本替换方式.如果使用 jupyter 那么云端/本地开发几乎没有区别.\n",
    "\n",
    "重度用户那没得选,google 云的 V100 GPU 实例 $2.48/h,相当稳定.消费级别的显卡也不便宜(补充: 特别是现在这个时间点),重度用户还是建立本地一个/多个的 GPU 工作站更划算.\n",
    "\n",
    "物理是云端还是本地都推荐 unix 系统而不是 windows.windows 当然能够运行,但是能完成和足够好的完成还是差距很大.如果你需要 windows 系统,那么双系统 or windows 的 wsl2 会是更好的选择.\n",
    "\n",
    "---\n",
    "补充: wsl2 已经支持了 GPU 加速,这意味着 windows 下跑深度学习和 unix 上几乎没有区别.除了 windows 至今还是会预留大约 20% 的可用显存不给 cuda 用,使得本来就不富余的显存雪上加霜.\n",
    "\n",
    "---"
   ]
  },
  {
   "cell_type": "markdown",
   "metadata": {},
   "source": [
    "## 3.4.1 jupyter notebook"
   ]
  },
  {
   "cell_type": "markdown",
   "metadata": {},
   "source": [
    "jupyter notebook 是运行深度学习实验的最佳选择,特别是本书的代码实例.jupyter notebook 是 jupyter 的一个应用,你可以直接在浏览器边界代码,混合了 python 的代码执行和 markdown 的文件编辑.随时执行代码块,使得开发具有更好的互动性.\n",
    "\n",
    "尽管非常建议实验 jupyter notebook 运行本书的代码,但是这不少必须的,任何代码实例都可以在纯 py 的脚本或 pycharm 中运行.\n",
    "\n",
    "本书提供的例程都在 : \n",
    "\n",
    "> <https://github.com/fchollet/deep-learning-with-python-notebooks>\n",
    "\n",
    "---\n",
    "补充: vscode 的 jupyter notebook 体验和浏览器几乎无二.\n",
    "\n",
    "---"
   ]
  },
  {
   "cell_type": "markdown",
   "metadata": {},
   "source": [
    "## 3.4.2"
   ]
  },
  {
   "cell_type": "markdown",
   "metadata": {},
   "source": [
    "Colaboratory 或者简称 colab 是一个免费的 jupyter notebook 托管平台,完全云端,无需本地任何资源,一个浏览器足矣.colab 提供免费的 gpu or tpu 但是有时间限制,对于学习是足够了."
   ]
  },
  {
   "cell_type": "markdown",
   "metadata": {},
   "source": [
    "使用 colab 的例子\n",
    "\n",
    "打开 [colab](https://colab.research.google.com),点击新建 Notebook .\n",
    "\n",
    "![A Colab notebook](https://drek4537l1klr.cloudfront.net/chollet2/Figures/03-02.png)\n",
    "\n",
    "工具栏的两个按钮\n",
    "\n",
    "- 插入新的代码块或文本块\n",
    "- `shift` + `enter` 执行"
   ]
  },
  {
   "cell_type": "markdown",
   "metadata": {},
   "source": [
    "尝试增加一个新的代码块如下图\n",
    "\n",
    "![03-03.png](https://drek4537l1klr.cloudfront.net/chollet2/Figures/03-03.png)\n",
    "\n",
    "增加一个新的文本块\n",
    "\n",
    "![03-04](https://drek4537l1klr.cloudfront.net/chollet2/Figures/03-04.png)\n",
    "\n",
    "文本块非常有用,提供章节/注释/嵌入多媒体等内容."
   ]
  },
  {
   "cell_type": "markdown",
   "metadata": {},
   "source": [
    "默认 colab 已经安装了 keras 和 tensorflow,上手即用.但是也提供了手动安装新包的命令.\n",
    "\n",
    "注意下面的命令并不是 python 语句,而是 `!` 开头的 shell 命令.\n",
    "\n",
    "```bash\n",
    "!pip install package_name\n",
    "```"
   ]
  },
  {
   "cell_type": "markdown",
   "metadata": {},
   "source": [
    "colab 默认并不是 gpu or tpu 的运行环境,需要改变运行环境.\n",
    "\n",
    "Runtime > Change Runtime Type > Hardware Accelerator 选择 GPU.\n",
    "\n",
    "![](https://drek4537l1klr.cloudfront.net/chollet2/Figures/03-05.png)\n",
    "\n",
    "切换到 GPU 运行环境后,tf 和 keras 会自动运行在 gpu 上,不需要任何操作."
   ]
  },
  {
   "cell_type": "markdown",
   "metadata": {},
   "source": [
    "注意切换运行环境时还有 TPU 的可选项,但是目前我们建议你只使用 GPU,我们会在第 13 章提高 TPU."
   ]
  }
 ],
 "metadata": {
  "language_info": {
   "name": "python"
  },
  "orig_nbformat": 4
 },
 "nbformat": 4,
 "nbformat_minor": 2
}
