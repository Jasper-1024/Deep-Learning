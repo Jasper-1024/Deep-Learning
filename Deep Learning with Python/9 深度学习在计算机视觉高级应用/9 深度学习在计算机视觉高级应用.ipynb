{
 "cells": [
  {
   "cell_type": "markdown",
   "source": [
    "# 9 深度学习在计算机视觉高级应用\r\n",
    "\r\n",
    "上一章简单介绍了 cnn,通过一个用例说明了在小数据集上解决图片分类问题的工具箱.\r\n",
    "\r\n",
    "这一章还是会聚焦在计算机视觉,但是将会探讨更广的应用,更多的最佳实践.\r\n"
   ],
   "metadata": {}
  },
  {
   "cell_type": "markdown",
   "source": [
    "本章包括\r\n",
    "\r\n",
    "- 计算机视觉的不同分支: 图像分类 图像分割 物体检测\r\n",
    "- 现代卷积网络模型: residual connections, batch normalization, depthwise\r\n",
    "- cnn 的可视化.\r\n"
   ],
   "metadata": {}
  },
  {
   "cell_type": "markdown",
   "source": [
    "## 9.5 章节概况\r\n",
    "\r\n",
    "三个级别的计算机视觉任务: 图像分类 图像分割 物体检测\r\n",
    "\r\n",
    "遵循现代 cnn 架构的最佳实践有助于获得最佳效果\r\n",
    "\r\n",
    "- 残差连接\r\n",
    "- 批量规范化\r\n",
    "- 深度可分离卷积\r\n",
    "\r\n",
    "卷积网络具有良好的可视化/可解释性.3种基本方式\r\n",
    "\r\n",
    "- 可视化中间激活\r\n",
    "- 可视化 cnn 过滤器\r\n",
    "- 可视化类激活的热力图\r\n"
   ],
   "metadata": {}
  }
 ],
 "metadata": {
  "orig_nbformat": 4,
  "language_info": {
   "name": "python"
  }
 },
 "nbformat": 4,
 "nbformat_minor": 2
}