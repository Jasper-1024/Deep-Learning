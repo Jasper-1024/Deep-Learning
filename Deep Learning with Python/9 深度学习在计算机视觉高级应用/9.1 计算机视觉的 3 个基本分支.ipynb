{
 "cells": [
  {
   "cell_type": "markdown",
   "source": [
    "# 9.1 深度学习在计算机视觉的 3 个基本分支.ipynb\r\n",
    "\r\n",
    "迄今为止,我们专注在图像分类问题.但这只是深度学习在计算机视觉应用的一个基本分支.\r\n",
    "\r\n",
    " 3 个基本分支\r\n",
    "\r\n",
    "- 图像分类: 为目标图像分配一个或多个标签.google 搜索图片关键字时,就是在查询一个非常大的多标签分类模型.\r\n",
    "- 图像分割: 将图像划分成不同区域,通常每个区域代表一个类别.\r\n",
    "- 物体检测: 在图像中感兴趣的物体周围绘制矩形边界.自动驾驶常干这事.\r\n",
    "\r\n",
    "下图显示了典型的作用\r\n",
    "\r\n",
    "![computer_vision_tasks](computer_vision_tasks.png)\r\n"
   ],
   "metadata": {}
  },
  {
   "cell_type": "markdown",
   "source": [
    "深度学习在计算机视觉除了 3 个基本分支外,还有一些更加小众的任务.\r\n",
    "\r\n",
    "- 图像相似度检测: 评估两个图像视觉的相似程度\r\n",
    "- 关键点检测: 定位图像中感兴趣的关键点.例如面部,姿势等等.\r\n",
    "\r\n",
    "while 无论怎么区分,大部分都还是以图像分类 图像分割 物体检测为基础.\r\n",
    "\r\n",
    "之前已经学过了图片分类,接下来是图像分割.\r\n",
    "\r\n",
    "受制于篇幅,物体检测不会涉及.不过可以看看 [retinanet](https://keras.io/examples/vision/retinanet/) 这里展示了 450 行代码实现物体检测.\r\n"
   ],
   "metadata": {}
  }
 ],
 "metadata": {
  "orig_nbformat": 4,
  "language_info": {
   "name": "python"
  }
 },
 "nbformat": 4,
 "nbformat_minor": 2
}