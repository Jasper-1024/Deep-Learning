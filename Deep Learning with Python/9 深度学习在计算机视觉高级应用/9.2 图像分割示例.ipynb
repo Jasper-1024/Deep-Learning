{
 "cells": [
  {
   "cell_type": "markdown",
   "source": [
    "# 9.2 图像分割示例\r\n",
    "\r\n",
    "深度学习下的图像分割是使用一个模型给图像的所有像素分配类别,从而将图像分割成多个部分.在图像视频编辑,自动驾驶,医学成像等领域有很多有价值的应用.\r\n",
    "\r\n",
    "图像分割两种方式\r\n",
    "\r\n",
    "- 语义分隔: 每个像素独立归到一个类别下,例如图中有两只猫,那对应的像素都会被归到\"猫\"的类别下.\r\n",
    "- 实例分割: 不仅要按照类别对图像像素进行分割,还需要解析出单个物体.还是图中两只猫,实例分割不仅要把两只猫识别出来,还要把两只猫标记成 猫1 猫2.\r\n",
    "\r\n",
    "![instance_segmentation](instance_segmentation.png)\r\n"
   ],
   "metadata": {}
  }
 ],
 "metadata": {
  "orig_nbformat": 4,
  "language_info": {
   "name": "python"
  }
 },
 "nbformat": 4,
 "nbformat_minor": 2
}