{
 "cells": [
  {
   "cell_type": "markdown",
   "source": [
    "# 初识神经网络\r\n"
   ],
   "metadata": {}
  },
  {
   "cell_type": "code",
   "execution_count": 42,
   "source": [
    "from keras.datasets import mnist\r\n",
    "(train_images, train_labels), (test_images, test_labels) = mnist.load_data()"
   ],
   "outputs": [],
   "metadata": {}
  },
  {
   "cell_type": "markdown",
   "source": [
    "mnist 是识别手写图像的数字库,算是深度学习的 hello world\r\n"
   ],
   "metadata": {}
  },
  {
   "cell_type": "code",
   "execution_count": 43,
   "source": [
    "print(train_images.shape)\r\n",
    "print(len(train_images))\r\n",
    "train_labels"
   ],
   "outputs": [
    {
     "output_type": "stream",
     "name": "stdout",
     "text": [
      "(60000, 28, 28)\n",
      "60000\n"
     ]
    },
    {
     "output_type": "execute_result",
     "data": {
      "text/plain": [
       "array([5, 0, 4, ..., 5, 6, 8], dtype=uint8)"
      ]
     },
     "metadata": {},
     "execution_count": 43
    }
   ],
   "metadata": {}
  },
  {
   "cell_type": "markdown",
   "source": [
    "数据集特征\r\n",
    "\r\n",
    "- 训练集 60000 验证集 10000\r\n",
    "- 图像是 28*28 的灰度图像,一个像素的灰度值在 0-255.\r\n",
    "- 标签是 0-9 数字,每个图像对应一个标签\r\n"
   ],
   "metadata": {}
  },
  {
   "cell_type": "code",
   "execution_count": 44,
   "source": [
    "from tensorflow.keras import models\r\n",
    "from tensorflow.keras import layers\r\n",
    "\r\n",
    "model = models.Sequential([\r\n",
    "    layers.Dense(512, activation='relu'),  #全连接层，512个节点\r\n",
    "    layers.Dense(10, activation='softmax')  #全连接 输出层，10个节点，输出层全连接\r\n",
    "])"
   ],
   "outputs": [],
   "metadata": {}
  },
  {
   "cell_type": "markdown",
   "source": [
    "神经网络的核心是层的堆叠.可以简单将神经网络理解为一层一层的筛子,一层一层的过滤数据,数据的可用性不断增加.\r\n",
    "\r\n",
    "示例中包含了两个 Dense 全连接层.第二层作为输出,返回 10 个概率值,表面图片可能是 [0,9] 哪一个.\r\n"
   ],
   "metadata": {}
  },
  {
   "cell_type": "code",
   "execution_count": 45,
   "source": [
    "model.compile(  #编译模型\r\n",
    "    optimizer='rmsprop',  #优化器\r\n",
    "    loss='sparse_categorical_crossentropy',  #损失函数\r\n",
    "    metrics=['accuracy'])  #指标"
   ],
   "outputs": [],
   "metadata": {}
  },
  {
   "cell_type": "markdown",
   "source": [
    "真正训练神经网络前,还需要 3 个参数\r\n",
    "\r\n",
    "- 优化器: 模型根据数据选择优化的方向\r\n",
    "- 损失函数: 基于数据计算当前网络的性能\r\n",
    "- 指标: 训练过程中需要关注那些指标,这里只关心精度,分类正确占有的比例.\r\n"
   ],
   "metadata": {}
  },
  {
   "cell_type": "code",
   "execution_count": 46,
   "source": [
    "train_images = train_images.reshape(\r\n",
    "    (60000, 28 * 28))  #把训练集的数据变成一个60000*784的数组)\r\n",
    "train_images = train_images.astype('float32') / 255  #把数组元素转化为float32类型，值范围为0~1\r\n",
    "test_images = test_images.reshape((10000, 28 * 28))  #把测试集的数据变成一个10000*784的数组)\r\n",
    "test_images = test_images.astype('float32') / 255  #把数组元素转化为float32类型，值范围为0~1"
   ],
   "outputs": [],
   "metadata": {}
  },
  {
   "cell_type": "markdown",
   "source": [
    "在正式训练前,我们需要对数据进行预处理.\r\n",
    "\r\n",
    "- [0,255] 的灰度值转换到 [0,1] 上\r\n",
    "- 将所有数据都放到同一个矩阵\r\n"
   ],
   "metadata": {}
  },
  {
   "cell_type": "code",
   "execution_count": 52,
   "source": [
    "model.fit(train_images, train_labels, \\\r\n",
    "            epochs=5,batch_size=128)  #训练模型，训练5轮，每批128个样本"
   ],
   "outputs": [
    {
     "output_type": "stream",
     "name": "stdout",
     "text": [
      "Epoch 1/5\n",
      "469/469 [==============================] - 2s 4ms/step - loss: 0.0080 - accuracy: 0.9978\n",
      "Epoch 2/5\n",
      "469/469 [==============================] - 2s 4ms/step - loss: 0.0064 - accuracy: 0.9983\n",
      "Epoch 3/5\n",
      "469/469 [==============================] - 2s 4ms/step - loss: 0.0047 - accuracy: 0.9988\n",
      "Epoch 4/5\n",
      "469/469 [==============================] - 2s 4ms/step - loss: 0.0038 - accuracy: 0.9990\n",
      "Epoch 5/5\n",
      "469/469 [==============================] - 2s 4ms/step - loss: 0.0030 - accuracy: 0.9994\n"
     ]
    },
    {
     "output_type": "execute_result",
     "data": {
      "text/plain": [
       "<tensorflow.python.keras.callbacks.History at 0x1bc0d4d2040>"
      ]
     },
     "metadata": {},
     "execution_count": 52
    }
   ],
   "metadata": {}
  },
  {
   "cell_type": "markdown",
   "source": [
    "现在可以开始 fit 拟合了,这里参数是训练 5 次,梯度下降的 batch_size 选择 128\r\n",
    "\r\n",
    "训练时输出两个结果,在训练数据上 loss 损失 和 精度.这里第 5 轮.精度已经是 99.94%了\r\n"
   ],
   "metadata": {}
  },
  {
   "cell_type": "code",
   "execution_count": 53,
   "source": [
    "test_digits = test_images[:10]  #取前10个测试集图片\r\n",
    "predictions = model.predict(test_digits)  #对测试集进行预测\r\n",
    "predictions[0]  #预测结果"
   ],
   "outputs": [
    {
     "output_type": "execute_result",
     "data": {
      "text/plain": [
       "array([1.4627307e-14, 2.7201531e-16, 1.2455511e-11, 1.7904637e-06,\n",
       "       4.5208407e-18, 3.3674905e-13, 7.8916162e-24, 9.9999821e-01,\n",
       "       1.0730759e-13, 4.4402385e-10], dtype=float32)"
      ]
     },
     "metadata": {},
     "execution_count": 53
    }
   ],
   "metadata": {}
  },
  {
   "cell_type": "markdown",
   "source": [
    "取 10 个测试集样本,看看效果.\r\n"
   ],
   "metadata": {}
  },
  {
   "cell_type": "code",
   "execution_count": 49,
   "source": [
    "print(predictions[0].argmax())\r\n",
    "predictions[0][7]"
   ],
   "outputs": [
    {
     "output_type": "stream",
     "name": "stdout",
     "text": [
      "7\n"
     ]
    },
    {
     "output_type": "execute_result",
     "data": {
      "text/plain": [
       "0.99999833"
      ]
     },
     "metadata": {},
     "execution_count": 49
    }
   ],
   "metadata": {}
  },
  {
   "cell_type": "markdown",
   "source": [
    "这里输出第一个的预测值和概率...直接是 1 了..😂"
   ],
   "metadata": {}
  },
  {
   "cell_type": "code",
   "execution_count": 50,
   "source": [
    "test_labels[0]"
   ],
   "outputs": [
    {
     "output_type": "execute_result",
     "data": {
      "text/plain": [
       "7"
      ]
     },
     "metadata": {},
     "execution_count": 50
    }
   ],
   "metadata": {}
  },
  {
   "cell_type": "markdown",
   "source": [
    "再看一下数据集,结果符合.~~(废话)~~"
   ],
   "metadata": {}
  },
  {
   "cell_type": "code",
   "execution_count": 54,
   "source": [
    "test_loss, test_acc = model.evaluate(test_images, test_labels)  #对测试集进行评估\r\n",
    "test_acc  #测试集的准确率"
   ],
   "outputs": [
    {
     "output_type": "stream",
     "name": "stdout",
     "text": [
      "313/313 [==============================] - 1s 2ms/step - loss: 0.0803 - accuracy: 0.9822\n"
     ]
    },
    {
     "output_type": "execute_result",
     "data": {
      "text/plain": [
       "0.982200026512146"
      ]
     },
     "metadata": {},
     "execution_count": 54
    }
   ],
   "metadata": {}
  },
  {
   "cell_type": "markdown",
   "source": [
    "最后验证一下在测试集上的准确度 98.22%."
   ],
   "metadata": {}
  }
 ],
 "metadata": {
  "orig_nbformat": 4,
  "language_info": {
   "name": "python"
  }
 },
 "nbformat": 4,
 "nbformat_minor": 2
}