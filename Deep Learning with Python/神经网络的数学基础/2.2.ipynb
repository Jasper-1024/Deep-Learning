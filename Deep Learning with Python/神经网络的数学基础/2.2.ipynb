{
 "cells": [
  {
   "cell_type": "markdown",
   "source": [
    "# 神经网络的数据表示\r\n",
    "\r\n",
    "张量(tensor)是一个矩阵,它是一个抽象的数据类型,可以表示任何数据类型.上文的 mnist 数据集就存储在张量中.\r\n",
    "\r\n",
    "- 维度在张量中具体是某个轴上的元素个数.\r\n",
    "- 与传统空间上定义相似的维度,在张量中叫称为阶.几阶张量就有几个轴.\r\n"
   ],
   "metadata": {}
  },
  {
   "cell_type": "markdown",
   "source": [
    "常见张量及称呼\r\n",
    "\r\n",
    "- 标量 0 阶张量 0D 张量,就是一个数值.\r\n",
    "- 向量 1 阶张量 1D 张量,就是一个传统意义上的向量.\r\n",
    "- 矩阵 2 阶张量 2D 张量,是狭义上的二维矩阵\r\n"
   ],
   "metadata": {}
  },
  {
   "cell_type": "code",
   "execution_count": 1,
   "source": [
    "from keras.datasets import mnist\r\n",
    "(train_images, train_labels), (test_images, test_labels) = mnist.load_data()\r\n",
    "\r\n",
    "print(train_images.ndim,train_images.shape,train_images.dtype)"
   ],
   "outputs": [
    {
     "output_type": "stream",
     "name": "stdout",
     "text": [
      "3 (60000, 28, 28) uint8\n"
     ]
    }
   ],
   "metadata": {}
  },
  {
   "cell_type": "markdown",
   "source": [
    "张量的属性\r\n",
    "\r\n",
    "- 阶数,轴的个数. `.ndim`\r\n",
    "- 形状,每个轴的维度.每个轴上的元素个数.`.shape`\r\n",
    "- 数据类型,每个元素的类型.一般可以是 float32 uint8 float64,极少是 char.**注意** Numpy 及多数库不支持 char 类型. `.dtype`\r\n"
   ],
   "metadata": {}
  },
  {
   "cell_type": "code",
   "execution_count": 2,
   "source": [
    "digit = train_images[4]\r\n",
    "import matplotlib.pyplot as plt\r\n",
    "plt.imshow(digit, cmap=plt.cm.binary)\r\n",
    "plt.show()"
   ],
   "outputs": [
    {
     "output_type": "display_data",
     "data": {
      "text/plain": [
       "<Figure size 432x288 with 1 Axes>"
      ],
      "image/png": "[encoded data removed]"
     },
     "metadata": {
      "needs_background": "light"
     }
    }
   ],
   "metadata": {}
  },
  {
   "cell_type": "markdown",
   "source": [
    "对张量操作取切片和 python 中的切片操作类似.\r\n",
    "\r\n",
    "通常数据张量的第一个轴(索引 0),称为样本轴,样本维度.批量轴,批量维度.这个术语很常见.\r\n"
   ],
   "metadata": {}
  },
  {
   "cell_type": "markdown",
   "source": [
    "通常处理的数据张量\r\n",
    "\r\n",
    "- 向量数据: (samples, features)\r\n",
    "- 时间序列 or 序列数据: (samples, timesteps,features)\r\n",
    "- 图像数据: (samples, height, width, channels)\r\n",
    "- 视频: (samples, frames, height, width, channels) or (samples, frames, channels, height, width)\r\n",
    "\r\n",
    "其他\r\n",
    "\r\n",
    "- 图像数据通常是高度 宽度 颜色深度,颜色深度 tensorflow 是在后,theano 是在前.keras 两个格式都支持.\r\n",
    "- 视频数据是少有的 5d 张量.\r\n"
   ],
   "metadata": {}
  }
 ],
 "metadata": {
  "orig_nbformat": 4,
  "language_info": {
   "name": "python"
  }
 },
 "nbformat": 4,
 "nbformat_minor": 2
}