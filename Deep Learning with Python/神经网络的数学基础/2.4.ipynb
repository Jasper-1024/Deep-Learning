{
 "cells": [
  {
   "cell_type": "markdown",
   "source": [
    "# 基于梯度的优化\r\n",
    "\r\n",
    "梯度下降 反向传播 优化器 待定\r\n"
   ],
   "metadata": {}
  }
 ],
 "metadata": {
  "orig_nbformat": 4,
  "language_info": {
   "name": "python"
  }
 },
 "nbformat": 4,
 "nbformat_minor": 2
}