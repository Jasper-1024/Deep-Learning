{
 "cells": [
  {
   "cell_type": "markdown",
   "source": [
    "# 回顾 mnist 例子\r\n",
    "\r\n",
    "网络 层 损失函数 优化器之间的关系如下图:\r\n",
    "\r\n",
    "![神经网络组件关系](./神经网络各个组件关系.png)\r\n"
   ],
   "metadata": {}
  },
  {
   "cell_type": "markdown",
   "source": [
    "这一节将使用 tensorflow 实现 minist 的神经网络训练.并且与 keras 对比.\r\n"
   ],
   "metadata": {}
  },
  {
   "cell_type": "code",
   "execution_count": 35,
   "source": [
    "from tensorflow.keras import models\r\n",
    "from tensorflow.keras import layers\r\n",
    "\r\n",
    "model = models.Sequential([\r\n",
    "    layers.Dense(512, activation='relu'),  #全连接层，512个节点\r\n",
    "    layers.Dense(10, activation='softmax')  #全连接 输出层，10个节点，输出层全连接\r\n",
    "])"
   ],
   "outputs": [],
   "metadata": {}
  },
  {
   "cell_type": "markdown",
   "source": [
    "这里是 keras 定义神经网络的起点,两个互相连接的 Dense 层.一个输出尺寸是 512 另一个是 10.激活函数一个是 relu 另一个是 softmax\r\n"
   ],
   "metadata": {}
  },
  {
   "cell_type": "code",
   "execution_count": 36,
   "source": [
    "import tensorflow as tf\r\n",
    "import numpy as np\r\n",
    "\r\n",
    "\r\n",
    "class NaiveDense:  #一个基本的Dense层\r\n",
    "    def __init__(self, input_size, output_size, activation):\r\n",
    "        self.activation = activation\r\n",
    "        w_shape = (input_size, output_size\r\n",
    "                   )  #创建矩阵 w 尺寸为 (input_size, output_size) 随机初始化\r\n",
    "        w_initial_value = tf.random.uniform(w_shape, minval=0, maxval=1e-1)\r\n",
    "        self.W = tf.Variable(w_initial_value)\r\n",
    "\r\n",
    "        b_shape = (output_size, )  #创建矩阵 b 尺寸为 (output_size) 随机初始化\r\n",
    "        b_initial_value = tf.zeros(b_shape)\r\n",
    "        self.b = tf.Variable(b_initial_value)\r\n",
    "\r\n",
    "    def __call__(self, inputs):\r\n",
    "        return self.activation(tf.matmul(inputs, self.W) + self.b)  # 定义激活函数\r\n",
    "\r\n",
    "    @property\r\n",
    "    def weights(self):  #获取权重\r\n",
    "        return [self.W, self.b]"
   ],
   "outputs": [],
   "metadata": {}
  },
  {
   "cell_type": "markdown",
   "source": [
    "在 tensorflow 中我们先实现定义一个 Dense 层.Dense 层的 `output = activation(dot(W, input) + b)`\r\n",
    "\r\n",
    "- `__init__`: 输入/输出/激活函数.\r\n",
    "  - 随机初始化 W 和 b.\r\n",
    "- `__call__`: 输出\r\n",
    "- `weights`: 将权重转换成属性,方便获取/修改.\r\n"
   ],
   "metadata": {}
  },
  {
   "cell_type": "code",
   "execution_count": 37,
   "source": [
    "class NaiveSequential:  #连接\r\n",
    "    def __init__(self, layers):\r\n",
    "        self.layers = layers\r\n",
    "\r\n",
    "    def __call__(self, inputs):  #自上而下调用层\r\n",
    "        x = inputs\r\n",
    "        for layer in self.layers:\r\n",
    "            x = layer(x)\r\n",
    "        return x\r\n",
    "\r\n",
    "    @property\r\n",
    "    def weights(self):  #获取权重\r\n",
    "        weights = []\r\n",
    "        for layer in self.layers:\r\n",
    "            weights += layer.weights\r\n",
    "        return weights"
   ],
   "outputs": [],
   "metadata": {}
  },
  {
   "cell_type": "markdown",
   "source": [
    "定义了 Dense 层之后,我们还需要将这些层输入输出连接起来.这是 NaiveSequential 的功能.\r\n",
    "\r\n",
    "- `__init__`: 所有神经网络层\r\n",
    "- `__call__`: 输入 input 调用所有层的 call 方法,获取神经网络最后的输出.\r\n",
    "- `weights`: 获取全部层的权重\r\n"
   ],
   "metadata": {}
  },
  {
   "cell_type": "code",
   "execution_count": 38,
   "source": [
    "model2 = NaiveSequential([\r\n",
    "    NaiveDense(input_size=28 * 28, output_size=512, activation=tf.nn.relu),\r\n",
    "    NaiveDense(input_size=512, output_size=10, activation=tf.nn.softmax)\r\n",
    "])\r\n",
    "\r\n",
    "assert len(model2.weights) == 4"
   ],
   "outputs": [],
   "metadata": {}
  },
  {
   "cell_type": "markdown",
   "source": [
    "终于到了与 `models.Sequential` 相同的定义了.\r\n",
    "\r\n",
    "- 2 个 Dense 层,第一层输入 28*28 输出 512 ,第二层输入 512 输出 10.\r\n",
    "- 第一层激活函数是 `relu` 第二层是 `softmax`\r\n"
   ],
   "metadata": {}
  },
  {
   "cell_type": "code",
   "execution_count": 39,
   "source": [
    "model.compile(  #编译模型\r\n",
    "    optimizer='rmsprop',  #优化器\r\n",
    "    loss='sparse_categorical_crossentropy',  #损失函数\r\n",
    "    metrics=['accuracy'])  #指标"
   ],
   "outputs": [],
   "metadata": {}
  },
  {
   "cell_type": "markdown",
   "source": [
    "这部分是模型训练部分,写完才知道 keras 封装了 NN 多的细节.\r\n"
   ],
   "metadata": {}
  },
  {
   "cell_type": "code",
   "execution_count": 40,
   "source": [
    "from tensorflow.keras import optimizers\r\n",
    "\r\n",
    "optimizer = optimizers.SGD(learning_rate=1e-3)\r\n",
    "\r\n",
    "def update_weights(gradients, weights):  #更新权重\r\n",
    "    optimizer.apply_gradients(zip(gradients, weights))\r\n",
    "\r\n",
    "# learning_rate = 1e-3\r\n",
    "\r\n",
    "# def update_weights(gradients, weights):\r\n",
    "#     for g, w in zip(gradients, model.weights):\r\n",
    "#         w.assign_sub(w * learning_rate)"
   ],
   "outputs": [],
   "metadata": {}
  },
  {
   "cell_type": "markdown",
   "source": [
    "更新权重即是将权重向梯度相反方向移动.移动的幅度与具体的优化器有关.\r\n",
    "\r\n",
    "上文注释掉部分示例了一个最简单的权重更新,即每次向梯度反方向移动 w * learning_rate.\r\n",
    "\r\n",
    "- learning_rate 即学习率,这里是取 1e-3\r\n",
    "\r\n",
    "最简单的更新权重效果并不算很好,原书直接使用了 tensorflow 内置的优化器.\r\n"
   ],
   "metadata": {}
  },
  {
   "cell_type": "code",
   "execution_count": 41,
   "source": [
    "def one_training_step(model, images_batch, labels_batch):  #一次训练\r\n",
    "    with tf.GradientTape() as tape:\r\n",
    "        predictions = model(images_batch)  #计算预测值\r\n",
    "        per_sample_losses = tf.keras.losses.sparse_categorical_crossentropy(\r\n",
    "            labels_batch, predictions)  #计算每个样本的损失\r\n",
    "        average_loss = tf.reduce_mean(per_sample_losses)  #计算平均损失\r\n",
    "    gradients = tape.gradient(average_loss, model.weights)  #\r\n",
    "    update_weights(gradients, model.weights)  #更新权重\r\n",
    "    return average_loss  #返回平均的损失"
   ],
   "outputs": [],
   "metadata": {}
  },
  {
   "cell_type": "markdown",
   "source": [
    "终于到了一次具体的模型训练\r\n",
    "\r\n",
    "- 输入是 模型/本轮的图像/本轮的标签\r\n",
    "- 开始计算损失\r\n",
    "  - 首先在模型上取预测值\r\n",
    "  - 调用 tf 库计算每个样本的损失\r\n",
    "  - 计算这个批次的平均损失\r\n",
    "- 计算梯度\r\n",
    "- 更新权重\r\n",
    "- 返回平均损失."
   ],
   "metadata": {}
  },
  {
   "cell_type": "code",
   "execution_count": 42,
   "source": [
    "from keras.datasets import mnist\r\n",
    "(train_images, train_labels), (test_images, test_labels) = mnist.load_data()\r\n",
    "\r\n",
    "train_images = train_images.reshape(\r\n",
    "    (60000, 28 * 28))  #把训练集的数据变成一个60000*784的数组)\r\n",
    "train_images = train_images.astype('float32') / 255  #把数组元素转化为float32类型，值范围为0~1\r\n",
    "test_images = test_images.reshape((10000, 28 * 28))  #把测试集的数据变成一个10000*784的数组)\r\n",
    "test_images = test_images.astype('float32') / 255  #把数组元素转化为float32类型，值范围为0~1"
   ],
   "outputs": [],
   "metadata": {}
  },
  {
   "cell_type": "code",
   "execution_count": 43,
   "source": [
    "class BatchGenerator:  #生成器 处理 mnist 数据返回每次训练需要的 mnist 数据s\r\n",
    "    def __init__(self, images, labels, batch_size=128):\r\n",
    "        self.index = 0\r\n",
    "        self.images = images\r\n",
    "        self.labels = labels\r\n",
    "        self.batch_size = batch_size\r\n",
    "\r\n",
    "    def next(self):\r\n",
    "        images = self.images[self.index:self.index + self.batch_size]\r\n",
    "        labels = self.labels[self.index:self.index + self.batch_size]\r\n",
    "        self.index += self.batch_size\r\n",
    "        return images, labels"
   ],
   "outputs": [],
   "metadata": {}
  },
  {
   "cell_type": "markdown",
   "source": [
    "准备数据,无论是 keras 或者 tf 都是相同的. tf 增加了 BatchGenerator 迭代器.\r\n"
   ],
   "metadata": {}
  },
  {
   "cell_type": "code",
   "execution_count": 44,
   "source": [
    "model.fit(train_images, train_labels, \\\r\n",
    "            epochs=5,batch_size=128)  #训练模型，训练5轮，每批128个样本"
   ],
   "outputs": [
    {
     "output_type": "stream",
     "name": "stdout",
     "text": [
      "Epoch 1/5\n",
      "469/469 [==============================] - 2s 4ms/step - loss: 0.2559 - accuracy: 0.9255\n",
      "Epoch 2/5\n",
      "469/469 [==============================] - 2s 4ms/step - loss: 0.1055 - accuracy: 0.9688\n",
      "Epoch 3/5\n",
      "469/469 [==============================] - 2s 4ms/step - loss: 0.0687 - accuracy: 0.9794\n",
      "Epoch 4/5\n",
      "469/469 [==============================] - 2s 4ms/step - loss: 0.0497 - accuracy: 0.9851\n",
      "Epoch 5/5\n",
      "469/469 [==============================] - 2s 4ms/step - loss: 0.0378 - accuracy: 0.9889\n"
     ]
    },
    {
     "output_type": "execute_result",
     "data": {
      "text/plain": [
       "<tensorflow.python.keras.callbacks.History at 0x19b32b6eca0>"
      ]
     },
     "metadata": {},
     "execution_count": 44
    }
   ],
   "metadata": {}
  },
  {
   "cell_type": "markdown",
   "source": [
    "keras 开始训练模型\r\n"
   ],
   "metadata": {}
  },
  {
   "cell_type": "code",
   "execution_count": 45,
   "source": [
    "def fit(model, images, labels, epochs, batch_size=128):  #训练\r\n",
    "    for epoch_counter in range(epochs):  #epochs个轮次\r\n",
    "        print('Epoch %d' % epoch_counter)  #打印当前训练的轮次\r\n",
    "        batch_generator = BatchGenerator(images, labels)  #训练数据获取\r\n",
    "        for batch_counter in range(len(images) // batch_size):\r\n",
    "            images_batch, labels_batch = batch_generator.next()  #本次训练数据\r\n",
    "            loss = one_training_step(model, images_batch, labels_batch)  #一次训练\r\n",
    "            if batch_counter % 100 == 0:\r\n",
    "                print('loss at batch %d: %.2f' % (batch_counter, loss))  # 打印损失\r\n",
    "\r\n",
    "fit(model2, train_images, train_labels, epochs=10, batch_size=128)"
   ],
   "outputs": [
    {
     "output_type": "stream",
     "name": "stdout",
     "text": [
      "Epoch 0\n",
      "loss at batch 0: 5.57\n",
      "loss at batch 100: 2.24\n",
      "loss at batch 200: 2.18\n",
      "loss at batch 300: 2.09\n",
      "loss at batch 400: 2.25\n",
      "Epoch 1\n",
      "loss at batch 0: 1.93\n",
      "loss at batch 100: 1.88\n",
      "loss at batch 200: 1.80\n",
      "loss at batch 300: 1.71\n",
      "loss at batch 400: 1.85\n",
      "Epoch 2\n",
      "loss at batch 0: 1.59\n",
      "loss at batch 100: 1.58\n",
      "loss at batch 200: 1.47\n",
      "loss at batch 300: 1.42\n",
      "loss at batch 400: 1.52\n",
      "Epoch 3\n",
      "loss at batch 0: 1.32\n",
      "loss at batch 100: 1.34\n",
      "loss at batch 200: 1.21\n",
      "loss at batch 300: 1.20\n",
      "loss at batch 400: 1.28\n",
      "Epoch 4\n",
      "loss at batch 0: 1.11\n",
      "loss at batch 100: 1.16\n",
      "loss at batch 200: 1.01\n",
      "loss at batch 300: 1.04\n",
      "loss at batch 400: 1.11\n",
      "Epoch 5\n",
      "loss at batch 0: 0.97\n",
      "loss at batch 100: 1.02\n",
      "loss at batch 200: 0.87\n",
      "loss at batch 300: 0.92\n",
      "loss at batch 400: 0.99\n",
      "Epoch 6\n",
      "loss at batch 0: 0.86\n",
      "loss at batch 100: 0.91\n",
      "loss at batch 200: 0.77\n",
      "loss at batch 300: 0.83\n",
      "loss at batch 400: 0.90\n",
      "Epoch 7\n",
      "loss at batch 0: 0.77\n",
      "loss at batch 100: 0.83\n",
      "loss at batch 200: 0.70\n",
      "loss at batch 300: 0.76\n",
      "loss at batch 400: 0.83\n",
      "Epoch 8\n",
      "loss at batch 0: 0.71\n",
      "loss at batch 100: 0.76\n",
      "loss at batch 200: 0.64\n",
      "loss at batch 300: 0.71\n",
      "loss at batch 400: 0.78\n",
      "Epoch 9\n",
      "loss at batch 0: 0.66\n",
      "loss at batch 100: 0.71\n",
      "loss at batch 200: 0.59\n",
      "loss at batch 300: 0.66\n",
      "loss at batch 400: 0.74\n"
     ]
    }
   ],
   "metadata": {}
  },
  {
   "cell_type": "markdown",
   "source": [
    "fit 基本上是上面函数的调用了,流程看注释了.开始训练.\r\n"
   ],
   "metadata": {}
  },
  {
   "cell_type": "code",
   "execution_count": 46,
   "source": [
    "test_loss, test_acc = model.evaluate(test_images, test_labels)  #对测试集进行评估\r\n",
    "test_acc  #测试集的准确率"
   ],
   "outputs": [
    {
     "output_type": "stream",
     "name": "stdout",
     "text": [
      "313/313 [==============================] - 1s 2ms/step - loss: 0.0719 - accuracy: 0.9788\n"
     ]
    },
    {
     "output_type": "execute_result",
     "data": {
      "text/plain": [
       "0.9787999987602234"
      ]
     },
     "metadata": {},
     "execution_count": 46
    }
   ],
   "metadata": {}
  },
  {
   "cell_type": "code",
   "execution_count": 47,
   "source": [
    "predictions = model2(test_images)\r\n",
    "predictions = predictions.numpy()\r\n",
    "predicted_labels = np.argmax(predictions, axis=1)\r\n",
    "matches = predicted_labels == test_labels\r\n",
    "print(f\"accuracy: {matches.mean():.2f}\")"
   ],
   "outputs": [
    {
     "output_type": "stream",
     "name": "stdout",
     "text": [
      "accuracy: 0.84\n"
     ]
    }
   ],
   "metadata": {}
  },
  {
   "cell_type": "markdown",
   "source": [
    "tf 和 keras 上模型的在测试集的准确度... 谢天谢地有 keras 才不至于关注到 NN 多的细节.\r\n"
   ],
   "metadata": {}
  }
 ],
 "metadata": {
  "orig_nbformat": 4,
  "language_info": {
   "name": "python",
   "version": "3.9.6",
   "mimetype": "text/x-python",
   "codemirror_mode": {
    "name": "ipython",
    "version": 3
   },
   "pygments_lexer": "ipython3",
   "nbconvert_exporter": "python",
   "file_extension": ".py"
  },
  "kernelspec": {
   "name": "python3",
   "display_name": "Python 3.9.6 64-bit ('tf': venv)"
  },
  "interpreter": {
   "hash": "aac46f597da82ce9618f0e6f094e6d401f1ab16d9be89acf77ce1dd63d67a333"
  }
 },
 "nbformat": 4,
 "nbformat_minor": 2
}