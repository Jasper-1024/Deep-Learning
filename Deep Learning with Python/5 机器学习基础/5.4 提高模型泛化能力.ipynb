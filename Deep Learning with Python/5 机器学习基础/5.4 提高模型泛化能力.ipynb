{
 "cells": [
  {
   "cell_type": "markdown",
   "source": [
    "# 提高模型泛化能力\r\n",
    "\r\n",
    "经过前面的步骤,现在应该已经有一个可以过拟合的模型了,接下来要做的事情是找到欠拟合/过拟合的边界,使得模型泛化能力 MAX.\r\n"
   ],
   "metadata": {}
  },
  {
   "cell_type": "markdown",
   "source": [
    "## 数据集\r\n",
    "\r\n",
    "前文的流形假说,深度学习的泛化能力与样本之间插值有关.显而易见的如果样本之间足够平滑,模型训练后的泛化能力要更好.\r\n",
    "\r\n",
    "必须确保正在使用的数据集是合适的.在数据上花费等量资源,其回报通常比开发更好模型的回报更高.\r\n",
    "\r\n",
    "- 尽可能确保样本数量,更多的数据 == 更好的模型.数学之美-32大数据威力一节提到了一个例子,2005年 google 的机器翻译模型在 NIST 封闭数据集高于第二名 5%,开放测试集高于 17%.当时 5% 的提高要 5-10 年,google 是如何做到的?当别的模型只是 4 元模型时,Google使用了成千甚至上万倍的数据,训练出了 6 元模型.这是堆砌数据的威力.\r\n",
    "- 减少标签错误,异常值会使得过拟合提前.\r\n",
    "- 清理数据,处理缺失值.(下一节)\r\n",
    "- 如果数据特征及其繁杂,需要进行取舍.->特征工程,选择真正有用的特征.\r\n"
   ],
   "metadata": {}
  },
  {
   "cell_type": "markdown",
   "source": [
    "## 特征工程\r\n",
    "\r\n",
    "特征工程是在数据进入模型前,人工筛选,转换清理数据.\r\n",
    "\r\n",
    "在深度学习出现以前,特征工程是机器学习,极为重要的一环.几乎决定了成败.深度学习出现以后,特征工程的很大一部分工作被神经网络自动化了.但是这并不意味着特征工程无用.\r\n",
    "\r\n",
    "- 以现在的深度学习能力,还不能指望机器学习能够完全从任意数据上学习.\r\n",
    "- 选择好的特征意味着更小的模型,更小的资源花费.\r\n",
    "- 特征工程意味着更少的数据可以解决问题,在样本数量不足时非常有用.\r\n",
    "\r\n",
    "![clock_diagram](./clock_diagram.png)\r\n",
    "\r\n",
    "以钟表的数据为例\r\n",
    "\r\n",
    "- 原始数据是图像数据,不加处理直接输入模型,模型需要 RNN + 大量时间/计算资源\r\n",
    "- 以坐标表示输入模型,输入减少成了 2d 张量,几乎成了线性拟合.\r\n",
    "- 干脆以中心为原点,换用极坐标表示.都不需要机器学习了.\r\n",
    "\r\n",
    "以更简单的方式表述问题,这就是特征工程.\r\n",
    "\r\n",
    "个人愚见: 包含特征工程在内的整个深度学习流程,就是一个从数据找规律,提取到足以解决问题的特征的过程.特征工程找到的规律多一分,接下来深度学习需要学习的部分就少了一分,训练需要的资源也就少一分.\r\n"
   ],
   "metadata": {}
  },
  {
   "cell_type": "markdown",
   "source": [
    "## 提前终止\r\n",
    "\r\n",
    "在训练中找到过拟合/欠拟合准确的边界,这是提供模型泛化能力最有效的手段之一.\r\n",
    "\r\n",
    "上一章的例子中.我们不断训练模型直到明显的过拟合,综合数据找到过拟合/欠拟合边界的轮次.再开启重新的训练,迭代到边界.但是实际上并不需要这样,只要保存每次迭代的模型,在模型出现明显退化时,回滚到之前更好的模型即可.\r\n",
    "\r\n",
    "以上就是大致的提取终止(early stopping),在 keras 中使用 `EarlyStopping` 回调,我们会在第 7 章看见.\r\n"
   ],
   "metadata": {}
  },
  {
   "cell_type": "markdown",
   "source": [
    "## 模型正则化\r\n",
    "\r\n",
    "获得一个泛化 MAX 的模型,首要的是数据,但上文的数据工作结束后,能够再获得收益的是对模型本身的调整.\r\n",
    "\r\n",
    "模型优化和泛化能力是一个矛盾,但模型的优化能力过强,直接导致过拟合,泛化能力不足.模型的正则化是一定程度上阻碍模型的优化能力,一定范围内阻止模型与训练集的完美匹配.正则化使得模型本身倾向于更加简单/更加平滑.防止模型过度优化训练集.\r\n",
    "\r\n",
    "正则化是一套工程上的最佳实践技术.每一步都有准确的评估程序指导如何选择,选择那些.\r\n"
   ],
   "metadata": {}
  },
  {
   "cell_type": "markdown",
   "source": [
    "### 减少模型规模\r\n",
    "\r\n",
    "模型容量不足时,模型不会到过拟合.模型容量过大时,模型又会过快的进入过拟合.我们需要模型容量在过大/过小直接取到一个平衡(机器学习是平衡的艺术---from 不知名人士).\r\n",
    "\r\n",
    "但是很可惜,模型应有容量方面,目前没有银弹.只能在工程实践中,不断调整模型容量以寻找边界.\r\n"
   ],
   "metadata": {}
  },
  {
   "cell_type": "code",
   "execution_count": 11,
   "source": [
    "import numpy as np\r\n",
    "import tensorflow.keras as keras\r\n",
    "import keras.layers as layers\r\n",
    "\r\n",
    "from tensorflow.keras.datasets import imdb\r\n",
    "(train_data, train_labels), _ = imdb.load_data(num_words=10000)\r\n",
    "\r\n",
    "\r\n",
    "def vectorize_sequences(sequences, dimension=10000):  #向量化\r\n",
    "    results = np.zeros((len(sequences), dimension))\r\n",
    "    for i, sequence in enumerate(sequences):\r\n",
    "        results[i, sequence] = 1.\r\n",
    "    return results\r\n",
    "\r\n",
    "\r\n",
    "train_data = vectorize_sequences(train_data)"
   ],
   "outputs": [
    {
     "output_type": "stream",
     "name": "stderr",
     "text": [
      "<__array_function__ internals>:5: VisibleDeprecationWarning: Creating an ndarray from ragged nested sequences (which is a list-or-tuple of lists-or-tuples-or ndarrays with different lengths or shapes) is deprecated. If you meant to do this, you must specify 'dtype=object' when creating the ndarray\n",
      "c:\\Users\\stati\\Git\\Deep-Learning\\tf\\lib\\site-packages\\tensorflow\\python\\keras\\datasets\\imdb.py:155: VisibleDeprecationWarning: Creating an ndarray from ragged nested sequences (which is a list-or-tuple of lists-or-tuples-or ndarrays with different lengths or shapes) is deprecated. If you meant to do this, you must specify 'dtype=object' when creating the ndarray\n",
      "  x_train, y_train = np.array(xs[:idx]), np.array(labels[:idx])\n",
      "c:\\Users\\stati\\Git\\Deep-Learning\\tf\\lib\\site-packages\\tensorflow\\python\\keras\\datasets\\imdb.py:156: VisibleDeprecationWarning: Creating an ndarray from ragged nested sequences (which is a list-or-tuple of lists-or-tuples-or ndarrays with different lengths or shapes) is deprecated. If you meant to do this, you must specify 'dtype=object' when creating the ndarray\n",
      "  x_test, y_test = np.array(xs[idx:]), np.array(labels[idx:])\n"
     ]
    }
   ],
   "metadata": {}
  },
  {
   "cell_type": "code",
   "execution_count": 12,
   "source": [
    "model = keras.Sequential([\r\n",
    "    layers.Dense(16, activation=\"relu\"),\r\n",
    "    layers.Dense(16, activation=\"relu\"),\r\n",
    "    layers.Dense(1, activation=\"sigmoid\")\r\n",
    "])\r\n",
    "model.compile(optimizer=\"rmsprop\",\r\n",
    "              loss=\"binary_crossentropy\",\r\n",
    "              metrics=[\"accuracy\"])\r\n",
    "history_original = model.fit(train_data,\r\n",
    "                             train_labels,\r\n",
    "                             epochs=20,\r\n",
    "                             batch_size=512,\r\n",
    "                             validation_split=0.4)\r\n"
   ],
   "outputs": [
    {
     "output_type": "stream",
     "name": "stdout",
     "text": [
      "Epoch 1/20\n",
      "30/30 [==============================] - 1s 23ms/step - loss: 0.5407 - accuracy: 0.7829 - val_loss: 0.4172 - val_accuracy: 0.8527\n",
      "Epoch 2/20\n",
      "30/30 [==============================] - 0s 15ms/step - loss: 0.3283 - accuracy: 0.8958 - val_loss: 0.3114 - val_accuracy: 0.8874\n",
      "Epoch 3/20\n",
      "30/30 [==============================] - 0s 16ms/step - loss: 0.2328 - accuracy: 0.9253 - val_loss: 0.2932 - val_accuracy: 0.8834\n",
      "Epoch 4/20\n",
      "30/30 [==============================] - 0s 17ms/step - loss: 0.1859 - accuracy: 0.9379 - val_loss: 0.2718 - val_accuracy: 0.8913\n",
      "Epoch 5/20\n",
      "30/30 [==============================] - 1s 17ms/step - loss: 0.1520 - accuracy: 0.9505 - val_loss: 0.2979 - val_accuracy: 0.8838\n",
      "Epoch 6/20\n",
      "30/30 [==============================] - 0s 16ms/step - loss: 0.1264 - accuracy: 0.9617 - val_loss: 0.2877 - val_accuracy: 0.8870\n",
      "Epoch 7/20\n",
      "30/30 [==============================] - 0s 15ms/step - loss: 0.1023 - accuracy: 0.9705 - val_loss: 0.3386 - val_accuracy: 0.8763\n",
      "Epoch 8/20\n",
      "30/30 [==============================] - 0s 16ms/step - loss: 0.0855 - accuracy: 0.9769 - val_loss: 0.3574 - val_accuracy: 0.8755\n",
      "Epoch 9/20\n",
      "30/30 [==============================] - 0s 16ms/step - loss: 0.0704 - accuracy: 0.9811 - val_loss: 0.3900 - val_accuracy: 0.8706\n",
      "Epoch 10/20\n",
      "30/30 [==============================] - 0s 16ms/step - loss: 0.0605 - accuracy: 0.9832 - val_loss: 0.3878 - val_accuracy: 0.8751\n",
      "Epoch 11/20\n",
      "30/30 [==============================] - 0s 16ms/step - loss: 0.0466 - accuracy: 0.9894 - val_loss: 0.4009 - val_accuracy: 0.8752\n",
      "Epoch 12/20\n",
      "30/30 [==============================] - 0s 16ms/step - loss: 0.0430 - accuracy: 0.9889 - val_loss: 0.4324 - val_accuracy: 0.8756\n",
      "Epoch 13/20\n",
      "30/30 [==============================] - 0s 15ms/step - loss: 0.0301 - accuracy: 0.9941 - val_loss: 0.4777 - val_accuracy: 0.8695\n",
      "Epoch 14/20\n",
      " 1/30 [>.............................] - ETA: 0s - loss: 0.0330 - accuracy: 0.9922"
     ]
    },
    {
     "output_type": "error",
     "ename": "KeyboardInterrupt",
     "evalue": "",
     "traceback": [
      "\u001b[1;31m---------------------------------------------------------------------------\u001b[0m",
      "\u001b[1;31mKeyboardInterrupt\u001b[0m                         Traceback (most recent call last)",
      "\u001b[1;32m~\\AppData\\Local\\Temp/ipykernel_15848/3828931111.py\u001b[0m in \u001b[0;36m<module>\u001b[1;34m\u001b[0m\n\u001b[0;32m      7\u001b[0m               \u001b[0mloss\u001b[0m\u001b[1;33m=\u001b[0m\u001b[1;34m\"binary_crossentropy\"\u001b[0m\u001b[1;33m,\u001b[0m\u001b[1;33m\u001b[0m\u001b[1;33m\u001b[0m\u001b[0m\n\u001b[0;32m      8\u001b[0m               metrics=[\"accuracy\"])\n\u001b[1;32m----> 9\u001b[1;33m history_original = model.fit(train_data,\n\u001b[0m\u001b[0;32m     10\u001b[0m                              \u001b[0mtrain_labels\u001b[0m\u001b[1;33m,\u001b[0m\u001b[1;33m\u001b[0m\u001b[1;33m\u001b[0m\u001b[0m\n\u001b[0;32m     11\u001b[0m                              \u001b[0mepochs\u001b[0m\u001b[1;33m=\u001b[0m\u001b[1;36m20\u001b[0m\u001b[1;33m,\u001b[0m\u001b[1;33m\u001b[0m\u001b[1;33m\u001b[0m\u001b[0m\n",
      "\u001b[1;32mc:\\Users\\stati\\Git\\Deep-Learning\\tf\\lib\\site-packages\\tensorflow\\python\\keras\\engine\\training.py\u001b[0m in \u001b[0;36mfit\u001b[1;34m(self, x, y, batch_size, epochs, verbose, callbacks, validation_split, validation_data, shuffle, class_weight, sample_weight, initial_epoch, steps_per_epoch, validation_steps, validation_batch_size, validation_freq, max_queue_size, workers, use_multiprocessing)\u001b[0m\n\u001b[0;32m   1181\u001b[0m                 _r=1):\n\u001b[0;32m   1182\u001b[0m               \u001b[0mcallbacks\u001b[0m\u001b[1;33m.\u001b[0m\u001b[0mon_train_batch_begin\u001b[0m\u001b[1;33m(\u001b[0m\u001b[0mstep\u001b[0m\u001b[1;33m)\u001b[0m\u001b[1;33m\u001b[0m\u001b[1;33m\u001b[0m\u001b[0m\n\u001b[1;32m-> 1183\u001b[1;33m               \u001b[0mtmp_logs\u001b[0m \u001b[1;33m=\u001b[0m \u001b[0mself\u001b[0m\u001b[1;33m.\u001b[0m\u001b[0mtrain_function\u001b[0m\u001b[1;33m(\u001b[0m\u001b[0miterator\u001b[0m\u001b[1;33m)\u001b[0m\u001b[1;33m\u001b[0m\u001b[1;33m\u001b[0m\u001b[0m\n\u001b[0m\u001b[0;32m   1184\u001b[0m               \u001b[1;32mif\u001b[0m \u001b[0mdata_handler\u001b[0m\u001b[1;33m.\u001b[0m\u001b[0mshould_sync\u001b[0m\u001b[1;33m:\u001b[0m\u001b[1;33m\u001b[0m\u001b[1;33m\u001b[0m\u001b[0m\n\u001b[0;32m   1185\u001b[0m                 \u001b[0mcontext\u001b[0m\u001b[1;33m.\u001b[0m\u001b[0masync_wait\u001b[0m\u001b[1;33m(\u001b[0m\u001b[1;33m)\u001b[0m\u001b[1;33m\u001b[0m\u001b[1;33m\u001b[0m\u001b[0m\n",
      "\u001b[1;32mc:\\Users\\stati\\Git\\Deep-Learning\\tf\\lib\\site-packages\\tensorflow\\python\\eager\\def_function.py\u001b[0m in \u001b[0;36m__call__\u001b[1;34m(self, *args, **kwds)\u001b[0m\n\u001b[0;32m    887\u001b[0m \u001b[1;33m\u001b[0m\u001b[0m\n\u001b[0;32m    888\u001b[0m       \u001b[1;32mwith\u001b[0m \u001b[0mOptionalXlaContext\u001b[0m\u001b[1;33m(\u001b[0m\u001b[0mself\u001b[0m\u001b[1;33m.\u001b[0m\u001b[0m_jit_compile\u001b[0m\u001b[1;33m)\u001b[0m\u001b[1;33m:\u001b[0m\u001b[1;33m\u001b[0m\u001b[1;33m\u001b[0m\u001b[0m\n\u001b[1;32m--> 889\u001b[1;33m         \u001b[0mresult\u001b[0m \u001b[1;33m=\u001b[0m \u001b[0mself\u001b[0m\u001b[1;33m.\u001b[0m\u001b[0m_call\u001b[0m\u001b[1;33m(\u001b[0m\u001b[1;33m*\u001b[0m\u001b[0margs\u001b[0m\u001b[1;33m,\u001b[0m \u001b[1;33m**\u001b[0m\u001b[0mkwds\u001b[0m\u001b[1;33m)\u001b[0m\u001b[1;33m\u001b[0m\u001b[1;33m\u001b[0m\u001b[0m\n\u001b[0m\u001b[0;32m    890\u001b[0m \u001b[1;33m\u001b[0m\u001b[0m\n\u001b[0;32m    891\u001b[0m       \u001b[0mnew_tracing_count\u001b[0m \u001b[1;33m=\u001b[0m \u001b[0mself\u001b[0m\u001b[1;33m.\u001b[0m\u001b[0mexperimental_get_tracing_count\u001b[0m\u001b[1;33m(\u001b[0m\u001b[1;33m)\u001b[0m\u001b[1;33m\u001b[0m\u001b[1;33m\u001b[0m\u001b[0m\n",
      "\u001b[1;32mc:\\Users\\stati\\Git\\Deep-Learning\\tf\\lib\\site-packages\\tensorflow\\python\\eager\\def_function.py\u001b[0m in \u001b[0;36m_call\u001b[1;34m(self, *args, **kwds)\u001b[0m\n\u001b[0;32m    915\u001b[0m       \u001b[1;31m# In this case we have created variables on the first call, so we run the\u001b[0m\u001b[1;33m\u001b[0m\u001b[1;33m\u001b[0m\u001b[1;33m\u001b[0m\u001b[0m\n\u001b[0;32m    916\u001b[0m       \u001b[1;31m# defunned version which is guaranteed to never create variables.\u001b[0m\u001b[1;33m\u001b[0m\u001b[1;33m\u001b[0m\u001b[1;33m\u001b[0m\u001b[0m\n\u001b[1;32m--> 917\u001b[1;33m       \u001b[1;32mreturn\u001b[0m \u001b[0mself\u001b[0m\u001b[1;33m.\u001b[0m\u001b[0m_stateless_fn\u001b[0m\u001b[1;33m(\u001b[0m\u001b[1;33m*\u001b[0m\u001b[0margs\u001b[0m\u001b[1;33m,\u001b[0m \u001b[1;33m**\u001b[0m\u001b[0mkwds\u001b[0m\u001b[1;33m)\u001b[0m  \u001b[1;31m# pylint: disable=not-callable\u001b[0m\u001b[1;33m\u001b[0m\u001b[1;33m\u001b[0m\u001b[0m\n\u001b[0m\u001b[0;32m    918\u001b[0m     \u001b[1;32melif\u001b[0m \u001b[0mself\u001b[0m\u001b[1;33m.\u001b[0m\u001b[0m_stateful_fn\u001b[0m \u001b[1;32mis\u001b[0m \u001b[1;32mnot\u001b[0m \u001b[1;32mNone\u001b[0m\u001b[1;33m:\u001b[0m\u001b[1;33m\u001b[0m\u001b[1;33m\u001b[0m\u001b[0m\n\u001b[0;32m    919\u001b[0m       \u001b[1;31m# Release the lock early so that multiple threads can perform the call\u001b[0m\u001b[1;33m\u001b[0m\u001b[1;33m\u001b[0m\u001b[1;33m\u001b[0m\u001b[0m\n",
      "\u001b[1;32mc:\\Users\\stati\\Git\\Deep-Learning\\tf\\lib\\site-packages\\tensorflow\\python\\eager\\function.py\u001b[0m in \u001b[0;36m__call__\u001b[1;34m(self, *args, **kwargs)\u001b[0m\n\u001b[0;32m   3021\u001b[0m       (graph_function,\n\u001b[0;32m   3022\u001b[0m        filtered_flat_args) = self._maybe_define_function(args, kwargs)\n\u001b[1;32m-> 3023\u001b[1;33m     return graph_function._call_flat(\n\u001b[0m\u001b[0;32m   3024\u001b[0m         filtered_flat_args, captured_inputs=graph_function.captured_inputs)  # pylint: disable=protected-access\n\u001b[0;32m   3025\u001b[0m \u001b[1;33m\u001b[0m\u001b[0m\n",
      "\u001b[1;32mc:\\Users\\stati\\Git\\Deep-Learning\\tf\\lib\\site-packages\\tensorflow\\python\\eager\\function.py\u001b[0m in \u001b[0;36m_call_flat\u001b[1;34m(self, args, captured_inputs, cancellation_manager)\u001b[0m\n\u001b[0;32m   1958\u001b[0m         and executing_eagerly):\n\u001b[0;32m   1959\u001b[0m       \u001b[1;31m# No tape is watching; skip to running the function.\u001b[0m\u001b[1;33m\u001b[0m\u001b[1;33m\u001b[0m\u001b[1;33m\u001b[0m\u001b[0m\n\u001b[1;32m-> 1960\u001b[1;33m       return self._build_call_outputs(self._inference_function.call(\n\u001b[0m\u001b[0;32m   1961\u001b[0m           ctx, args, cancellation_manager=cancellation_manager))\n\u001b[0;32m   1962\u001b[0m     forward_backward = self._select_forward_and_backward_functions(\n",
      "\u001b[1;32mc:\\Users\\stati\\Git\\Deep-Learning\\tf\\lib\\site-packages\\tensorflow\\python\\eager\\function.py\u001b[0m in \u001b[0;36mcall\u001b[1;34m(self, ctx, args, cancellation_manager)\u001b[0m\n\u001b[0;32m    589\u001b[0m       \u001b[1;32mwith\u001b[0m \u001b[0m_InterpolateFunctionError\u001b[0m\u001b[1;33m(\u001b[0m\u001b[0mself\u001b[0m\u001b[1;33m)\u001b[0m\u001b[1;33m:\u001b[0m\u001b[1;33m\u001b[0m\u001b[1;33m\u001b[0m\u001b[0m\n\u001b[0;32m    590\u001b[0m         \u001b[1;32mif\u001b[0m \u001b[0mcancellation_manager\u001b[0m \u001b[1;32mis\u001b[0m \u001b[1;32mNone\u001b[0m\u001b[1;33m:\u001b[0m\u001b[1;33m\u001b[0m\u001b[1;33m\u001b[0m\u001b[0m\n\u001b[1;32m--> 591\u001b[1;33m           outputs = execute.execute(\n\u001b[0m\u001b[0;32m    592\u001b[0m               \u001b[0mstr\u001b[0m\u001b[1;33m(\u001b[0m\u001b[0mself\u001b[0m\u001b[1;33m.\u001b[0m\u001b[0msignature\u001b[0m\u001b[1;33m.\u001b[0m\u001b[0mname\u001b[0m\u001b[1;33m)\u001b[0m\u001b[1;33m,\u001b[0m\u001b[1;33m\u001b[0m\u001b[1;33m\u001b[0m\u001b[0m\n\u001b[0;32m    593\u001b[0m               \u001b[0mnum_outputs\u001b[0m\u001b[1;33m=\u001b[0m\u001b[0mself\u001b[0m\u001b[1;33m.\u001b[0m\u001b[0m_num_outputs\u001b[0m\u001b[1;33m,\u001b[0m\u001b[1;33m\u001b[0m\u001b[1;33m\u001b[0m\u001b[0m\n",
      "\u001b[1;32mc:\\Users\\stati\\Git\\Deep-Learning\\tf\\lib\\site-packages\\tensorflow\\python\\eager\\execute.py\u001b[0m in \u001b[0;36mquick_execute\u001b[1;34m(op_name, num_outputs, inputs, attrs, ctx, name)\u001b[0m\n\u001b[0;32m     57\u001b[0m   \u001b[1;32mtry\u001b[0m\u001b[1;33m:\u001b[0m\u001b[1;33m\u001b[0m\u001b[1;33m\u001b[0m\u001b[0m\n\u001b[0;32m     58\u001b[0m     \u001b[0mctx\u001b[0m\u001b[1;33m.\u001b[0m\u001b[0mensure_initialized\u001b[0m\u001b[1;33m(\u001b[0m\u001b[1;33m)\u001b[0m\u001b[1;33m\u001b[0m\u001b[1;33m\u001b[0m\u001b[0m\n\u001b[1;32m---> 59\u001b[1;33m     tensors = pywrap_tfe.TFE_Py_Execute(ctx._handle, device_name, op_name,\n\u001b[0m\u001b[0;32m     60\u001b[0m                                         inputs, attrs, num_outputs)\n\u001b[0;32m     61\u001b[0m   \u001b[1;32mexcept\u001b[0m \u001b[0mcore\u001b[0m\u001b[1;33m.\u001b[0m\u001b[0m_NotOkStatusException\u001b[0m \u001b[1;32mas\u001b[0m \u001b[0me\u001b[0m\u001b[1;33m:\u001b[0m\u001b[1;33m\u001b[0m\u001b[1;33m\u001b[0m\u001b[0m\n",
      "\u001b[1;31mKeyboardInterrupt\u001b[0m: "
     ]
    }
   ],
   "metadata": {}
  },
  {
   "cell_type": "code",
   "execution_count": null,
   "source": [
    "model = keras.Sequential([\r\n",
    "    layers.Dense(4, activation=\"relu\"),\r\n",
    "    layers.Dense(4, activation=\"relu\"),\r\n",
    "    layers.Dense(1, activation=\"sigmoid\")\r\n",
    "])\r\n",
    "model.compile(optimizer=\"rmsprop\",\r\n",
    "              loss=\"binary_crossentropy\",\r\n",
    "              metrics=[\"accuracy\"])\r\n",
    "history_smaller_model = model.fit(\r\n",
    "    train_data, train_labels,\r\n",
    "    epochs=20, batch_size=512, validation_split=0.4)"
   ],
   "outputs": [
    {
     "output_type": "stream",
     "name": "stdout",
     "text": [
      "Epoch 1/20\n",
      "30/30 [==============================] - 1s 22ms/step - loss: 0.6470 - accuracy: 0.6192 - val_loss: 0.5945 - val_accuracy: 0.7004\n",
      "Epoch 2/20\n",
      "30/30 [==============================] - 0s 16ms/step - loss: 0.5551 - accuracy: 0.7768 - val_loss: 0.5395 - val_accuracy: 0.7779\n",
      "Epoch 3/20\n",
      "30/30 [==============================] - 0s 16ms/step - loss: 0.4969 - accuracy: 0.8441 - val_loss: 0.4976 - val_accuracy: 0.8405\n",
      "Epoch 4/20\n",
      "30/30 [==============================] - 0s 16ms/step - loss: 0.4480 - accuracy: 0.8845 - val_loss: 0.4672 - val_accuracy: 0.8345\n",
      "Epoch 5/20\n",
      "30/30 [==============================] - 0s 16ms/step - loss: 0.4015 - accuracy: 0.9075 - val_loss: 0.4258 - val_accuracy: 0.8728\n",
      "Epoch 6/20\n",
      "30/30 [==============================] - 0s 16ms/step - loss: 0.3546 - accuracy: 0.9239 - val_loss: 0.4042 - val_accuracy: 0.8576\n",
      "Epoch 7/20\n",
      "30/30 [==============================] - 0s 16ms/step - loss: 0.3002 - accuracy: 0.9362 - val_loss: 0.3374 - val_accuracy: 0.8863\n",
      "Epoch 8/20\n",
      "30/30 [==============================] - 0s 16ms/step - loss: 0.2378 - accuracy: 0.9456 - val_loss: 0.3087 - val_accuracy: 0.8855\n",
      "Epoch 9/20\n",
      "30/30 [==============================] - 0s 16ms/step - loss: 0.1980 - accuracy: 0.9525 - val_loss: 0.2886 - val_accuracy: 0.8889\n",
      "Epoch 10/20\n",
      "30/30 [==============================] - 0s 16ms/step - loss: 0.1708 - accuracy: 0.9565 - val_loss: 0.2812 - val_accuracy: 0.8894\n",
      "Epoch 11/20\n",
      "30/30 [==============================] - 0s 16ms/step - loss: 0.1500 - accuracy: 0.9618 - val_loss: 0.2839 - val_accuracy: 0.8879\n",
      "Epoch 12/20\n",
      "30/30 [==============================] - 0s 16ms/step - loss: 0.1346 - accuracy: 0.9645 - val_loss: 0.2804 - val_accuracy: 0.8888\n",
      "Epoch 13/20\n",
      "30/30 [==============================] - 0s 16ms/step - loss: 0.1209 - accuracy: 0.9689 - val_loss: 0.2940 - val_accuracy: 0.8870\n",
      "Epoch 14/20\n",
      "30/30 [==============================] - 0s 15ms/step - loss: 0.1093 - accuracy: 0.9721 - val_loss: 0.2909 - val_accuracy: 0.8879\n",
      "Epoch 15/20\n",
      "30/30 [==============================] - 0s 17ms/step - loss: 0.0990 - accuracy: 0.9751 - val_loss: 0.3043 - val_accuracy: 0.8857\n",
      "Epoch 16/20\n",
      "30/30 [==============================] - 0s 16ms/step - loss: 0.0898 - accuracy: 0.9782 - val_loss: 0.3082 - val_accuracy: 0.8844\n",
      "Epoch 17/20\n",
      "30/30 [==============================] - 0s 16ms/step - loss: 0.0821 - accuracy: 0.9804 - val_loss: 0.3188 - val_accuracy: 0.8851\n",
      "Epoch 18/20\n",
      "30/30 [==============================] - 0s 16ms/step - loss: 0.0747 - accuracy: 0.9829 - val_loss: 0.3289 - val_accuracy: 0.8836\n",
      "Epoch 19/20\n",
      "30/30 [==============================] - 0s 16ms/step - loss: 0.0674 - accuracy: 0.9857 - val_loss: 0.3395 - val_accuracy: 0.8824\n",
      "Epoch 20/20\n",
      "30/30 [==============================] - 0s 15ms/step - loss: 0.0612 - accuracy: 0.9861 - val_loss: 0.3611 - val_accuracy: 0.8819\n"
     ]
    }
   ],
   "metadata": {}
  },
  {
   "cell_type": "code",
   "execution_count": null,
   "source": [
    "model = keras.Sequential([\r\n",
    "    layers.Dense(512, activation=\"relu\"),  #超大\r\n",
    "    layers.Dense(512, activation=\"relu\"),\r\n",
    "    layers.Dense(1, activation=\"sigmoid\")\r\n",
    "])\r\n",
    "model.compile(optimizer=\"rmsprop\",\r\n",
    "              loss=\"binary_crossentropy\",\r\n",
    "              metrics=[\"accuracy\"])\r\n",
    "history_larger_model = model.fit(train_data,\r\n",
    "                                 train_labels,\r\n",
    "                                 epochs=20,\r\n",
    "                                 batch_size=512,\r\n",
    "                                 validation_split=0.4)"
   ],
   "outputs": [
    {
     "output_type": "stream",
     "name": "stdout",
     "text": [
      "Epoch 1/20\n",
      "30/30 [==============================] - 1s 27ms/step - loss: 0.5393 - accuracy: 0.7524 - val_loss: 0.7808 - val_accuracy: 0.6777\n",
      "Epoch 2/20\n",
      "30/30 [==============================] - 1s 19ms/step - loss: 0.2645 - accuracy: 0.8961 - val_loss: 0.2657 - val_accuracy: 0.8937\n",
      "Epoch 3/20\n",
      "30/30 [==============================] - 1s 19ms/step - loss: 0.1539 - accuracy: 0.9433 - val_loss: 0.3005 - val_accuracy: 0.8864\n",
      "Epoch 4/20\n",
      "30/30 [==============================] - 1s 18ms/step - loss: 0.0665 - accuracy: 0.9760 - val_loss: 0.3540 - val_accuracy: 0.8890\n",
      "Epoch 5/20\n",
      "30/30 [==============================] - 1s 19ms/step - loss: 0.1119 - accuracy: 0.9747 - val_loss: 0.3760 - val_accuracy: 0.8885\n",
      "Epoch 6/20\n",
      "30/30 [==============================] - 1s 18ms/step - loss: 0.0036 - accuracy: 0.9997 - val_loss: 0.5596 - val_accuracy: 0.8834\n",
      "Epoch 7/20\n",
      "30/30 [==============================] - 1s 18ms/step - loss: 5.1067e-04 - accuracy: 1.0000 - val_loss: 0.5905 - val_accuracy: 0.8891\n",
      "Epoch 8/20\n",
      "30/30 [==============================] - 1s 18ms/step - loss: 8.9386e-05 - accuracy: 1.0000 - val_loss: 0.7497 - val_accuracy: 0.8869\n",
      "Epoch 9/20\n",
      "30/30 [==============================] - 1s 18ms/step - loss: 1.5367e-05 - accuracy: 1.0000 - val_loss: 0.8348 - val_accuracy: 0.8884\n",
      "Epoch 10/20\n",
      "30/30 [==============================] - 1s 19ms/step - loss: 3.2580e-06 - accuracy: 1.0000 - val_loss: 0.9356 - val_accuracy: 0.8862\n",
      "Epoch 11/20\n",
      "30/30 [==============================] - 1s 20ms/step - loss: 8.6409e-07 - accuracy: 1.0000 - val_loss: 1.0234 - val_accuracy: 0.8870\n",
      "Epoch 12/20\n",
      "30/30 [==============================] - 1s 20ms/step - loss: 2.7032e-07 - accuracy: 1.0000 - val_loss: 1.0963 - val_accuracy: 0.8870\n",
      "Epoch 13/20\n",
      "30/30 [==============================] - 1s 19ms/step - loss: 9.6278e-08 - accuracy: 1.0000 - val_loss: 1.1713 - val_accuracy: 0.8852\n",
      "Epoch 14/20\n",
      "30/30 [==============================] - 1s 19ms/step - loss: 4.5791e-08 - accuracy: 1.0000 - val_loss: 1.2019 - val_accuracy: 0.8859\n",
      "Epoch 15/20\n",
      "30/30 [==============================] - 1s 19ms/step - loss: 2.6782e-08 - accuracy: 1.0000 - val_loss: 1.2335 - val_accuracy: 0.8859\n",
      "Epoch 16/20\n",
      "30/30 [==============================] - 1s 19ms/step - loss: 1.8640e-08 - accuracy: 1.0000 - val_loss: 1.2507 - val_accuracy: 0.8861\n",
      "Epoch 17/20\n",
      "30/30 [==============================] - 1s 19ms/step - loss: 1.4252e-08 - accuracy: 1.0000 - val_loss: 1.2692 - val_accuracy: 0.8856\n",
      "Epoch 18/20\n",
      "30/30 [==============================] - 1s 19ms/step - loss: 1.1598e-08 - accuracy: 1.0000 - val_loss: 1.2779 - val_accuracy: 0.8861\n",
      "Epoch 19/20\n",
      "30/30 [==============================] - 1s 19ms/step - loss: 9.7380e-09 - accuracy: 1.0000 - val_loss: 1.2880 - val_accuracy: 0.8862\n",
      "Epoch 20/20\n",
      "30/30 [==============================] - 1s 18ms/step - loss: 8.4106e-09 - accuracy: 1.0000 - val_loss: 1.2976 - val_accuracy: 0.8862\n"
     ]
    }
   ],
   "metadata": {}
  },
  {
   "cell_type": "markdown",
   "source": [
    "我们取 3 个模型,输入相同的数据,查看验证集结果.\r\n",
    "\r\n",
    "- 原始模型.16x16x1.\r\n",
    "- 更小的模型,4x4x1.\r\n",
    "- 更大的模型,512x512x1."
   ],
   "metadata": {}
  },
  {
   "cell_type": "code",
   "execution_count": null,
   "source": [
    "import matplotlib.pyplot as plt\r\n",
    "\r\n",
    "val_loss = history_original.history[\"val_loss\"]\r\n",
    "val_loss_smaller = history_smaller_model.history[\"val_loss\"]\r\n",
    "epochs = range(1, 21)  #x轴\r\n",
    "\r\n",
    "plt.plot(epochs, val_loss, \"b--\",\r\n",
    "         label=\"Validation loss with original model\")\r\n",
    "plt.plot(epochs, val_loss_smaller, \"b-\",\r\n",
    "         label=\"Validation loss with smaller model\")\r\n",
    "\r\n",
    "plt.title(\"Original model vs. smaller model on IMDB review classification\")\r\n",
    "plt.xlabel(\"Epochs\")\r\n",
    "plt.ylabel(\"Loss\")\r\n",
    "plt.legend()"
   ],
   "outputs": [
    {
     "output_type": "execute_result",
     "data": {
      "text/plain": [
       "<matplotlib.legend.Legend at 0x16cb38ef520>"
      ]
     },
     "metadata": {},
     "execution_count": 6
    },
    {
     "output_type": "display_data",
     "data": {
      "text/plain": [
       "<Figure size 432x288 with 1 Axes>"
      ],
      "image/png": "[encoded data removed]"
     },
     "metadata": {
      "needs_background": "light"
     }
    }
   ],
   "metadata": {}
  },
  {
   "cell_type": "markdown",
   "source": [
    "更小的模型优化能力弱,在第 7~8 轮才到过拟合,原始模型到 5 轮就过拟合了.而且过拟合后,较少模型泛化性能下降也更慢.\r\n"
   ],
   "metadata": {}
  },
  {
   "cell_type": "code",
   "execution_count": null,
   "source": [
    "val_loss = history_original.history[\"val_loss\"]\r\n",
    "val_loss_history = history_larger_model.history[\"val_loss\"]\r\n",
    "epochs = range(1, 21)\r\n",
    "plt.plot(epochs, val_loss, \"b--\", label=\"Validation loss with original model\")\r\n",
    "plt.plot(epochs,\r\n",
    "         val_loss_history,\r\n",
    "         \"b-\",\r\n",
    "         label=\"Validation loss with larger model\")\r\n",
    "\r\n",
    "plt.title(\"Original model vs. larger model on IMDB review classification\")\r\n",
    "plt.xlabel(\"Epochs\")\r\n",
    "plt.ylabel(\"Loss\")\r\n",
    "plt.legend()"
   ],
   "outputs": [
    {
     "output_type": "execute_result",
     "data": {
      "text/plain": [
       "<matplotlib.legend.Legend at 0x16cb3927250>"
      ]
     },
     "metadata": {},
     "execution_count": 7
    },
    {
     "output_type": "display_data",
     "data": {
      "text/plain": [
       "<Figure size 432x288 with 1 Axes>"
      ],
      "image/png": "[encoded data removed]"
     },
     "metadata": {
      "needs_background": "light"
     }
    }
   ],
   "metadata": {}
  },
  {
   "cell_type": "markdown",
   "source": [
    "更大的模型结果不用说了,刚开始就过拟合了,之后泛化能力急剧下降.最后在训练集上准确度都到 1 了...\r\n"
   ],
   "metadata": {}
  },
  {
   "cell_type": "markdown",
   "source": [
    "### 权重正则化\r\n",
    "\r\n",
    "假设某种事情有两种解释,那么最正确的往往是较为简单的那个. --> 奥卡姆剃刀.(干脆一切都是一场 Game 得了,~~吐槽~~)\r\n",
    "\r\n",
    "对应到神经网络,就是越简单的模型越不容易拟合,也越不容易过拟合...(~~这是废话吗~~)\r\n",
    "\r\n",
    "这一节的权重正则化,就是给模型参数调整时增加成本,使得模型会偏好选择较小的权重.方法是给损失函数添加成本,参数调整越大,成本越高.(俗称绑沙袋,小步走还能走,大步跑得累死).有两种~~沙袋~~成本.\r\n",
    "\r\n",
    "- L1: 增加的成本与权重系数绝对值成正比.(线性)\r\n",
    "- L2: 增加的都是与权重系数绝对值的平方成正比.(非线性),神经网络 L2 正则化也叫权重衰减,两者等价.\r\n"
   ],
   "metadata": {}
  },
  {
   "cell_type": "code",
   "execution_count": null,
   "source": [
    "from tensorflow.keras import regularizers\r\n",
    "\r\n",
    "model = keras.Sequential([\r\n",
    "    layers.Dense(16,\r\n",
    "                 kernel_regularizer=regularizers.l2(0.002),\r\n",
    "                 activation=\"relu\"),\r\n",
    "    layers.Dense(16,\r\n",
    "                 kernel_regularizer=regularizers.l2(0.002),\r\n",
    "                 activation=\"relu\"),\r\n",
    "    layers.Dense(1, activation=\"sigmoid\")\r\n",
    "])\r\n",
    "model.compile(optimizer=\"rmsprop\",\r\n",
    "              loss=\"binary_crossentropy\",\r\n",
    "              metrics=[\"accuracy\"])\r\n",
    "history_l2_reg = model.fit(train_data,\r\n",
    "                           train_labels,\r\n",
    "                           epochs=20,\r\n",
    "                           batch_size=512,\r\n",
    "                           validation_split=0.4)\r\n"
   ],
   "outputs": [
    {
     "output_type": "stream",
     "name": "stdout",
     "text": [
      "Epoch 1/20\n",
      "30/30 [==============================] - 1s 21ms/step - loss: 0.5301 - accuracy: 0.7745 - val_loss: 0.3993 - val_accuracy: 0.8568\n",
      "Epoch 2/20\n",
      "30/30 [==============================] - 0s 15ms/step - loss: 0.3186 - accuracy: 0.8998 - val_loss: 0.3062 - val_accuracy: 0.8909\n",
      "Epoch 3/20\n",
      "30/30 [==============================] - 0s 15ms/step - loss: 0.2301 - accuracy: 0.9252 - val_loss: 0.2884 - val_accuracy: 0.8866\n",
      "Epoch 4/20\n",
      "30/30 [==============================] - 0s 14ms/step - loss: 0.1793 - accuracy: 0.9430 - val_loss: 0.3037 - val_accuracy: 0.8781\n",
      "Epoch 5/20\n",
      "30/30 [==============================] - 0s 16ms/step - loss: 0.1458 - accuracy: 0.9536 - val_loss: 0.2795 - val_accuracy: 0.8892\n",
      "Epoch 6/20\n",
      "30/30 [==============================] - 0s 16ms/step - loss: 0.1201 - accuracy: 0.9646 - val_loss: 0.2908 - val_accuracy: 0.8875\n",
      "Epoch 7/20\n",
      "30/30 [==============================] - 0s 17ms/step - loss: 0.1005 - accuracy: 0.9691 - val_loss: 0.3062 - val_accuracy: 0.8854\n",
      "Epoch 8/20\n",
      "30/30 [==============================] - 0s 16ms/step - loss: 0.0831 - accuracy: 0.9763 - val_loss: 0.3291 - val_accuracy: 0.8831\n",
      "Epoch 9/20\n",
      "30/30 [==============================] - 0s 17ms/step - loss: 0.0681 - accuracy: 0.9815 - val_loss: 0.3535 - val_accuracy: 0.8786\n",
      "Epoch 10/20\n",
      "30/30 [==============================] - 0s 16ms/step - loss: 0.0555 - accuracy: 0.9859 - val_loss: 0.3864 - val_accuracy: 0.8789\n",
      "Epoch 11/20\n",
      "30/30 [==============================] - 0s 17ms/step - loss: 0.0470 - accuracy: 0.9879 - val_loss: 0.4064 - val_accuracy: 0.8766\n",
      "Epoch 12/20\n",
      "30/30 [==============================] - 0s 17ms/step - loss: 0.0367 - accuracy: 0.9921 - val_loss: 0.4588 - val_accuracy: 0.8679\n",
      "Epoch 13/20\n",
      "30/30 [==============================] - 1s 17ms/step - loss: 0.0328 - accuracy: 0.9922 - val_loss: 0.4626 - val_accuracy: 0.8743\n",
      "Epoch 14/20\n",
      "30/30 [==============================] - 0s 16ms/step - loss: 0.0232 - accuracy: 0.9959 - val_loss: 0.4980 - val_accuracy: 0.8699\n",
      "Epoch 15/20\n",
      "30/30 [==============================] - 1s 17ms/step - loss: 0.0196 - accuracy: 0.9967 - val_loss: 0.5339 - val_accuracy: 0.8708\n",
      "Epoch 16/20\n",
      "30/30 [==============================] - 0s 16ms/step - loss: 0.0163 - accuracy: 0.9971 - val_loss: 0.5648 - val_accuracy: 0.8698\n",
      "Epoch 17/20\n",
      "30/30 [==============================] - 0s 17ms/step - loss: 0.0115 - accuracy: 0.9985 - val_loss: 0.5969 - val_accuracy: 0.8705\n",
      "Epoch 18/20\n",
      "30/30 [==============================] - 0s 16ms/step - loss: 0.0129 - accuracy: 0.9975 - val_loss: 0.6371 - val_accuracy: 0.8679\n",
      "Epoch 19/20\n",
      "30/30 [==============================] - 1s 18ms/step - loss: 0.0057 - accuracy: 0.9996 - val_loss: 0.6725 - val_accuracy: 0.8654\n",
      "Epoch 20/20\n",
      "30/30 [==============================] - 0s 15ms/step - loss: 0.0087 - accuracy: 0.9982 - val_loss: 0.7109 - val_accuracy: 0.8659\n"
     ]
    }
   ],
   "metadata": {}
  },
  {
   "cell_type": "code",
   "execution_count": null,
   "source": [
    "val_loss = history_original.history[\"val_loss\"]\r\n",
    "val_loss_l2 = history_l2_reg.history[\"val_loss\"]\r\n",
    "epochs = range(1, 21)\r\n",
    "\r\n",
    "plt.plot(epochs, val_loss, \"b--\", label=\"Validation loss with original model\")\r\n",
    "plt.plot(epochs,\r\n",
    "         val_loss_l2,\r\n",
    "         \"b-\",\r\n",
    "         label=\"Validation loss with l2-regularized model\")\r\n",
    "\r\n",
    "plt.title(\"Effect of L2 weight regularization on validation loss\")\r\n",
    "plt.xlabel(\"Epochs\")\r\n",
    "plt.ylabel(\"Loss\")\r\n",
    "plt.legend()"
   ],
   "outputs": [
    {
     "output_type": "execute_result",
     "data": {
      "text/plain": [
       "<matplotlib.legend.Legend at 0x16cb3a2f700>"
      ]
     },
     "metadata": {},
     "execution_count": 10
    },
    {
     "output_type": "display_data",
     "data": {
      "text/plain": [
       "<Figure size 432x288 with 1 Axes>"
      ],
      "image/png": "[encoded data removed]"
     },
     "metadata": {
      "needs_background": "light"
     }
    }
   ],
   "metadata": {}
  },
  {
   "cell_type": "markdown",
   "source": [
    "似乎和说好的不一样啊..\r\n",
    "\r\n",
    "总而言之,权重正则化如下\r\n",
    "\r\n",
    "- `regularizers.l2(0.002)` L2 正则 权重绝对值^2 * 0.002.\r\n",
    "- `regularizers.l1(0.001)` L1 正则 权重绝对值 * 0.001.\r\n",
    "- `regularizers.l1_l2(l1=0.001, l2=0.001)` L1 L2 同时.\r\n"
   ],
   "metadata": {}
  },
  {
   "cell_type": "markdown",
   "source": [
    "## dropout (drop it!)\r\n",
    "\r\n",
    "dropout 是多伦多大学 Geoffrey  Hinton和他的学生开发神经网络正则化方法.\r\n",
    "\r\n",
    "直观上是对某一层 dropout 就是将这一层的输出,按照一定比例(通常 0.2~0.5)丢弃归 0.但是测试时这些单元没有舍弃,这一层的输出值要按照 dropout 比例缩小,以平衡模型的容量.\r\n",
    "\r\n",
    "其思想是随机失活,引入层与层之间的噪声,避免神经网络几个层一块记住训练集某些特征,而影响模型泛化能力.\r\n",
    "\r\n",
    "keras 中引入 dropout 尤为简单,层之间添加 `layers.Dropout(0.5)`..\r\n"
   ],
   "metadata": {}
  },
  {
   "cell_type": "code",
   "execution_count": 13,
   "source": [
    "model = keras.Sequential([\r\n",
    "    layers.Dense(16, activation=\"relu\"),\r\n",
    "    layers.Dropout(0.5),\r\n",
    "    layers.Dense(16, activation=\"relu\"),\r\n",
    "    layers.Dropout(0.5),\r\n",
    "    layers.Dense(1, activation=\"sigmoid\")\r\n",
    "])\r\n",
    "model.compile(optimizer=\"rmsprop\",\r\n",
    "              loss=\"binary_crossentropy\",\r\n",
    "              metrics=[\"accuracy\"])\r\n",
    "history_dropout = model.fit(\r\n",
    "    train_data, train_labels,\r\n",
    "    epochs=20, batch_size=512, validation_split=0.4)"
   ],
   "outputs": [
    {
     "output_type": "stream",
     "name": "stdout",
     "text": [
      "Epoch 1/20\n",
      "30/30 [==============================] - 1s 26ms/step - loss: 0.6353 - accuracy: 0.6259 - val_loss: 0.5452 - val_accuracy: 0.8364\n",
      "Epoch 2/20\n",
      "30/30 [==============================] - 1s 19ms/step - loss: 0.5229 - accuracy: 0.7568 - val_loss: 0.4337 - val_accuracy: 0.8720\n",
      "Epoch 3/20\n",
      "30/30 [==============================] - 1s 18ms/step - loss: 0.4359 - accuracy: 0.8189 - val_loss: 0.3570 - val_accuracy: 0.8809\n",
      "Epoch 4/20\n",
      "30/30 [==============================] - 1s 18ms/step - loss: 0.3752 - accuracy: 0.8568 - val_loss: 0.3157 - val_accuracy: 0.8796\n",
      "Epoch 5/20\n",
      "30/30 [==============================] - 1s 17ms/step - loss: 0.3247 - accuracy: 0.8801 - val_loss: 0.2856 - val_accuracy: 0.8904\n",
      "Epoch 6/20\n",
      "30/30 [==============================] - 1s 18ms/step - loss: 0.2806 - accuracy: 0.9025 - val_loss: 0.2795 - val_accuracy: 0.8895\n",
      "Epoch 7/20\n",
      "30/30 [==============================] - 1s 18ms/step - loss: 0.2472 - accuracy: 0.9177 - val_loss: 0.2844 - val_accuracy: 0.8911\n",
      "Epoch 8/20\n",
      "30/30 [==============================] - 1s 19ms/step - loss: 0.2186 - accuracy: 0.9264 - val_loss: 0.2957 - val_accuracy: 0.8903\n",
      "Epoch 9/20\n",
      "30/30 [==============================] - 1s 19ms/step - loss: 0.1988 - accuracy: 0.9353 - val_loss: 0.2974 - val_accuracy: 0.8856\n",
      "Epoch 10/20\n",
      "30/30 [==============================] - 1s 18ms/step - loss: 0.1730 - accuracy: 0.9449 - val_loss: 0.3072 - val_accuracy: 0.8880\n",
      "Epoch 11/20\n",
      "30/30 [==============================] - 1s 18ms/step - loss: 0.1581 - accuracy: 0.9508 - val_loss: 0.3335 - val_accuracy: 0.8877\n",
      "Epoch 12/20\n",
      "30/30 [==============================] - 1s 18ms/step - loss: 0.1413 - accuracy: 0.9567 - val_loss: 0.3752 - val_accuracy: 0.8853\n",
      "Epoch 13/20\n",
      "30/30 [==============================] - 1s 18ms/step - loss: 0.1343 - accuracy: 0.9598 - val_loss: 0.3886 - val_accuracy: 0.8882\n",
      "Epoch 14/20\n",
      "30/30 [==============================] - 1s 18ms/step - loss: 0.1208 - accuracy: 0.9606 - val_loss: 0.4028 - val_accuracy: 0.8877\n",
      "Epoch 15/20\n",
      "30/30 [==============================] - 1s 17ms/step - loss: 0.1120 - accuracy: 0.9661 - val_loss: 0.4263 - val_accuracy: 0.8871\n",
      "Epoch 16/20\n",
      "30/30 [==============================] - 1s 18ms/step - loss: 0.1020 - accuracy: 0.9691 - val_loss: 0.4477 - val_accuracy: 0.8865\n",
      "Epoch 17/20\n",
      "30/30 [==============================] - 1s 18ms/step - loss: 0.1003 - accuracy: 0.9689 - val_loss: 0.4681 - val_accuracy: 0.8868\n",
      "Epoch 18/20\n",
      "30/30 [==============================] - 1s 17ms/step - loss: 0.0968 - accuracy: 0.9704 - val_loss: 0.4829 - val_accuracy: 0.8870\n",
      "Epoch 19/20\n",
      "30/30 [==============================] - 1s 17ms/step - loss: 0.0898 - accuracy: 0.9716 - val_loss: 0.4971 - val_accuracy: 0.8868\n",
      "Epoch 20/20\n",
      "30/30 [==============================] - 1s 18ms/step - loss: 0.0835 - accuracy: 0.9742 - val_loss: 0.5675 - val_accuracy: 0.8850\n"
     ]
    }
   ],
   "metadata": {}
  },
  {
   "cell_type": "code",
   "execution_count": 14,
   "source": [
    "val_loss = history_original.history[\"val_loss\"]\r\n",
    "val_loss_dropout = history_dropout.history[\"val_loss\"]\r\n",
    "epochs = range(1, 21)\r\n",
    "\r\n",
    "plt.plot(epochs, val_loss, \"b--\", label=\"Validation loss with original model\")\r\n",
    "plt.plot(epochs,\r\n",
    "         val_loss_dropout,\r\n",
    "         \"b-\",\r\n",
    "         label=\"Validation loss with dropout model\")\r\n",
    "\r\n",
    "plt.title(\" Effect of dropout on validation loss\")\r\n",
    "plt.xlabel(\"Epochs\")\r\n",
    "plt.ylabel(\"Loss\")\r\n",
    "plt.legend()"
   ],
   "outputs": [
    {
     "output_type": "execute_result",
     "data": {
      "text/plain": [
       "<matplotlib.legend.Legend at 0x16b12f31f40>"
      ]
     },
     "metadata": {},
     "execution_count": 14
    },
    {
     "output_type": "display_data",
     "data": {
      "text/plain": [
       "<Figure size 432x288 with 1 Axes>"
      ],
      "image/png": "[encoded data removed]"
     },
     "metadata": {
      "needs_background": "light"
     }
    }
   ],
   "metadata": {}
  },
  {
   "cell_type": "markdown",
   "source": [
    "效果还不错.\r\n"
   ],
   "metadata": {}
  },
  {
   "cell_type": "markdown",
   "source": [
    "最后简而言之,要 MAX 模型泛化\r\n",
    "\r\n",
    "- 更多的数据\r\n",
    "- 更好的特征\r\n",
    "- 减小网络容量\r\n",
    "- 权重的正则化\r\n",
    "- 使用 dropout\r\n"
   ],
   "metadata": {}
  }
 ],
 "metadata": {
  "orig_nbformat": 4,
  "language_info": {
   "name": "python",
   "version": "3.9.6",
   "mimetype": "text/x-python",
   "codemirror_mode": {
    "name": "ipython",
    "version": 3
   },
   "pygments_lexer": "ipython3",
   "nbconvert_exporter": "python",
   "file_extension": ".py"
  },
  "kernelspec": {
   "name": "python3",
   "display_name": "Python 3.9.6 64-bit ('tf': venv)"
  },
  "interpreter": {
   "hash": "aac46f597da82ce9618f0e6f094e6d401f1ab16d9be89acf77ce1dd63d67a333"
  }
 },
 "nbformat": 4,
 "nbformat_minor": 2
}