{
 "cells": [
  {
   "cell_type": "markdown",
   "source": [
    "# 机器学习的目标\r\n",
    "\r\n",
    "第 4 章的 3 个例子,尽管互相从模型到输入都有一定差别,但是无一例外,没当经过几个轮次后,模型就开始过拟合.在测试集上效果开始变差.\r\n",
    "\r\n",
    "模型的泛化与优化是机器学习的根本矛盾,而过拟合是如何产生的?如何得到泛化性能更好的模型?\r\n"
   ],
   "metadata": {}
  },
  {
   "cell_type": "markdown",
   "source": [
    "## 理解过拟合\r\n",
    "\r\n",
    "在所有能见到的模型和数据集上,都会存在过拟合问题,随着训练进行,模型在训练集上表现越来越好,但是超过一定程度模型在测试集上表现反而开始变差.如下图.\r\n",
    "\r\n",
    "![typical_overfitting](./typical_overfitting.png)"
   ],
   "metadata": {}
  },
  {
   "cell_type": "markdown",
   "source": [
    "训练刚刚开始,模型的泛化能力和训练轮次是正相关的.此时模型是欠拟合状态.模型还没有从训练集很好的学习到普遍规律.当训练继续进行,模型已经习得了这一类数据的普遍规律,但是训练还在继续,之后模型开始学习到的可能就是训练集专有的特征.于是在前所未见的测试集上,模型的效果开始越来越差.即过拟合了."
   ],
   "metadata": {}
  },
  {
   "cell_type": "markdown",
   "source": [
    "## 噪声数据\r\n",
    "\r\n",
    "现实世界的数据集有相当部分可能是无效输入.\r\n",
    "\r\n",
    "mnist 数据集的例子\r\n",
    "\r\n",
    "- 无效的数据 ![fucked_up_mnist](./fucked_up_mnist.png)\r\n",
    "- 标注错误的数据 ![mislabeled_mnist.png](./mislabeled_mnist.png)\r\n",
    "\r\n",
    "当这些数据被用在训练集时,训练后期模型开始学习这些异常值的特征,此时模型的泛化性能开始下降.\r\n",
    "\r\n",
    "![outliers_and_overfitting](./outliers_and_overfitting.png)\r\n"
   ],
   "metadata": {}
  },
  {
   "cell_type": "markdown",
   "source": [
    "## 模糊数据\r\n",
    "\r\n",
    "并非所有的是不准确数据都是来自噪声.特别是涉及到不确定和模糊性问题时.\r\n",
    "\r\n",
    "- 分类植物果实成熟/不成熟.这个分类本身就带有主观性.\r\n",
    "- 气象条件预测明天天气,即使相同的气象条件,明天下雨不下雨都有可能.\r\n",
    "\r\n",
    "过度学习模糊数据,就会导致过拟合.更好的办法是忽略模糊地带,更着眼在大局上.\r\n",
    "\r\n",
    "![overfitting_with_uncertainty](./overfitting_with_uncertainty.png)\r\n"
   ],
   "metadata": {}
  },
  {
   "cell_type": "markdown",
   "source": [
    "## 罕见数据\r\n",
    "\r\n",
    "如果你一生只见过两只虎皮猫,碰巧它们脾气都很坏,那你可能会得出虎皮猫脾气都很坏的结论.\r\n",
    "\r\n",
    "~~从经历/经验/学习中总结规律,这些规律构成了人的认知.遇到错误/罕见/异常数据,人可以主观过滤/忽略/寻找异常原因.但是目前的机器学习做不到.大概是因为没有自我的概念??~~以上是我胡诌,请忽略.\r\n",
    "\r\n",
    "重点是罕见数据只出现几次就可能导致模型学习到错误的特征,但是模型完成了任务,错的是准备数据的人.\r\n"
   ],
   "metadata": {}
  },
  {
   "cell_type": "code",
   "execution_count": 1,
   "source": [
    "from tensorflow.keras.datasets import mnist\r\n",
    "import numpy as np\r\n",
    "\r\n",
    "(train_images, train_labels), _ = mnist.load_data()\r\n",
    "train_images = train_images.reshape((60000, 28 * 28))\r\n",
    "train_images = train_images.astype(\"float32\") / 255\r\n",
    "\r\n",
    "train_images_with_noise_channels = np.concatenate(\r\n",
    "    [train_images, np.random.random((len(train_images), 784))], axis=1)  #随机白噪声\r\n",
    "\r\n",
    "train_images_with_zeros_channels = np.concatenate(\r\n",
    "    [train_images, np.zeros((len(train_images), 784))], axis=1)  #全0\r\n"
   ],
   "outputs": [],
   "metadata": {}
  },
  {
   "cell_type": "markdown",
   "source": [
    "创建了 784 个白噪声数据插入数据集.同时添加一组全0,做对比\r\n"
   ],
   "metadata": {}
  },
  {
   "cell_type": "code",
   "execution_count": 2,
   "source": [
    "from tensorflow import keras\r\n",
    "from tensorflow.keras import layers\r\n",
    "\r\n",
    "\r\n",
    "def get_model():\r\n",
    "    model = keras.Sequential([\r\n",
    "        layers.Dense(512, activation=\"relu\"),\r\n",
    "        layers.Dense(10, activation=\"softmax\")\r\n",
    "    ])\r\n",
    "    model.compile(optimizer=\"rmsprop\",\r\n",
    "                  loss=\"sparse_categorical_crossentropy\",\r\n",
    "                  metrics=[\"accuracy\"])\r\n",
    "    return model\r\n",
    "\r\n",
    "\r\n",
    "model = get_model()\r\n",
    "history_noise = model.fit(\r\n",
    "    train_images_with_noise_channels,\r\n",
    "    train_labels,  #噪音样本\r\n",
    "    epochs=10,\r\n",
    "    batch_size=128,\r\n",
    "    validation_split=0.2)\r\n",
    "\r\n",
    "model = get_model()\r\n",
    "history_zeros = model.fit(\r\n",
    "    train_images_with_zeros_channels,\r\n",
    "    train_labels,  #全0样本\r\n",
    "    epochs=10,\r\n",
    "    batch_size=128,\r\n",
    "    validation_split=0.2)"
   ],
   "outputs": [
    {
     "output_type": "stream",
     "name": "stdout",
     "text": [
      "Epoch 1/10\n",
      "375/375 [==============================] - 3s 5ms/step - loss: 0.6247 - accuracy: 0.8116 - val_loss: 0.2839 - val_accuracy: 0.9093\n",
      "Epoch 2/10\n",
      "375/375 [==============================] - 2s 4ms/step - loss: 0.2475 - accuracy: 0.9227 - val_loss: 0.2111 - val_accuracy: 0.9367\n",
      "Epoch 3/10\n",
      "375/375 [==============================] - 2s 4ms/step - loss: 0.1619 - accuracy: 0.9498 - val_loss: 0.1782 - val_accuracy: 0.9461\n",
      "Epoch 4/10\n",
      "375/375 [==============================] - 2s 4ms/step - loss: 0.1134 - accuracy: 0.9642 - val_loss: 0.1322 - val_accuracy: 0.9619\n",
      "Epoch 5/10\n",
      "375/375 [==============================] - 2s 5ms/step - loss: 0.0836 - accuracy: 0.9733 - val_loss: 0.1216 - val_accuracy: 0.9656\n",
      "Epoch 6/10\n",
      "375/375 [==============================] - 2s 4ms/step - loss: 0.0625 - accuracy: 0.9800 - val_loss: 0.1423 - val_accuracy: 0.9581\n",
      "Epoch 7/10\n",
      "375/375 [==============================] - 2s 4ms/step - loss: 0.0463 - accuracy: 0.9853 - val_loss: 0.1414 - val_accuracy: 0.9619\n",
      "Epoch 8/10\n",
      "375/375 [==============================] - 1s 4ms/step - loss: 0.0351 - accuracy: 0.9879 - val_loss: 0.1267 - val_accuracy: 0.9690\n",
      "Epoch 9/10\n",
      "375/375 [==============================] - 2s 4ms/step - loss: 0.0270 - accuracy: 0.9913 - val_loss: 0.1518 - val_accuracy: 0.9614\n",
      "Epoch 10/10\n",
      "375/375 [==============================] - 2s 4ms/step - loss: 0.0205 - accuracy: 0.9934 - val_loss: 0.1579 - val_accuracy: 0.9645\n",
      "Epoch 1/10\n",
      "375/375 [==============================] - 2s 5ms/step - loss: 0.2900 - accuracy: 0.9162 - val_loss: 0.1427 - val_accuracy: 0.9587\n",
      "Epoch 2/10\n",
      "375/375 [==============================] - 2s 4ms/step - loss: 0.1195 - accuracy: 0.9642 - val_loss: 0.1115 - val_accuracy: 0.9662\n",
      "Epoch 3/10\n",
      "375/375 [==============================] - 2s 4ms/step - loss: 0.0772 - accuracy: 0.9774 - val_loss: 0.0868 - val_accuracy: 0.9732\n",
      "Epoch 4/10\n",
      "375/375 [==============================] - 2s 4ms/step - loss: 0.0549 - accuracy: 0.9842 - val_loss: 0.0936 - val_accuracy: 0.9734\n",
      "Epoch 5/10\n",
      "375/375 [==============================] - 2s 5ms/step - loss: 0.0409 - accuracy: 0.9881 - val_loss: 0.0816 - val_accuracy: 0.9766\n",
      "Epoch 6/10\n",
      "375/375 [==============================] - 2s 5ms/step - loss: 0.0307 - accuracy: 0.9910 - val_loss: 0.0800 - val_accuracy: 0.9778\n",
      "Epoch 7/10\n",
      "375/375 [==============================] - 2s 5ms/step - loss: 0.0235 - accuracy: 0.9932 - val_loss: 0.0814 - val_accuracy: 0.9784\n",
      "Epoch 8/10\n",
      "375/375 [==============================] - 2s 5ms/step - loss: 0.0170 - accuracy: 0.9951 - val_loss: 0.0839 - val_accuracy: 0.9786\n",
      "Epoch 9/10\n",
      "375/375 [==============================] - 2s 4ms/step - loss: 0.0130 - accuracy: 0.9962 - val_loss: 0.0817 - val_accuracy: 0.9800\n",
      "Epoch 10/10\n",
      "375/375 [==============================] - 2s 5ms/step - loss: 0.0101 - accuracy: 0.9970 - val_loss: 0.0897 - val_accuracy: 0.9778\n"
     ]
    }
   ],
   "metadata": {}
  },
  {
   "cell_type": "code",
   "execution_count": 3,
   "source": [
    "import matplotlib.pyplot as plt\r\n",
    "val_acc_noise = history_noise.history[\"val_accuracy\"]\r\n",
    "val_acc_zeros = history_zeros.history[\"val_accuracy\"]\r\n",
    "epochs = range(1, 11)\r\n",
    "plt.plot(epochs, val_acc_noise, \"b-\",\r\n",
    "         label=\"Validation accuracy with noise channels\")\r\n",
    "plt.plot(epochs, val_acc_zeros, \"b--\",\r\n",
    "         label=\"Validation accuracy with zeros channels\")\r\n",
    "plt.title(\"Effect of noise channels on validation accuracy\")\r\n",
    "plt.xlabel(\"Epochs\")\r\n",
    "plt.ylabel(\"Accuracy\")\r\n",
    "plt.legend()"
   ],
   "outputs": [
    {
     "output_type": "execute_result",
     "data": {
      "text/plain": [
       "<matplotlib.legend.Legend at 0x1e618165af0>"
      ]
     },
     "metadata": {},
     "execution_count": 3
    },
    {
     "output_type": "display_data",
     "data": {
      "text/plain": [
       "<Figure size 432x288 with 1 Axes>"
      ],
      "image/png": "[encoded data removed]"
     },
     "metadata": {
      "needs_background": "light"
     }
    }
   ],
   "metadata": {}
  },
  {
   "cell_type": "markdown",
   "source": [
    "最终噪声大于降低了模型 1% 的精度.添加噪声越多,模型受影响越大.\r\n",
    "\r\n",
    "如果数据用于极多的特征,一般要进行特征选择.像是 imdb 数据集只保留了前 10000 个最常见的单词.进行特征选择前主要工作是首先衡量每个特征的信息量,只保留高于某个阈值的特征.\r\n"
   ],
   "metadata": {}
  },
  {
   "cell_type": "markdown",
   "source": [
    "## 深度学习的本质\r\n",
    "\r\n",
    "只要计算能力够,深度学习可以拟合任何数据.\r\n"
   ],
   "metadata": {}
  },
  {
   "cell_type": "code",
   "execution_count": 6,
   "source": [
    "(train_images, train_labels), _ = mnist.load_data()\r\n",
    "train_images = train_images.reshape((60000, 28 * 28))\r\n",
    "train_images = train_images.astype(\"float32\") / 255\r\n",
    "\r\n",
    "random_train_labels = train_labels[:]\r\n",
    "np.random.shuffle(random_train_labels)  #随机label\r\n",
    "\r\n",
    "model = keras.Sequential([\r\n",
    "    layers.Dense(512, activation=\"relu\"),\r\n",
    "    layers.Dense(10, activation=\"softmax\")\r\n",
    "])\r\n",
    "model.compile(optimizer=\"rmsprop\",\r\n",
    "              loss=\"sparse_categorical_crossentropy\",\r\n",
    "              metrics=[\"accuracy\"])\r\n",
    "model.fit(train_images,\r\n",
    "          random_train_labels,\r\n",
    "          epochs=100,\r\n",
    "          batch_size=128,\r\n",
    "          validation_split=0.2,\r\n",
    "          verbose=0)  #静默\r\n",
    "history = model.history  #输出结果"
   ],
   "outputs": [
    {
     "output_type": "stream",
     "name": "stdout",
     "text": [
      "<tensorflow.python.keras.callbacks.History object at 0x000001E49421BEE0>\n"
     ]
    }
   ],
   "metadata": {}
  },
  {
   "cell_type": "code",
   "execution_count": 9,
   "source": [
    "print(history.history)"
   ],
   "outputs": [
    {
     "output_type": "stream",
     "name": "stdout",
     "text": [
      "{'loss': [2.3166775703430176, 2.299060344696045, 2.2892870903015137, 2.2745916843414307, 2.256817102432251, 2.2347278594970703, 2.2102885246276855, 2.1816353797912598, 2.1515889167785645, 2.120704174041748, 2.0865683555603027, 2.0537240505218506, 2.019094944000244, 1.9845826625823975, 1.9483704566955566, 1.9148609638214111, 1.8789057731628418, 1.8446723222732544, 1.8118715286254883, 1.7781283855438232, 1.7455836534500122, 1.7138621807098389, 1.6814841032028198, 1.6522071361541748, 1.6224040985107422, 1.5932786464691162, 1.566838264465332, 1.5390281677246094, 1.5098239183425903, 1.4838279485702515, 1.458466649055481, 1.431588888168335, 1.4085923433303833, 1.382411003112793, 1.3600544929504395, 1.3375434875488281, 1.3123267889022827, 1.2908780574798584, 1.2703371047973633, 1.2488101720809937, 1.2264150381088257, 1.2064249515533447, 1.1877660751342773, 1.1685642004013062, 1.1486690044403076, 1.1312315464019775, 1.1121361255645752, 1.0929288864135742, 1.0743907690048218, 1.0568585395812988, 1.0393903255462646, 1.023819088935852, 1.0058932304382324, 0.9910630583763123, 0.9737116098403931, 0.9586967825889587, 0.9424976110458374, 0.9284757375717163, 0.9140380024909973, 0.8993284702301025, 0.8870857954025269, 0.8717623949050903, 0.8579906225204468, 0.8453154563903809, 0.8311281204223633, 0.8181980848312378, 0.8067570924758911, 0.7918124794960022, 0.7836569547653198, 0.7687513828277588, 0.7574158310890198, 0.7456750273704529, 0.7314788699150085, 0.7230881452560425, 0.7109419107437134, 0.7007829546928406, 0.6912987232208252, 0.6818678975105286, 0.6715006232261658, 0.6604257225990295, 0.6500831842422485, 0.6403712034225464, 0.632035493850708, 0.6233952045440674, 0.6127063632011414, 0.6035139560699463, 0.5946898460388184, 0.5859071016311646, 0.5776434540748596, 0.5685796141624451, 0.5608209371566772, 0.5511015057563782, 0.5431227684020996, 0.5372925400733948, 0.5288049578666687, 0.5196935534477234, 0.5143042206764221, 0.5062806010246277, 0.4990493059158325, 0.4908114969730377], 'accuracy': [0.10502083599567413, 0.11654166877269745, 0.13097916543483734, 0.14295832812786102, 0.15572915971279144, 0.17131249606609344, 0.1876250058412552, 0.203208327293396, 0.2199791669845581, 0.23458333313465118, 0.25072917342185974, 0.26758334040641785, 0.281437486410141, 0.29597917199134827, 0.31185415387153625, 0.3243541717529297, 0.34289583563804626, 0.35597917437553406, 0.3683125078678131, 0.3814791738986969, 0.3959166705608368, 0.4051041603088379, 0.4189166724681854, 0.43054166436195374, 0.4398958384990692, 0.4519791603088379, 0.46022915840148926, 0.47220832109451294, 0.48387500643730164, 0.49252083897590637, 0.5039374828338623, 0.5132083296775818, 0.5193958282470703, 0.5297916531562805, 0.5381666421890259, 0.5460000038146973, 0.5555416941642761, 0.5622291564941406, 0.5693958401679993, 0.5770833492279053, 0.5873125195503235, 0.5938958525657654, 0.6003749966621399, 0.6064375042915344, 0.6139166951179504, 0.6193541884422302, 0.6266666650772095, 0.6332083344459534, 0.6378541588783264, 0.6478541493415833, 0.6527708172798157, 0.6572083234786987, 0.6646041870117188, 0.668833315372467, 0.6773124933242798, 0.6809791922569275, 0.6861666440963745, 0.6916458606719971, 0.694937527179718, 0.7011874914169312, 0.7056666612625122, 0.7132083177566528, 0.7168541550636292, 0.7216874957084656, 0.7276041507720947, 0.731249988079071, 0.734499990940094, 0.7391250133514404, 0.7437291741371155, 0.7469375133514404, 0.7514583468437195, 0.7559166550636292, 0.7588958144187927, 0.7640208601951599, 0.7689999938011169, 0.7721874713897705, 0.7745000123977661, 0.778208315372467, 0.7818541526794434, 0.7838541865348816, 0.7896875143051147, 0.7918958067893982, 0.7950000166893005, 0.797208309173584, 0.8017916679382324, 0.8027499914169312, 0.8059791922569275, 0.8100000023841858, 0.81229168176651, 0.8143333196640015, 0.8190833330154419, 0.8223749995231628, 0.8256458044052124, 0.8270624876022339, 0.8294791579246521, 0.8324999809265137, 0.8350208401679993, 0.8370000123977661, 0.8409374952316284, 0.8416875004768372], 'val_loss': [2.308119058609009, 2.3133623600006104, 2.326362133026123, 2.3361098766326904, 2.3358070850372314, 2.3529443740844727, 2.371670961380005, 2.384573459625244, 2.4130001068115234, 2.439753532409668, 2.4546875953674316, 2.4883251190185547, 2.512805700302124, 2.535907506942749, 2.585202693939209, 2.589331865310669, 2.6359753608703613, 2.6680617332458496, 2.7052738666534424, 2.7366018295288086, 2.7788760662078857, 2.8144404888153076, 2.8709216117858887, 2.923764944076538, 2.9308922290802, 2.9701144695281982, 3.017122745513916, 3.047236442565918, 3.089865207672119, 3.1503853797912598, 3.1816139221191406, 3.2356314659118652, 3.2864582538604736, 3.344834327697754, 3.3691611289978027, 3.4088757038116455, 3.475909948348999, 3.520141363143921, 3.54518985748291, 3.6271138191223145, 3.6796681880950928, 3.734517812728882, 3.77882981300354, 3.856069564819336, 3.8967385292053223, 3.917922258377075, 3.984724998474121, 4.057246208190918, 4.106103420257568, 4.158995628356934, 4.225801467895508, 4.277872562408447, 4.365442276000977, 4.397547721862793, 4.425851821899414, 4.530559539794922, 4.559721946716309, 4.609257221221924, 4.684081554412842, 4.706265449523926, 4.758589744567871, 4.856131076812744, 4.927921295166016, 4.949899196624756, 5.034223556518555, 5.108423709869385, 5.179983615875244, 5.251383304595947, 5.281554222106934, 5.340586185455322, 5.427890777587891, 5.4606428146362305, 5.53735876083374, 5.597802639007568, 5.678095817565918, 5.727157115936279, 5.770045757293701, 5.861374378204346, 5.941405773162842, 6.000268459320068, 6.034799575805664, 6.113020896911621, 6.200620651245117, 6.270823001861572, 6.355735778808594, 6.370767593383789, 6.497234344482422, 6.534869194030762, 6.593490123748779, 6.661977291107178, 6.695722579956055, 6.812107563018799, 6.822627067565918, 6.935366630554199, 7.038339138031006, 7.118194580078125, 7.108973979949951, 7.229451656341553, 7.271831512451172, 7.323087692260742], 'val_accuracy': [0.10233332961797714, 0.10483333468437195, 0.10249999910593033, 0.10641666501760483, 0.10316666960716248, 0.10183333605527878, 0.09491666406393051, 0.10441666841506958, 0.10199999809265137, 0.09591666609048843, 0.10016666352748871, 0.10100000351667404, 0.10474999994039536, 0.10175000131130219, 0.10166666656732559, 0.09974999725818634, 0.09916666895151138, 0.10533333569765091, 0.09875000268220901, 0.10108333081007004, 0.10050000250339508, 0.10591666400432587, 0.0989166647195816, 0.1054999977350235, 0.10008333623409271, 0.10466666519641876, 0.09974999725818634, 0.09950000047683716, 0.10233332961797714, 0.09799999743700027, 0.09883332997560501, 0.10258333384990692, 0.10199999809265137, 0.09983333200216293, 0.10358333587646484, 0.10366666316986084, 0.10175000131130219, 0.10125000029802322, 0.09958333522081375, 0.09933333098888397, 0.0976666659116745, 0.10008333623409271, 0.10258333384990692, 0.10374999791383743, 0.10100000351667404, 0.10483333468437195, 0.10108333081007004, 0.10058332979679108, 0.10166666656732559, 0.10074999928474426, 0.10091666877269745, 0.10166666656732559, 0.10008333623409271, 0.10266666859388351, 0.09783333539962769, 0.10525000095367432, 0.10125000029802322, 0.10183333605527878, 0.10358333587646484, 0.10474999994039536, 0.10300000011920929, 0.10300000011920929, 0.10116666555404663, 0.10324999690055847, 0.10383333265781403, 0.10316666960716248, 0.10374999791383743, 0.10258333384990692, 0.10358333587646484, 0.10216666758060455, 0.10308333486318588, 0.10575000196695328, 0.10374999791383743, 0.10258333384990692, 0.10441666841506958, 0.10183333605527878, 0.10591666400432587, 0.10166666656732559, 0.10199999809265137, 0.10350000113248825, 0.10191666334867477, 0.1029166653752327, 0.10041666775941849, 0.10216666758060455, 0.10183333605527878, 0.10458333045244217, 0.10091666877269745, 0.10516666620969772, 0.101583331823349, 0.10100000351667404, 0.10016666352748871, 0.09966666996479034, 0.10275000333786011, 0.10258333384990692, 0.10058332979679108, 0.10066666454076767, 0.1040833368897438, 0.1014999970793724, 0.10216666758060455, 0.10008333623409271]}\n"
     ]
    }
   ],
   "metadata": {}
  },
  {
   "cell_type": "markdown",
   "source": [
    "随机生成的 label + mnist 的图片数据,训练 100 次,都能到 99%.\r\n",
    "\r\n",
    "其实不需要 minist 的图片数据,随机生成数据,神经网络也能拟合到 99%.拟合的尽头是在这些数据上的一个字典.\r\n",
    "\r\n",
    "so,到底深度学习/神经网络的泛化能力到底是什么?为什么对随机数据也能拟合?\r\n"
   ],
   "metadata": {}
  },
  {
   "cell_type": "markdown",
   "source": [
    "## 流形假说\r\n",
    "\r\n",
    "mnist 输入是 28*28*255 的整数阵列,这个样本空间要比宇宙的原子数还有大得多.但是实际手写数字所有可能的样本空间只是父空间一个非常小的子空间.\r\n",
    "\r\n",
    "想象一下构建实际手写数字所有可能的样本空间\r\n",
    "\r\n",
    "- 取 0~9 十个手写数组样本\r\n",
    "- 0~9 这十个样本,在不改变人读取意思的情况下又产生随机变化,新的图像加入样本库.\r\n",
    "- 在任意两个之间开始变换,中间产生的任何图像都属于这个样本空间.\r\n",
    "\r\n",
    "这个空间内,任取一个样本都可以看作是其他两个样本变换的中间过程,这个空间是连续的.即使存在某些非常奇怪的过渡图像,但也会被人看作是数字.\r\n",
    "\r\n",
    "![mnist_manifold](./mnist_manifold.png)\r\n",
    "\r\n",
    "上图就是 12 章代码生成的流形.\r\n"
   ],
   "metadata": {}
  },
  {
   "cell_type": "markdown",
   "source": [
    "上面实际手写数字的样本空间也被称为流形,流形是某个父空间的低维子空间.\r\n",
    "\r\n",
    "- 二维平面的一个流形可以是一个光滑曲线.\r\n",
    "- 三位空间的一个流形可以是一个光滑曲面.\r\n",
    "- 以此类推.\r\n",
    "\r\n",
    "正如手写数字的样本空间只是 28*28*255 父空间的一个非常小的部分,我们可以把它看成是父空间的一个流形.\r\n"
   ],
   "metadata": {}
  },
  {
   "cell_type": "markdown",
   "source": [
    "流形假说认为所有自然数据都是它被编码的高维空间的一个低维流形.(28*28*255 父空间 -> 手写数字的样本空间).\r\n",
    "\r\n",
    "流形假说对机器学习\r\n",
    "\r\n",
    "- 输入数据是某个高维空间的低维流形,机器学习只在这个相对简单 低维 结构化的子空间拟合数据.\r\n",
    "- 拟合输入的两个数据,进行插值,中间得到的全部数据理论上都在这个流形中.不断的输入新的数据,不断的拟合,模型每次能表示的流形空间的比例就越高.\r\n",
    "\r\n",
    "神经网络的泛化能力,就来自对样本插值还原流形的过程.\r\n"
   ],
   "metadata": {}
  },
  {
   "cell_type": "markdown",
   "source": [
    "## 插值是泛化能力的来源\r\n",
    "\r\n",
    "神经网络训练时,每次输入新的样本,都会和已有的流形上其他样本关联,相当于多了流形以外的一个点,神经网络再通过插值填补这个点到流形的空白.\r\n",
    "\r\n",
    "![linear_interpolation_vs_manifold_interpolation](./linear_interpolation_vs_manifold_interpolation.png)\r\n",
    "\r\n",
    "注意神经网络在流形上的插值(内插?)和父空间上的线性插值是不同的概率.如上图 mnist 数据父空间的线性插值通常并不是有效数字.\r\n",
    "\r\n",
    "最重要的是,虽然深度学习通过流形上不断输入新样本插值实现了泛化,但是这样的插值绝非泛化本身的全部.流形上插值只能用来理解相似的事物,进行局部的概况.但是人本身有能力进行极端的概括,这部分是类似插值以外的认知决定的 --> 抽象.\r\n",
    "\r\n",
    "具体我们会在 14 章讨论.(我省略了一些内容,暂时无法理解)\r\n"
   ],
   "metadata": {}
  },
  {
   "cell_type": "markdown",
   "source": [
    "## 为什么深度学习能够完成任务?\r\n",
    "\r\n",
    "![ch02-geometric_interpretation_4](./ch02-geometric_interpretation_4.png)\r\n",
    "\r\n",
    "如上图所示,第二章的示例图片.这张纸可以看作是三维空间的一个二维流形,深度学习模型就是解开这团纸的工具.\r\n",
    "\r\n",
    "![the_cartoon_of_fitting.png](./the_cartoon_of_fitting.png)\r\n",
    "\r\n",
    "深度学习模型训练的过程\r\n",
    "\r\n",
    "- 开始是一个非常高维的平滑曲线,基本的约束来自模型的拓扑和随机化的参数.\r\n",
    "- 这条曲线通过梯度下降平滑将近的与数据点相适应.\r\n",
    "- 这条曲线的终点是记住了所有的训练样本.但是训练样本并不能代表整个流形,因此此时是过拟合.\r\n",
    "- 我们真正需要的是这个过程中间的某个点,即模型的空间和流形最为接近的时刻.\r\n",
    "- 因为输出的模型非常接近实际的数据流形,因此即使是从未见过的数据点也能够正确预测.\r\n",
    "\r\n",
    "深度学习还有还有其他特点使得它非常适合流形的学习\r\n",
    "\r\n",
    "- 模型的输入到输出必须是平滑连续的映射,换而言之,必须是可微的(否则无法梯度下降),流形也有类似的性质(平滑).\r\n",
    "- 深度学习模型的拓扑往往可以反应出流形的结构.例如后面要学的图像处理模型,序列处理模型等等.神经网络分层和模块化的结构也和自然数据的组织方式类似."
   ],
   "metadata": {}
  },
  {
   "cell_type": "markdown",
   "source": [
    "## 无论如何,数据最重要\r\n",
    "\r\n",
    "无论深度学习如何进行拟合,理论上,实践上如何解释.最终这些都是在输入的训练数据上进行.最终模型的泛化能力是训练数据的结果而不是模型本身的属性.\r\n",
    "\r\n",
    "训练数据的信息量越大,噪音越小最终才能更好的归纳.\r\n",
    "\r\n",
    "![dense_sampling](./dense_sampling.png)\r\n",
    "\r\n",
    "另外深度学习进行的是曲线的拟合,样本越密集尤其是在决策边界越密集,拟合的曲线会更加接近实际的流形.\r\n",
    "\r\n",
    "无论如何,要始终牢记,改进深度学习模型\r\n",
    "\r\n",
    "- 更多/更好的数据\r\n",
    "- 改进模型的结构\r\n",
    "\r\n",
    "前者是调整深度学习模型最先需要进行,最终的步骤.模型本身的调整是在此之后.我们将在 5.4 节中详细讨论.\r\n",
    "\r\n",
    "在调整深度学习模型之前,首先需要评估模型,这是 5.2 的主要内容.\r\n"
   ],
   "metadata": {}
  }
 ],
 "metadata": {
  "orig_nbformat": 4,
  "language_info": {
   "name": "python",
   "version": "3.9.6",
   "mimetype": "text/x-python",
   "codemirror_mode": {
    "name": "ipython",
    "version": 3
   },
   "pygments_lexer": "ipython3",
   "nbconvert_exporter": "python",
   "file_extension": ".py"
  },
  "kernelspec": {
   "name": "python3",
   "display_name": "Python 3.9.6 64-bit ('tf': venv)"
  },
  "interpreter": {
   "hash": "aac46f597da82ce9618f0e6f094e6d401f1ab16d9be89acf77ce1dd63d67a333"
  }
 },
 "nbformat": 4,
 "nbformat_minor": 2
}