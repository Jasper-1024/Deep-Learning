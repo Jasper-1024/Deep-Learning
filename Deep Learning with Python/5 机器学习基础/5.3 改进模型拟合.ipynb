{
 "cells": [
  {
   "cell_type": "markdown",
   "source": [
    "# 改进模型拟合\r\n",
    "\r\n",
    "有一个矛盾,为了达到完美的拟合,模型必须向过拟合,才能知道哪里是边界.\r\n",
    "\r\n",
    "面对一个机器学习的问题,最初的目标是找到一个表现出一些泛化能力的模型,然后可以过拟合.之后的的事情是对抗过拟合改善模型的泛化能力.使其能达到第一个里程碑: 模型的表现要超过简单方法的基线.\r\n",
    "\r\n",
    "在初始训练模型时常见的 3 个问题\r\n",
    "\r\n",
    "- 训练无效,训练损失不会随着时间而减小.\r\n",
    "- 训练效果很好,但是模型的效果无法打败基线.\r\n",
    "- 训练和验证效果都很好,模型效果也超过了基线,但是似乎一直没有过拟合出现.\r\n"
   ],
   "metadata": {}
  },
  {
   "cell_type": "markdown",
   "source": [
    "## 调整梯度下降的参数\r\n",
    "\r\n",
    "有时候会碰到,无论如何训练,损失总是过早的停滞了.这个时候还记得前文对随机数据的实验吗?即使是随机的数据也能训练出一个模型,当然这个模型谈不上什么泛化能力.因此这个问题一定有办法解决.\r\n",
    "\r\n",
    "通常这样的情况发生总是梯度下降的配置问题.\r\n",
    "\r\n",
    "- 模型初始权重分布/优化器选择/学习率/批次大小等等都互相依赖.\r\n",
    "- 其他调整学习率和批次大小就足够了,特别是学习率.\r\n"
   ],
   "metadata": {}
  },
  {
   "cell_type": "code",
   "execution_count": 2,
   "source": [
    "from keras.datasets import mnist\r\n",
    "import tensorflow.keras as keras\r\n",
    "import tensorflow.keras.layers as layers\r\n",
    "\r\n",
    "(train_images, train_labels), (test_images, test_labels) = mnist.load_data()\r\n",
    "train_images = train_images.reshape((60000, 28 * 28))\r\n",
    "train_images = train_images.astype('float32') / 255\r\n",
    "\r\n",
    "model = keras.Sequential([\r\n",
    "    layers.Dense(512, activation='relu'),\r\n",
    "    layers.Dense(10, activation='softmax')\r\n",
    "])\r\n",
    "\r\n",
    "model.compile(optimizer=keras.optimizers.RMSprop(1.),\r\n",
    "              loss='sparse_categorical_crossentropy',\r\n",
    "              metrics=['accuracy'])\r\n",
    "\r\n",
    "model.fit(train_images,\r\n",
    "          train_labels,\r\n",
    "          epochs=10,\r\n",
    "          batch_size=128,\r\n",
    "          validation_split=0.2)\r\n"
   ],
   "outputs": [
    {
     "output_type": "stream",
     "name": "stdout",
     "text": [
      "Epoch 1/10\n",
      "375/375 [==============================] - 3s 5ms/step - loss: 773.4385 - accuracy: 0.4169 - val_loss: 2.5926 - val_accuracy: 0.2307\n",
      "Epoch 2/10\n",
      "375/375 [==============================] - 2s 5ms/step - loss: 3.5820 - accuracy: 0.2998 - val_loss: 2.6129 - val_accuracy: 0.2976\n",
      "Epoch 3/10\n",
      "375/375 [==============================] - 2s 4ms/step - loss: 3.1792 - accuracy: 0.2894 - val_loss: 2.1505 - val_accuracy: 0.2597\n",
      "Epoch 4/10\n",
      "375/375 [==============================] - 2s 5ms/step - loss: 2.8153 - accuracy: 0.2804 - val_loss: 1.9261 - val_accuracy: 0.3409\n",
      "Epoch 5/10\n",
      "375/375 [==============================] - 2s 4ms/step - loss: 3.3082 - accuracy: 0.3177 - val_loss: 3.5284 - val_accuracy: 0.3422\n",
      "Epoch 6/10\n",
      "375/375 [==============================] - 2s 5ms/step - loss: 2.4613 - accuracy: 0.3384 - val_loss: 4.6577 - val_accuracy: 0.3982\n",
      "Epoch 7/10\n",
      "375/375 [==============================] - 2s 5ms/step - loss: 2.7220 - accuracy: 0.3270 - val_loss: 2.7155 - val_accuracy: 0.3407\n",
      "Epoch 8/10\n",
      "375/375 [==============================] - 2s 4ms/step - loss: 2.4268 - accuracy: 0.3053 - val_loss: 2.7177 - val_accuracy: 0.3670\n",
      "Epoch 9/10\n",
      "375/375 [==============================] - 2s 4ms/step - loss: 2.7771 - accuracy: 0.3390 - val_loss: 1.9629 - val_accuracy: 0.3345\n",
      "Epoch 10/10\n",
      "375/375 [==============================] - 2s 4ms/step - loss: 2.6816 - accuracy: 0.3331 - val_loss: 2.4622 - val_accuracy: 0.3346\n"
     ]
    },
    {
     "output_type": "execute_result",
     "data": {
      "text/plain": [
       "<tensorflow.python.keras.callbacks.History at 0x1f7b2949940>"
      ]
     },
     "metadata": {},
     "execution_count": 2
    }
   ],
   "metadata": {}
  },
  {
   "cell_type": "markdown",
   "source": [
    "学习率是 1 ,无论如何训练,模型的准确度一直都在 0.2 ~ 0.3 之间.接下来我们把学习率改成 1e-2.\r\n"
   ],
   "metadata": {}
  },
  {
   "cell_type": "code",
   "execution_count": 3,
   "source": [
    "from keras.datasets import mnist\r\n",
    "import tensorflow.keras as keras\r\n",
    "import tensorflow.keras.layers as layers\r\n",
    "\r\n",
    "(train_images, train_labels), (test_images, test_labels) = mnist.load_data()\r\n",
    "train_images = train_images.reshape((60000, 28 * 28))\r\n",
    "train_images = train_images.astype('float32') / 255\r\n",
    "\r\n",
    "model = keras.Sequential([\r\n",
    "    layers.Dense(512, activation='relu'),\r\n",
    "    layers.Dense(10, activation='softmax')\r\n",
    "])\r\n",
    "\r\n",
    "model.compile(optimizer=keras.optimizers.RMSprop(1e-2),\r\n",
    "              loss='sparse_categorical_crossentropy',\r\n",
    "              metrics=['accuracy'])\r\n",
    "\r\n",
    "model.fit(train_images,\r\n",
    "          train_labels,\r\n",
    "          epochs=10,\r\n",
    "          batch_size=128,\r\n",
    "          validation_split=0.2)"
   ],
   "outputs": [
    {
     "output_type": "stream",
     "name": "stdout",
     "text": [
      "Epoch 1/10\n",
      "375/375 [==============================] - 2s 4ms/step - loss: 0.3575 - accuracy: 0.9130 - val_loss: 0.1785 - val_accuracy: 0.9507\n",
      "Epoch 2/10\n",
      "375/375 [==============================] - 2s 4ms/step - loss: 0.1390 - accuracy: 0.9634 - val_loss: 0.1703 - val_accuracy: 0.9623\n",
      "Epoch 3/10\n",
      "375/375 [==============================] - 2s 4ms/step - loss: 0.1146 - accuracy: 0.9725 - val_loss: 0.1688 - val_accuracy: 0.9670\n",
      "Epoch 4/10\n",
      "375/375 [==============================] - 2s 4ms/step - loss: 0.1009 - accuracy: 0.9787 - val_loss: 0.1695 - val_accuracy: 0.9716\n",
      "Epoch 5/10\n",
      "375/375 [==============================] - 2s 4ms/step - loss: 0.0860 - accuracy: 0.9822 - val_loss: 0.2249 - val_accuracy: 0.9672\n",
      "Epoch 6/10\n",
      "375/375 [==============================] - 2s 4ms/step - loss: 0.0788 - accuracy: 0.9842 - val_loss: 0.2372 - val_accuracy: 0.9690\n",
      "Epoch 7/10\n",
      "375/375 [==============================] - 2s 4ms/step - loss: 0.0718 - accuracy: 0.9863 - val_loss: 0.2458 - val_accuracy: 0.9706\n",
      "Epoch 8/10\n",
      "375/375 [==============================] - 2s 4ms/step - loss: 0.0671 - accuracy: 0.9874 - val_loss: 0.2958 - val_accuracy: 0.9722\n",
      "Epoch 9/10\n",
      "375/375 [==============================] - 2s 4ms/step - loss: 0.0623 - accuracy: 0.9891 - val_loss: 0.3342 - val_accuracy: 0.9718\n",
      "Epoch 10/10\n",
      "375/375 [==============================] - 2s 4ms/step - loss: 0.0610 - accuracy: 0.9903 - val_loss: 0.3365 - val_accuracy: 0.9662\n"
     ]
    },
    {
     "output_type": "execute_result",
     "data": {
      "text/plain": [
       "<tensorflow.python.keras.callbacks.History at 0x1f785f3eca0>"
      ]
     },
     "metadata": {},
     "execution_count": 3
    }
   ],
   "metadata": {}
  },
  {
   "cell_type": "markdown",
   "source": [
    "调整过学习率,模型训练就正常多了..\r\n",
    "\r\n",
    "如果出现损失一直无法降低等情况\r\n",
    "\r\n",
    "- 降低或提高学习率.过高的学习率会使更新大大超过适当的拟合范围,模型就一直在这个范围左右反复横跳.过低的学习率反而使得学习的速度非常慢,简单的几轮训练验证几乎完全不可能够到合适的拟合范围.\r\n",
    "- 增加批次大小,批次的样本更多,会使得信息量加大,噪音相对更小.\r\n",
    "\r\n",
    "以上,终于有一个能让训练开始的配置了.\r\n"
   ],
   "metadata": {}
  },
  {
   "cell_type": "markdown",
   "source": [
    "## 更好的结构以改进结果\r\n",
    "\r\n",
    "好了,现在有了一个初步能训练的模型了.但是在测试集上的指标无论怎样都没能超过基线.这或许是能遇到的最糟糕的情况了.根本上遇到了问题,没有通用解决方案,只有一些提示.\r\n",
    "\r\n",
    "- 输入数据根本没有包含所需要的信息量.\r\n",
    "- 使用的神经网络架构不适合这个问题.大部分机器学习的问题上都有类似最佳实践的网络架构.尝试换用更适合架构.\r\n"
   ],
   "metadata": {}
  },
  {
   "cell_type": "markdown",
   "source": [
    "## 增大模型容量\r\n",
    "\r\n",
    "一旦获得了合适的模型,下一步是将这个模型过拟合,探索欠拟合/过拟合的边界.\r\n",
    "\r\n",
    "还是一个 mnist 的例子\r\n"
   ],
   "metadata": {}
  },
  {
   "cell_type": "code",
   "execution_count": 6,
   "source": [
    "model = keras.Sequential([layers.Dense(10, activation=\"softmax\")])  #一个输出层\r\n",
    "model.compile(optimizer=\"rmsprop\",\r\n",
    "              loss=\"sparse_categorical_crossentropy\",\r\n",
    "              metrics=[\"accuracy\"])\r\n",
    "history_small_model = model.fit(train_images,\r\n",
    "                                train_labels,\r\n",
    "                                epochs=40,\r\n",
    "                                batch_size=128,\r\n",
    "                                validation_split=0.2)  #抽取 0.2 作为验证集\r\n"
   ],
   "outputs": [
    {
     "output_type": "stream",
     "name": "stdout",
     "text": [
      "Epoch 1/40\n",
      "375/375 [==============================] - 1s 4ms/step - loss: 0.6714 - accuracy: 0.8349 - val_loss: 0.3589 - val_accuracy: 0.9055\n",
      "Epoch 2/40\n",
      "375/375 [==============================] - 1s 3ms/step - loss: 0.3513 - accuracy: 0.9027 - val_loss: 0.3080 - val_accuracy: 0.9137\n",
      "Epoch 3/40\n",
      "375/375 [==============================] - 1s 4ms/step - loss: 0.3158 - accuracy: 0.9125 - val_loss: 0.2912 - val_accuracy: 0.9194\n",
      "Epoch 4/40\n",
      "375/375 [==============================] - 1s 4ms/step - loss: 0.2994 - accuracy: 0.9160 - val_loss: 0.2820 - val_accuracy: 0.9218\n",
      "Epoch 5/40\n",
      "375/375 [==============================] - 1s 4ms/step - loss: 0.2899 - accuracy: 0.9189 - val_loss: 0.2758 - val_accuracy: 0.9240\n",
      "Epoch 6/40\n",
      "375/375 [==============================] - 1s 4ms/step - loss: 0.2827 - accuracy: 0.9209 - val_loss: 0.2732 - val_accuracy: 0.9228\n",
      "Epoch 7/40\n",
      "375/375 [==============================] - 1s 4ms/step - loss: 0.2781 - accuracy: 0.9222 - val_loss: 0.2700 - val_accuracy: 0.9245\n",
      "Epoch 8/40\n",
      "375/375 [==============================] - 1s 3ms/step - loss: 0.2747 - accuracy: 0.9236 - val_loss: 0.2663 - val_accuracy: 0.9265\n",
      "Epoch 9/40\n",
      "375/375 [==============================] - 1s 3ms/step - loss: 0.2714 - accuracy: 0.9245 - val_loss: 0.2657 - val_accuracy: 0.9274\n",
      "Epoch 10/40\n",
      "375/375 [==============================] - 1s 4ms/step - loss: 0.2686 - accuracy: 0.9251 - val_loss: 0.2643 - val_accuracy: 0.9281\n",
      "Epoch 11/40\n",
      "375/375 [==============================] - 1s 3ms/step - loss: 0.2663 - accuracy: 0.9263 - val_loss: 0.2665 - val_accuracy: 0.9268\n",
      "Epoch 12/40\n",
      "375/375 [==============================] - 1s 3ms/step - loss: 0.2645 - accuracy: 0.9268 - val_loss: 0.2632 - val_accuracy: 0.9290\n",
      "Epoch 13/40\n",
      "375/375 [==============================] - 1s 3ms/step - loss: 0.2631 - accuracy: 0.9272 - val_loss: 0.2641 - val_accuracy: 0.9296\n",
      "Epoch 14/40\n",
      "375/375 [==============================] - 1s 4ms/step - loss: 0.2616 - accuracy: 0.9279 - val_loss: 0.2617 - val_accuracy: 0.9298\n",
      "Epoch 15/40\n",
      "375/375 [==============================] - 1s 3ms/step - loss: 0.2605 - accuracy: 0.9285 - val_loss: 0.2622 - val_accuracy: 0.9301\n",
      "Epoch 16/40\n",
      "375/375 [==============================] - 1s 3ms/step - loss: 0.2595 - accuracy: 0.9285 - val_loss: 0.2615 - val_accuracy: 0.9308\n",
      "Epoch 17/40\n",
      "375/375 [==============================] - 1s 3ms/step - loss: 0.2583 - accuracy: 0.9294 - val_loss: 0.2623 - val_accuracy: 0.9302\n",
      "Epoch 18/40\n",
      "375/375 [==============================] - 1s 3ms/step - loss: 0.2572 - accuracy: 0.9299 - val_loss: 0.2597 - val_accuracy: 0.9308\n",
      "Epoch 19/40\n",
      "375/375 [==============================] - 1s 3ms/step - loss: 0.2565 - accuracy: 0.9299 - val_loss: 0.2601 - val_accuracy: 0.9316\n",
      "Epoch 20/40\n",
      "375/375 [==============================] - 1s 3ms/step - loss: 0.2554 - accuracy: 0.9306 - val_loss: 0.2623 - val_accuracy: 0.9304\n",
      "Epoch 21/40\n",
      "375/375 [==============================] - 1s 3ms/step - loss: 0.2549 - accuracy: 0.9302 - val_loss: 0.2616 - val_accuracy: 0.9309\n",
      "Epoch 22/40\n",
      "375/375 [==============================] - 1s 3ms/step - loss: 0.2543 - accuracy: 0.9308 - val_loss: 0.2613 - val_accuracy: 0.9312\n",
      "Epoch 23/40\n",
      "375/375 [==============================] - 1s 3ms/step - loss: 0.2534 - accuracy: 0.9305 - val_loss: 0.2617 - val_accuracy: 0.9309\n",
      "Epoch 24/40\n",
      "375/375 [==============================] - 1s 3ms/step - loss: 0.2528 - accuracy: 0.9311 - val_loss: 0.2620 - val_accuracy: 0.9308\n",
      "Epoch 25/40\n",
      "375/375 [==============================] - 1s 3ms/step - loss: 0.2523 - accuracy: 0.9312 - val_loss: 0.2604 - val_accuracy: 0.9322\n",
      "Epoch 26/40\n",
      "375/375 [==============================] - 1s 3ms/step - loss: 0.2516 - accuracy: 0.9314 - val_loss: 0.2613 - val_accuracy: 0.9304\n",
      "Epoch 27/40\n",
      "375/375 [==============================] - 1s 3ms/step - loss: 0.2510 - accuracy: 0.9317 - val_loss: 0.2614 - val_accuracy: 0.9317\n",
      "Epoch 28/40\n",
      "375/375 [==============================] - 1s 3ms/step - loss: 0.2509 - accuracy: 0.9320 - val_loss: 0.2625 - val_accuracy: 0.9316\n",
      "Epoch 29/40\n",
      "375/375 [==============================] - 1s 3ms/step - loss: 0.2504 - accuracy: 0.9320 - val_loss: 0.2610 - val_accuracy: 0.9315\n",
      "Epoch 30/40\n",
      "375/375 [==============================] - 1s 3ms/step - loss: 0.2497 - accuracy: 0.9321 - val_loss: 0.2640 - val_accuracy: 0.9298\n",
      "Epoch 31/40\n",
      "375/375 [==============================] - 1s 3ms/step - loss: 0.2494 - accuracy: 0.9329 - val_loss: 0.2615 - val_accuracy: 0.9313\n",
      "Epoch 32/40\n",
      "375/375 [==============================] - 1s 3ms/step - loss: 0.2493 - accuracy: 0.9318 - val_loss: 0.2622 - val_accuracy: 0.9312\n",
      "Epoch 33/40\n",
      "375/375 [==============================] - 1s 3ms/step - loss: 0.2487 - accuracy: 0.9325 - val_loss: 0.2642 - val_accuracy: 0.9316\n",
      "Epoch 34/40\n",
      "375/375 [==============================] - 1s 3ms/step - loss: 0.2484 - accuracy: 0.9333 - val_loss: 0.2622 - val_accuracy: 0.9317\n",
      "Epoch 35/40\n",
      "375/375 [==============================] - 1s 3ms/step - loss: 0.2479 - accuracy: 0.9328 - val_loss: 0.2627 - val_accuracy: 0.9320\n",
      "Epoch 36/40\n",
      "375/375 [==============================] - 1s 3ms/step - loss: 0.2473 - accuracy: 0.9336 - val_loss: 0.2649 - val_accuracy: 0.9304\n",
      "Epoch 37/40\n",
      "375/375 [==============================] - 1s 3ms/step - loss: 0.2473 - accuracy: 0.9330 - val_loss: 0.2634 - val_accuracy: 0.9315\n",
      "Epoch 38/40\n",
      "375/375 [==============================] - 1s 3ms/step - loss: 0.2471 - accuracy: 0.9329 - val_loss: 0.2628 - val_accuracy: 0.9313\n",
      "Epoch 39/40\n",
      "375/375 [==============================] - 1s 3ms/step - loss: 0.2467 - accuracy: 0.9339 - val_loss: 0.2638 - val_accuracy: 0.9306\n",
      "Epoch 40/40\n",
      "375/375 [==============================] - 1s 3ms/step - loss: 0.2466 - accuracy: 0.9336 - val_loss: 0.2668 - val_accuracy: 0.9304\n"
     ]
    }
   ],
   "metadata": {}
  },
  {
   "cell_type": "code",
   "execution_count": 7,
   "source": [
    "import matplotlib.pyplot as plt\r\n",
    "\r\n",
    "val_loss = history_small_model.history[\"val_loss\"]\r\n",
    "epochs = range(1, 41)\r\n",
    "plt.plot(epochs, val_loss, \"b--\", label=\"Validation loss\")\r\n",
    "plt.title(\"Effect of insufficient model capacity on validation loss\")\r\n",
    "plt.xlabel(\"Epochs\")\r\n",
    "plt.ylabel(\"Loss\")\r\n",
    "plt.legend()"
   ],
   "outputs": [
    {
     "output_type": "execute_result",
     "data": {
      "text/plain": [
       "<matplotlib.legend.Legend at 0x1f8d0972a00>"
      ]
     },
     "metadata": {},
     "execution_count": 7
    },
    {
     "output_type": "display_data",
     "data": {
      "text/plain": [
       "<Figure size 432x288 with 1 Axes>"
      ],
      "image/png": "[encoded data removed]"
     },
     "metadata": {
      "needs_background": "light"
     }
    }
   ],
   "metadata": {}
  },
  {
   "cell_type": "markdown",
   "source": [
    "只有一个层,原书是 20 次,这里改成 40 次,似乎结果也一样,验证损失停留在了 0.26,并没有随着训练轮次表现出过拟合.\r\n"
   ],
   "metadata": {}
  },
  {
   "cell_type": "code",
   "execution_count": 8,
   "source": [
    "model = keras.Sequential([\r\n",
    "    layers.Dense(96, activation=\"relu\"),\r\n",
    "    layers.Dense(96, activation=\"relu\"),\r\n",
    "    layers.Dense(10, activation=\"softmax\"),\r\n",
    "])\r\n",
    "model.compile(optimizer=\"rmsprop\",\r\n",
    "              loss=\"sparse_categorical_crossentropy\",\r\n",
    "              metrics=[\"accuracy\"])\r\n",
    "history_large_model = model.fit(train_images,\r\n",
    "                                train_labels,\r\n",
    "                                epochs=20,\r\n",
    "                                batch_size=128,\r\n",
    "                                validation_split=0.2)  #抽取 0.2 作为验证集\r\n"
   ],
   "outputs": [
    {
     "output_type": "stream",
     "name": "stdout",
     "text": [
      "Epoch 1/20\n",
      "375/375 [==============================] - 3s 6ms/step - loss: 0.3683 - accuracy: 0.8956 - val_loss: 0.1996 - val_accuracy: 0.9430\n",
      "Epoch 2/20\n",
      "375/375 [==============================] - 2s 5ms/step - loss: 0.1610 - accuracy: 0.9521 - val_loss: 0.1311 - val_accuracy: 0.9617\n",
      "Epoch 3/20\n",
      "375/375 [==============================] - 2s 5ms/step - loss: 0.1113 - accuracy: 0.9670 - val_loss: 0.1107 - val_accuracy: 0.9672\n",
      "Epoch 4/20\n",
      "375/375 [==============================] - 2s 5ms/step - loss: 0.0853 - accuracy: 0.9751 - val_loss: 0.1069 - val_accuracy: 0.9688\n",
      "Epoch 5/20\n",
      "375/375 [==============================] - 2s 5ms/step - loss: 0.0683 - accuracy: 0.9790 - val_loss: 0.1086 - val_accuracy: 0.9681\n",
      "Epoch 6/20\n",
      "375/375 [==============================] - 2s 5ms/step - loss: 0.0558 - accuracy: 0.9826 - val_loss: 0.0975 - val_accuracy: 0.9724\n",
      "Epoch 7/20\n",
      "375/375 [==============================] - 2s 6ms/step - loss: 0.0461 - accuracy: 0.9858 - val_loss: 0.0955 - val_accuracy: 0.9725\n",
      "Epoch 8/20\n",
      "375/375 [==============================] - 2s 6ms/step - loss: 0.0393 - accuracy: 0.9873 - val_loss: 0.0999 - val_accuracy: 0.9728\n",
      "Epoch 9/20\n",
      "375/375 [==============================] - 2s 5ms/step - loss: 0.0324 - accuracy: 0.9901 - val_loss: 0.0956 - val_accuracy: 0.9756\n",
      "Epoch 10/20\n",
      "375/375 [==============================] - 2s 5ms/step - loss: 0.0269 - accuracy: 0.9913 - val_loss: 0.0989 - val_accuracy: 0.9754\n",
      "Epoch 11/20\n",
      "375/375 [==============================] - 2s 5ms/step - loss: 0.0233 - accuracy: 0.9927 - val_loss: 0.1114 - val_accuracy: 0.9729\n",
      "Epoch 12/20\n",
      "375/375 [==============================] - 2s 5ms/step - loss: 0.0193 - accuracy: 0.9942 - val_loss: 0.1057 - val_accuracy: 0.9754\n",
      "Epoch 13/20\n",
      "375/375 [==============================] - 2s 5ms/step - loss: 0.0162 - accuracy: 0.9949 - val_loss: 0.1140 - val_accuracy: 0.9746\n",
      "Epoch 14/20\n",
      "375/375 [==============================] - 2s 5ms/step - loss: 0.0142 - accuracy: 0.9957 - val_loss: 0.1237 - val_accuracy: 0.9731\n",
      "Epoch 15/20\n",
      "375/375 [==============================] - 2s 5ms/step - loss: 0.0123 - accuracy: 0.9961 - val_loss: 0.1156 - val_accuracy: 0.9760\n",
      "Epoch 16/20\n",
      "375/375 [==============================] - 2s 5ms/step - loss: 0.0101 - accuracy: 0.9969 - val_loss: 0.1237 - val_accuracy: 0.9760\n",
      "Epoch 17/20\n",
      "375/375 [==============================] - 2s 5ms/step - loss: 0.0083 - accuracy: 0.9972 - val_loss: 0.1357 - val_accuracy: 0.9746\n",
      "Epoch 18/20\n",
      "375/375 [==============================] - 2s 5ms/step - loss: 0.0069 - accuracy: 0.9979 - val_loss: 0.1459 - val_accuracy: 0.9735\n",
      "Epoch 19/20\n",
      "375/375 [==============================] - 2s 6ms/step - loss: 0.0064 - accuracy: 0.9979 - val_loss: 0.1533 - val_accuracy: 0.9734\n",
      "Epoch 20/20\n",
      "375/375 [==============================] - 2s 6ms/step - loss: 0.0057 - accuracy: 0.9983 - val_loss: 0.1517 - val_accuracy: 0.9762\n"
     ]
    }
   ],
   "metadata": {}
  },
  {
   "cell_type": "code",
   "execution_count": 11,
   "source": [
    "import matplotlib.pyplot as plt\r\n",
    "\r\n",
    "val_loss = history_large_model.history[\"val_loss\"]\r\n",
    "epochs = range(1, 21)\r\n",
    "plt.plot(epochs, val_loss, \"b--\", label=\"Validation loss\")\r\n",
    "plt.title(\"Effect of insufficient model capacity on validation loss\")\r\n",
    "plt.xlabel(\"Epochs\")\r\n",
    "plt.ylabel(\"Loss\")\r\n",
    "plt.legend()"
   ],
   "outputs": [
    {
     "output_type": "execute_result",
     "data": {
      "text/plain": [
       "<matplotlib.legend.Legend at 0x1f792c4d400>"
      ]
     },
     "metadata": {},
     "execution_count": 11
    },
    {
     "output_type": "display_data",
     "data": {
      "text/plain": [
       "<Figure size 432x288 with 1 Axes>"
      ],
      "image/png": "[encoded data removed]"
     },
     "metadata": {
      "needs_background": "light"
     }
    }
   ],
   "metadata": {}
  },
  {
   "cell_type": "markdown",
   "source": [
    "记住,无论何种情况下,一个正常的机器学习模型都可以到过拟合的状态.验证损失无法显示过拟合,很有可能是模型的容量不足.\r\n",
    "\r\n",
    "当换加到 3 层时,随着训练到 7~8 轮次,就到达了欠拟合/过拟合的分界.\r\n"
   ],
   "metadata": {}
  }
 ],
 "metadata": {
  "orig_nbformat": 4,
  "language_info": {
   "name": "python",
   "version": "3.9.6",
   "mimetype": "text/x-python",
   "codemirror_mode": {
    "name": "ipython",
    "version": 3
   },
   "pygments_lexer": "ipython3",
   "nbconvert_exporter": "python",
   "file_extension": ".py"
  },
  "kernelspec": {
   "name": "python3",
   "display_name": "Python 3.9.6 64-bit ('tf': venv)"
  },
  "interpreter": {
   "hash": "aac46f597da82ce9618f0e6f094e6d401f1ab16d9be89acf77ce1dd63d67a333"
  }
 },
 "nbformat": 4,
 "nbformat_minor": 2
}