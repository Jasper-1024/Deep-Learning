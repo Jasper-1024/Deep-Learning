{
 "cells": [
  {
   "cell_type": "markdown",
   "source": [
    "# 本章的内容有\r\n",
    "\r\n",
    "- 机器学习模型泛化和优化的矛盾.\r\n",
    "- 机器学习模型评估的方法\r\n",
    "- 改善过拟合的最佳实践\r\n",
    "- 实现更好泛化的最佳实践\r\n",
    "  "
   ],
   "metadata": {}
  }
 ],
 "metadata": {
  "orig_nbformat": 4,
  "language_info": {
   "name": "python"
  }
 },
 "nbformat": 4,
 "nbformat_minor": 2
}